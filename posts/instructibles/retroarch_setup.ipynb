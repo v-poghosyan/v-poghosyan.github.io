{
 "cells": [
  {
   "cell_type": "markdown",
   "metadata": {},
   "source": [
    "---\n",
    "title: \"RetroArch Setup\"\n",
    "author: \"Vahram Poghosyan\"\n",
    "date: \"2022-01-23\"\n",
    "categories: [\"Gaming\", \"Retro Gaming\", \"Emulators\"]\n",
    "format:\n",
    "  html:\n",
    "    code-fold: true\n",
    "jupyter: python3\n",
    "include-after-body:\n",
    "  text: |\n",
    "    <script type=\"application/javascript\" src=\"../../javascript/light-dark.js\"></script>\n",
    "---"
   ]
  },
  {
   "cell_type": "markdown",
   "metadata": {},
   "source": [
    "# RetroArch\n",
    "\n",
    "[RetroArch](https://www.retroarch.com/) is a front end for a number of game console emulators that brings all of your video game titles, potentially across different systems, into one centralized UI. According to the RetroArch website itself, \"settings are also unified, so configuration is done once and for all,\" and \"...you are able to run original game discs (CDs) from RetroArch.\" Time to find all of those original PS1 discs laying around the house... \n",
    "\n",
    "## OpenLara\n",
    "\n",
    "This is a Tom Raider Game Engine for RetroArch. Check out the project [here](https://www.libretro.com/index.php/new-core-openlara-windowslinux/).\n",
    "\n"
   ]
  }
 ],
 "metadata": {
  "language_info": {
   "name": "python"
  }
 },
 "nbformat": 4,
 "nbformat_minor": 2
}
