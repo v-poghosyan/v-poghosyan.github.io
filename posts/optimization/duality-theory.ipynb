{
 "cells": [
  {
   "cell_type": "markdown",
   "id": "b980523b",
   "metadata": {},
   "source": [
    "---\n",
    "title: \"Duality Theory\"\n",
    "author: \"Vahram Poghosyan\"\n",
    "date: \"2022-01-23\"\n",
    "categories: [\"Optimization\"]\n",
    "image: \"introduction_to_optimization.png\"\n",
    "format:\n",
    "  html:\n",
    "    code-fold: true\n",
    "jupyter: python3\n",
    "include-after-body:\n",
    "  text: |\n",
    "    <script type=\"application/javascript\" src=\"../../javascript/light-dark.js\"></script>\n",
    "---"
   ]
  },
  {
   "cell_type": "markdown",
   "id": "e9bd09b6",
   "metadata": {},
   "source": [
    "# Introduction\n",
    "\n",
    "Every convex optimization problem, designated as the ***primal***, has a related problem called its ***dual*** which can be colloquially thought of as its evil twin. The primal and the dual represent two different perspectives on the same problem. \n",
    "\n",
    "In the most general case, if the primal is a minimization problem, its dual is a maximization problem. In the case of constrained optimization, if the primal is minimization in $n$ variables and $m$ constraints then its dual is a maximization in $m$ variables and $n$ constraints. \n",
    "\n",
    "Furthermore, *any* feasible value of the dual is a lower-bound for *all* feasible values of the primal. In particular, should they both exist, the dual optimum is a lower bound for the primal optimum. This property, called ***weak duality***, lies at the core of ***duality theory***. The utility of formulating a problem whose solution obtains, at least, a lower-bound for the primal optimum and, in the special case, the primal optimum itself should be self-evident.\n",
    "\n",
    "In the best case scenario a problem exhibits a property called ***strong duality***, which guarantees that the primal and the dual optima agree. Such problems are called ***strongly dual problems*** and include, but are not limited to, all linear programs (LPs) and a category of convex non-linear optimization problems. For strongly dual problems, solving the dual guarantees that we've also solved the primal. Furthermore, as we shall see, taking the dual of the dual gives back the primal. So this relationship is true in the converse — if we've solved the primal then we've also solved its dual.\n",
    "\n",
    "This is what makes duality theory so useful in practice. Having a related, usually easier, optimization problem gives applied scientists a huge computational advantage. However, even if the dual does not turn out to be any easier to solve and/or strong duality fails to hold, we still stand to gain structural insight about the primal problem itself.\n",
    "\n",
    "In this post we show how the dual of a problem arises, we examine its relationship with the primal, and list all possible primal-dual outcomes. In doing so, we look at duality in the general case of constrained optimization, in the specific case of linear programs, and in a category of unconstrained problems."
   ]
  },
  {
   "cell_type": "markdown",
   "id": "c8f48ee5",
   "metadata": {},
   "source": [
    "# The Dual of a Constrained Problem\n",
    "\n",
    "First, let's focus on deriving the dual of a constrained optimization problem. We shall see that, in a sense, constraints are what give rise to duality through the [Lagrangian](https://en.wikipedia.org/wiki/Lagrangian_relaxation). Certain types of unconstrained problems also have duals which arise either from introducing dummy constraints, or directly through the [Fenchel-Legendre Transform](https://en.wikipedia.org/wiki/Convex_conjugate).\n",
    "\n",
    "Take the most general form of a convex, constrained problem with $m$ inequality and $n$ equality constraints. To make the discussion interesting, assume the problem is non-trivial (i.e. its constraint set is non-empty and contains more than one feasible point). Furthermore, so that we may have a solution to speak of, assume the problem is bounded with the finite optimum $f_0(x^*)$ for some optimizer $x^*$."
   ]
  },
  {
   "cell_type": "markdown",
   "id": "e1876188",
   "metadata": {},
   "source": [
    "$$\n",
    "\\begin{aligned}\n",
    "\\min_x &: f_0(x)\n",
    "\\\\\n",
    "s.t. &: \\begin{aligned} &f_i(x) \\leq 0 \\ \\ i = 1, ...,m\n",
    "\\\\ \n",
    "&h_i(x) = 0 \\ \\ i = 1, ... ,p\n",
    "\\end{aligned}\n",
    "\\end{aligned}\n",
    "$$"
   ]
  },
  {
   "cell_type": "markdown",
   "id": "80f6b8f9",
   "metadata": {},
   "source": [
    "::: {.callout-tip title=\"Note\" appearance=\"minimal\" collapse=\"false\"}\n",
    "The $f_i$'s and the $h_i$'s in the constraints must necessarily be convex in order for their sublevel-sets, and hence the problem itself, to be convex. However, the equality constraints may be given as $Ax = b$ in some sources. These representations are practically almost equivalent. The $0$-th level-set of $Ax - b$, $\\{ x : Ax = b\\}$, is indeed a convex set. However, $h_i$'s in the equality constraints $h_i(x) = 0$ need not be linear for the $0$-th level-set, $\\{ x : h_i(x) = 0 \\}$, to be convex. For example, in $\\mathbb{R}$, $x^2 = 0$ does represent a convex level-set. Note, however, that $x^2 = 0$ can be reduced to $x = 0$ which is, indeed, linear. To be precise, the notion of [quasi-linearity](https://en.wikipedia.org/wiki/Quasiconvex_function) is what's needed here. But, in practice, we simply *define* a general convex problem as having only linear equality constraints. Doing so assists in the analysis of problems and in the development of the computational methods that solve them.\n",
    ":::"
   ]
  },
  {
   "cell_type": "markdown",
   "id": "cd5031e9",
   "metadata": {},
   "source": [
    "Since optimizing an unconstrained problem is considerably easier than optimizing one that is constrained, we seek to augment the constrained problem into an equivalent unconstrained problem.\n",
    "\n",
    "The idea is to penalize infeasible $x$ using functions that express our *displeasure* for certain choices. \n",
    "\n",
    "At first we use the *infinitely-hard* penalty functions $\\mathbb{1}_-$ and $\\mathbb{1}_0$ which are defined as follows:"
   ]
  },
  {
   "cell_type": "markdown",
   "id": "ffb43e8e",
   "metadata": {},
   "source": [
    "$$\\mathbb{1}_-(u) = \n",
    "\\begin{cases}\n",
    "\\begin{aligned} \n",
    "&0  &\\textrm{if} \\ u \\leq 0\n",
    "\\\\\n",
    "&\\infty  &\\textrm{if} \\ u > 0\n",
    "\\end{aligned}\n",
    "\\end{cases}$$\n",
    "<br>\n",
    "$$\\mathbb{1}_0(u) = \n",
    "\\begin{cases}\n",
    "\\begin{aligned} \n",
    "&0  &\\textrm{if} \\ u = 0\n",
    "\\\\\n",
    "&\\infty  &\\textrm{if} \\ u \\ne 0\n",
    "\\end{aligned}\n",
    "\\end{cases}$$"
   ]
  },
  {
   "cell_type": "markdown",
   "id": "2a9b5169",
   "metadata": {},
   "source": [
    "Then the equivalent unconstrained problem can be stated as:"
   ]
  },
  {
   "cell_type": "markdown",
   "id": "f8bf6de4",
   "metadata": {},
   "source": [
    "$$\\min_x: \\mathcal{J}(x)$$"
   ]
  },
  {
   "cell_type": "markdown",
   "id": "130c403e",
   "metadata": {},
   "source": [
    "where $\\mathcal{J}(x) = f_0(x) + \\sum_{i=1}^m \\mathbb{1}_-(f_i(x)) + \\sum_{i=1}^p \\mathbb{1}_0(h_i(x))$. \n",
    "\n",
    "Equivalently, by naming the primal feasible set $\\mathcal{X}$, we can express the objective $\\mathcal{J}(x)$ as:"
   ]
  },
  {
   "cell_type": "markdown",
   "id": "a344e88e",
   "metadata": {},
   "source": [
    "$$\n",
    "\\mathcal{J}(x) = \\begin{cases}\\begin{aligned} \n",
    "&f_0(x) \\ \\ x \\in \\mathcal{X}\n",
    "\\\\\n",
    "&\\infty \\ \\ \\textrm{otherwise}\n",
    "\\end{aligned}\\end{cases}\n",
    "$$"
   ]
  },
  {
   "cell_type": "markdown",
   "id": "39b77e49",
   "metadata": {},
   "source": [
    "Informally, if an $\\hat x$ is chosen s.t *one or more* of the constraints are broken then the minimization incurs an infinitely positive penalty. Therefore, such a $\\hat x$ will never be selected over any feasible choice, $x \\in \\mathcal{X}$, which gives a finite value of $f_0(x)$. Moreover, by optimality of $x^*$ in the original problem, we have $f_0(x) \\leq f_0(x^*) \\ \\ \\forall x$. So, the optimum of $\\mathcal{J}$ will also be $f_0(x^*)$.\n",
    "\n",
    "That is:\n",
    "\n",
    "$$\\min_x \\mathcal{J}(x) = f_0(x^*) \\tag{1}$$\n",
    "\n",
    "Moreover, since the optimizer $x^*$ for the original problem is feasible, $\\mathcal{J}(x^*) = f_0(x^*)$ by definition. It follows, by substitution into $(1)$, that:\n",
    "\n",
    "$$\\mathcal{J}(x^*) = \\min_x \\mathcal{J}(x) \\tag{2.1}$$\n",
    "\n",
    "Or, equivalently:\n",
    "\n",
    "$$x^* = \\arg \\min_x \\mathcal{J}(x) \\tag{2.2}$$\n",
    "\n",
    "$(1)$ says that it suffices to minimize the unconstrained objective $\\mathcal{J}$ instead of the original problem since doing so yields $f_0(x^*)$, the optimum of the unconstrained problem. $(2.1)$ and $(2.2)$, on the other hand, say that it suffices to find an optimizer $x^*$ of the unconstrained problem, since such a point will also be an optimizer of the constrained problem.\n",
    "\n",
    "To convince ourselves of this result, it helps to look at a simple example.\n",
    "\n",
    "---\n",
    "\n",
    "Consider minimizing the quadratic form $f_0(x) = ||x||_2^2$ in $\\mathbb{R}^2$ subject to the single circular inequality constraint $x_1^2 + x_2^2 \\leq 1$.Below are the 3D plots of the constrained and the unconstrained problem."
   ]
  },
  {
   "cell_type": "code",
   "execution_count": 2,
   "id": "5c4873d4",
   "metadata": {},
   "outputs": [
    {
     "data": {
      "image/png": "[encoded data removed]",
      "text/plain": [
       "<Figure size 705.6x352.8 with 2 Axes>"
      ]
     },
     "metadata": {},
     "output_type": "display_data"
    }
   ],
   "source": [
    "#| code-fold: true\n",
    "\n",
    "# Imports\n",
    "import numpy as np\n",
    "import matplotlib.pyplot as plt\n",
    "import matplotlib.cm as cm\n",
    "\n",
    "# Style Configurations\n",
    "plt.rcParams['figure.autolayout'] = False\n",
    "plt.style.use('dark_background')\n",
    "figsize = (9.80, 4.90)\n",
    "background = '#0a0a0a'\n",
    "\n",
    "# Constrained objective function\n",
    "def f(x,y):\n",
    "    return x**2 + y**2\n",
    "\n",
    "# Unconstrained augmentation of the objective \n",
    "def j(x, y):\n",
    "    j = f(x,y) # The copy array takes the values of the objective in the feasible region\n",
    "    mask = ~(x**2 + y**2 <= 1) # Infeasible region\n",
    "    j[mask] = 2 # Value on infeasible region. Use 2 instead of np.inf for visual purposes\n",
    "    return j\n",
    "\n",
    "# Creating the data\n",
    "x_min, x_max = -2, 2\n",
    "y_min, y_max = -2, 2\n",
    "x, y = np.meshgrid(np.linspace(x_min, x_max, 1000), np.linspace(y_min, y_max, 1000))\n",
    "z1 = np.ma.masked_where(~(x**2 + y**2 <= 1), f(x,y))\n",
    "z2 = j(x,y)\n",
    "\n",
    "# Creating the plot\n",
    "fig = plt.figure(figsize = figsize, layout = 'tight')\n",
    "fig.set_facecolor(background)\n",
    "\n",
    "# First subplot\n",
    "ax = fig.add_subplot(1, 2, 1, projection = '3d')\n",
    "ax.contour3D(x, y, z1, 50, cmap = cm.plasma)\n",
    "ax.set_zlim3d(0, 2)\n",
    "ax.set_facecolor(background)\n",
    "ax.set_title(r'Constrained objective: $||x||_2^2 \\ s.t. \\ x_1^2 + x_2^2 \\leq 1$', pad = 5)\n",
    "ax.set_xticks(np.arange(x_min, x_max, 1.0))\n",
    "ax.set_yticks(np.arange(y_min, y_max, 1.0))\n",
    "ax.set_xlabel('x')\n",
    "ax.set_ylabel('y')\n",
    "ax.set_zlabel('z')\n",
    "\n",
    "# Second subplot\n",
    "ax = fig.add_subplot(1, 2, 2, projection = '3d')\n",
    "ax.contour3D(x, y, z2, 100, cmap = cm.plasma)\n",
    "ax.set_zlim3d(0, 2)\n",
    "ax.set_facecolor(background)\n",
    "ax.set_title(r'Unconstrained objective: $\\mathcal{J}(x) = ||x||_2^2 + \\mathbb{1}_-(x_1^2 + x_2^2 - 1)$', pad = 5)\n",
    "ax.set_xticks(np.arange(x_min, x_max, 1.0))\n",
    "ax.set_yticks(np.arange(y_min, y_max, 1.0))\n",
    "ax.set_xlabel('x')\n",
    "ax.set_ylabel('y')\n",
    "ax.set_zlabel('z')\n",
    "\n",
    "# Display result\n",
    "plt.show()"
   ]
  },
  {
   "cell_type": "markdown",
   "id": "6a12018a",
   "metadata": {},
   "source": [
    "We can clearly see in the plots that the optimum and the optimizer are the same for both problems: namely, $f_0(x^*) = 0$ and $x^* = 0$.\n",
    "\n",
    "---\n",
    "\n",
    "As we know, the local optima of unconstrained problems occur at their *stationary points* which can be easily identified using the *unconstrained optimality condition*."
   ]
  },
  {
   "cell_type": "markdown",
   "id": "6fcfb4de",
   "metadata": {},
   "source": [
    "> **Unconstrained Optimality Condition:** &nbsp; If $x^*$ is an optimizer of the unconstrained objective $f_0(x)$ then $\\nabla f_0(x^*) = 0$. That is $x^*$ is a ***stationary point*** of $f_0(x)$."
   ]
  },
  {
   "cell_type": "markdown",
   "id": "148662b6",
   "metadata": {},
   "source": [
    "Once such stationary points have been found, a global minimizer can be identified among them simply by evaluating the objective at each stationary point.\n",
    "\n",
    "However, we're immediately beset by a problem. We cannot find the gradient of $\\mathcal{J}$ and set it to zero because the infinitely-hard penalty functions are discontinuous and non-differentiable. That is, $\\nabla \\mathcal{J}(x)$ simply does not exist.\n",
    "\n",
    "To sidestep this difficulty we use linear relaxations instead of $\\mathbb{1}_-$ and $\\mathbb{1}_0$. \n"
   ]
  },
  {
   "cell_type": "markdown",
   "id": "a35f7ad0",
   "metadata": {},
   "source": [
    "## The Lagrangian, Dual Variables, and the Dual Function\n",
    "\n",
    "The ***Lagrangian linear relaxation***, sometimes simply referred to as the ***Lagrangian***, is:\n",
    "\n",
    "$$\\mathcal{L}(x,\\lambda,\\mu) = f_0(x) + \\sum_{i=1}^m \\lambda_i f_i(x) + \\sum_{i=1}^p \\mu_i h_i(x)$$\n",
    "$$\\textrm{where} \\ \\lambda \\geq 0$$\n",
    "\n",
    "We call the $\\lambda_i$'s the ***Lagrange multipliers*** corresponding to the inequality constraints, and the $\\mu_i$'s those corresponding to the equality constraints. The vectors $\\lambda$ and $\\mu$, composed of these Lagrange multipliers, are called the ***Lagrange multiplier vectors*** or, for reasons that will soon become apparent, the ***dual variables***. "
   ]
  },
  {
   "cell_type": "markdown",
   "id": "623d3d7e",
   "metadata": {},
   "source": [
    "::: {.callout-tip title=\"Note\" appearance=\"minimal\" collapse=\"false\"}\n",
    "In some sources, the Lagrangian is simply stated as $\\mathcal{L}(x,\\lambda) = f_0(x) + \\sum_{i=1}^n \\lambda_i f_i(x)$. Indeed, by separating the equality constraints $h_i(x) = 0$ into $h_i(x) \\leq 0$ and $-h_i(x) \\leq 0$, we can transform a problem with equality constraints into one with only inequality constraints. So, this formulation of the Lagrangian is still general enough to account for problems with equality constraints.\n",
    ":::"
   ]
  },
  {
   "cell_type": "markdown",
   "id": "5ab381b8",
   "metadata": {},
   "source": [
    "## A Lagrangian Lower-Bound\n",
    "\n",
    "Not only does the Lagrangian ($\\mathcal{L}$) relax the unconstrained problem, it also plays a natural role in the formulation of the ***dual problem***.\n",
    "\n",
    "The first thing to note about the Lagrangian is that the coordinate-wise $\\lambda \\geq 0$ condition is crucial. This is because, in the event that an inequality constraint is violated, say $f_i(x) > 0$, the corresponding $\\lambda_i$ must be non-negative in order to apply a positive penalty to the minimization. On the other hand, $\\mu$ is free to assume any value since the equality constraints can be violated in either direction and both scenarios must be positively penalized.\n",
    "\n",
    "The second thing to note about the Lagrangian is that, even though it applies a positive penalty that scales linearly in the severity of the violation, this penalty is, nevertheless, not as severe as the infinite penalty applied in $\\mathcal{J}$. Also, in the Lagrangian, we may actually be *rewarding* feasible choices of $x$ that have margin. That is, in the event that $f_i(x) < 0$, $\\lambda_if_i(x)$ is a non-positive reward for the minimization problem. \n",
    "\n",
    "All of this is to say that $\\mathcal{L}$ is a point-wise lower-bound on $\\mathcal{J}$. That is, the following inequality holds:\n",
    "\n",
    "$$\\mathcal{L}(x,\\lambda,\\mu) \\leq J(x) \\ \\ \\forall x, \\lambda \\geq 0, \\mu \\tag{3.1}$$\n",
    "\n",
    "This fact is also obvious by plotting each of the $m + p$ linear penalties, superimposing them against the plots of the corresponding infinitely hard penalty functions, and noticing that in each case $\\lambda_i f_i(x) \\leq \\mathbb{1}_-(f_i(x))$ and $\\mu_i h_i(x) \\leq \\mathbb{1}_0(h_i(x))$. \n",
    "\n",
    "\n",
    "Taking $\\min$ w.r.t. $x$ of the LHS in $(3.1)$ we get:\n",
    "\n",
    "$$\\min_x \\mathcal{L}(x,\\lambda,\\mu) \\leq J(x) \\ \\ \\forall x, \\lambda \\geq 0, \\mu$$\n",
    "\n",
    "Furthermore, restricting $x$ to the primal feasible set $\\mathcal{X}$ on which $J(x) = f_0(x)$, we obtain something interesting:\n",
    "\n",
    "$$\\min_x \\mathcal{L}(x,\\lambda,\\mu) \\leq f_0(x) \\ \\ \\forall x \\in \\mathcal{X}, \\lambda \\geq 0, \\mu \\tag{3.2}$$"
   ]
  },
  {
   "cell_type": "markdown",
   "id": "fe834147",
   "metadata": {},
   "source": [
    "::: {.callout-tip title=\"Note\" appearance=\"minimal\" collapse=\"false\"}\n",
    "The Lagrangian may not attain its $\\min$ w.r.t. $x$, in which case the LHS is simply $-\\infty$. We shall see later, once we define the ***dual function*** and the ***duality gap***, that this corresponds to the dual function being $-\\infty$ $\\forall \\lambda \\geq0, \\mu$ and the duality gap being $\\infty$. In a sense, this is a useless lower bound. So, for now, we assume the interesting case in which the minimum *is* attained and thus $\\inf_x \\mathcal{L}(x, \\lambda, \\mu) = \\min_x \\mathcal{L}(x, \\lambda, \\mu)$.\n",
    ":::"
   ]
  },
  {
   "cell_type": "markdown",
   "id": "db5c8334",
   "metadata": {},
   "source": [
    "Designating the original problem as the *primal*, we call $g(\\lambda, \\mu) := \\min_x \\mathcal{L}(x, \\lambda, \\mu)$ the ***dual function*** because it exhibits the aforementioned property of weak duality. That is, per $(3.2)$, any feasible value of $g(\\lambda, \\mu)$ is a lower-bound for any feasible value of the primal.\n",
    "\n",
    "Taking min of the other side, we have a more specific flavor of weak duality:\n",
    "\n",
    "$$g(\\lambda,\\mu) \\leq \\min_x f_0(x) \\ \\ \\forall \\lambda \\geq 0, \\mu$$\n",
    "\n",
    "Or simply:\n",
    "\n",
    "$$g(\\lambda,\\mu) \\leq f_0(x^*) \\ \\ \\forall \\lambda \\geq 0, \\mu \\tag{3.3}$$\n",
    "\n",
    "That is, any feasible value of the dual is a lower-bound for the primal optimum.\n",
    "\n",
    "Maximizing both sides of $(3.3)$ by noticing that the RHS is a constant, and by assuming the LHS attains its $\\max$ we get an even more specific flavor of weak duality:\n",
    "\n",
    "$$\\max_{\\lambda \\geq 0, \\mu} g(\\lambda,\\mu) \\leq f_0(x^*)$$\n",
    "\n",
    "Or simply, assuming $\\lambda^*$ and $\\mu^*$ to be dual-optimal:\n",
    "\n",
    "$$g(\\lambda^*, \\mu^*) \\leq f_0(x^*) \\tag{3.4}$$\n",
    "\n",
    "That is, the dual optimum is a lower-bound for the primal optimum.\n",
    "\n",
    "From here we move, quite naturally, to defining the *dual problem*."
   ]
  },
  {
   "cell_type": "markdown",
   "id": "7ebdafaf",
   "metadata": {},
   "source": [
    "## The Lagrange Dual Problem\n",
    "\n",
    "It's natural, to ask what the *tightest* lower bound on the primal optimal value $f_0(x^*)$ is. This amounts to finding the values $\\lambda^* \\geq 0$, and $\\mu^*$ for which $g(\\lambda^*, \\mu^*)$ is maximized. We call this the ***Lagrange dual problem*** or, simply, the ***dual problem***.\n",
    "\n",
    "It can be stated as:"
   ]
  },
  {
   "cell_type": "markdown",
   "id": "d4b3abe3",
   "metadata": {},
   "source": [
    "$$\n",
    "\\begin{aligned}\n",
    "\\max_{\\lambda, \\mu} &: g(\\lambda, \\mu)\n",
    "\\\\\n",
    "s.t. &: \\lambda \\geq  0\n",
    "\\end{aligned}\n",
    "$$"
   ]
  },
  {
   "cell_type": "markdown",
   "id": "fffc21fa",
   "metadata": {},
   "source": [
    "Looking at the above, it becomes immediately clear why we were motivated to call $\\lambda$, and $\\mu$ the *dual variables*: they are the variables of the dual problem."
   ]
  },
  {
   "cell_type": "markdown",
   "id": "de5a9359",
   "metadata": {},
   "source": [
    "# Weak Duality and Interpretations\n",
    "\n",
    "We now return to the general setting of constrained optimization.\n",
    "\n",
    "We've already seen weak duality formulated as $(3.2)$, $(3.3)$, and $(3.4)$. But, there's yet another, more symmetric, formulation of weak duality.\n",
    "\n",
    "Suppose $x^*$ and $(\\lambda^*, \\mu^*)$ are primal-dual optimal. Since $g(\\lambda^*, \\mu^*)$ is the solution to the dual, and $g(\\lambda, \\mu) = \\min_x \\mathcal{L}(x, \\lambda, \\mu)$ we have:\n",
    "\n",
    "$$g(\\lambda^*, \\mu^*) = \\max_{\\lambda \\geq 0, \\mu} \\left\\{ \\min_x \\mathcal{L}(x, \\lambda, \\mu) \\right\\} \\tag{4.1}$$\n",
    "\n",
    "Similarly, it can be shown that:\n",
    "\n",
    "$$f_0(x^*) = \\min_x \\left\\{ \\max_{\\lambda \\geq 0, mu} \\mathcal{L}(x, \\lambda, \\mu) \\right\\} \\tag{4.2}$$\n",
    "\n",
    "To see this, note that for some $x$ fixed by the outer minimizer, maximizing the Lagrangian over $\\lambda \\geq 0$ and $\\mu$ recovers $\\mathcal{J}(x)$. \n",
    "\n",
    "If all of the inequality constraints are respected, that is $f_i(x) \\leq 0$ $\\forall i$, then, in order to maximize the Lagrangian, the best we can do is set $\\lambda_i = 0$ $\\forall i$. In case *any* inequality constraint is violated, that is $f_i(x) > 0$ for some $i$, the result of maximizing the Lagrangian can be made $\\infty$ by choosing $\\lambda_i \\rightarrow \\infty$ and $\\lambda_j = 0$ $\\forall j \\ne i$. \n",
    "\n",
    "Using similar logic, if all equality constraints are respected then $h_i(x) = 0$ $\\forall i$. In this case $\\mu_i$ can be chosen to be any value. If, on the other hand, some equality constraint is violated then $h_i(x) \\ne 0$ for some $i$. By choosing $\\mu_i \\rightarrow \\pm \\infty$, where the sign depends on the direction of the violation, the result can be made $\\infty$.\n",
    "\n",
    "Thus we have shown that:\n",
    "\n",
    "$$\n",
    "\\begin{aligned}\\max_{\\lambda \\geq 0, \\mu} \\mathcal{L}(x,\\lambda,\\mu) &= \\begin{cases}\\begin{aligned} \n",
    "&f_0(x) \\ \\ \\textrm{if $x$ is feasible}\n",
    "\\\\\n",
    "&\\infty \\ \\ \\textrm{otherwise}\n",
    "\\end{aligned}\\end{cases} \\\\ &= \\mathcal{J}(x)\\end{aligned}\n",
    "$$\n",
    "\n",
    "Now, since $x^*$ is primal optimal, we have $\\min_x \\mathcal{J}(x) = \\mathcal{J}(x^*)$. Furthermore, since $x^*$ is primal-feasible, we have $J(x^*) = f_0(x^*)$ which yields $(4.2)$ as promised. \n",
    "\n",
    "Thus, weak duality can be stated in the following symmetric form:\n",
    "\n",
    "$$\n",
    "\\max_{\\lambda \\geq 0, \\mu} \\left\\{ \\min_x \\mathcal{L}(x, \\lambda, \\mu) \\right\\} \\leq \\min_x \\left\\{ \\max_{\\lambda \\geq 0, mu} \\mathcal{L}(x, \\lambda, \\mu) \\right\\} \\tag{3.5}\n",
    "$$"
   ]
  },
  {
   "cell_type": "markdown",
   "id": "9157cb84",
   "metadata": {},
   "source": [
    "## The Max-Min Inequality\n",
    "\n",
    "The inequality expressed as $(3.5)$ is, in fact, a general result in mathematics called the [*Max-Min Inequality*](https://en.wikipedia.org/wiki/Max%E2%80%93min_inequality). To summarize: the Max-Min Inequality makes no assumptions about the function, it's true for all functions of the form $f: X \\times Y \\rightarrow \\mathbb{R}$ and asserts that:\n",
    "\n",
    "$$\\sup_{x\\in X} \\left\\{ \\inf_{y\\in Y} f(x,y) \\right\\} \\leq \\inf_{y\\in Y} \\left\\{ \\sup_{x\\in X} f(x,y) \\right\\}$$\n",
    "\n",
    "Since no assumption is made on $f$, the inequality also holds for the Lagrangian, $\\mathcal{L}$. And, since we're in the special case where the optimal values of the primal and the dual are assumed to exist, the functions do attain the respective optima. That is, we can replace $\\sup$ and $\\inf$ in the above inequality with $\\max$ and $\\min$ which obtains the symmetric formulation of weak duality as in $(3.5)$.\n",
    "\n",
    "We can now prove weak duality through a non-optimization lens by proving the Max-Min Inequality.\n",
    "\n",
    "For any $f$, and $x \\in X$, $y \\in Y$ we have:\n",
    "\n",
    "$$f(x,y) \\leq \\sup_y f(x,y) \\ \\ \\forall x$$\n",
    "\n",
    "The right-hand side is now only a function of $x$, so minimizing both sides w.r.t. $x$ yields:\n",
    "\n",
    "$$ \\inf_x f(x,y) \\leq \\inf_x \\left\\{ \\sup_y f(x,y) \\right\\} \\ \\ \\forall y$$\n",
    "\n",
    "The right-hand side is now a constant, so maximizing both sides w.r.t. $y$ results in the desired conclusion.\n",
    "\n",
    "$$\\sup_y \\left\\{ \\inf_x f(x,y) \\right\\} \\leq \\inf_x \\left\\{ \\sup_y f(x,y) \\right\\}$$"
   ]
  },
  {
   "cell_type": "markdown",
   "id": "e63dfe94",
   "metadata": {},
   "source": [
    "::: {.callout-tip title=\"Note\" appearance=\"minimal\" collapse=\"false\"}\n",
    "The Max-Min Inequality proof should remind us of the steps taken to obtain $(3.2)$ through $(3.4)$ from $(3.1)$. In fact, $(3.1)$ is of form $f(x,y) \\leq \\sup_y f(x,y) \\ \\ \\forall x$, since $J(x)$ is, as shown earlier, equivalent to $\\max_{\\lambda \\geq 0, \\mu} L(x, \\lambda, \\mu)$.\n",
    ":::"
   ]
  },
  {
   "cell_type": "markdown",
   "id": "a1040285",
   "metadata": {},
   "source": [
    "### Game-Theoretic Interpretation\n",
    "\n",
    "The Max-Min Inequality is perhaps best understood intuitively as a game between two adversarial players (represented by the optimizers in this case). \n",
    "\n",
    "The LHS of the Max-Min Inequality can be interpreted as the following game. First, the outer maximizer, player $Y$, fixes its choice $y$. Then, the inner minimizer, player $X$, chooses $x_y = \\arg \\inf_x f(x,y)$ which depends on the outer's choice of $y$. Suppose $y^* = \\arg \\inf_y f(x,y)$ is what player $Y$'s choice would have been were it to act independently of the actions of player $X$. We can imagine a scenario in which the score $f(x_{y^*}, y^*)$ is less than the score $f(x_y, y)$ for some other choice of $y$. So, player $Y$ cannot do as well as it would've done independently, whereas player $X$ is free to do its best. Hence, player $X$, the second player, restricts the choices of player $Y$, the first player. \n",
    "\n",
    "If the goal is to score low then player $X$ has the advantage by playing second turn. Conversely, if the goal is to score high player $Y$ has the advantage by playing second turn. This is exactly what the Max-Min Inequality says in mathematical terms."
   ]
  },
  {
   "cell_type": "markdown",
   "id": "6e736655",
   "metadata": {},
   "source": [
    "# Strong Duality and Interpretations\n",
    "\n",
    "Strong duality is the special case when weak duality, as it's stated in $(3.4)$, holds with strict equality. That is:\n",
    "\n",
    "<br>\n",
    "$$g(\\lambda^*, \\mu^*) = f_0(x^*) \\tag{5.1}$$\n",
    "<br>"
   ]
  },
  {
   "cell_type": "markdown",
   "id": "3e0a7b88",
   "metadata": {},
   "source": [
    "::: {.callout-tip title=\"Note\" appearance=\"minimal\" collapse=\"false\"}\n",
    "The existence of a primal optimal $x^*$ is needed in order to speak of strong duality at all. To show this, suppose the primal is feasible but unbounded. Then $\\not \\exists x^*$ that is primal optimal. Suppose further that the dual is feasible. Then $\\exists (\\lambda, \\mu)$ such that weak duality obtains $g(\\lambda, \\mu) \\leq f(x) \\ \\ \\forall x$. That is $g(\\lambda, \\mu)$ is a lower-bound of the primal objective. This contradicts the assumption of primal unboundedness. To avoid this contradiction, it must be the case that primal unboundedness implies dual infeasibility. However, if the dual is infeasible there can be no talk of strong duality since the dual optimal does not exist.\n",
    ":::"
   ]
  },
  {
   "cell_type": "markdown",
   "id": "f97e91af",
   "metadata": {},
   "source": [
    "Alternatively, in its Max-Min characterization:\n",
    "\n",
    "$$\\max_{\\lambda \\geq 0, \\mu} \\left\\{ \\min_x \\mathcal{L} (x, \\lambda, \\mu) \\right\\} = \\min_x \\left\\{ \\max_{\\lambda \\geq 0, \\mu} \\mathcal{L} (x, \\lambda, \\mu) \\right\\} \\tag{5.2}$$\n",
    "\n",
    "Another common way to say a problem is strongly dual is to say its ***duality gap*** is zero. The duality gap is defined as the difference between the primal and dual optima, that is $f_0(x^*) - g(\\lambda^*, \\mu^*)$. This characterization of strong duality follows immediately from the first definition of strong duality as it's stated in $(5.1)$. Optimization problems that exhibit this property are called ***strongly dual***. \n",
    "\n",
    "As mentioned briefly in the introduction, strong duality gives applied scientists the ability to solve an equivalent, usually easier, dual problem instead of the primal one which may be difficult to solve.\n",
    "As it happens, strong duality also obtains powerful ***optimality conditions*** which allow scientists to check if suspected optimal points are, indeed, optimal. We will soon make both of these claims more rigorous but, for now, it's enough to think of them simply as benefits of strong duality. Given these useful results it would certainly be helpful to know, in advance of solving the problem, whether or not it's strongly dual\n",
    "\n",
    "We shall see, through a direct proof, that all linear programs are strongly dual. When it comes to non-linear optimization, however, strong duality is not a general guarantee. The good news is that sufficient conditions for strong duality do exist and will be provided next."
   ]
  },
  {
   "cell_type": "markdown",
   "id": "8c1f4a84",
   "metadata": {},
   "source": [
    "## Slater's Condition - Sufficient Condition for Strong Duality\n",
    "\n",
    "While the rare non-convex problem could exhibit the property, strong duality is mostly enjoyed by convex problems. However, not all convex problems are strongly dual. There are many results that establish conditions on the problem, beyond convexity and existence of a primal-optimal, under which strong duality holds. These conditions are called ***constraint qualifications***. In this section we will explore such conditions for convex problems and discuss them in the specific case of linear programs.\n",
    "\n",
    "One of these constraint qualification conditions is ***Slater's condition***."
   ]
  },
  {
   "cell_type": "markdown",
   "id": "9a8f5525",
   "metadata": {},
   "source": [
    "> **Slater's Condition:** &nbsp; $\\exists \\ \\hat x$ s.t. $f_i(\\hat x) < 0$, and $h_i(\\hat x) = 0$ $\\forall i$."
   ]
  },
  {
   "cell_type": "markdown",
   "id": "092608f5",
   "metadata": {},
   "source": [
    "Informally, Slater's condition says that the existence of a feasible point which has margin w.r.t. all the inequality constraints is needed in addition to convexity. In even simpler terms, the feasible region must have an interior point. \n",
    "\n",
    "The sufficient condition for strong duality in convex problems is then:"
   ]
  },
  {
   "cell_type": "markdown",
   "id": "d276a8b9",
   "metadata": {},
   "source": [
    "> **Sufficient Condition for Strong Duality:** &nbsp; Any convex optimization problem satisfying Slater's condition has zero duality gap."
   ]
  },
  {
   "cell_type": "markdown",
   "id": "09ac9918",
   "metadata": {},
   "source": [
    "The proof of this is beyond what we're trying to accomplish in this post.\n",
    "\n",
    "A weaker constraint qualification condition guarantees strong duality in the case of linear constraints. If $k$ of the $m$ inequality constraints are linear then the condition becomes:\n",
    "\n",
    "$$\n",
    "\\begin{aligned}f_i(\\hat x) &\\leq 0, \\ i = 1,...,k, \\\\ \n",
    "f_i(\\hat x) &< 0, \\ i = k+1,...,m, \\\\ \n",
    "h_i(\\hat x) &= 0, \\ i = 1,...,p\n",
    "\\end{aligned}\n",
    "$$\n",
    "\n",
    "In other words, the linear constraints need not have margin. \n",
    "\n",
    "Note that if all the constraints are linear, which is the case in linear programming, the above constraint qualification condition simply reduces to feasibility. \n",
    "\n",
    "So, while a sufficient condition of strong duality in non-linear convex programs is, both, the existence of a feasible interior point and a primal optimal, the situation is remarkably simpler in linear programs. Since a primal optimal for a linear program is also feasible, it satisfies the weaker constraint qualification condition. Thus, for a linear program to be strongly dual the existence of a primal optimal is sufficient."
   ]
  },
  {
   "cell_type": "markdown",
   "id": "3256fe28",
   "metadata": {},
   "source": [
    "## The Max-Min Equality\n",
    "\n",
    "Just as weak duality is the Max-Min Inequality in disguise, strong duality is the [Minimax Theorem](https://en.wikipedia.org/wiki/Minimax_theorem) in disguise. The Minimax Theorem is the special case of the Max-Min Inequality in which the LHS and the RHS are strictly equal. It holds for any function $f: X \\times Y \\rightarrow \\mathbb{R}$ that has some additional structure. Roughly speaking, when $f$ is saddle-shaped, convex in one variable and concave in the other, the Max-Min Inequality holds with strict equality.\n",
    "\n",
    "The following theorem, which is offered without proof, translates this result into the setting of optimization."
   ]
  },
  {
   "cell_type": "markdown",
   "id": "48b6e061",
   "metadata": {},
   "source": [
    "> **Saddle Point Theorem:** &nbsp; If $x^*$ and $(\\lambda^*, \\mu^*)$ are primal and dual optimal solutions for a convex problem which satisfies Slater's condition, they form a saddle point of the associated Lagrangian. Furthermore, if $(x^*, (\\lambda^*, \\mu^*))$ is a saddle point of a Lagrangian, then $x^*$ is primal optimal and $(\\lambda^*, \\mu^*)$ is dual optimal for the associated problem, and the ***duality gap*** is zero."
   ]
  },
  {
   "cell_type": "markdown",
   "id": "a153adfc",
   "metadata": {},
   "source": [
    "::: {.callout-tip title=\"Note\" appearance=\"minimal\" collapse=\"false\"}\n",
    "This theorem should *not* be taken as a ***certificate of strong duality***. If the Lagrangian is saddle-shaped then the associated problem is strongly dual, however the converse is not true. Since not all strongly dual problems are convex problems which satisfy Slater's condition, if a problem is strongly dual it is *not* guaranteed that its Lagrangian is saddle-shaped.\n",
    ":::"
   ]
  },
  {
   "cell_type": "markdown",
   "id": "cdf88c73",
   "metadata": {},
   "source": [
    "### Game-Theoretic Interpretation\n",
    "\n",
    "In keeping with the game theoretic intuition developed in the section on weak duality, one can imagine a game in which the first player's optimal choice is independent of the second player's actions. In such a game, both players are free to play their best strategies and, consequently, the order of play is not important."
   ]
  },
  {
   "cell_type": "markdown",
   "id": "3c29a4bc",
   "metadata": {},
   "source": [
    "## An Easier Dual Problem \n",
    "\n",
    "\n",
    "Let's further qualify what we mean when we say strong duality gives an equivalent, usually easier, problem to solve. \n",
    "\n",
    "At the start of this post we considered a general convex program. However, everything we've discussed about Lagrangian duality applies to non-convex problems as well. Suppose the primal problem is non-convex. The task is that of finding the primal optimum:\n",
    "\n",
    "$$f_0(x^*) = \\min_x \\left\\{ \\max_{\\lambda \\geq 0, \\mu} \\mathcal{L} (x, \\lambda, \\mu) \\right\\}$$\n",
    "\n",
    "But maximizing the Lagrangian over $\\lambda \\geq 0$ and $\\mu$ for a fixed $x$, recovers $\\mathcal{J}(x)$: a non-differentiable objective. So, we cannot use the unconstrained optimality condition in finding the stationary points of $\\mathcal{J}(x)$ which is what's required in the next step.\n",
    "\n",
    "Meanwhile, the dual problem is that of finding the dual optimum:\n",
    "\n",
    "$$g(\\lambda^*, \\mu^*) = \\max_{\\lambda \\geq 0, \\mu} \\left\\{ \\min_x \\mathcal{L} (x, \\lambda, \\mu) \\right\\}$$\n",
    "\n",
    "Minimizing the Lagrangian over $x$ for fixed $\\lambda \\geq 0$ and $\\mu$ may still be a difficult problem but, at least, it lends itself to using the method of unconstrained optimization. Moreover, the resulting dual function $g(\\lambda, \\mu) = \\min_x \\mathcal{L}(x, \\lambda, \\mu)$ is a point-wise minimum of linear functions in $\\lambda$ and $\\mu$, so its always concave in those variables. Additionally, the constraint $\\lambda \\geq 0$ is a simple, convex (linear in fact), constraint. So, the dual problem is a convex optimization problem regardless of the convexity of the primal.\n",
    "\n",
    "Solving a convex dual problem is usually easier that solving a non-convex primal problem. However, even if the primal is a convex problem to begin with, the dual may still be easier to solve. The primal could have more variables than constraints in which case its dual has more constraints than variables. This is yet another way in which the dual can be an easier problem to solve than the primal."
   ]
  },
  {
   "cell_type": "markdown",
   "id": "bb7323bd",
   "metadata": {},
   "source": [
    "# Theorems of the Alternative\n",
    "\n",
    "\n",
    "Duality isn't just a tool for applied science, it has important theoretical uses. For instance, in proving ***Theorems of the Alternative***. These are theorems that describe exclusively disjoint scenarios that together comprise the entire outcome space. Formally, they are theorems of the form $A \\implies \\neg B \\land \\neg A \\implies  B$  where $A$, and $B$ are logical statements."
   ]
  },
  {
   "cell_type": "markdown",
   "id": "de809fb3",
   "metadata": {},
   "source": [
    "::: {.callout-tip title=\"Note\" appearance=\"minimal\" collapse=\"false\"}\n",
    "Theorems of equivalence (i.e. theorems of the form *'the following are equivalent - TFAE'*) can also be formulated as theorems of the alternative. To say that $A$ and $B$ are equivalent means $ A \\iff B$. But this breaks down as $A \\implies B \\land B \\implies A$. Letting $\\hat B = \\neg B$ we can rewrite the above as $A \\implies \\neg \\hat B \\land B \\implies A$. But, by taking the contrapositive, $B \\implies A$ becomes $\\neg A \\implies \\neg B$, which is to say $\\neg A \\implies \\hat B$. In summary, we have shown that $A \\iff B$ is equivalent to $A \\implies \\neg \\hat B \\land \\neg A \\implies \\hat B$. So, the class of theorems of the alternative is much broader than it appears and includes theorems of equivalence.\n",
    ":::"
   ]
  },
  {
   "cell_type": "markdown",
   "id": "2b43a59c",
   "metadata": {},
   "source": [
    "These theorems are usually proven by a ***Separation Argument***, but can also be proven, quite elegantly, through duality.\n",
    "\n",
    "A well-known instance of a Theorem of the Alternative is [Farkas' Lemma](https://en.wikipedia.org/wiki/Farkas%27_lemma) which underpins major results in the study of optimization."
   ]
  },
  {
   "cell_type": "markdown",
   "id": "4cbae8dd",
   "metadata": {},
   "source": [
    "## Farkas' Lemma\n",
    "\n",
    "Farkas' Lemma simply states that a given vector $c$ is either a [conic combination](../linear_algebra/linear_algebra_refresher_for_optimization.ipynb#conic-combinations-of-n-points) of some vectors $a_i$'s (for $i \\in I$), or it's entirely separated from their cone by some hyperplane. \n",
    "\n",
    "We state Farkas' Lemma without offering proof since it has such an obvious geometric interpretation."
   ]
  },
  {
   "cell_type": "markdown",
   "id": "fcf05553",
   "metadata": {},
   "source": [
    "> **Farkas' Lemma:** &nbsp; For any vector $c$ and $a_i \\ \\ (i \\in I)$ either the first or the second statement holds:  \n",
    ">\n",
    "> * $\\exists p \\geq 0$ s.t. $c = \\sum_{i \\in I} a_ip_i$\n",
    "> * $\\exists$ vector $d$ s.t. $d^Ta_i \\geq 0 \\ \\ \\forall i \\in I$ but $d^Tc < 0$"
   ]
  },
  {
   "cell_type": "markdown",
   "id": "fda7cf96",
   "metadata": {},
   "source": [
    "## Proving a Theorem of the Alternative\n",
    "\n",
    "To see how we can prove a Theorem of the Alternative, it helps to state one. "
   ]
  },
  {
   "cell_type": "markdown",
   "id": "8d19cdab",
   "metadata": {},
   "source": [
    "> **Theorem:** &nbsp; Exactly one of the following two statements most hold for a given matrix A.\n",
    "> \n",
    "> 1. $\\exists x \\ne 0$ s.t. $Ax = 0$ and $x \\geq 0$\n",
    "> 2. $\\exists p$ s.t. $p^TA > 0$"
   ]
  },
  {
   "cell_type": "markdown",
   "id": "aee72745",
   "metadata": {},
   "source": [
    "### Proof using a Separation Argument\n",
    "\n",
    "#### Prelude\n",
    "\n",
    "At the heart of separation arguments lies this simple fact. "
   ]
  },
  {
   "cell_type": "markdown",
   "id": "459471bd",
   "metadata": {},
   "source": [
    "> **Separating Hyperplane Theorem:** &nbsp; For any *convex* set $C$, if a point $\\omega \\notin C$ then there exists a hyperplane separating $\\omega$ and $C$."
   ]
  },
  {
   "cell_type": "markdown",
   "id": "8c61c5f8",
   "metadata": {},
   "source": [
    "Farkas' Lemma, for instance, is proved by a separation argument that uses, as its convex set, the conic combination of the $a_i$'s. The conclusion is immediate since in Farkas' Lemma the first statement plainly says that a vector belongs to the convex set, and the second statement plainly says there exists a separating hyperplane between the two. \n",
    "\n",
    "This is the pattern all separation arguments must follow. However, in general, it may take a bit of work to define the problem-specific convex set and also to show that the two statements are *really* talking about belonging to this set, and separation from it. However, once these components are in place, the proof is complete. \n",
    "\n",
    "Using this idea, let's give a proof of the above theorem using a separation argument.\n",
    "\n",
    "#### Proof\n",
    "\n",
    "First order of business is to come up with a convex set. \n",
    "\n",
    "Let's take $C = \\{ z : z = Ay, \\sum_i y_i = 1, y \\geq 0 \\}$ to be the convex hull of the columns of $A$.\n",
    "\n",
    "The first statement in the theorem was that $\\exists x \\ne 0$ s.t. $Ax = 0$ and $x \\geq 0$.\n",
    "\n",
    "Since $x \\ne 0$ and $x \\geq 0$ we can scale as $x$ as $y = \\alpha x$ until $\\sum_i y_i = 1$.\n",
    "\n",
    "So, the first statement is equivalent to saying the origin belongs to the convex hull $C$ (i.e. $0 \\in C$)\n",
    "\n",
    "The second statement was that $\\exists p$ s.t. $p^TA > 0$. This is equivalent to saying that all the columns of $A$ lie to one side of the separating hyperplane introduced by $p$.\n",
    "\n",
    "But all $z \\in C$ are convex combinations of $A$'s columns. In particular since they're a convex combination they're also a conic combination, so all $z \\in C$ also lie on the same side of the hyperplane. That is $p^Tz > 0 \\ \\ \\forall z \\in C$. \n",
    "\n",
    "But, of course, $p^T0 = 0$ (not $> 0$). So, according to the second statement, the origin is separated from $C$. \n",
    "\n",
    "This concludes the proof since the two statements must be mutually exclusive. \n",
    "\n",
    "### Proof using Strong Duality\n",
    "\n",
    "To prove the theorem we need to show two things. First, we need to show $1 \\implies \\neg 2$, then we need to show $\\neg 1 \\implies 2$.\n",
    "\n",
    "The $1 \\implies \\neg 2$ direction is simple. \n",
    "\n",
    "Suppose $\\exists x \\ne 0$ s.t. $Ax = 0$ and $x \\geq 0$. \n",
    "\n",
    "Then $\\forall p \\ \\ (p^TA)x = p^T(Ax) = p^T0 = 0$ (not $> 0$).\n",
    "\n",
    "We tackle the $\\neg 1 \\implies 2$ direction using duality.\n",
    "\n",
    "The strategy is to construct an LP based on $\\neg 1$ such that the feasibility of its dual implies $2$.\n",
    "\n",
    "We can express $\\neg 1$ as '$\\forall x \\ne 0$, either $Ax \\ne 0$ or $x < 0$.' Equivalently, '$x \\ne 0 \\implies Ax \\ne 0$ or $x < 0$.' Taking the contrapositive, statement $1$ becomes '$Ax = 0$ and  $x \\geq 0 \\implies x = 0$.' \n",
    "\n",
    "So, we form the LP as:"
   ]
  },
  {
   "cell_type": "markdown",
   "id": "816916d5",
   "metadata": {},
   "source": [
    "$$\n",
    "\\begin{aligned}\n",
    "&\\max_x: \\textbf{1}^Tx\n",
    "\\\\\n",
    "&s.t.: \\begin{aligned} &Ax = 0\n",
    "\\\\ \n",
    "&x \\geq 0\n",
    "\\end{aligned}\n",
    "\\end{aligned}\n",
    "$$"
   ]
  },
  {
   "cell_type": "markdown",
   "id": "08ca1702",
   "metadata": {},
   "source": [
    "Note that $x = 0$ is a feasible solution to the LP. Furthermore, assuming statement $1$ guarantees that $x = 0$ is the only feasible solution. Thus, the LP is feasible and bounded. \n",
    "\n",
    "By strong duality, its dual exists and is also feasible and bounded. \n",
    "\n",
    "The dual is:"
   ]
  },
  {
   "cell_type": "markdown",
   "id": "d78b8867",
   "metadata": {},
   "source": [
    "$$\n",
    "\\begin{aligned}\n",
    "&\\min_p: \\textbf{0}^Tp\n",
    "\\\\\n",
    "&s.t.: p^TA \\geq \\textbf{1}\n",
    "\\end{aligned}\n",
    "$$"
   ]
  },
  {
   "cell_type": "markdown",
   "id": "fea26625",
   "metadata": {},
   "source": [
    "Since the dual is feasible, $\\exists p$ s.t. $p^TA \\geq 1 > 0$ which demonstrates the truth of statement $2$ and, in doing so, completes the proof. "
   ]
  },
  {
   "cell_type": "markdown",
   "id": "95acfd64",
   "metadata": {},
   "source": [
    "# Strong Duality - Optimality Conditions\n",
    "    \n",
    "As mentioned before, strong duality also obtains powerful optimality conditions. These conditions are known as ***stationarity condition*** and ***complementary slackness***, and they are often bundled into the [*Karush–Kuhn–Tucker (KKT) Conditions*](https://en.wikipedia.org/wiki/Karush%E2%80%93Kuhn%E2%80%93Tucker_conditions) which will be provided shortly.\n",
    "    \n",
    "## Stationarity Condition\n",
    "\n",
    "In the section titled [an easier dual problem](../optimization/duality-theory.ipynb#an-easier-dual-problem) we mentioned that the dual problem is that of finding the dual optimal value:\n",
    "\n",
    "$$g(\\lambda^*, \\mu^*) = \\max_{\\lambda \\geq 0, \\mu} \\left\\{ \\min_x \\mathcal{L} (x, \\lambda, \\mu) \\right\\}$$\n",
    "\n",
    "If strong duality holds, this dual optimum agrees with the primal optimum. That is: \n",
    "\n",
    "$$g(\\lambda^*, \\mu^*) = f_0(x^*)$$\n",
    "\n",
    "Turns out in case of strong duality there's even more to be said. As we saw earlier optimizing the unconstrained objective $\\mathcal{J}(x)$ not only resulted in the primal optimum $f_0(x^*)$ for some optimal $x^*$ of the constrained problem, the very same point $x^*$ itself turned out to be an optimizer of $\\mathcal{J}(x)$. Similarly, we can show that the primal optimum $x^*$ for some primal-dual optimal pair $(x^*, (\\lambda^*, \\mu^*))$ optimizes $\\mathcal{L}(x, \\lambda^*, \\mu^*)$. In other words, the primal optimum $x^*$ is a stationary point of the Lagrangian at the dual optimum $(\\lambda^*,\\mu^*)$.\n",
    "\n",
    "That is:\n",
    "\n",
    "$$x^* = \\arg \\min_x \\mathcal{L} (x, \\lambda^*, \\mu^*) \\tag{6.1}$$ \n",
    "\n",
    "Or, equivalently:\n",
    "\n",
    "$$\\min_x \\mathcal{L}(x, \\lambda^*, \\mu^*) = \\mathcal{L}(x^*, \\lambda^*, \\mu^*) \\tag{6.2}$$\n",
    "\n",
    "We can think of $(6.1)$ and $(6.2)$ as the analogs of $(2.1)$ and $(2.2)$ for the Lagrangian ($\\mathcal{L}$). This is exactly what we've been working towards. Recall that the original motivation in augmenting the constrained problem into the unconstrained $\\mathcal{J}$ was to find the former's optimizer using methods of unconstrained optimization on $\\mathcal{J}$. Once found, $(2.1)$ or $(2.2)$ would guarantee that an optimizer of $\\mathcal{J}$ was, itself, an optimizer of the original problem. Failing that, we relaxed $\\mathcal{J}$ into $\\mathcal{L}$ hoping we could still accomplish the same. $(6.1)$ and $(6.2)$ are the results which guarantee precisely that. They say that the optimizer $x^*$ of the original problem can be found by optimizing the unconstrained objective $\\mathcal{L}$. And, since $\\mathcal{L}$ is everywhere differentiable w.r.t. $x$, we can now proceed.\n",
    "\n",
    "In practice, however, $(6.1)$ and $(6.2)$ only give us a way to solve for a primal-optimal $x^*$ directly if a dual-optimal $(\\lambda^*, \\mu^*)$ is already known. That is, any time the dual problem is easier to solve than the primal.\n",
    "\n",
    "More generally, this fact gives us the next best thing. It gives us a way to check if a given pair $(x^*,(\\lambda^*,\\mu^*))$ is primal-dual optimal – an optimality condition known as *stationarity condition*."
   ]
  },
  {
   "cell_type": "markdown",
   "id": "9e013eea",
   "metadata": {},
   "source": [
    "> **Stationarity Condition:** &nbsp; Suppose $x^*$ and $(\\lambda^*, \\mu^*)$ are primal-dual optimal for a strongly dual problem. Then:\n",
    "> $$\\nabla_x f_0(x^*) + \\sum_i^m \\lambda^*_i\\nabla_xf_i(x^*) + \\sum_{i=1}^p \\mu^*_i\\nabla_xh_i(x^*) = 0$$"
   ]
  },
  {
   "cell_type": "markdown",
   "id": "ce166505",
   "metadata": {},
   "source": [
    "The stationary condition is obtained simply by an application of the unconstrained optimality condition to $\\mathcal{L}(x, \\lambda^*, \\mu^*)$:\n",
    "\n",
    "$$\\nabla_x \\mathcal{L} (x^*, \\lambda^*, \\mu^*) = 0$$ \n",
    "\n",
    "Expanding the LHS gives:\n",
    "\n",
    "$$\\nabla_x f_0(x^*) + \\sum_i^m \\lambda^*_i\\nabla_xf_i(x^*) + \\sum_{i=1}^p \\mu^*_i\\nabla_xh_i(x^*) = 0$$ \n",
    "\n",
    "For the sake of completeness, since we stated them without offering a proof, let's prove the equivalent claims $(6.1)$ and $(6.2)$ from which stationarity condition ultimately follows.\n",
    "\n",
    "#### Proof of Claims (6.1) and (6.2)\n",
    "\n",
    "Suppose $x^*$ and $(\\lambda^*, \\mu^*)$ are primal-dual optimal for a strongly dual problem. \n",
    "\n",
    "The following point-wise inequality holds in general since its LHS is a minimization over $x$ and its RHS is a maximization over $(\\lambda, \\mu)$ of the Lagrangian.\n",
    "\n",
    "$$g(\\lambda, \\mu) \\leq \\mathcal{L}(x, \\lambda, \\mu) \\leq \\mathcal{J}(x) \\ \\ \\forall x, \\lambda \\geq 0, \\mu$$\n",
    "\n",
    "It is also, in particular, true for the primal-dual optimal pair. That is:\n",
    "\n",
    "$$g(\\lambda^*, \\mu^*) \\leq \\mathcal{L}(x^*, \\lambda^*, \\mu^*) \\leq \\mathcal{J}(x^*) \\tag{7.1}$$\n",
    "\n",
    "However, $\\mathcal{J}(x^*) = f_0(x^*)$ and, by strong duality, $g(\\lambda^*, \\mu^*) = f_0(x^*)$. Hence, $g(\\lambda^*, \\mu^*) = \\mathcal{J}(x^*)$ and $(7.1)$ is actually the equality.\n",
    "\n",
    "$$\\mathcal{L}(x^*, \\lambda^*, \\mu^*) = g(\\lambda^*, \\mu^*) \\tag{7.2}$$ \n",
    "\n",
    "Substituting, the definition of the dual function for the RHS of $(7.2)$, we get:\n",
    "\n",
    "$$\\mathcal{L}(x^*, \\lambda^*, \\mu^*) = \\min_x \\mathcal{L}(x, \\lambda^*, \\mu^*)$$ \n",
    "\n",
    "Which is exactly $(6.2)$ and, by equivalence, also $(6.1)$."
   ]
  },
  {
   "cell_type": "markdown",
   "id": "7790a094",
   "metadata": {},
   "source": [
    "## Complementary Slackness\n",
    "\n",
    "Strong duality also obtains another optimality condition known as *complementary slackness (CS)*."
   ]
  },
  {
   "cell_type": "markdown",
   "id": "e088c5db",
   "metadata": {},
   "source": [
    "> **Complementary Slackness (CS):** &nbsp; Suppose $x^*$ and $(\\lambda^*, \\mu^*)$ are primal-dual optimal for a strongly dual problem. Then:\n",
    "> $$\\lambda^*_i f_i(x^*) = 0 \\ \\ \\forall i$$"
   ]
  },
  {
   "cell_type": "markdown",
   "id": "336b1eb7",
   "metadata": {},
   "source": [
    "Informally, if a primal constraint at an optimal $x^*$ is *loose*, that is $f_i(x^*) \\ne 0$, then its corresponding dual variable $\\lambda^*_i$ in the dual optimal $\\lambda^*$ must be zero. Conversely, if the dual variable $\\lambda_i^*$ is positive then the corresponding constraint must be *tight*."
   ]
  },
  {
   "cell_type": "markdown",
   "id": "00c141af",
   "metadata": {},
   "source": [
    "::: {.callout-tip title=\"Note\" appearance=\"minimal\" collapse=\"false\"} \n",
    "If a primal constraint is *tight* at $x^*$, complementary slackness tells us nothing about its corresponding dual variable.\n",
    ":::"
   ]
  },
  {
   "cell_type": "markdown",
   "id": "a9c71deb",
   "metadata": {},
   "source": [
    "#### Proof of Complementary Slackness\n",
    "\n",
    "Suppose $x^*$ and $(\\lambda^*, \\mu^*)$ are primal-dual optimal for a strongly dual problem. \n",
    "\n",
    "Expanding the RHS we obtain:"
   ]
  },
  {
   "cell_type": "markdown",
   "id": "8d8996ca",
   "metadata": {},
   "source": [
    "<br>\n",
    "$$\n",
    "\\begin{aligned}\n",
    "f_0(x^*) &= g(\\lambda^*, \\mu^*) \\\\ \n",
    "&= \\min_x \\mathcal{L}(x, \\lambda^*, \\mu^*) \\\\ \n",
    "&= \\mathcal{L}(x^*, \\lambda^*, \\mu^*) \\\\\n",
    "&=  f_0(x^*) + \\sum_{i=1}^m \\lambda_i^* f_i(x) + \\sum_{i=1}^p \\mu_i^* h_i(x^*) \\\\\n",
    "&\\leq f_0(x^*)\n",
    "\\end{aligned} \\tag{8.1}\n",
    "$$\n",
    "<br>"
   ]
  },
  {
   "cell_type": "markdown",
   "id": "81d5d1f4",
   "metadata": {},
   "source": [
    "The first equality holds by strong duality, the second holds by the definition of the dual function, the third equality holds by $(6.2)$, and the fourth is true by the expansion of $\\mathcal{L}(x^*, \\lambda^*, \\mu^*)$.\n",
    "\n",
    "To see why the last inequality holds, note that: \n",
    "\n",
    "$$\\sum_{i=1}^p \\mu_i^* h_i(x^*) = 0$$\n",
    "\n",
    "since, by feasibility of $x^*$, $h_i(x^*) = 0 \\ \\ \\forall i$. Then again, by feasibility of $x^*$, we have:\n",
    "\n",
    "$$f_i(x^*) \\leq 0  \\ \\ \\forall i \\tag{8.2}$$\n",
    "\n",
    "Furthermore, by construction of the Lagrangian, $\\lambda \\geq 0$. So, together with $(8.2)$, we have: \n",
    "\n",
    "$$\\sum_{i=1}^m \\lambda^*_i f_i(x^*) \\leq 0$$\n",
    "\n",
    "But taken altogether $(8.1)$ says $f_0(x^*) \\leq f_0(x^*)$ which can *only* hold through strict equality. \n",
    "\n",
    "Then it must be the case that $\\sum_{i=1}^m \\lambda^*_i f_i(x^*) = 0$\n",
    "\n",
    "Being a sum of non-positive terms, $\\sum_{i=1}^m \\lambda^*_i f_i(x^*) = 0$ *if and only if* \n",
    "\n",
    "$$\\lambda^*_i f_i(x^*) = 0 \\ \\ \\forall i \\tag{8.3}$$\n",
    "\n",
    "which concludes the proof of complementary slackness."
   ]
  },
  {
   "cell_type": "markdown",
   "id": "fcfca74f",
   "metadata": {},
   "source": [
    "## Karush-Kuhn-Tucker (KKT) Conditions \n",
    "\n",
    "Complementary slackness and stationarity condition are often bundled into the KKT Conditions.\n",
    "\n",
    "In the absence of strong duality the KKT Conditions are necessary but insufficient for optimality. However, for problems which *are* strongly dual the KKT Conditions become a ***certificate of optimality***. That is, they are both necessary and sufficient."
   ]
  },
  {
   "cell_type": "markdown",
   "id": "e7fe5bda",
   "metadata": {},
   "source": [
    "> **KKT Conditions:** &nbsp; The primal-dual pair $(x^*, (\\lambda^*, \\mu^*))$ satisfies the ***KKT conditions*** if the following hold:\n",
    "> \n",
    "> 1. $\\nabla_x f_0(x^*) + \\sum_{i=1}^m \\lambda^*_i\\nabla_xf_i(x^*) + \\sum_{i=1}^p \\mu^*_i\\nabla_xh_i(x^*) = 0$\n",
    "> 2. $\\lambda^*_if_i(x^*) = 0 \\ \\ \\forall i$\n",
    "> 3. $g_i(x^*) \\leq 0 \\ \\ \\forall i$ \n",
    "> 4. $h_i(x^*) = 0 \\ \\ \\forall i$ \n",
    "> 5. $\\lambda^* \\geq 0$"
   ]
  },
  {
   "cell_type": "markdown",
   "id": "35b64050",
   "metadata": {},
   "source": [
    "We recognize *KKT-1* as the stationarity condition, and *KKT-2* as complementary slackness. *KKT-3* through *KKT-5* simply ensure primal-dual feasibility."
   ]
  },
  {
   "cell_type": "markdown",
   "id": "e546f993",
   "metadata": {},
   "source": [
    "::: {.callout-tip title=\"Note\" appearance=\"minimal\" collapse=\"false\"}\n",
    "These conditions only apply to problems with differentiable objective and constraints. For the case in which one or more of the objective or constraints is non-differentiable, there is an easy generalization of the KKT conditions using sub-differentials. However, sub-differentials are beyond the scope of this post.\n",
    ":::"
   ]
  },
  {
   "cell_type": "markdown",
   "id": "26495095",
   "metadata": {},
   "source": [
    "Primal-dual pairs which satisfy the KKT Conditions are called ***KKT pairs***.\n",
    "\n",
    "### Generalization of Unconstrained Optimization\n",
    "\n",
    "\n",
    "The KKT conditions represent a strict generalization of the unconstrained optimality condition for use in constrained problems. \n",
    "\n",
    "To see this, note that if there are no constraints then the KKT conditions simply reduce to the familiar unconstrained optimality condition:\n",
    "\n",
    "<br>\n",
    "$$\\nabla_x f_0(x^*) = 0$$\n",
    "<br>\n",
    "\n",
    "In order to discuss optimality in constrained problems, we must first define a ***feasible direction***. "
   ]
  },
  {
   "cell_type": "markdown",
   "id": "af16079b",
   "metadata": {},
   "source": [
    "> **Feasible Direction:** &nbsp; A unit vector $d$ is called a *feasible direction* at any $x$ if $x + \\epsilon d$ remains feasible for $\\epsilon > 0$ small enough."
   ]
  },
  {
   "cell_type": "markdown",
   "id": "d0b9a3a7",
   "metadata": {},
   "source": [
    "We are now in a position to generalize the unconstrained optimality condition into a ***constrained optimality condition***.\n",
    "\n",
    "By using *Taylor expansion*, for small enough $\\epsilon > 0$ and any feasible $d$, we can estimate $f_0(x^* + \\epsilon d)$ by its linear approximation as:\n",
    "\n",
    "<br> \n",
    "$$f_0(x^* + \\epsilon d) = f_0(x^*) + \\epsilon \\nabla f_0(x^*)^Td$$\n",
    "<br>\n",
    "\n",
    "But since $x^*$ is optimal, we have:\n",
    "\n",
    "<br>\n",
    "$$\n",
    "\\begin{aligned}\n",
    "f_0(x^*) &\\leq f_0(x^* + \\epsilon d) \\\\\n",
    "& = f_0(x^*) + \\epsilon \\nabla f_0(x^*)^Td\n",
    "\\end{aligned}\n",
    "$$\n",
    "<br>\n",
    "\n",
    "Which necessitates that $\\nabla f_0(x^*)^Td \\geq 0$. Since $d$ was just an arbitrary feasible direction, this result must hold for *all* feasible directions. Hence, the constrained optimality condition can be given as:"
   ]
  },
  {
   "cell_type": "markdown",
   "id": "e0876a1e",
   "metadata": {},
   "source": [
    "> **Constrained Optimality Condition:** &nbsp; If $x^*$ is an optimizer of $f_0$ over some constraint set then, for any feasible direction $d$ at $x^*$, $\\nabla f_0(x^*)^Td \\geq 0$."
   ]
  },
  {
   "cell_type": "markdown",
   "id": "6f5558d6",
   "metadata": {},
   "source": [
    "Note that $\\nabla f_0(x^*)^Td$ is simply the ***directional derivative*** of $f_0$ in the direction $d$. So, in plain words, the constrained optimality condition says that the directional derivative of the objective function in any feasible direction at an optimizer should be non-negative. This ensures that moving in any feasible direction does not minimize the objective any further."
   ]
  },
  {
   "cell_type": "markdown",
   "id": "a0c6b5a6",
   "metadata": {},
   "source": [
    "### Certificate of Optimality\n",
    "\n",
    "As promised, the KKT Conditions together with strong duality obtain a certificate of optimality."
   ]
  },
  {
   "cell_type": "markdown",
   "id": "05e338e0",
   "metadata": {},
   "source": [
    "> **Certificate of Optimality:** &nbsp; If strong duality holds, then $x^*, (\\lambda^*, \\mu^*)$ are primal-dual optimal if and only if they are a KKT pair."
   ]
  },
  {
   "cell_type": "markdown",
   "id": "60d2aa0a",
   "metadata": {},
   "source": [
    "#### Proof of Certificate of Optimality\n",
    "\n",
    "We have already shown one direction of the certificate in the sections on [stationarity condition](../optimization/duality-theory.ipynb#stationarity-condition) and [complementary slackness](../optimization/duality-theory.ipynb#complementary-slackness), where we proved that being a primal-dual optimal pair in a strongly convex problem guarantees $(x^*, (\\lambda^*, \\mu^*))$ is also a KKT pair.\n",
    "\n",
    "Showing the other direction provides us with an interesting geometric viewpoint of the KKT conditions. Incidentally, Farkas' Lemma is the key theoretical result that underpins this proof."
   ]
  },
  {
   "cell_type": "markdown",
   "id": "c67fb9f7",
   "metadata": {},
   "source": [
    "Let's begin the proof.\n",
    "\n",
    "If a particular constraint is loose at $x^*$ then taking a small enough step in any direction from $x^*$ does not violate it. Formally, if $f_i(x^*) < 0$, then $f_i(x^* + \\epsilon d) \\leq 0$ $\\forall d$ and for some $\\epsilon >0$. So, loose constraints do not pose any restrictions on the set of feasible directions.\n",
    "\n",
    "However, if a constraint is tight at $x^*$, that is $f_i(x^*) = 0$, then we must be careful not to violate it. Suppose the set of indices of all the tight constraints at $x^*$ is given by $I_{x^*}$. For small enough $\\epsilon > 0$, we can estimate $f_i(x^* + \\epsilon d)$ by its linear Taylor expansion as:\n",
    "\n",
    "$$f_i(x^* + \\epsilon d) = f_i(x^*) + \\epsilon \\nabla f_i(x^*)^Td \\ \\ \\forall i \\in I_{x^*}$$\n",
    "\n",
    "For feasibility, we want $f_i(x^* + \\epsilon d) \\leq 0$. So, we require:\n",
    "\n",
    "$$f_i(x^*) + \\epsilon \\nabla f_i(x^*)^Td \\leq 0 \\ \\ \\forall i \\in I_{x^*}$$\n",
    "\n",
    "But since $f_i$ is tight at $x^*$, $f_i(x^*) = 0$, which simply leaves us with:\n",
    "\n",
    "$$\\nabla f_i(x^*)^Td \\leq 0 \\ \\ \\forall i \\in I_{x^*}$$\n",
    "\n",
    "With the above restriction of $d$, the feasible directions can now be stated as:\n",
    "\n",
    "$$d \\ \\textrm{s.t.} \\ \\nabla f_i(x^*)^Td \\leq 0 \\ \\ \\forall i \\in I_{x^*} \\tag{8.1}$$\n",
    "\n",
    "Or, equivalently:\n",
    "\n",
    "$$d \\ \\textrm{s.t.} \\ - \\nabla f_i(x^*)^Td \\geq 0 \\ \\ \\forall i \\in I_{x^*} \\tag{8.2}$$\n",
    "\n",
    "But, since $x^*$ is optimal, by the constrained optimality condition we have:\n",
    "\n",
    "$$\\nabla f_0(x^*)^Td \\geq 0 \\ \\ \\forall \\ \\textrm{feasible} \\ d \\tag{8.3}$$\n",
    "\n",
    "That is, for all $d$ as in $(8.2)$.\n",
    "\n",
    "Put together, $(8.2)$ and $(8.3)$ say that $\\not \\exists \\ d$ which defines a separating hyperplane between $\\nabla f_0(x^*)$ and $-\\nabla f_i(x^*)$ for all binding constraints at $x^*$. By Farka's Lemma, this means that the only other alternative scenario must be true — it must be the case that $\\nabla f_0(x^*)$ lies in the cone of the $-\\nabla f_i(x^*)$'s. \n",
    "\n",
    "Formally, $\\exists \\ \\lambda^* \\geq 0$ s.t.\n",
    "\n",
    "$$\\nabla f_0(x^*) + \\sum_{i \\in I_{x^*}} \\lambda^*_i f_i(x^*) = 0 \\tag{8.4}$$\n",
    "\n",
    "Upon closer examination, $(8.4)$ is exactly *KKT-1*, *KKT- 2*, and *KKT-5* all rolled into one condition. The remaining conditions, *KKT-3* and *KKT-4* simply follow from the assumed feasibility of $x^*$.\n",
    "\n",
    "Thus, we have shown that if $x^*$ is primal-optimal, its KKT pair $(x^*, (\\lambda^*, \\mu^*))$ exists. Furthermore, as proved earlier, if strong duality holds then any KKT pair is primal-dual optimal. Hence, if strong duality holds, the $(\\lambda^*, \\mu^*)$ obtained through the above procedure is also dual-optimal."
   ]
  },
  {
   "cell_type": "markdown",
   "id": "d4a3b0b5",
   "metadata": {},
   "source": [
    "# Strong Duality - Linear Programs\n",
    "\n",
    "Linear Programs, due to their simpler structure, lend themselves to a direct proof of strong duality. So, to wrap up this post, we show that LPs have strong duality through a direct proof.\n",
    "\n",
    "Strong duality for LPs can be stated as:"
   ]
  },
  {
   "cell_type": "markdown",
   "id": "b4d5a98d",
   "metadata": {},
   "source": [
    "> **LP Strong Duality:** &nbsp; If the primal is feasible and bounded with optimal $x^*$ then the dual is also feasible and bounded. Furthermore, a dual optimal $p^*$ is s.t. $c^Tx^* = b^Tp^*$."
   ]
  },
  {
   "cell_type": "markdown",
   "id": "470339fa",
   "metadata": {},
   "source": [
    "Where $x$ is the primal variable, $c^Tx$ is the primal objective, $p$ is the dual variable, and $b^Tp$ is the dual objective."
   ]
  },
  {
   "cell_type": "markdown",
   "id": "8fd4127b",
   "metadata": {},
   "source": [
    "## Proof of Strong Duality in LP's\n",
    "\n",
    "### Prelude\n",
    "\n",
    "As in the general case, we construct a KKT pair through the use of Farkas' Lemma. Then, by a structural property of LPs, we notice that the dual and the primal optima agree. This concludes the proof of LP strong duality. \n",
    "\n",
    "### Proof\n",
    "\n",
    "Suppose $x^*$ is primal-optimal. Let the set $I_{x^*} = \\{ i : a_i^Tx^* = b_i\\}$ be the set of the indices of the active constraints at $x^*$. Our goal is to construct a dual optimal solution $p^*$ s.t. $c^Tx^* = b^Tp^*$. \n",
    "\n",
    "Let $d$ be any vector that satisfies $d^Ta_i \\geq 0 \\ \\ \\forall i \\in I_{x^*}$. That is, $d$ is a feasible direction w.r.t. to all the active constraints.\n",
    "\n",
    "By the assumption that $x^*$ is optimal, we have $c^Tx^* \\leq c^T(x^* + \\epsilon d) = c^Tx^* + \\epsilon c^Td$. Thus, $c^Td = d^Tc \\geq 0$"
   ]
  },
  {
   "cell_type": "markdown",
   "id": "9a6f078d",
   "metadata": {},
   "source": [
    "::: {.callout-tip title=\"Note\" appearance=\"minimal\" collapse=\"false\"}\n",
    "$d^Tc$ is nothing but the *directional derivative* at the minimizer $x^*$. So, this also follows from the optimality of $x^*$ using the constrained optimality condition.\n",
    ":::"
   ]
  },
  {
   "cell_type": "markdown",
   "id": "b65708e0",
   "metadata": {},
   "source": [
    "But, since $d$ is a vector s.t. $d^Ta_i \\geq 0 \\ \\ \\forall i \\in I_{x^*}$ and $d^Tc \\geq 0$, $d$ does *not* separate $c$ from the cone of the $a_i$'s. And, since $d$ was arbitrary, this puts us in the setting of Farkas' Lemma. Namely, there exist *no* vectors $d$ that separate $c$ from the cone. This means the alternative must be true — $c$ must a conic combination of the $a_i$'s that are active at the minimizer. In other words, $\\exists p \\geq 0$ s.t. $c = \\sum_{i \\in I_{x^*}} p_ia_i$. \n",
    "\n",
    "But $p$ has dimension equal to only the number of active constraints at $x^*$. To be a dual variable at all, it must have dimension equal to the number of all primal constraints. We extend $p$ to $p^*$ by setting all the entries that do not correspond to the active constraints at $x^*$ to be zero. \n",
    "\n",
    "That is $p^*_i = \\begin{cases} p_i \\ \\ \\textrm{if} \\ \\  i \\in I_{x^*} \\\\ 0   \\ \\ \\textrm{if} \\ \\  i \\notin I_{x^*} \\end{cases}$. \n",
    "\n",
    "Now $A^Tp^*  = \\sum_{i} p^*_ia_i = c$, so any feasibility condition in the dual, whether it be $A^Tp \\leq c$, $A^Tp \\geq c$, or $A^Tp = c$, is satisfied by $p^*$.\n",
    "\n",
    "Furthermore, the dual objective at $p^*$ agrees with the primal objective at $x^*$.\n",
    "\n",
    "$$b^Tp^* = \\sum_{i} b_ip_i^* = \\sum_{i \\in I_{x^*}} b_ip_i^* + \\sum_{i \\notin I_{x^*}} b_ip_i^* = \\sum_{i \\in I_{x^*}} a_i^Tx^*p_i^* = (\\sum_{i \\in I_{x^*}} p_ia_i^T)x^* = c^Tx^* $$\n",
    "\n",
    "This concludes the proof."
   ]
  },
  {
   "cell_type": "markdown",
   "id": "3065575d",
   "metadata": {},
   "source": [
    "# Further Reading - Duality in Unconstrained Problems \n",
    "\n",
    "As mentioned briefly, in the case of certain types of unconstrained problems, the ***Fenchel-Legendre (FL) Transform*** is what gives rise to the dual. \n",
    "\n",
    "First, we define the FL transform which is also known as a ***convex conjugate*** for reasons that will soon become apparent. "
   ]
  },
  {
   "cell_type": "markdown",
   "id": "a55a96d6",
   "metadata": {},
   "source": [
    "> **FL Transform / Convex Conjugate:** &nbsp; The *FL Transform* or *Convex Conjugate* of a function $f: \\mathbb{R}^n \\rightarrow \\mathbb{R}$ is: \n",
    "$$f^*(y) = \\sup_x \\left\\{y^Tx - f(x)\\right\\}$$"
   ]
  },
  {
   "cell_type": "markdown",
   "id": "826ae140",
   "metadata": {},
   "source": [
    "We note some key properties of the FL Transform.\n",
    "\n",
    "## FL Transform - a Convex Operation\n",
    "\n",
    "The FL Transform $f^*$ is always convex regardless of the convexity of $f$. \n",
    "\n",
    "That's because, for a fixed $x$, $y^Tx - f(x)$ is a linear function in $y$. So, $f^*$ is a point-wise supremum of linear functions, making it convex. \n",
    "\n",
    "## The Case of Involution\n",
    "\n",
    "The double FL Transform $f^{**}$ does not always recover $f$. To see this fact note that, as an FL Transform of the *some* function (namely, $f^*$), $f^{**}$ is always convex. Therefore, $f^{**} \\ne f$ if $f$ is non-convex. \n",
    "\n",
    "But convexity alone is not enough to guarantee involution. We need an additional condition on $f$, namely that its sub-level sets must be closed, to ensure $f^{**} = f$.\n",
    "\n",
    "## Inverse Gradients\n",
    "\n",
    "If $f$ has closed sub-level sets and is convex then the gradients of $f$ and $f^*$ are inverses. That is, assuming both $f$ and $f^*$ are differentiable:\n",
    "\n",
    "$$y = \\nabla f(x) \\iff x = \\nabla f^*(y)$$\n",
    "\n",
    "Let's first prove the $\\implies$ direction. \n",
    "\n",
    "Suppose $y = \\nabla f(x)$. By $f$'s convexity:\n",
    "\n",
    "$$f(\\hat x) \\geq f(x) + y^T(\\hat x - x) \\ \\ \\forall \\hat x$$\n",
    "\n",
    "And so:\n",
    "\n",
    "$$y^T \\hat x - f(\\hat x) \\leq y^T x - f(x) \\ \\ \\forall \\hat x$$\n",
    "\n",
    "By taking supremum over $x$ and by noting that, since the sub-level sets are closed, the supremum is attained, we obtain:\n",
    "\n",
    "$$f^*(y) = y^T x - f(x)$$\n",
    "\n",
    "The desired result follows by taking the gradient of both sides w.r.t. $y$. That is:\n",
    "\n",
    "$$\\nabla f^*(y) = x$$\n",
    "\n",
    "The $\\impliedby$ direction is similar. We start from the assumption that $x = \\nabla f^*(y)$ and get the desired result by using the involution property $f^{**} = f$. \n",
    "\n",
    "## FL Duality\n",
    "\n",
    "As mentioned, the FL Transform has a natural role in duality.\n",
    "\n",
    "Suppose the unconstrained optimization problem is:\n",
    "\n",
    "$$\\min_x : f(x) + h(Ax)$$\n",
    "\n",
    "Where $f$ and $h$ are convex functions, and $A$ is a matrix representing a bounded linear transformation. \n",
    "\n",
    "We introduce a dummy variable $y$ and form the artificial constraint $y = Ax$. The problem becomes:\n",
    "\n",
    "$$\n",
    "\\begin{aligned} \n",
    "\\min_{x,y} &: f(x) + h(y) \\\\ \n",
    "s.t. &: Ax = y\n",
    "\\end{aligned}\n",
    "$$\n",
    "\n",
    "Forming the Lagrangian gives us:\n",
    "\n",
    "$$\\mathcal{L}(x,y,z) = f(x) + h(y) + z^T(Ax - y)$$\n",
    "\n",
    "Then, the dual function is the following FL Transform:\n",
    "\n",
    "$$\n",
    "\\begin{aligned}\n",
    "g(z) &= \\min_{x,y} \\mathcal{L}(x,y,z) \\\\\n",
    "&= \\min_{x,y} f(x) + h(y) + z^T(Ax - y) \\\\\n",
    "&= \\min_{x,y} (A^Tz)^Tx + f(x) - z^Ty + h(y) \\\\ \n",
    "&= \\min_x \\left\\{ (A^Tz)^Tx + f(x) \\right\\} + \\min_y \\left\\{ -z^Ty + h(y) \\right\\} \\\\\n",
    "&= \\min_x \\left\\{ -\\left((-A^Tz)^Tx - f(x)\\right) \\right\\} + \\min_y \\left\\{ -\\left(z^Ty - h(y)\\right) \\right\\} \\\\\n",
    "&= - \\max_x \\left\\{ (-A^Tz)^Tx - f(x) \\right\\} - \\max_y \\left\\{ z^Ty - h(y) \\right\\} \\\\\n",
    "&= - f^*(-A^Tz) - h^*(z)\n",
    "\\end{aligned}\n",
    "$$\n",
    "\n",
    "And, consequently, the dual problem is:\n",
    "\n",
    "$$\\max_z: - f^*(-A^Tz) - h^*(z)$$\n",
    "\n",
    "To convince ourselves of the utility of this dual, note that the dual is, indeed, an easier problem. This is because the negative of an FL Transform is always concave regardless of the convexity of $f$ and $h$. So, the dual problem is a maximization of a concave function which is, in general, an easy optimization problem."
   ]
  }
 ],
 "metadata": {
  "kernelspec": {
   "display_name": "Python 3",
   "language": "python",
   "name": "python3"
  },
  "language_info": {
   "codemirror_mode": {
    "name": "ipython",
    "version": 3
   },
   "file_extension": ".py",
   "mimetype": "text/x-python",
   "name": "python",
   "nbconvert_exporter": "python",
   "pygments_lexer": "ipython3",
   "version": "3.10.11"
  },
  "vscode": {
   "interpreter": {
    "hash": "738da52e2a2a06fb031664635ee32822f869b1d5a612459a8675ff8dab165116"
   }
  }
 },
 "nbformat": 4,
 "nbformat_minor": 5
}
