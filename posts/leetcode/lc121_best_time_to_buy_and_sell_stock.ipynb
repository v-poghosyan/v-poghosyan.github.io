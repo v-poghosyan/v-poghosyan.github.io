{
 "cells": [
  {
   "cell_type": "markdown",
   "metadata": {},
   "source": [
    "---\n",
    "title: \"LC121: Best Time to Buy and Sell Stock\"\n",
    "author: \"Vahram Poghosyan\"\n",
    "date: \"2024-05-23\"\n",
    "categories: [\"Leetcode\", \"Algorithms\", \"Dyanmic Progamming\"]\n",
    "format:\n",
    "  html:\n",
    "    code-fold: true\n",
    "jupyter: python3\n",
    "include-after-body:\n",
    "  text: |\n",
    "    <script type=\"application/javascript\" src=\"../../javascript/light-dark.js\"></script>\n",
    "---"
   ]
  },
  {
   "cell_type": "markdown",
   "metadata": {},
   "source": [
    "# Problem Statement\n",
    "\n",
    "We are given an array of `prices` where `prices[i]` is the price of a given stock on the `i`-th day.\n",
    "\n",
    "We want to maximize our profit by choosing a single day to buy one stock and choosing a different day in the future to sell that stock. Return the maximum profit you can achieve from this transaction. If you cannot achieve any profit, return `0`.\n",
    "\n",
    "**Example 1**\n",
    "\n",
    "```\n",
    "Input: prices = [7,1,5,3,6,4]\n",
    "Output: 5\n",
    "```\n",
    "\n",
    "**Explanation** \n",
    "\n",
    "Buy on day 2 (price = 1) and sell on day 5 (price = 6), profit = 6-1 = 5.\n",
    "Note that buying on day 2 and selling on day 1 is not allowed because you must buy before you sell\n",
    "\n",
    "**Example 2:**\n",
    "\n",
    "```\n",
    "Input: prices = [7,6,4,3,1]\n",
    "Output: 0\n",
    "```\n",
    "\n",
    "**Explanation** \n",
    "\n",
    "In this case, no transactions are done and the max profit = 0."
   ]
  },
  {
   "cell_type": "markdown",
   "metadata": {},
   "source": [
    "# Brute-Force Solution\n",
    "\n",
    "Consider each viable pair of days. It's easy to see that this leads to time complexity $O(n^2)$ because, for each possible day `i` that we choose to buy the stock on, there are $n-i$ possible days that we can sell it on. Since there are $n$ choices for which day to buy, the number of total pairs has a leading term of $n(n-1)$, so it's quadratic in $n$. \n",
    "\n",
    "We can also think of choosing a subset of size $2$ and discarding those which have a reverse order of days. This essentially means choosing a subset of size $2$ without order (since each pair is either in the correct order or not, and we only count the one that is), so ${O \\left ({n \\choose 2} \\right )}$ which is, of course, $O(n^2)$."
   ]
  },
  {
   "cell_type": "markdown",
   "metadata": {},
   "source": [
    "# Optimal Solution - DP \n",
    "\n",
    "We can solve this problem in a single pass, achieving $O(n)$ complexity by using DP with tabulation similar to [Kadane's algorithm](https://en.wikipedia.org/wiki/Maximum_subarray_problem#Kadane's_algorithm) which is explored, in detail, in this [post](./lc53_maximum_subarray.ipynb). In this one, we offer the solution and part of its **proof of correctness**. In the [Maximum Subarray post](./lc53_maximum_subarray.ipynb) we only go over the intuition behind the solution and do not offer proof. These two posts are meant to complement one another."
   ]
  },
  {
   "cell_type": "code",
   "execution_count": null,
   "metadata": {},
   "outputs": [],
   "source": [
    "#| code-false: false\n",
    "\n",
    "prices = [7,1,5,3,6,4]"
   ]
  },
  {
   "cell_type": "code",
   "execution_count": null,
   "metadata": {},
   "outputs": [
    {
     "name": "stdout",
     "output_type": "stream",
     "text": [
      "5\n"
     ]
    }
   ],
   "source": [
    "#| code-fold: false\n",
    "min_price = float(\"inf\")\n",
    "max_profit = 0 \n",
    "\n",
    "for i in range(len(prices)):\n",
    "    if prices[i] < min_price:\n",
    "        min_price = prices[i]\n",
    "    elif prices[i] - min_price > max_profit:\n",
    "        max_profit = prices[i] - min_price\n",
    "\n",
    "print(max_profit)"
   ]
  },
  {
   "cell_type": "markdown",
   "metadata": {},
   "source": [
    "# Proof of Correctness\n",
    "\n",
    "It's easy to see that, at the end of each iteration `k`, the variable `min_price` holds the lowest price dip in the stock up to, and including, the index `k`. The variable `min_price` is what's known as a **loop invariant**. Showing something is a loop invariant is a lot like proving the **inductive step** of a **proof by induction**.\n",
    "\n",
    "It can be shown that `max_profit` is yet another loop invariant, and that it holds the maximum profit up to, and including, the index `k`. This is the solution to the `k+1`-sized sub-problem (as index `0` corresponds to a size `1` sub-problem).  \n",
    "\n",
    "## Proof of Invariance of `max_profit`\n",
    "\n",
    "The loop above does one of only two things at some iteration `k`: either it updates `min_price` or it doesn't. These are, obviously, exclusive scenarios. \n",
    "\n",
    "Suppose it *doesn't* update `min_price` and let's label this case as **Case 1**. In this case `prices[k] > min_price`. The first loop invariant, `min_price` holds the lowest price dip up to, and including, the index `k` (we'll leave the proof of this to the reader). In this first case, the difference of `prices[k]` and `min_price` is calculated and `max_profit` is updated *if and only if* the difference is greater than the value of `max_profit` at the end of the previous iteration. This guarantees that `max_profit` still holds the maximum profit up to, and including, index `k` at the end of the current iteration. \n",
    "\n",
    "In the other opposite case (**Case 2**), when the loop *does* update `min_price` at the current iteration, it proceeds to the subsequent iteration with `max_profit` *still* holding the maximum profit up to, and including, only index `k` (not `k+1`). If `prices[k+1]` is, again, less than `min_price` (which is just `prices[k]` at that point) then the loop just goes on updating `min_price` until it encounters an uptick in the price. Note that if the prices just keep decreasing until the very end, then the proof is complete. Since the prices just keep decreasing monotonically, `max_profit` (which holds the answer up to index `k`) is actually the final answer -- The perfect time to sell, if the stock just keeps crashing after some index `k`, *would* be at index `k`. So, suppose we're in the interesting case when there is no monotonic crash till the very end. Then, at some future iteration corresponding to index `j` (where `j` > `k+2` because the `k+1`-th index which, by assumption, represents a price dip corresponds to iteration `k+2`), we have `prices[j] > min_price`. But notice that this puts us, again, in the familiar **Case 1** whereby `min_price` does get updated. We've already shown that `max_profit` holds the maximum profit up to, and including, the current index in that case.\n",
    "\n",
    "Hence, `max_profit` is a loop invariant in both of the cases above (which constitute the set of *all* possible cases). Therefore, at the last iteration of the loop, `max_profit` holds the maximum profit up to, and including, the last index `n-1` (for an `n`-sized problem). In other words, it holds the final solution."
   ]
  },
  {
   "cell_type": "markdown",
   "metadata": {
    "vscode": {
     "languageId": "markdown"
    }
   },
   "source": [
    "# Summary\n",
    "\n",
    "In this notebook, we explored the problem of finding the best time to buy and sell stock to maximize profit. We started with a brute-force solution that has a time complexity of \\(O(n^2)\\). Then, we offered an optimal solution using dynamic programming with a time complexity of \\(O(n)\\) without discussing the process of coming up with the algorithm (the intuition is discussed more extensively in the post on [Maximum Subarray](./lc53_maximum_subarray.ipynb)). The focus of this post was the proof of correctness of the optimal solution."
   ]
  }
 ],
 "metadata": {
  "kernelspec": {
   "display_name": "manim-sandbox",
   "language": "python",
   "name": "python3"
  },
  "language_info": {
   "codemirror_mode": {
    "name": "ipython",
    "version": 3
   },
   "file_extension": ".py",
   "mimetype": "text/x-python",
   "name": "python",
   "nbconvert_exporter": "python",
   "pygments_lexer": "ipython3",
   "version": "3.9.20"
  }
 },
 "nbformat": 4,
 "nbformat_minor": 2
}
