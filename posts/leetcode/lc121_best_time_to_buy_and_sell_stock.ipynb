{
 "cells": [
  {
   "cell_type": "markdown",
   "metadata": {},
   "source": [
    "---\n",
    "title: \"LC121 - Best Time to Buy and Sell Stock\"\n",
    "author: \"Vahram Poghosyan\"\n",
    "date: \"2022-01-23\"\n",
    "categories: [\"Leetcode\", \"Algorithms\"]\n",
    "image: \"leetcode.png\"\n",
    "format:\n",
    "  html:\n",
    "    code-fold: true\n",
    "jupyter: python3\n",
    "include-after-body:\n",
    "  text: |\n",
    "    <script type=\"application/javascript\" src=\"../../javascript/light-dark.js\"></script>\n",
    "---"
   ]
  },
  {
   "cell_type": "markdown",
   "metadata": {},
   "source": [
    "# Problem Statement\n",
    "\n",
    "We are given an array of `prices` where `prices[i]` is the price of a given stock on the `i`-th day.\n",
    "\n",
    "We want to maximize our profit by choosing a single day to buy one stock and choosing a different day in the future to sell that stock. Return the maximum profit you can achieve from this transaction. If you cannot achieve any profit, return `0`.\n",
    "\n",
    "**Example 1**\n",
    "\n",
    "```\n",
    "Input: prices = [7,1,5,3,6,4]\n",
    "Output: 5\n",
    "```\n",
    "\n",
    "**Explanation** \n",
    "\n",
    "Buy on day 2 (price = 1) and sell on day 5 (price = 6), profit = 6-1 = 5.\n",
    "Note that buying on day 2 and selling on day 1 is not allowed because you must buy before you sell\n",
    "\n",
    "**Example 2:**\n",
    "\n",
    "```\n",
    "Input: prices = [7,6,4,3,1]\n",
    "Output: 0\n",
    "```\n",
    "\n",
    "**Explanation** \n",
    "\n",
    "In this case, no transactions are done and the max profit = 0."
   ]
  },
  {
   "cell_type": "markdown",
   "metadata": {},
   "source": [
    "## Brute Force Solution\n",
    "\n",
    "Consider each viable pair of days. It's easy to see that this leads to time complexity $O(n^2)$ because, for each possible day `i` that we choose to buy the stock on, there are $n-i$ possible days that we can sell the stock on. Since there are $n$ choices for which day to buy the stock on, the number of total pairs has a leading term of $n(n-1)$, so is quadratic in $n$. \n",
    "\n",
    "We can also think of choosing a subset of size $2$ and discarding those which have a reverse order of days. This essentially means choosing a subset of size $2$ without order (since each pair is either in the correct order or not, and we only count the one that is), so ${O \\left ({n \\choose 2} \\right )}$ which is, of course,  $O(n^2)$."
   ]
  },
  {
   "cell_type": "markdown",
   "metadata": {},
   "source": [
    "## Non-Brute Solution\n",
    "\n",
    "We can solve this problem in a single pass, achieving $O(n)$ complexity by a variation on [Kadane's algorithm](https://en.wikipedia.org/wiki/Maximum_subarray_problem#Kadane's_algorithm). Whereas Kadane is concerned with the contiguous subarray with maximum sum, in our case we're interested in keeping track of maximum profit. We can easily generalize Kadane's algorithm by swapping out maximum sum with our own scoring function (maximum profit). Like Kadane's, we can also prove this aglorithm's correctness using *loop invariants*. Now for the solution.\n",
    "\n",
    "### Code"
   ]
  },
  {
   "cell_type": "code",
   "execution_count": 1,
   "metadata": {},
   "outputs": [
    {
     "name": "stdout",
     "output_type": "stream",
     "text": [
      "5\n"
     ]
    }
   ],
   "source": [
    "#| code-fold: false\n",
    "def maxProfit(prices):\n",
    "    min_price = float(\"inf\") # +infinity\n",
    "    max_profit = 0 \n",
    "\n",
    "    for i in range(len(prices)):\n",
    "        if prices[i] < min_price:\n",
    "            min_price = prices[i]\n",
    "        elif prices[i] - min_price > max_profit:\n",
    "            max_profit = prices[i] - min_price\n",
    "\n",
    "    return max_profit\n",
    "\n",
    "prices = [7,1,5,3,6,4]\n",
    "print(maxProfit(prices))"
   ]
  },
  {
   "cell_type": "markdown",
   "metadata": {},
   "source": [
    "## Proof of Correctness\n",
    "\n",
    "It's easy to see that, at the end of each iteration `i`, the variable `min_price` holds the lowest price dip in the stock up to, and including, the index `i`. This is called a loop invariant. Showing something is a loop invariant is a lot like proving the *inductive step* in a proof by induction (for example, when proving with recursive algorithms).\n",
    "\n",
    "It can also be shown that `max_profit` is another loop invariant, and that it holds the maximum profit up to, and including, the index `i`. \n",
    "\n",
    "### Proof of Invariance\n",
    "\n",
    "The loop does one of two things exclusively: either it updates `min_price` or it doesn't. \n",
    "\n",
    "Suppose it *doesn't* update `min_price` (**case 1**). The first loop invariant, `min_price` holds the lowest price dip up to, and including, the index `i`. In this case, the difference of `prices[i]` and `min_price` is then calculated and `max_profit` is updated *only* if the difference is greater than the `max_profit` at the end of the previous iteration (iteration `i-1`). This guarantees that `max_profit` holds the maximum profit up to, and including, the index `i`. \n",
    "\n",
    "In the other case (**case 2**), when the loop *does* update `min_price]` at iteration `i`, it enters the subsequent iteration `i+1` with `max_profit` still holding the maximum profit up to, and including, index `i` (at the beginning of the iteration). If `prices[i+1]` is, again, less than `min_price` then the loop just goes on updating `min_price` *only* until it encounters the lowest price dip (unless the price keeps dipping until the very end, in which case the proof is complete). At this iteration of the loop, let's call it `k+1`, `max_profit` still holds the maximum profit up to, and including, index `k` (because there have just been consecutive dips in price since index `i`). Since `prices[k+1]` is the lowest price dip, by assumption, in the next iteration we are necessarily in the familiar again (**case 1**). Hence, `max_profit` is a loop invariant. \n",
    "\n",
    "Therefore, once the loop is finished, `max_profit` will hold the maximum profit up to, and including, the last index `n`. In other words, it will hold the solution to the problem. "
   ]
  },
  {
   "cell_type": "markdown",
   "metadata": {},
   "source": []
  },
  {
   "cell_type": "markdown",
   "metadata": {},
   "source": []
  }
 ],
 "metadata": {
  "kernelspec": {
   "display_name": "personal_blog",
   "language": "python",
   "name": "python3"
  },
  "language_info": {
   "codemirror_mode": {
    "name": "ipython",
    "version": 3
   },
   "file_extension": ".py",
   "mimetype": "text/x-python",
   "name": "python",
   "nbconvert_exporter": "python",
   "pygments_lexer": "ipython3",
   "version": "3.11.5"
  }
 },
 "nbformat": 4,
 "nbformat_minor": 2
}
