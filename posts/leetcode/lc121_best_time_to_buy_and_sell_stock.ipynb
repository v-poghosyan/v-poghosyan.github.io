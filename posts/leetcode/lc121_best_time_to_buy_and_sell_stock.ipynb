{
 "cells": [
  {
   "cell_type": "markdown",
   "metadata": {},
   "source": [
    "---\n",
    "title: \"LC121: Best Time to Buy and Sell Stock\"\n",
    "author: \"Vahram Poghosyan\"\n",
    "date: \"2024-05-23\"\n",
    "categories: [\"Leetcode\", \"Algorithms\", \"Dyanmic Progamming\"]\n",
    "format:\n",
    "  html:\n",
    "    code-fold: true\n",
    "jupyter: python3\n",
    "include-after-body:\n",
    "  text: |\n",
    "    <script type=\"application/javascript\" src=\"../../javascript/light-dark.js\"></script>\n",
    "---"
   ]
  },
  {
   "cell_type": "markdown",
   "metadata": {},
   "source": [
    "# Problem Statement\n",
    "\n",
    "We are given an array of `prices` where `prices[i]` is the price of a given stock on the `i`-th day.\n",
    "\n",
    "We want to maximize our profit by choosing a single day to buy one stock and choosing a different day in the future to sell that stock. Return the maximum profit you can achieve from this transaction. If you cannot achieve any profit, return `0`.\n",
    "\n",
    "**Example 1**\n",
    "\n",
    "```\n",
    "Input: prices = [7,1,5,3,6,4]\n",
    "Output: 5\n",
    "```\n",
    "\n",
    "**Explanation** \n",
    "\n",
    "Buy on day 2 (price = 1) and sell on day 5 (price = 6), profit = 6-1 = 5.\n",
    "Note that buying on day 2 and selling on day 1 is not allowed because you must buy before you sell\n",
    "\n",
    "**Example 2:**\n",
    "\n",
    "```\n",
    "Input: prices = [7,6,4,3,1]\n",
    "Output: 0\n",
    "```\n",
    "\n",
    "**Explanation** \n",
    "\n",
    "In this case, no transactions are done and the max profit = 0."
   ]
  },
  {
   "cell_type": "markdown",
   "metadata": {},
   "source": [
    "# Brute-Force Solution\n",
    "\n",
    "Consider each viable pair of days. It's easy to see that this leads to time complexity $O(n^2)$ because, for each possible day `i` that we choose to buy the stock on, there are $n-i$ possible days that we can sell it on. Since there are $n$ choices for which day to buy, the number of total pairs has a leading term of $n(n-1)$, so it's quadratic in $n$. \n",
    "\n",
    "We can also think of choosing a subset of size $2$ and discarding those which have a reverse order of days. This essentially means choosing a subset of size $2$ without order (since each pair is either in the correct order or not, and we only count the one that is), so ${O \\left ({n \\choose 2} \\right )}$ which is, of course, $O(n^2)$."
   ]
  },
  {
   "cell_type": "markdown",
   "metadata": {},
   "source": [
    "# Better Solutions\n",
    "\n",
    "We can solve this problem in a single pass, achieving $O(n)$ complexity by using DP with tabulation similar to [Kadane's algorithm](https://en.wikipedia.org/wiki/Maximum_subarray_problem#Kadane's_algorithm) which is explored, in detail, in this [post](./lc53_maximum_subarray.ipynb). These posts are meant to complement each other. In this one, we simply offer the solution and its **proof of correctness**. In the [Maximum Subarray post](./lc53_maximum_subarray.ipynb) we go over coming up with the DP solution in detail.   \n",
    "\n",
    "## Solution - DP with Tabulation"
   ]
  },
  {
   "cell_type": "code",
   "execution_count": null,
   "metadata": {},
   "outputs": [],
   "source": [
    "#| code-false: false\n",
    "\n",
    "prices = [7,1,5,3,6,4]"
   ]
  },
  {
   "cell_type": "code",
   "execution_count": null,
   "metadata": {},
   "outputs": [
    {
     "name": "stdout",
     "output_type": "stream",
     "text": [
      "5\n"
     ]
    }
   ],
   "source": [
    "#| code-fold: false\n",
    "min_price = float(\"inf\") # +infinity\n",
    "max_profit = 0 \n",
    "\n",
    "for i in range(len(prices)):\n",
    "    if prices[i] < min_price:\n",
    "        min_price = prices[i]\n",
    "    elif prices[i] - min_price > max_profit:\n",
    "        max_profit = prices[i] - min_price\n",
    "\n",
    "print(max_profit)"
   ]
  },
  {
   "cell_type": "markdown",
   "metadata": {},
   "source": [
    "# Proof of Correctness\n",
    "\n",
    "It's easy to see that, at the end of each iteration `k`, the variable `min_price` holds the lowest price dip in the stock up to, and including, the index `k`. The variable `min_price` is what's known as a **loop invariant**. Showing something is a loop invariant is a lot like proving the **inductive step** of a **proof by induction**.\n",
    "\n",
    "It can be shown that `max_profit` is yet another loop invariant, and that it holds the maximum profit up to, and including, the index `k`. This is the solution to the `k`-sized sub-problem.  \n",
    "\n",
    "## Proof of Invariance of `max_profit`\n",
    "\n",
    "The loop above does one of only two things: either it updates `min_price` or it doesn't. These are, obviously, exclusive scenarios. \n",
    "\n",
    "Suppose it *doesn't* update `min_price` and let's label this case as (**case 1**). The first loop invariant, `min_price` holds the lowest price dip up to, and including, the index `k`. In this case, the difference of `prices[k]` and `min_price` is then calculated and `max_profit` is updated *if and only if* the difference is greater than the value of `max_profit` at the end of the previous iteration (iteration `k-1`). This guarantees that `max_profit` holds the maximum profit up to, and including, index `k`. \n",
    "\n",
    "In the other case (**case 2**), when the loop *does* update `min_price]` at iteration `k`, it proceeds to the subsequent iteration `k+1` with `max_profit` still holding the maximum profit up to, and including, index `k` (at the start of the iteration). If `prices[k+1]` is, again, less than `min_price` then the loop just goes on updating `min_price` until it encounters the lowest price dip (if the price keeps dipping until the very end, then the proof is complete). At the current, `k+1`-th iteration of the loop, `max_profit` still holds the maximum profit up to, and including, index `k`. This is because there's been a consecutive dip in prices since index `k`. Since `prices[k+1]` is the lowest price dip so far, by assumption, in the next iteration, `k+2`, we are necessarily in the familiar (**case 1**) again. Hence, `max_profit` is a loop invariant. \n",
    "\n",
    "Therefore, once the loop is finished, `max_profit` will hold the maximum profit up to, and including, the last index `n` (for some `n`-sized problem). In other words, it will hold the final solution."
   ]
  }
 ],
 "metadata": {
  "kernelspec": {
   "display_name": "manim-sandbox",
   "language": "python",
   "name": "python3"
  },
  "language_info": {
   "codemirror_mode": {
    "name": "ipython",
    "version": 3
   },
   "file_extension": ".py",
   "mimetype": "text/x-python",
   "name": "python",
   "nbconvert_exporter": "python",
   "pygments_lexer": "ipython3",
   "version": "3.9.20"
  }
 },
 "nbformat": 4,
 "nbformat_minor": 2
}
