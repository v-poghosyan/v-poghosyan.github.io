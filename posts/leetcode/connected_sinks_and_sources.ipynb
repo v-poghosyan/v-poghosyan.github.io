{
 "cells": [
  {
   "cell_type": "markdown",
   "metadata": {},
   "source": [
    "---\n",
    "title: \"Connected Sinks and Sources\"\n",
    "author: \"Vahram Poghosyan\"\n",
    "date: \"2022-01-23\"\n",
    "categories: [\"Leetcode\", \"Algorithms\", \"Data Structures\"]\n",
    "image: \"leetcode.png\"\n",
    "format:\n",
    "  html:\n",
    "    code-fold: true\n",
    "jupyter: python3\n",
    "include-after-body:\n",
    "  text: |\n",
    "    <script type=\"application/javascript\" src=\"../../javascript/light-dark.js\"></script>\n",
    "---"
   ]
  },
  {
   "cell_type": "markdown",
   "metadata": {},
   "source": [
    "# Connected Sinks and Sources\n",
    "\n",
    "## Problem Statement\n",
    "\n",
    "We are given a pipe system represented by a 2D rectangular grid of cells. There are three different types of items located in the cells within the grid, with each having either no Items or 1 Item:\n",
    "\n",
    "* **Source:** There is 1 source in the system. It is represented by the asterisk character `*`.\n",
    "* **Sinks:** There are an arbitrary number of sinks in the system. They are each represented by a different uppercase letter (`A`, `B`, `C`, etc.).\n",
    "* **Pipes:** There are 10 different shapes of pipes, represented by the following characters: `═`, `║`, `╔`, `╗`, `╚`, `╝`, `╠`, `╣`, `╦`, `╩`\n",
    "\n",
    "Note that: \n",
    "\n",
    "* Each pipe has openings on 2 or 3 sides of its cell.\n",
    "* Two adjacent cells are connected if both have a pipe opening at their shared edge.\n",
    "* We should treat the source and sinks as having pipe openings at all of their edges. For example, the two cells `A╦` are connected through their shared edge, but the two cells `B╔` are not.\n",
    "* A sink may be connected to the source through another sink. For example, in the simple pipe system `*A═B=C`, all three sinks are connected to the source.\n",
    "\n",
    "Our objective is to write a function that determines which sinks are connected to the source in a given pipe system.\n",
    "\n",
    "As an example, consider the following pipe system:\n",
    "\n",
    "```\n",
    "*╗ ╦═A\n",
    " ╠═╝\n",
    " C ╚═B\n",
    "```\n",
    "In this pipe system, the source `*` is connected to sinks `A` and `C` but not `B`.\n",
    "\n",
    "Such a system is specified by an input text file in the following format.\n",
    "\n",
    "```\n",
    "*02\n",
    "C10\n",
    "╠11\n",
    "╗12\n",
    "═21\n",
    "╚30\n",
    "╝31\n",
    "╦32\n",
    "═40\n",
    "═42\n",
    "B50\n",
    "A52\n",
    "```\n",
    "\n",
    "Note that each item is followed by its coordinate (the origin of the coordinate system is taken to be the lower left corner (`0`,`0`) corresponding to an empty space in this system)."
   ]
  },
  {
   "cell_type": "markdown",
   "metadata": {},
   "source": [
    "## Black-Boxing The Solution\n",
    "\n",
    "Let's define the inputs and outputs of this program.\n",
    "\n",
    "* **Input:** File path as a string\n",
    "* **Output:** The sinks connected to the source as a string\n",
    "\n",
    "For example, for the given pipe system in the example, the solution should be `AC`.\n",
    "\n",
    "Let's define a black box:"
   ]
  },
  {
   "cell_type": "code",
   "execution_count": 1,
   "metadata": {},
   "outputs": [],
   "source": [
    "#| code-fold: false\n",
    "def get_connected_sinks(filePath: str) -> str | None:\n",
    "    \"\"\"\n",
    "    Returns sinks connected to the source.\n",
    "\n",
    "    Parameters:\n",
    "    - filePath (str): Path to the input file which describes the pipe system.\n",
    "\n",
    "    Returns:\n",
    "    - str: A string containing the connected sinks,\n",
    "    \"\"\"\n",
    "    pass\n"
   ]
  },
  {
   "cell_type": "markdown",
   "metadata": {},
   "source": [
    "In the black box above, we use the union operator `|` to allow the function to return `None` (so that we don't have to worry about the implementation and return value for this black box implementation).\n",
    "\n",
    "Now that we have `get_connected_sinks` which takes the input file path as `filePath`, we can start thinking about what this function should do. Here's a broad breakdown of the function.\n",
    "\n",
    "1. Load the text file\n",
    "2. Parse the input\n",
    "3. Using parsed input, determine which sinks are connected to the source and return the answer\n",
    "\n",
    "Not that step 3 is already black-boxed by `get_connected_sinks`.\n",
    "\n",
    "Let's create sub-functions for each of the remaining tasks:\n",
    "\n",
    "1. `load_file`: should read the file (as a string or a related representation) into the program\n",
    "2. `parse_input`: should return a programmatic representation of the pipe system \n",
    "\n",
    "We can write `load_file` without much deliberation, as it'll just be a simple wrapper for [file.readLines](https://docs.python.org/3/tutorial/inputoutput.html#methods-of-file-objects) which returns an array of strings, each containing one line from the file. "
   ]
  },
  {
   "cell_type": "code",
   "execution_count": 2,
   "metadata": {},
   "outputs": [],
   "source": [
    "#| code-fold: false\n",
    "def load_file(filePath: str) -> list[str]:\n",
    "    \"\"\"\n",
    "    Loads the input file and returns the contents as a list of strings.\n",
    "\n",
    "    Parameters:\n",
    "    - filePath (str): Path to the input file which describes the pipe system.\n",
    "\n",
    "    Returns:\n",
    "    - list: A list of strings containing the contents of the input file.\n",
    "    \"\"\"\n",
    "\n",
    "    with open(filePath, 'r') as file:\n",
    "        return file.readlines()"
   ]
  },
  {
   "cell_type": "markdown",
   "metadata": {},
   "source": [
    "::: {.callout-tip title=\"Note\" appearance=\"minimal\" collapse=\"false\"}\n",
    "We use the keyword `with` rather than `try`-`finally` to leverage built in file IO safety features.\n",
    ":::\n",
    "\n",
    "Let's save the output of `load_file` as the `input` we'll provide to `parse_input`. Running `load_file` for the example file above gives:"
   ]
  },
  {
   "cell_type": "code",
   "execution_count": 3,
   "metadata": {},
   "outputs": [
    {
     "name": "stdout",
     "output_type": "stream",
     "text": [
      "['*02\\n', 'C10\\n', '╠11\\n', '╗12\\n', '═21\\n', '╚30\\n', '╝31\\n', '╦32\\n', '═40\\n', '═42\\n', 'B50\\n', 'A52']\n"
     ]
    }
   ],
   "source": [
    "#| code-fold: false\n",
    "input = load_file(\"./problem_assets/connected_sinks_and_sources/example.txt\")\n",
    "print(input)"
   ]
  },
  {
   "cell_type": "markdown",
   "metadata": {},
   "source": [
    "As we can see the lines include the newline character, let's clean up `input` by using `map` and [rstrip](https://docs.python.org/3/library/stdtypes.html#str.rstrip).  "
   ]
  },
  {
   "cell_type": "code",
   "execution_count": 4,
   "metadata": {},
   "outputs": [
    {
     "name": "stdout",
     "output_type": "stream",
     "text": [
      "['*02', 'C10', '╠11', '╗12', '═21', '╚30', '╝31', '╦32', '═40', '═42', 'B50', 'A52']\n"
     ]
    }
   ],
   "source": [
    "#| code-fold: false\n",
    "input = list(map(lambda x: x.rstrip(\"\\n\"), input))\n",
    "print(input)"
   ]
  },
  {
   "cell_type": "markdown",
   "metadata": {},
   "source": [
    "::: {.callout-tip title=\"Note\" appearance=\"minimal\" collapse=\"false\"}\n",
    "Note that we need to use `list` with `map` because Python 3's `map` works by *lazy* as opposed to *strict* evaluation (which means that the Python interpreter only evaluates values one at a time, as opposed to all at once which is the case when evaluating a simple expression like, say, `sum=1+2`)\n",
    ":::"
   ]
  },
  {
   "cell_type": "markdown",
   "metadata": {},
   "source": [
    "But we're still dealing with simple string representations. That means it's not immediately clear how to obtain the **open edges** of, say, the `╚` character programmatically (much less). Let's parse this list down into a data structure we will call `Item`.\n",
    "\n",
    "`Item` will have Boolean instance variables:\n",
    "\n",
    "* `left`\n",
    "* `right`\n",
    "* `top`\n",
    "* `down`\n",
    "\n",
    "Which will indicate whether the corresponding edge is open or closed (`True` or `False` respectively).\n",
    "\n",
    "It will also have instance variables `x` and `y` for the item's coordinates. An additional `type` instance variable with possible values in $\\{$`Source`,`Pipe`,`Sink`$\\}$ may be helpful for checking terminal conditions."
   ]
  },
  {
   "cell_type": "code",
   "execution_count": 28,
   "metadata": {},
   "outputs": [],
   "source": [
    "#| code-fold: false\n",
    "class Item:\n",
    "    def __init__(\n",
    "            self, type: str = \"Pipe\", \n",
    "            edges: list[bool] = [True, True, True, True], \n",
    "            coords: list[int] = [0,0]\n",
    "        ):\n",
    "        self.type = type\n",
    "        self.edges = edges\n",
    "        self.coords = coords\n",
    "    \n",
    "    def __repr__(self): # String representation of object for logging\n",
    "        return (f\"-----{type(self).__name__}-----\\n\"\n",
    "                f\"  type: {self.type}\\n\"\n",
    "                f\"  edges: {self.edges}\\n\"\n",
    "                f\"  coordinates: {self.coords}\\n\")"
   ]
  },
  {
   "cell_type": "markdown",
   "metadata": {},
   "source": [
    "Unfortunately, there's no way to get around the hard-coding of the ASCII pipe to `Item` mappings without adding unmerited complexity to the problem.\n",
    "\n",
    "Here's an implementation of `mapToItems` with the hard-coding mentioned above. Feel free to expand and examine the implementation (at your own peril)."
   ]
  },
  {
   "cell_type": "code",
   "execution_count": 29,
   "metadata": {},
   "outputs": [],
   "source": [
    "def map_to_items(input: list[str]) -> list[Item]: # Converts the input to a list of Items\n",
    "    def to_item(line: str) -> Item: # Converts a single line in the input to an Item\n",
    "        objectToReturn = Item()\n",
    "        objectToReturn.coords = line[1:] # The coordinates are the rest of the line\n",
    "        objectToReturn.edges = [True, True, True, True]\n",
    "        match line[0]: # Match the first character of the line to determine the type of object\n",
    "            case \"*\":\n",
    "                # The default object is a Pipe at coordinates (0,0), so nothing else needs tp be done...\n",
    "                objectToReturn.type = \"Source\"\n",
    "            case \"═\":\n",
    "                # Note: edges are ordered [top, right, down, left]\n",
    "                objectToReturn.edges[0] = False\n",
    "                objectToReturn.edges[2] = False\n",
    "            case \"║\":\n",
    "                objectToReturn.edges[1] = False\n",
    "                objectToReturn.edges[3] = False\n",
    "            case \"╔\":\n",
    "                objectToReturn.edges[0] = False\n",
    "                objectToReturn.edges[3] = False\n",
    "            case \"╗\":\n",
    "                objectToReturn.edges[0] = False\n",
    "                objectToReturn.edges[1] = False\n",
    "            case \"╚\":\n",
    "                objectToReturn.edges[2] = False\n",
    "                objectToReturn.edges[3] = False\n",
    "            case \"╝\":\n",
    "                objectToReturn.edges[2] = False\n",
    "                objectToReturn.edges[1] = False\n",
    "            case \"╠\":\n",
    "                objectToReturn.edges[3] = False\n",
    "            case \"╣\":\n",
    "                objectToReturn.edges[1] = False\n",
    "            case \"╦\":\n",
    "                objectToReturn.edges[0] = False\n",
    "            case \"╩\":\n",
    "                objectToReturn.edges[2] = False\n",
    "            case other: # The case of a Sink\n",
    "                if not other.isalpha(): # Check if the first character is a letter at all...\n",
    "                    raise ValueError(\"The first character of a Sink must be a letter.\")\n",
    "                objectToReturn.type = \"Sink\"\n",
    "        return objectToReturn\n",
    "            \n",
    "    return list(map(to_item, input))"
   ]
  },
  {
   "cell_type": "markdown",
   "metadata": {},
   "source": [
    "Let's run input through `mapToItems` to obtain our programmatic representation of the pipe system. We show only the first five from the output in the interest of brevity."
   ]
  },
  {
   "cell_type": "code",
   "execution_count": 30,
   "metadata": {},
   "outputs": [
    {
     "name": "stdout",
     "output_type": "stream",
     "text": [
      "-----Item-----\n",
      "  type: Source\n",
      "  edges: [True, True, True, True]\n",
      "  coordinates: 02\n",
      "\n",
      "-----Item-----\n",
      "  type: Sink\n",
      "  edges: [True, True, True, True]\n",
      "  coordinates: 10\n",
      "\n",
      "-----Item-----\n",
      "  type: Pipe\n",
      "  edges: [True, True, True, False]\n",
      "  coordinates: 11\n",
      "\n",
      "-----Item-----\n",
      "  type: Pipe\n",
      "  edges: [False, False, True, True]\n",
      "  coordinates: 12\n",
      "\n",
      "-----Item-----\n",
      "  type: Pipe\n",
      "  edges: [False, True, False, True]\n",
      "  coordinates: 21\n",
      "\n"
     ]
    }
   ],
   "source": [
    "#| code-fold: false\n",
    "parsed_input = map_to_items(input)\n",
    "for obj in parsed_input[:5]:\n",
    "    print(obj)"
   ]
  },
  {
   "cell_type": "markdown",
   "metadata": {},
   "source": [
    "## Path Finding (DFS)\n",
    "\n",
    "This is a path finding problem, so we're likely going to use either BFS or DFS. Since it's far easier to represent the given data as a 2D array, we will implement the iterative version of whichever traversal algorithm we end up choosing, as the recursive version is better suited for the case in which the data is easier to represent as a graph.\n",
    "\n",
    "Here's the graph representation of the pipe system above, for equivalency's sake (although we won't be using graphs).\n",
    "\n",
    "```{mermaid}\n",
    "   graph TD;\n",
    "      A[\"*02\"] --> B[\"╗12\"];\n",
    "      B-->C[\"╠11\"];\n",
    "      C-->D[\"C10\"];\n",
    "      C-->E[\"═21\"]\n",
    "      E-->F[\"╝31\"]\n",
    "      F-->G[\"╦32\"]\n",
    "      G-->H[\"═42\"]\n",
    "      H-->K[\"A\"]\n",
    "      L[\"╚30\"]-->M[\"═40\"]\n",
    "      M-->N[\"B\"]\n",
    "```\n",
    "\n",
    "<br></br>\n",
    "\n",
    "So we have two disjoint acyclic graphs representing the example pipe system above. Ignore the edge directions ([Mermaid](https://mermaid.js.org/intro/) doesn't provide a way to make undirected graphs to my knowledge). This graph will be undirected, as connectedness is a symmetric relationship: i.e. if an item is connected to another, like in the pipe system `═╦`, then the other item is certainly also connected to the first. \n",
    "\n",
    "In general, because BFS traverses a graph one level at a time, we tend to use BFS when looking for the shortest path between two nodes. The first time BFS lands on the target node constitutes the shortest path to that node (or one of the multiple such paths if it's a tie between paths). DFS is better suited for just finding a *valid* path, or *all* valid paths (in which case we could throw in backtracking as well). Since we're interested in a valid path between the source `*` and *any* given sink, and not necessarily the shortest such path, we use DFS (possibly with backtracking) for this problem.\n",
    "\n",
    "Note that BFS can, just as easily, be implemented on a 2D array as on a graph (graphs are nothing more, really, than [adjacency lists](https://en.wikipedia.org/wiki/Adjacency_list)). So, let's see how to implement DFS on a 2D array. But before that, let's expand the given input into a 2D array of `Items`.\n"
   ]
  },
  {
   "cell_type": "code",
   "execution_count": null,
   "metadata": {},
   "outputs": [],
   "source": [
    "class PipeSystem:\n",
    "    def __init__(self):\n",
    "        pass\n",
    "\n",
    "\n",
    "def parse_input(input: list[str]) -> PipeSystem:\n",
    "    \"\"\"\n",
    "    Parses the input and returns the connected sinks.\n",
    "\n",
    "    Parameters:\n",
    "    - input (list): A list of strings containing the contents of the input file.\n",
    "\n",
    "    Returns:\n",
    "    - str: A string containing the connected sinks.\n",
    "    \"\"\"\n",
    "    pass"
   ]
  },
  {
   "cell_type": "markdown",
   "metadata": {},
   "source": []
  },
  {
   "cell_type": "markdown",
   "metadata": {},
   "source": []
  }
 ],
 "metadata": {
  "kernelspec": {
   "display_name": "personal_blog",
   "language": "python",
   "name": "python3"
  },
  "language_info": {
   "codemirror_mode": {
    "name": "ipython",
    "version": 3
   },
   "file_extension": ".py",
   "mimetype": "text/x-python",
   "name": "python",
   "nbconvert_exporter": "python",
   "pygments_lexer": "ipython3",
   "version": "3.11.5"
  }
 },
 "nbformat": 4,
 "nbformat_minor": 2
}
