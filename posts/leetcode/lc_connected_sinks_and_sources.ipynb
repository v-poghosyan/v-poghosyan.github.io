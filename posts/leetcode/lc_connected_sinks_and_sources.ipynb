{
 "cells": [
  {
   "cell_type": "markdown",
   "metadata": {},
   "source": [
    "---\n",
    "title: \"LC: Connected Sinks and Sources\"\n",
    "author: \"Vahram Poghosyan\"\n",
    "date: \"2022-01-23\"\n",
    "categories: [\"Leetcode\", \"Algorithms\", \"Data Structures\", \"DFS\"]\n",
    "format:\n",
    "  html:\n",
    "    code-fold: true\n",
    "jupyter: python3\n",
    "include-after-body:\n",
    "  text: |\n",
    "    <script type=\"application/javascript\" src=\"../../javascript/light-dark.js\"></script>\n",
    "---"
   ]
  },
  {
   "cell_type": "markdown",
   "metadata": {},
   "source": [
    "## Problem statement\n",
    "\n",
    "We are given a pipe system represented by a 2D rectangular grid of cells. There are three different types of items located in the cells within the grid, with each having either no items or 1 item:\n",
    "\n",
    "* **Source:** There is 1 source in the system. It is represented by the asterisk character `*`.\n",
    "* **Sinks:** There are an arbitrary number of sinks in the system. They are each represented by a different uppercase letter (`A`, `B`, `C`, etc.).\n",
    "* **Pipes:** There are 10 different shapes of pipes, represented by the following characters: `═`, `║`, `╔`, `╗`, `╚`, `╝`, `╠`, `╣`, `╦`, `╩`\n",
    "\n",
    "Note that: \n",
    "\n",
    "* Each pipe has openings on 2 or 3 sides of its cell.\n",
    "* Two adjacent cells are connected if both have a pipe opening at their shared edge.\n",
    "* We should treat the source and sinks as having pipe openings at all of their edges. For example, the two cells `A╦` are connected through their shared edge, but the two cells `B╔` are not.\n",
    "* A sink may be connected to the source through another sink. For example, in the simple pipe system `*A═B═C`, all three sinks are connected to the source.\n",
    "\n",
    "Our objective is to write a function that determines which sinks are connected to the source in a given pipe system.\n",
    "\n",
    "As an example, consider the following pipe system. \n",
    "\n",
    "**Formatted input**\n",
    "\n",
    "```\n",
    "*╗ ╦═A\n",
    " ╠═╝\n",
    " C ╚═B\n",
    "```\n",
    "In this pipe system, the source `*` is connected to sinks `A` and `C` but not `B`.\n",
    "\n",
    "A system is specified by an input text file in the following un-formated way.\n",
    "\n",
    "**Unformatted input**\n",
    "\n",
    "```\n",
    "*02\n",
    "C10\n",
    "╠11\n",
    "╗12\n",
    "═21\n",
    "╚30\n",
    "╝31\n",
    "╦32\n",
    "═40\n",
    "═42\n",
    "B50\n",
    "A52\n",
    "```\n",
    "\n",
    "Note that each item is followed by its coordinate in the grid (the origin of the coordinate system is taken to be the lower left corner (`0`,`0`) corresponding to an empty space in this system)."
   ]
  },
  {
   "cell_type": "markdown",
   "metadata": {},
   "source": [
    "## Solution\n",
    "\n",
    "### Parsing the input\n",
    "\n",
    "Let's define a function `load_file` that loads the input file and returns the contents as a list of strings."
   ]
  },
  {
   "cell_type": "code",
   "execution_count": null,
   "metadata": {},
   "outputs": [],
   "source": [
    "#| code-fold: false\n",
    "def load_file(filePath: str) -> list[str]:\n",
    "    with open(filePath, 'r') as file:\n",
    "        return file.readlines()"
   ]
  },
  {
   "cell_type": "markdown",
   "metadata": {},
   "source": [
    "::: {.callout-tip title=\"Note\" appearance=\"minimal\" collapse=\"false\"}\n",
    "We use the keyword `with` rather than `try`-`finally` to leverage built in Python file IO safety features.\n",
    ":::\n",
    "\n",
    "Let's save the output of `load_file` as the `input` we'll provide to `parse_input` (a function we'll define later). Running `load_file` for the example file above obtains:"
   ]
  },
  {
   "cell_type": "code",
   "execution_count": null,
   "metadata": {},
   "outputs": [
    {
     "name": "stdout",
     "output_type": "stream",
     "text": [
      "['*02\\n', 'C10\\n', '╠11\\n', '╗12\\n', '═21\\n']\n"
     ]
    }
   ],
   "source": [
    "#| code-fold: false\n",
    "input = load_file(\"./problem_assets/connected_sinks_and_sources/example1.txt\")\n",
    "print(input[:5]) # Printing only the five leading entries of the input for brevity"
   ]
  },
  {
   "cell_type": "markdown",
   "metadata": {},
   "source": [
    "As we can see the lines include the newline character, We can further clean up `input` by using `map` and [rstrip](https://docs.python.org/3/library/stdtypes.html#str.rstrip) which strips the right-end of each line of any undesired characters. We can modify the definition of `load_file` to return the cleaned up input."
   ]
  },
  {
   "cell_type": "code",
   "execution_count": null,
   "metadata": {},
   "outputs": [],
   "source": [
    "#| code-fold: false\n",
    "def load_file(filePath: str) -> list[str]:\n",
    "    with open(filePath, 'r') as file:\n",
    "        return [line.rstrip(\"\\n\") for line in file.readlines()]"
   ]
  },
  {
   "cell_type": "markdown",
   "metadata": {},
   "source": [
    "Let's run this re-defined `load_file` for the example file again to see the difference."
   ]
  },
  {
   "cell_type": "code",
   "execution_count": null,
   "metadata": {},
   "outputs": [
    {
     "name": "stdout",
     "output_type": "stream",
     "text": [
      "['*02', 'C10', '╠11', '╗12', '═21']\n"
     ]
    }
   ],
   "source": [
    "#| code-fold: false\n",
    "input_ex1 = load_file(\"./problem_assets/connected_sinks_and_sources/example1.txt\")\n",
    "print(input_ex1[:5])"
   ]
  },
  {
   "cell_type": "markdown",
   "metadata": {},
   "source": [
    "### Defining an `Item` object\n",
    "\n",
    "But we're still dealing with simple string representations... That means it's not immediately clear how to obtain the **open edges** of, say, the `╚` character programmatically. Let's parse this list down into a data structure we will call `Item`.\n",
    "\n",
    "`Item` will have Boolean instance variables:\n",
    "\n",
    "* `left`\n",
    "* `right`\n",
    "* `top`\n",
    "* `bottom`\n",
    "\n",
    "Which will indicate whether the corresponding edge is open or closed (`True` or `False` respectively).\n",
    "\n",
    "It will also have instance variables `x` and `y` for the item's coordinates. An additional `type` instance variable with possible values in $\\{$`Source`,`Pipe`,`Sink`$\\}$. This may be helpful for checking edge conditions later on.\n",
    "\n",
    "Here's the implementation of the `Item` class. Since it's quite long and trivial, I've collapsed the definition. Feel free to expand and examine...\n"
   ]
  },
  {
   "cell_type": "code",
   "execution_count": null,
   "metadata": {},
   "outputs": [],
   "source": [
    "class Item:\n",
    "    def __init__(\n",
    "            self, \n",
    "            type: str = \"Source\",\n",
    "            ascii: str = \"*\",\n",
    "            coords: tuple[int, int] = (0,0),\n",
    "            left: bool = True,\n",
    "            right: bool = True,\n",
    "            top: bool = True,\n",
    "            bottom: bool = True,\n",
    "        ):\n",
    "        self.type = type\n",
    "        self.ascii = ascii\n",
    "        self.coords = coords\n",
    "        self.left = left\n",
    "        self.right = right\n",
    "        self.top = top\n",
    "        self.bottom = bottom\n",
    "    \n",
    "    def __repr__(self): # This is a custom representation method for the Item class\n",
    "        # Prepare all fields\n",
    "        fields = [\n",
    "            f\"type: {self.type}\",\n",
    "            f\"ascii: {self.ascii}\",\n",
    "            f\"coordinates: {self.coords}\",\n",
    "            \"edges:\",\n",
    "            f\"  left: {self.left}\",\n",
    "            f\"  right: {self.right}\",\n",
    "            f\"  top: {self.top}\",\n",
    "            f\"  bottom: {self.bottom}\"\n",
    "        ]\n",
    "        # Find the longest line\n",
    "        max_length = max(len(line) for line in fields)\n",
    "        # Add extra space for the class name\n",
    "        title = f\" {type(self).__name__} \"\n",
    "        max_length = max(max_length, len(title))\n",
    "        # Create the box\n",
    "        bottom = \"+\" + \"-\" * (max_length + 2) + \"+\"\n",
    "        title_line = f\"+{title:-^{max_length + 2}}+\"\n",
    "        # Build the output\n",
    "        lines = [title_line]\n",
    "        # Add each field with padding\n",
    "        for field in fields:\n",
    "            padding = \" \" * (max_length - len(field))\n",
    "            lines.append(f\"| {field}{padding} |\")\n",
    "        lines.append(bottom)\n",
    "        return \"\\n\".join(lines)"
   ]
  },
  {
   "cell_type": "markdown",
   "metadata": {},
   "source": [
    "Unfortunately, there's no way to get around the hard-coding of the ASCII characters into `Item`-s. Here's an implementation of `map_to_items`. It's quite long and trivial, but feel free to expand and examine the implementation..."
   ]
  },
  {
   "cell_type": "code",
   "execution_count": null,
   "metadata": {},
   "outputs": [],
   "source": [
    "def map_to_items(input: list[str]) -> list[Item]: # Converts the text input to a list of Item objects\n",
    "    def to_item(line: str) -> Item: # Converts a single line in the input to an Item\n",
    "        objectToReturn = Item() # Initialize an empty object\n",
    "        objectToReturn.ascii = line # We will also print the unconverted ASCII representation of the object for debugging purposes\n",
    "        objectToReturn.coords = tuple([int(coord) for coord in line[1:]]) # Extract the coordinates as a tuple of integers\n",
    "        objectToReturn.left = True # Initialize all edges to open\n",
    "        objectToReturn.right = True\n",
    "        objectToReturn.top = True\n",
    "        objectToReturn.bottom = True\n",
    "        # Match the first character of the line to determine the type of object\n",
    "        if line[0] == \"*\": # Match the first character of the line to determine the type of object\n",
    "            objectToReturn.ascii = \"*\"\n",
    "            # The default object is a source, '*', at (0,0), so nothing else needs to be changed in this case...\n",
    "        elif line[0] == \"═\":\n",
    "            # Note: edges are ordered [top, right, bottom, left]\n",
    "            objectToReturn.ascii = \"═\"\n",
    "            objectToReturn.type = \"Pipe\"\n",
    "            objectToReturn.top = False\n",
    "            objectToReturn.bottom = False\n",
    "        elif line[0] == \"║\":\n",
    "            objectToReturn.ascii = \"║\"\n",
    "            objectToReturn.type = \"Pipe\"\n",
    "            objectToReturn.left = False\n",
    "            objectToReturn.right = False\n",
    "        elif line[0] ==  \"╔\":\n",
    "            objectToReturn.ascii = \"╔\"\n",
    "            objectToReturn.type = \"Pipe\"\n",
    "            objectToReturn.top = False\n",
    "            objectToReturn.left = False\n",
    "        elif line[0] ==  \"╗\":\n",
    "            objectToReturn.ascii = \"╗\"\n",
    "            objectToReturn.type = \"Pipe\"\n",
    "            objectToReturn.top = False\n",
    "            objectToReturn.right = False\n",
    "        elif line[0] == \"╚\":\n",
    "            objectToReturn.ascii = \"╚\"\n",
    "            objectToReturn.type = \"Pipe\"\n",
    "            objectToReturn.left = False\n",
    "            objectToReturn.bottom = False\n",
    "        elif line[0] == \"╝\":\n",
    "            objectToReturn.ascii = \"╝\"\n",
    "            objectToReturn.type = \"Pipe\"\n",
    "            objectToReturn.right = False\n",
    "            objectToReturn.bottom = False\n",
    "        elif line[0] == \"╠\":\n",
    "            objectToReturn.ascii = \"╠\"\n",
    "            objectToReturn.type = \"Pipe\"\n",
    "            objectToReturn.left = False\n",
    "        elif line[0] == \"╣\":\n",
    "            objectToReturn.ascii = \"╣\"\n",
    "            objectToReturn.type = \"Pipe\"\n",
    "            objectToReturn.right = False\n",
    "        elif line[0] == \"╦\":\n",
    "            objectToReturn.ascii = \"╦\"\n",
    "            objectToReturn.type = \"Pipe\"\n",
    "            objectToReturn.top = False\n",
    "        elif line[0] == \"╩\":\n",
    "            objectToReturn.ascii = \"╩\"\n",
    "            objectToReturn.type = \"Pipe\"\n",
    "            objectToReturn.bottom = False\n",
    "        else: # The case of a sink\n",
    "            if not line[0].isalpha(): # Check if the first character is a letter at all\n",
    "                raise ValueError(\"The first character of a sink must be a letter.\")\n",
    "            objectToReturn.ascii = line[0]\n",
    "            objectToReturn.type = \"Sink\"\n",
    "        return objectToReturn\n",
    "            \n",
    "    return list(map(to_item, input))"
   ]
  },
  {
   "cell_type": "markdown",
   "metadata": {},
   "source": [
    "Let's run `input` through `map_to_items` to obtain the programmatic representation of the items in our pipe system. We show only the first five from the output in the interest of brevity."
   ]
  },
  {
   "cell_type": "code",
   "execution_count": null,
   "metadata": {},
   "outputs": [
    {
     "name": "stdout",
     "output_type": "stream",
     "text": [
      "+------- Item --------+\n",
      "| type: Source        |\n",
      "| ascii: *            |\n",
      "| coordinates: (0, 2) |\n",
      "| edges:              |\n",
      "|   left: True        |\n",
      "|   right: True       |\n",
      "|   top: True         |\n",
      "|   bottom: True      |\n",
      "+---------------------+\n",
      "+------- Item --------+\n",
      "| type: Sink          |\n",
      "| ascii: C            |\n",
      "| coordinates: (1, 0) |\n",
      "| edges:              |\n",
      "|   left: True        |\n",
      "|   right: True       |\n",
      "|   top: True         |\n",
      "|   bottom: True      |\n",
      "+---------------------+\n",
      "+------- Item --------+\n",
      "| type: Pipe          |\n",
      "| ascii: ╠            |\n",
      "| coordinates: (1, 1) |\n",
      "| edges:              |\n",
      "|   left: False       |\n",
      "|   right: True       |\n",
      "|   top: True         |\n",
      "|   bottom: True      |\n",
      "+---------------------+\n"
     ]
    }
   ],
   "source": [
    "#| code-fold: false\n",
    "parsed_input_ex1 = map_to_items(input_ex1)\n",
    "for obj in parsed_input_ex1[:3]:\n",
    "    print(obj)"
   ]
  },
  {
   "cell_type": "markdown",
   "metadata": {},
   "source": [
    "## Path finding (DFS)\n",
    "\n",
    "This is a path finding problem, so we're likely going to use either BFS or DFS. Since it's easier to represent the given data as a 2D array, instead of converting it into a graph representation, we will implement DFS on the 2D array itself.\n",
    "\n",
    "Here's the graph representation of the pipe system above, for equivalency's sake (although we won't be using graphs).\n",
    "\n",
    "```{mermaid}\n",
    "   graph TD;\n",
    "      A[\"* (0,2)\"] --> B[\"╗ (1,2)   \"];\n",
    "      B-->C[\"╠ (1,1)\"];\n",
    "      C-->D[\"C (1,0)\"];\n",
    "      C-->E[\"═ (2,1)\"];\n",
    "      E-->F[\"╝ (3,1)\"];\n",
    "      F-->G[\"╦ (3,2)\"];\n",
    "      G-->H[\"═ (4,2)\"];\n",
    "      H-->K[\"A (5,0)\"];\n",
    "      L[\"╚ (3,0)\"]-->M[\"═ (4,0)\"];\n",
    "      M-->N[\"B (5,0)\"];\n",
    "```\n",
    "\n",
    "<br></br>\n",
    "\n",
    "As we can see, we have two disjoint acyclic graphs representing the example pipe system above (ignore the edge directions, [Mermaid](https://mermaid.js.org/intro/) is cool but pretty limited).\n",
    "\n",
    "In general, because BFS traverses a graph one level at a time, we tend to use BFS when looking for the shortest path between two nodes. The first time BFS lands on the target node constitutes the shortest path to that node (or one of the multiple such paths if there's a tie between several paths). DFS is better suited for finding *any* valid path between the source `*` and a sink, and not necessarily the shortest such path, we can use DFS for this problem.\n",
    "\n",
    "### Expanding the input into a 2D matrix\n",
    "\n",
    "BFS can be implemented on a 2D array just as it can on a graph. Graphs are nothing more, really, than [adjacency lists](https://en.wikipedia.org/wiki/Adjacency_list). But first, we need to expand the input into such a 2D matrix of `Items`. To maintain align the directions of the neighbors of a given item to the formatted input, we need to expand the input in a particular way. We want `grid[0][2]` to refer to the source `* (0,2)`.\n",
    "\n",
    "That means the `grid` should be something like:\n",
    "\n",
    "```\n",
    "[[None, None, *],[C,╠,╗], ...]\n",
    "```\n",
    "Then the 1st argument to `grid` will point to the 1st subarray, and the 2nd argument will point to the sink itself. In other words, the first argument refers to the columns of the formatted input, and the second to the rows. The empty space above `* (0, 2)`, in the formatted input, will then be referenced by `grid[0][3]`. "
   ]
  },
  {
   "cell_type": "code",
   "execution_count": null,
   "metadata": {},
   "outputs": [],
   "source": [
    "#| code-fold: false\n",
    "def expand_parsed_input(input: list[Item]) -> list[list[Item]]:\n",
    "    # Find the maximum x and y coordinates occuring the given input\n",
    "    max_rows  = 0\n",
    "    max_cols = 0\n",
    "    for item in input:\n",
    "        if item.coords[0] > max_cols:\n",
    "            max_cols = item.coords[0]\n",
    "        if item.coords[1] > max_rows:\n",
    "            max_rows = item.coords[1]\n",
    "    # Initialize the 2D matrix with 'None' types\n",
    "    grid = [[None for _ in range(max_rows + 1)] for _ in range(max_cols + 1)]\n",
    "    # Populate the 2D matrix with the 'Item'-s\n",
    "    for item in input:\n",
    "        grid[item.coords[0]][item.coords[1]] = item\n",
    "    return grid\n",
    "\n",
    "expanded_parsed_input_ex1 = expand_parsed_input(parsed_input_ex1)"
   ]
  },
  {
   "cell_type": "markdown",
   "metadata": {},
   "source": [
    "The output of `expand_input` contains `Item` types and `None` types (for empty cells).\n",
    "\n",
    "Before we implement DFS, let's define a few helper functions that check if two `Item`-s are connected by the relevant edge.\n",
    "\n",
    "### Helper functions to determine connectedness at an edge"
   ]
  },
  {
   "cell_type": "code",
   "execution_count": null,
   "metadata": {},
   "outputs": [],
   "source": [
    "#| code-fold: false\n",
    "def connected_at_top(item1: Item, item2: Item) -> bool:\n",
    "    return item1.top and item2.bottom\n",
    "\n",
    "def connected_at_bottom(item1: Item, item2: Item) -> bool:\n",
    "    return item1.bottom and item2.top\n",
    "\n",
    "def connected_at_left(item1: Item, item2: Item) -> bool:\n",
    "    return item1.left and item2.right\n",
    "\n",
    "def connected_at_right(item1: Item, item2: Item) -> bool:\n",
    "    return item1.right and item2.left"
   ]
  },
  {
   "cell_type": "markdown",
   "metadata": {},
   "source": [
    "We're going to need these helper functions to check if two `Item`-s are connected by an edge before we add them to the DFS stack (to visit).\n",
    "\n",
    "### DFS Implementation\n",
    "\n",
    "Finally, let's implement iterative DFS using a stack."
   ]
  },
  {
   "cell_type": "code",
   "execution_count": null,
   "metadata": {},
   "outputs": [],
   "source": [
    "#| code-fold: false\n",
    "# Iterative version using a stack\n",
    "def dfs_iterative(grid, start_x, start_y):\n",
    "    # Obtain the dimensions of the grid\n",
    "    # Note: grid = [[None, None, *],[C,╠,╗], ...] \n",
    "    # 1st index spans the subarrays \n",
    "    # 2nd index spans the items themselves \n",
    "    dim_cols, dim_rows = len(grid), len(grid[0])\n",
    "\n",
    "    # Initialize the visited set\n",
    "    visited = set()\n",
    "    # Initialize the stack with the starting position\n",
    "    stack = [(start_x, start_y)]\n",
    "    \n",
    "    while stack:\n",
    "        x, y = stack.pop()\n",
    "        \n",
    "        if (x, y) in visited:\n",
    "            continue\n",
    "        if grid[x][y].type == \"Sink\":\n",
    "            print(f\"Found connected sink: {grid[x][y].ascii}\")\n",
    "\n",
    "        visited.add((x, y))\n",
    "        # print(f\"Visiting: {grid[x][y].ascii} ({x}, {y})\") <-- Enable for debugging\n",
    "        \n",
    "        # Add only the eligible neighbors to the stack \n",
    "        # Eligible neighbors are those that:\n",
    "        # 1. Are not outside the grid \n",
    "        # 2. Are not 'None' \n",
    "        # 3. Are connected to the current item by a corresponding edge\n",
    "        # Check the top neighbor\n",
    "        if y + 1 >= 0 and y + 1 <= dim_rows - 1 and grid[x][y + 1] is not None:\n",
    "            if connected_at_top(grid[x][y], grid[x][y + 1]):\n",
    "                stack.append((x, y + 1))\n",
    "        # Check the bottom neighbor\n",
    "        if y - 1 >= 0 and y - 1 <= dim_rows - 1 and grid[x][y - 1] is not None: \n",
    "            if connected_at_bottom(grid[x][y], grid[x][y - 1]):\n",
    "                stack.append((x, y - 1))\n",
    "        # Check the right neighbor\n",
    "        if x + 1 >= 0 and x + 1 <= dim_cols - 1 and grid[x + 1][y] is not None:\n",
    "            if connected_at_right(grid[x][y], grid[x + 1][y]):\n",
    "                stack.append((x + 1, y))\n",
    "        # Check the left neighbor\n",
    "        if x - 1 >= 0 and x - 1 <=  dim_cols - 1 and grid[x - 1][y] is not None:\n",
    "            if connected_at_left(grid[x][y], grid[x - 1][y]):\n",
    "                stack.append((x - 1, y))"
   ]
  },
  {
   "cell_type": "markdown",
   "metadata": {},
   "source": [
    "::: {.callout-tip title=\"Note\" appearance=\"minimal\" collapse=\"false\"}\n",
    "When doing iterative graph traversal with a heap or a stack, it's always a good idea to print the associated data structure (namely the heap or the stack) at the beginning of each iteration as a debugging tactic.\n",
    ":::\n",
    "\n",
    "Finally, let's run the DFS on the expanded input, supplying the coordinates of the source `*` as the starting point."
   ]
  },
  {
   "cell_type": "code",
   "execution_count": null,
   "metadata": {},
   "outputs": [
    {
     "name": "stdout",
     "output_type": "stream",
     "text": [
      "Found connected sink: A\n",
      "Found connected sink: C\n"
     ]
    }
   ],
   "source": [
    "#| code-fold: false\n",
    "dfs_iterative(expanded_parsed_input_ex1, 0, 2)"
   ]
  },
  {
   "cell_type": "markdown",
   "metadata": {},
   "source": [
    "There we have it! \n",
    "\n",
    "## Verifying solution \n",
    "\n",
    "Now let's try it on a slightly altered input. This time, we have redirected the pipes so that only `B` and `C` are connected to the source. \n",
    "\n",
    "**Formatted input**\n",
    "```\n",
    "*╗ ╦═A\n",
    " ╠═╦\n",
    " C ╚═B\n",
    "```\n",
    "\n",
    "**Unformatted input**\n",
    "\n",
    "```\n",
    "*02\n",
    "C10\n",
    "╠11\n",
    "╗12\n",
    "═21\n",
    "╚30\n",
    "╦31\n",
    "╦32\n",
    "═40\n",
    "═42\n",
    "B50\n",
    "A52\n",
    "```"
   ]
  },
  {
   "cell_type": "code",
   "execution_count": null,
   "metadata": {},
   "outputs": [
    {
     "name": "stdout",
     "output_type": "stream",
     "text": [
      "Found connected sink: B\n",
      "Found connected sink: C\n"
     ]
    }
   ],
   "source": [
    "#| code-fold: false\n",
    "input_ex2 = load_file(\"./problem_assets/connected_sinks_and_sources/example2.txt\")\n",
    "parsed_input_ex2 = map_to_items(input_ex2)\n",
    "expanded_parsed_input_ex2 = expand_parsed_input(parsed_input_ex2)\n",
    "dfs_iterative(expanded_parsed_input_ex2, 0, 2)"
   ]
  },
  {
   "cell_type": "markdown",
   "metadata": {},
   "source": [
    "## Visualization of the DFS algorithm using Manim\n",
    "\n",
    "Let's use Manim (a mathematical animation library), to visualize the DFS algorithm on the matrix for fun!\n",
    "\n",
    "We start by importing the cell magic `%%manim`, then modify and insert our `dfs_iterative` implementation into a Manim scene. The Manim code itself is collapsed, as it's not the focus of this post.\n"
   ]
  },
  {
   "cell_type": "code",
   "execution_count": 16,
   "metadata": {},
   "outputs": [],
   "source": [
    "import manim"
   ]
  },
  {
   "cell_type": "code",
   "execution_count": null,
   "metadata": {},
   "outputs": [],
   "source": [
    "%%manim -qh ConnectedSinksAndSourcesDemo\n",
    "\n",
    "from manim import *\n",
    "\n",
    "class ConnectedSinksAndSourcesDemo(Scene):\n",
    "    def construct(self):    \n",
    "        # Create table\n",
    "        sinks_and_sources=[[\"*\",\"╗\",\"\",\"╦\",\"═\",\"A\"],[\"\",\"╠\",\"═\",\"╝\",\"\",\"\"],[\"\",\"C\",\"\",\"╚\",\"═\",\"B\"]]\n",
    "        table = Table(sinks_and_sources, include_outer_lines=True)\n",
    "        self.play(Write(table))\n",
    "        # The DFS algorithm still requires the original `expanded_parsed_input_ex1` to work\n",
    "        self.dfs_iterative(expanded_parsed_input_ex1, table, 0, 2)\n",
    "        self.wait(5)\n",
    "\n",
    "\n",
    "    # Custom Manim cell highlighter...\n",
    "    def highlight_cell(self, manim_table, row, col, color=GREEN):\n",
    "        cell = manim_table.get_cell((row, col))\n",
    "        background = Rectangle(\n",
    "            width=cell.width,\n",
    "            height=cell.height,\n",
    "            fill_color=color,\n",
    "            fill_opacity=0.5,\n",
    "            stroke_width=0\n",
    "        )\n",
    "        background.move_to(cell)\n",
    "        self.play(FadeIn(background))\n",
    "\n",
    "    # Same DFS algorthm as before, but modified to inject Manim effects...\n",
    "    def dfs_iterative(self, grid, manim_table, start_x, start_y):\n",
    "        dim_cols, dim_rows = len(grid), len(grid[0])\n",
    "\n",
    "        # Initialize the visited set\n",
    "        visited = set()\n",
    "        # Initialize the stack with the starting position\n",
    "        stack = [(start_x, start_y)]\n",
    "        \n",
    "        while stack:\n",
    "            x, y = stack.pop()\n",
    "            \n",
    "            if (x, y) in visited:\n",
    "                continue\n",
    "\n",
    "            visited.add((x, y))\n",
    "\n",
    "            # In Manim, tables are indexed from 1. \n",
    "            # (x,y) = (0,2) - corresponds to -> maninm_table(1,1)              \n",
    "            self.highlight_cell(manim_table, 3-y, x+1)\n",
    "                    \n",
    "            if y + 1 >= 0 and y + 1 <= dim_rows - 1 and grid[x][y + 1] is not None:\n",
    "                if connected_at_top(grid[x][y], grid[x][y + 1]):\n",
    "                    stack.append((x, y + 1))\n",
    "            # Check the bottom neighbor\n",
    "            if y - 1 >= 0 and y - 1 <= dim_rows - 1 and grid[x][y - 1] is not None: \n",
    "                if connected_at_bottom(grid[x][y], grid[x][y - 1]):\n",
    "                    stack.append((x, y - 1))\n",
    "            # Check the right neighbor\n",
    "            if x + 1 >= 0 and x + 1 <= dim_cols - 1 and grid[x + 1][y] is not None:\n",
    "                if connected_at_right(grid[x][y], grid[x + 1][y]):\n",
    "                    stack.append((x + 1, y))\n",
    "            # Check the left neighbor\n",
    "            if x - 1 >= 0 and x - 1 <=  dim_cols - 1 and grid[x - 1][y] is not None:\n",
    "                if connected_at_left(grid[x][y], grid[x - 1][y]):\n",
    "                    stack.append((x - 1, y))"
   ]
  },
  {
   "cell_type": "markdown",
   "metadata": {},
   "source": [
    "Here’s DFS on the grid visualized using Manim.\n",
    "\n",
    "::: {#fig-sinks-and-sources-manim}\n",
    "![Connected Sinks and Sources Demo](./media/videos/leetcode/1080p60/ConnectedSinksAndSourcesDemo.mp4)\n",
    ":::"
   ]
  },
  {
   "cell_type": "markdown",
   "metadata": {},
   "source": [
    "## Conclusion\n",
    "\n",
    "We explored how to use iterative DFS on a matrix to solve the connected sinks and sources problem. From here, we can explore other graph problems or learn about game development and, perhaps, turn this rudimentary algorithm into a fun game mechanic?"
   ]
  }
 ],
 "metadata": {
  "kernelspec": {
   "display_name": "manim-sandbox",
   "language": "python",
   "name": "python3"
  },
  "language_info": {
   "codemirror_mode": {
    "name": "ipython",
    "version": 3
   },
   "file_extension": ".py",
   "mimetype": "text/x-python",
   "name": "python",
   "nbconvert_exporter": "python",
   "pygments_lexer": "ipython3",
   "version": "3.9.20"
  }
 },
 "nbformat": 4,
 "nbformat_minor": 2
}
