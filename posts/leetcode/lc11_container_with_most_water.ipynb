{
 "cells": [
  {
   "cell_type": "markdown",
   "id": "6016da79",
   "metadata": {},
   "source": [
    "---\n",
    "title: \"LC11: Container with Most Water\"\n",
    "author: \"Vahram Poghosyan\"\n",
    "date: \"2022-01-23\"\n",
    "categories: [\"Leetcode\", \"Algorithms\"]\n",
    "format:\n",
    "  html:\n",
    "    code-fold: true\n",
    "jupyter: python3\n",
    "include-after-body:\n",
    "  text: |\n",
    "    <script type=\"application/javascript\" src=\"../../javascript/light-dark.js\"></script>\n",
    "---"
   ]
  },
  {
   "cell_type": "markdown",
   "id": "19124c58",
   "metadata": {},
   "source": [
    "\n",
    "# Problem Statement\n",
    "\n",
    "We are given an integer array `height` of length `n`. Each element of the array corresponds to a vertical line (of `n` total lines) drawn from the horizontal axis such that the `i`-th line's two endpoints are `(i, 0)` and `(i, height[i])` (see the figure below). \n",
    "\n",
    "Find two lines which, together with the x-axis, form a container which can hold the most water. Return the maximum amount of water this container can store.\n",
    "\n",
    "**Example**\n",
    "\n",
    "![Container with most water](../../assets/leetcode/lc11_container_with_most_water/container_with_most_water.light.png)\n",
    "\n",
    "```\n",
    "Input: height = [1,8,6,2,5,4,8,3,7]\n",
    "Output: 49\n",
    "```\n",
    "\n",
    "**Explanation**\n",
    "\n",
    "The above vertical lines are represented by array `[1,8,6,2,5,4,8,3,7]`. In this case, the max area of the water (highlighted section) the container can contain is 49 (in units of area).\n",
    "\n",
    "# Brute-Force Solution\n",
    "\n",
    "The brute force solution to this problem checks each pair of vertical lines (or each subset of size $2$). Since the order of any given pair in the subset does not matter, this solution has time complexity ${O \\left ({n \\choose 2} \\right )= O \\left (\\frac{n(n-1)}{2} \\right ) = O(n^2)}$ where $n$ is the length of the `height` array.\n",
    "\n",
    "# The Two Pointer Solution\n",
    "\n",
    "The non-brute-force solution (i.e. the **Two Pointer Solution**), follows almost trivially after noticing an *optimal substructure* to the problem. This optimal substructure allows us to remove certain pairs $(i,j)$ entirely from consideration, thereby reducing the number of pairs to be considered. The main difficulty lies in noticing and proving this optimal substructure.\n",
    "\n",
    "## Optimal Substructure\n",
    "\n",
    "- Let $h(i)$ denote the height of the $i$-th vertical line.\n",
    "\n",
    "- Let $a(i,j)$ denote the area of the container formed by the pair of vertical lines $(i,j)$.\n",
    "\n",
    "- Let $maxArea(i,j)$ denote the maximum area formed by the lines ${i,...,j}$ – that is the output of the procedure on the subarray `height[i:j]`. \n",
    "\n",
    "Suppose, without loss of generality, $h(1) \\leq h(n)$ (that is, the first line is shorter than the last). Then, the problem has *top-down optimal substructure*:\n",
    "\n",
    "<br>\n",
    "$$maxArea(1,n) = max\\{a(1,n), maxArea(2,n)\\}$$\n",
    "<br>\n",
    "\n",
    "\n",
    "::: {.callout-tip title=\"Note\" appearance=\"minimal\" collapse=\"false\"}\n",
    "This optimal substructure also exposes an obvious dynamic programming approach to the problem (we simply consider the sub-problems of sizes $n-1$, $n-2$, and so on). However, in order to minimize the complexity, we offer a *tabulation* approach instead — the Two Pointer Solution.\n",
    ":::\n",
    "\n",
    "### Proof of Optimal Substructure\n",
    "\n",
    "For the initial pair $(1,n)$ where $h(1) \\leq h(n)$ we have $a(1,n) > a(1,k)  \\ \\ \\forall k$. This is because we're starting out from the *widest container* formed by ${(1,n)}$ and considering containers of decreasing width formed by the pairs ${(1, n-1), (1, n-2), ..., (1,2)}$. \n",
    "\n",
    " \n",
    "In case ${h(k) > h(1)}$ for some ${n \\geq k > 1}$ the area of the container formed by ${(1,k)}$ is still determined by ${h(1)}$, except now it's less wide. Whereas if ${h(k) < h(1)}$ the area of the container decreases not only in width but also in height. \n",
    "\n",
    "In both cases we have ${a(1,n) > a(1,k)}$ which means in general ${a(1,n) > a(1, k) \\ \\ \\forall k}$.\n",
    "\n",
    "Therefore, we may omit the first vertical line from consideration and consider the subproblem on the indices ${2,...,n}$. The overall optimal solution will then be $maxArea(1,n) = max\\{a(1,n), maxArea(2,n)\\}$\n",
    "as was the claim.\n",
    "\n",
    "\n",
    "## The Two Pointers Algorithm\n",
    "\n",
    "At this point, the Two Pointers Algorithm is almost trivially easy to implement:\n",
    "\n",
    "- Initialize two pointers, 'left' and 'right', at the first and last index respectively.\n",
    "- While the pointers do not intersect:\n",
    "    - Calculate the area of the container formed by the pointers and determine if it's the maximum area encountered so far\n",
    "    - Keep the position of the pointer of the vertical line that's longer fixed\n",
    "    - Advance the pointer of vertical line that's shorter towards the fixed pointer\n",
    "   \n",
    "## The Code"
   ]
  },
  {
   "cell_type": "code",
   "execution_count": 5,
   "id": "31f6dbfd",
   "metadata": {
    "collapsed": true
   },
   "outputs": [
    {
     "name": "stdout",
     "output_type": "stream",
     "text": [
      "The container with most water has area: 49\n"
     ]
    }
   ],
   "source": [
    "#| code-fold: false\n",
    "def maxArea(height) -> int:\n",
    "    i, j = 0, len(height) - 1\n",
    "    water = 0\n",
    "    while i < j:\n",
    "        water = max(water, (j - i) * min(height[i], height[j]))\n",
    "        if height[i] < height[j]:\n",
    "            i += 1\n",
    "        else:\n",
    "            j -= 1\n",
    "    return water\n",
    "\n",
    "# Example input\n",
    "heights = [1,8,6,2,5,4,8,3,7]\n",
    "print(f'The container with most water has area: {maxArea(heights)}')\n"
   ]
  },
  {
   "cell_type": "markdown",
   "id": "d6904204",
   "metadata": {},
   "source": [
    "# Conclusion\n",
    "\n",
    "With some raw intuition it would've been possible to come up with the Two Pointer Solution without identifying and proving the optimal substructure at all. However, without a full justification the solution simply feels unrewarding. With some problems it's not enough to solve them, there is more insight to be gained by understanding *why* the correct solution is, in fact, correct."
   ]
  },
  {
   "cell_type": "markdown",
   "id": "c46ac69c",
   "metadata": {},
   "source": [
    "![](../../assets/leetcode/lc11_container_with_most_water/container_with_most_water.dark.png){height=0}"
   ]
  }
 ],
 "metadata": {
  "kernelspec": {
   "display_name": "Python 3",
   "language": "python",
   "name": "python3"
  },
  "language_info": {
   "codemirror_mode": {
    "name": "ipython",
    "version": 3
   },
   "file_extension": ".py",
   "mimetype": "text/x-python",
   "name": "python",
   "nbconvert_exporter": "python",
   "pygments_lexer": "ipython3",
   "version": "3.11.5"
  }
 },
 "nbformat": 4,
 "nbformat_minor": 5
}
