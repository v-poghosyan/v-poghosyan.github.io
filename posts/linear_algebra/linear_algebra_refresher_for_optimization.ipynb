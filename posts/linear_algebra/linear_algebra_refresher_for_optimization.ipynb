{
 "cells": [
  {
   "cell_type": "markdown",
   "id": "8262545b",
   "metadata": {},
   "source": [
    "---\n",
    "title: \"Linear Algebra for Optimization\"\n",
    "author: \"Vahram Poghosyan\"\n",
    "date: \"2022-01-23\"\n",
    "categories: [\"Linear Algebra\"]\n",
    "format:\n",
    "  html:\n",
    "    code-fold: true\n",
    "jupyter: python3\n",
    "include-after-body:\n",
    "  text: |\n",
    "    <script type=\"application/javascript\" src=\"../../javascript/light-dark.js\"></script>\n",
    "---"
   ]
  },
  {
   "cell_type": "markdown",
   "id": "b5bbacdd",
   "metadata": {},
   "source": [
    "# Review of Linear Algebra and Geometry\n",
    "\n",
    "Let's start exploring mathematics for machine learning with a refresher on convexity in optimization and the linear algebra that's commonly used in the subject.\n",
    "\n",
    "## Convexity\n",
    "\n",
    "Set convexity is defined as follows:\n",
    "\n",
    "> **Definition:** &nbsp; A set $C \\subseteq \\mathbb{R^d}$ is **convex** if, for all points $x_1,x_2 \\in C$ and any $\\theta \\in [0,1]$, the point $\\theta x_1 + (1-\\theta) x_2$ is also in $C$.\n",
    "\n",
    "That is, a set is convex if the parametrized line segment between $x_1$ and $x_2$, any two points (or, more generally, vectors) in the set is also entirely inside the set.\n",
    "<br>\n",
    "\n",
    "::: {#fig-convexity layout-ncol=2}\n",
    "\n",
    "![Convex](../../assets/linear_algebra/linear_algebra_refresher_for_optimization/convex.light.png){#fig-convex}\n",
    "\n",
    "![Non-convex](../../assets/linear_algebra/linear_algebra_refresher_for_optimization/non_convex.light.png){#fig-non-convex}\n",
    "\n",
    "Set A is convex, set B is non-convex\n",
    ":::\n",
    "\n",
    "### Operations that Preserve Convexity\n",
    "\n",
    "Scaling, skewing, and rotation (which can be thought of as *linear transformations*) preserve convexity as does shifting (an *affine transformation*). Let the matrix $A$ define such a transformation, and $b$ be a shift vector. Then $C' = \\{Ax + b : x \\in C \\}$ is convex provided that $C$ was convex.\n",
    "\n",
    "An *intersection* of convex sets is also convex. That is, $C' = \\{ x : x \\in C_1 \\cap x \\in C_2 \\}$ is convex provided that $C_1$ and $C_2$ were convex to begin with. The proof follows directly from the definition of intersection.\n",
    "\n",
    "However, *unions* of convex sets need not be convex.\n",
    "\n",
    "## Examples of Convex Sets\n",
    "\n",
    "The following are some common convex sets we will come across in practice. To discuss sets, we should build up from points. For the purposes of the discussion that follows, A *point* and a *vector* mean the same thing.\n",
    "\n",
    "### Convex Hull of $n$ Points\n",
    "\n",
    "A *convex combination* of points $x_1, ..., x_n$ is a point of the form $x = \\theta_1 x_1 + ... + \\theta_n x_n$ where $\\sum_{i = 1}^{n} \\theta_i = 1$ and $\\theta_i \\geq 0 \\ \\ \\forall i$.\n",
    "\n",
    "Let $x_1,x_2,...,x_n$ be $n$ points in space. Their *convex hull* is the set of all points which can be written as some convex combination of them. By varying parameters $\\theta_i$ we generate the convex hull as the set of all convex combinations of these points.\n",
    "\n",
    "::: {#fig-convex-hull}\n",
    "\n",
    "![Convex hull](../../assets/linear_algebra/linear_algebra_refresher_for_optimization/convex_hull.light.png){width=300}\n",
    "\n",
    "The convex hull can be visualized as the closed polygon formed when a rubber band is stretched around the $n$ points (if we imagine those to be pegs sticking out of the screen).\n",
    ":::\n",
    "\n",
    "The convex hull of two points is the line segment joining them. That of three points is the triangle whose vertices they form (complete with its inner region). In general, for $n$ points, the concept generalizes to an $n$-dimensional polygon.\n",
    "\n",
    "Formally, the convex hull is the set $\\{ \\theta_1 x_1 + ... + \\theta_n x_n : \\theta_1 + ... + \\theta_n = 1 \\ \\ \\textrm{and} \\ \\ \\theta_i \\geq 0 \\ \\ \\forall i \\}$\n",
    "\n",
    "::: {.callout-tip title=\"Note\" appearance=\"minimal\" collapse=\"false\"}\n",
    "Several algorithms exist for generating convex hulls efficiently. The most popular one is Jarvis's algorithm which simulates a rope wrapping around the leftmost point of the point set. More on that [here](https://jeffe.cs.illinois.edu/teaching/compgeom/notes/14-convexhull.pdf).\n",
    ":::\n",
    "\n",
    "### Convex Hull of a Set\n",
    "\n",
    "The convex hull of a set can be similarly defined as all the convex combinations of the elements in the set. However, since the set may contain infinite elements, there's an equivalent definition in terms of supersets.\n",
    "\n",
    "Let $C$ be a non-convex set. The convex hull of $C$ is the intersection of all convex supersets of $C$. That is, it's the intersection of all convex sets containing $C$. The result of such an intersection will be the unique $^{(†)}$ smallest convex superset of $C$, its convex hull. \n",
    "\n",
    "::: {.column-margin}\n",
    "(†) **Proof of uniqueness:** Let $C_1$ and $C_2$ be two convex hulls of $C$.  Let $c_1 \\in C_1$ be a point. Since $c_1 \\in C_1$, $c_1 \\in$ at least one of the convex supersets $C^{i}$of $C$. Hence, $c_1 \\in C_2$ since $C_2 = \\bigcap^{i=1 \\to n}C^{i}$. Similarly, it can be shown that any $c_2 \\in C_2$ also belongs to $C_1$. \n",
    "Hence, $C_1 \\subseteq C_2$ and vice versa. This proves that $C_1 = C_2$ and completes the proof of uniqueness. \n",
    ":::\n",
    "\n",
    "::: {#fig-convex-hull}\n",
    "\n",
    "![Convex hull of a set](../../assets/linear_algebra/linear_algebra_refresher_for_optimization/convex_hull_set.light.png){width=300}\n",
    "\n",
    "Visualizing the convex hull of a non-convex set is similar to visualizing that of $n$ points — it's simply the shape enclosed by a rubber band stretched around the non-convex set.\n",
    ":::\n",
    "\n",
    "\n",
    "### Affine Combination of $n$ Points\n",
    "\n",
    "An *affine combination* of points $x_1,...,x_n$ is a point of the form $x = \\theta_1 x_1 + ... + \\theta_n x_n$ with $\\sum_{i=1}^{n}\\theta_i = 1$ but where the $\\theta_i$'s need not be non-negative. \n",
    "\n",
    "For a single point, the set of all affine combinations is the singleton set with the point itself. For two points, it's the *line* that passes through them, and for three points it's the *plane*. In general, it is the plane in $n$-dimensions passing through the $n$ points."
   ]
  },
  {
   "cell_type": "markdown",
   "id": "62f0e79b",
   "metadata": {},
   "source": [
    "### Linear Combinations - Hyperplanes and Halfspaces\n",
    "\n",
    "A *linear combination* of $n$ vectors, on the other hand, is all vectors of the form $x = \\theta_1 x_1 + ... + \\theta_n x_n$ with the $\\theta_i$'s totally unrestricted. \n",
    "\n",
    "The set of all linear combinations of $n$ points is called their *span*. Formally, it is the set $\\{ \\theta_1 x_1 + ... + \\theta_n x_n : \\forall \\theta_1,...,\\theta_n \\}$.\n",
    "\n",
    "The span of a single point is the line passing through it. For two vectors the span is the plane passing through them and, in general, the span of $n$ points is a plane in $(n+1)$-dimensions which contains these points.\n",
    "\n",
    "\n",
    "#### Hyperplanes\n",
    "\n",
    "For fixed weights $\\theta_i = a_i \\ \\ \\forall i$, a *hyperplane* is the set of all points $x \\in \\mathbb{R^n}$ whose linear combination equals a fixed constant $b \\in \\mathbb{R}$.\n",
    "\n",
    "Formally, a hyperplane is the set $\\{ x : a_1 x_1 + ... a_n x_n = b\\} = \\{ x : a^T x = b\\}$ \n",
    "\n",
    "There's a geometric interpretation of the parameters $a \\in \\mathbb{R^n}$ and $b \\in \\mathbb{R}$. Since the dot-product between perpendicular vectors is $0$, $\\{ x :  a^T x = 0\\}$ is simply the set of all vectors perpendicular to $a$ (whose tail, as with all vectors in linear algebra, is considered to be fixed at the origin), making $a$ the *normal vector* to the hyperplane passing through the origin. To allow for parallel hyperplanes that are translated from the origin, the *offset* $b \\in \\mathbb{R}$ is introduced in the generalization $\\{ x : a^T x = b \\}$. This is now the set of all vectors whose dot-product with $a$ is constant. These vectors are not quite perpendicular to $a$, but they form a parallel hyperplane that's been shifted from the origin by a distance of $\\frac{|b|}{\\|a\\|_2}$.\n",
    "\n",
    "Since the sum $a_1 x_1 + ... a_n x_n = b$ is fixed, the last coordinate, which we'll call $x_k$ for some $k \\in [1,...,n]$, is fixed by the choice of the other $n-1$ coordinates. Therefore, a hyperplane  in $\\mathbb{R^n}$ spans $n-1$ dimensions instead of $n$.\n",
    "<br>"
   ]
  },
  {
   "cell_type": "markdown",
   "id": "708ebfb8",
   "metadata": {},
   "source": [
    "#### Halfspaces\n",
    "\n",
    "A *halfspace* is either of the two sub-spaces a hyperplane partitions the whole space into. Since the dot-product between vectors which are roughly in the same direction is positive, and vice versa, the two halfspaces associated to a hyperplane $\\{ x : a^T x = b\\}$ are $\\{ x : a^T x \\geq b\\}$ and $\\{ x : a^T x \\leq b\\}$."
   ]
  },
  {
   "cell_type": "markdown",
   "id": "4427fa71",
   "metadata": {},
   "source": [
    "### Conic Combinations of $n$ Points\n",
    "\n",
    "A *conic combination* of $x_1,...x_n$ is a point $x = \\sum_{i=1}^{n} \\theta_i x_i$ where $\\theta_i \\geq 0 \\ \\ \\forall i$. Note that the absence of the restriction that $\\sum_{i=1}^{n} \\theta_i = 1$ is what distinguishes a conic combination from a convex combination. "
   ]
  },
  {
   "cell_type": "markdown",
   "id": "bc519372",
   "metadata": {},
   "source": [
    "### Ellipses\n",
    "\n",
    "Recall from Euclidean geometry that ellipses are conic sections. In general we define ellipses in $n$-dimensions as the [sub-level sets](https://en.wikipedia.org/wiki/Level_set) of [quadratic forms](https://en.wikipedia.org/wiki/Quadratic_form). That is $\\{ x : (x-c)^T M (x-c) \\leq 1 \\}$ where $M \\succeq 0$ defines the stretch along each principal axis, and $c \\in \\mathbb{R^n}$ is the center. \n",
    "\n",
    "An equivalent definition of an ellipse using the L2-norm is $\\{ x  : \\|Ax - b\\|_2 \\leq 1 \\}$. That is, for a given $A$ and $b$ in the L2-norm definition, we can find an $M$ and $c$ in the sub-level set definition and vice versa.  \n",
    "\n",
    "::: {.callout-tip title=\"Note\" appearance=\"minimal\" collapse=\"false\"}\n",
    "More generally, the ellipse is $\\{ x : (x-c)^T M (x-c) \\leq r \\}$. However, since the scaling factor $r$ is positive, it can simply be absorbed into $Q$ without affecting $Q$'s positive semidefiniteness.\n",
    ":::\n",
    "\n",
    "To quickly convince ourselves in the equivalence of these definitions, we take the simple case where $b = 0$.\n",
    "\n",
    "$$\n",
    "\\begin{aligned}\n",
    "  \\|Ax\\|_2 &= ((Ax)^T(Ax))^{1/2} \\\\\n",
    "  &= (x^TA^TAx)^{1/2} \\\\\n",
    "  &= (x^TU D U^Tx)^{1/2} \\\\\n",
    "  &= x^TU D^{1/2} U^Tx \\\\\n",
    "  \\end{aligned}\n",
    "$$\n",
    "\n",
    "Where the third equality is by the [spectral decomposition](https://en.wikipedia.org/wiki/Eigendecomposition_of_a_matrix#Real_symmetric_matrices) of the real symmetric matrix $A^TA$, in which $D = diag(\\lambda_1,...,\\lambda_n)$ is the diagnonal matrix of eigenvalues and the columns of $U$ are the corresponding eigenvectors. Taking $M= UD^{1/2}U^T$, where $D^{1/2}$ is simply $D^{1/2} = diag(\\sqrt\\lambda_1,...,\\sqrt\\lambda_n)$, we have the equivalent sub-level set definition of the ellipse. "
   ]
  },
  {
   "cell_type": "markdown",
   "id": "133dd7c1",
   "metadata": {},
   "source": [
    "### Norm Balls\n",
    "\n",
    "Related to ellipses are *Euclidean balls*, which are *norm balls* for the choice of the L2-norm. A Euclidean ball has the form $\\{ x : \\|x\\|_2 \\leq r \\}$, and is clearly convex as it's a generalizations of the sphere in $n$-dimensions. \n",
    "\n",
    "But also, a Euclidean ball is the special ellipse for the choice of $M = rI$, and $c = 0$. \n",
    "\n",
    "In general, norm balls $\\{ x : \\|x\\|_p \\leq r\\}$ where $\\|x\\|_p = (x_1^p + ... + x_n^p)^{1/p}$ are convex for any choice of $p \\geq 1$."
   ]
  },
  {
   "cell_type": "markdown",
   "id": "846d8b6d",
   "metadata": {},
   "source": [
    "### Polyhedra\n",
    "\n",
    "Where a halfspace is a set with one linear inequality constraint, a *polyhedron* is a set with many, but finite, such linear inequality constraints. These constraints can be packed into a matrix $A \\in \\mathbb{R^{m \\times n}}$ by vector $b \\in \\mathbb{R^m}$ multiplication form, making the polyhedron into the set $\\{x : Ax \\leq b\\}$.\n",
    "\n",
    "Since polyhedra are simply intersections of halfspaces and hyperplanes, and the latter are both convex, polyhedra are also convex sets."
   ]
  },
  {
   "cell_type": "markdown",
   "id": "0729f0f5",
   "metadata": {},
   "source": [
    "### The Set of All Positive Semidefinite Matrices\n",
    "\n",
    "The set of all PSD matrices $\\{ Q : x^TQx \\geq 0, \\ \\ \\forall x \\in \\mathbb{R^m}\\}$ is convex. We can, of course, use the definition of convexity to show this. But, a more elucidative approach would be the following remark. \n",
    "\n",
    "Note that $Q \\mapsto x^TQx$ is a [linear functional](https://en.wikipedia.org/wiki/Linear_form) that maps the space of all PSD matrices to its field of scalars. This is analogous to how $a \\mapsto x^Ta$ is a linear functional so, just as $\\{ a : x^Ta \\geq 0 \\}$ is a halfspace in the space of vectors, $H_x = \\{ Q : x^TQx \\geq 0 \\}$ for a given choice of $x \\in \\mathbb{R^m}$ is a halfspace in the space of PSD matrices. Halfspaces, as we already know, are convex and $\\{ Q : x^TQx \\geq 0, \\forall x \\in \\mathbb{R^m}\\}$ is nothing but an intersection of halfspaces for each choice of $x$. That is, $\\{ Q :  x^TQx \\geq 0, \\forall x \\in \\mathbb{R^m}\\} = \\bigcap_x H_x$, concluding the proof of its convexity. \n"
   ]
  },
  {
   "cell_type": "markdown",
   "id": "195b7d84",
   "metadata": {},
   "source": [
    "[^1]: **Proof of uniqueness of the minimal, convex superset:** \n",
    "    Suppose $C_1$ and $C_2$ are both minimal, convex supersets of $C$. But, any convex superset $D$ of\n",
    "    $C$ must necessarily contain the minimal, convex superset. Hence, $C_1 \\subseteq C_2$ and\n",
    "    similarly $C_2 \\subseteq C_1$, which implies $C_1 = C_2$.\n"
   ]
  },
  {
   "cell_type": "markdown",
   "id": "d3175f07",
   "metadata": {},
   "source": [
    "![](../../assets/linear_algebra/linear_algebra_refresher_for_optimization/convex.dark.png){height=0}\n",
    "![](../../assets/linear_algebra/linear_algebra_refresher_for_optimization/non_convex.dark.png){height=0}\n",
    "![](../../assets/linear_algebra/linear_algebra_refresher_for_optimization/convex_hull.dark.png){height=0}\n",
    "![](../../assets/linear_algebra/linear_algebra_refresher_for_optimization/convex_hull_set.dark.png){height=0}"
   ]
  },
  {
   "cell_type": "markdown",
   "id": "22ab870b",
   "metadata": {},
   "source": []
  }
 ],
 "metadata": {
  "kernelspec": {
   "display_name": "Python 3",
   "language": "python",
   "name": "python3"
  },
  "language_info": {
   "codemirror_mode": {
    "name": "ipython",
    "version": 3
   },
   "file_extension": ".py",
   "mimetype": "text/x-python",
   "name": "python",
   "nbconvert_exporter": "python",
   "pygments_lexer": "ipython3",
   "version": "3.1.0"
  }
 },
 "nbformat": 4,
 "nbformat_minor": 5
}
