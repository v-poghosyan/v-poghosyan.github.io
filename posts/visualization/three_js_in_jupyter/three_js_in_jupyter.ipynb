{
 "cells": [
  {
   "cell_type": "markdown",
   "metadata": {},
   "source": [
    "---\n",
    "title: \"Three.js - 3D Animations in the Browser\"\n",
    "author: \"Vahram Poghosyan\"\n",
    "date: \"2024-12-26\"\n",
    "categories: [\"Three.js\", \"Visualization\", \"JavaScript\"]\n",
    "format:\n",
    "  html:\n",
    "    code-fold: false\n",
    "toc-depth: 4\n",
    "jupyter: python3\n",
    "highlight-style: github\n",
    "include-after-body:\n",
    "  text: |\n",
    "    <script type=\"application/javascript\" src=\"../../../javascript/light-dark.js\"></script>\n",
    "    <script type=\"module\" src=\"./javascript/three-js-demo.js\"></script>\n",
    "---"
   ]
  },
  {
   "cell_type": "markdown",
   "metadata": {},
   "source": [
    "# Introduction\n",
    "\n",
    "In this post we use [Three.js](https://threejs.org/) external scripts to render 3D scenes inside this Jupyter notebook. \n",
    "\n",
    "This post will be very similar, in terms of its stack, to the [D3.js interactive US Map posy](../d3_in_jupyter_with_deno/d3_js_in_jupyter_with_deno.ipynb).\n",
    "\n",
    "In *that* post, we learned that Canvas and SVG are two ways in which we can display complex graphics inside a web browser. We already explored SVG graphics in [D3.js interactive US Map](../d3_in_jupyter_with_deno/d3_js_in_jupyter_with_deno.ipynb). It's worth noting that a lot of the same functionality could've been replicated using the HTML Canvas element instead of SVG (which we ultimately chose for its superior interactive capabilities) -- the article mentions one way to do that by using [skia-canvas](https://github.com/samizdatco/skia-canvas). \n",
    "\n",
    "We ended up using [linkedom](https://github.com/WebReflection/linkedom#readme) to add a DOM API on top of the Deno environment. \n",
    "\n",
    "In fact, what I realized later on is that we could've simply used simple Markdown inside our Jupyter notebook to create the `<svg>` element without the need to introduce a DOM API on top of a browser-less JavaScript environment. In that case, we could have fetched the `TopoJSON` data and constructed the map inside our external scripts (which we ended up reserving *only* for the D3 animations). These scripts are run by Quarto only *after* the page has been rendered to the browser, so we could easily reference the DOM by `class` or `id`. Crucially, the external scripts are meant to run *inside the browser* (as opposed to being pre-computed in the browser-less Deno environment) where they're able to leverage the existing DOM API provided by the browser's engine (e.g. `document.getElementById`). \n",
    "\n",
    "The [D3 US Map](../d3_in_jupyter_with_deno/d3_js_in_jupyter_with_deno.ipynb) post shows a *mixture* of approaches that still works. However, in *this* post we will simplify things a little by sticking with one approach only. We will not use either `skia-canvas` or `linkedom` for generating the `<canvas>` (or `<svg>`) element. Instead, we will add a `<canvas>` element below this very Jupyter notebook cell as plain HTML.\n",
    "\n",
    "This approach effectively means we can also do away with Deno itself. The notebook does not to pre-compute any JavaScript, it can just serve as the DOM scaffolding for the external scrips to hook into. \n",
    "\n",
    "# Three.js\n",
    "\n",
    "[Three.js](https://threejs.org/) is a library for drawing 3D graphics in the browser using JavaScript and [WebGL](https://get.webgl.org/) (see [wiki](https://www.khronos.org/webgl/wiki/Main_Page)). \n",
    "\n",
    "WebGL runs in an HTML Canvas (i.e. `<canvas>`). Canvas and SVG are two ways in which we can display complex graphics inside a browser. We already explored SVG graphics in the [D3.js interactive US Map](../d3_in_jupyter_with_deno/d3_js_in_jupyter_with_deno.ipynb) post. It's worth noting that a lot of the same functionality could've been achieved by using the HTML Canvas instead. The article mentions one way to do that by using [skia-canvas](https://github.com/samizdatco/skia-canvas). \n",
    "\n",
    "In that post, we ended up using a combination of [linkedom](https://github.com/WebReflection/linkedom#readme) to mock a DOM API on the Deno environment. In fact, what I realized later on is that we could've simply used the Markdown inside our Jupyter notebook to create the `<svg>` element. Then, we could construct the rest of the map inside our external scripts (which we used only for animations). These scripts are meant to run only *after* the page has been rendered to the browser, so we could easily reference the DOM by `class` or `id`. Crucially, the external scripts run *in the browser* (as opposed to being pre-computed in the browser-less Deno environment). In the browser they are able to leverage the DOM API provided by the browser's engine (e.g. `document.getElementById`). \n",
    "\n",
    "The D3 post shows a mixture of approaches that works. However, in this post we will simplify things by sticking to one approach. We will not use either `skia-canvas` or `linkedom` for generating the `<canvas>` (or `<svg>`) element. Instead, I'll include one below this very Jupyter notebook cell as plain HTML.\n",
    "\n",
    "This approach effectively means we can also do away with Deno. The notebook itself need not pre-compute any JavaScript. \n",
    "\n",
    "## Understanding How Three.js Works\n",
    "\n",
    "But the HTML Canvas is not the focus of this post. \n",
    "\n",
    "From the WebGL wiki: \n",
    "\n",
    "> WebGL is a DOM API, which means that it can be used from any DOM-compatible language: e.g. JavaScript\n",
    "\n",
    "Three.js is a library that provides conveniences in JavaScript that abstract much of this DOM API calls. Note that Three.js isn't suitable for modelling purposes, for that we can use [Blender](https://www.blender.org/) or a number of other closed-source 3D modelling applications. We can even download or purchase third-party models from vendors.\n",
    "\n",
    "# 3D - Scenes in General\n",
    "\n",
    "In *any* 3D scene, be it in the web browser, inside a game engine, in a movie, in a 3D modelling application, etc. there are a bunch of **geometries**, or **shapes** (or **meshes**) that get styled with **textures** (which can range from a complex mapping, like a **shader** animation, to a simple [raster](https://en.wikipedia.org/wiki/Raster_graphics) image).\n",
    "\n",
    "A scene will also have one or more **light sources**, and a **camera** to *serve* the scene in some perspective.\n",
    "\n",
    "# 3D - Canvas\n",
    "\n",
    "Let's create a `<canvas>` with `id=\"#3d-canvas\"`."
   ]
  },
  {
   "cell_type": "markdown",
   "metadata": {},
   "source": [
    "<canvas id=\"#3d-canvas\"></canvas>"
   ]
  },
  {
   "cell_type": "markdown",
   "metadata": {},
   "source": []
  }
 ],
 "metadata": {
  "kernelspec": {
   "display_name": "Deno",
   "language": "typescript",
   "name": "deno"
  },
  "language_info": {
   "codemirror_mode": "typescript",
   "file_extension": ".ts",
   "mimetype": "text/x.typescript",
   "name": "typescript",
   "nbconvert_exporter": "script",
   "pygments_lexer": "typescript",
   "version": "5.6.2"
  }
 },
 "nbformat": 4,
 "nbformat_minor": 2
}
