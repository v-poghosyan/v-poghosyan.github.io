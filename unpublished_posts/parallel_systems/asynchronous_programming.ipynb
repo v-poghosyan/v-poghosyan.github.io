{
 "cells": [
  {
   "cell_type": "markdown",
   "metadata": {},
   "source": [
    "---\n",
    "title: \"Parallel Programming\"\n",
    "author: \"Vahram Poghosyan\"\n",
    "date: \"2023-01-13\"\n",
    "categories: [\"Functional Programming\", \"Recursion\", \"Scala\"]\n",
    "image: \"functional_programming.png\"\n",
    "format:\n",
    "  html:\n",
    "    toc: true\n",
    "    toc-depth: 5\n",
    "    code-fold: true\n",
    "jupyter: python3\n",
    "include-after-body:\n",
    "  text: |\n",
    "    <script type=\"application/javascript\" src=\"../../javascript/light-dark.js\"></script>\n",
    "---"
   ]
  },
  {
   "cell_type": "markdown",
   "metadata": {},
   "source": [
    "# CPU Threads\n",
    "\n",
    "It all begins with CPU threads.... \n",
    "\n",
    "# Parallelism vs Concurrency vs Asynchronicity\n",
    "\n",
    "**Asynchronicity** is about processes that do not overalap in time. When it comes to **concurrency** and **parallelism**, the distinction is subtle. Quoting [Sun's Multithreaded Programming Guide](https://docs.oracle.com/cd/E19253-01/816-5137/816-5137.pdf):\n",
    "\n",
    "> **Concurrency:** A condition that exists when at least two **threads** are making progress. A more generalized form of parallelism that can include time-slicing as a form of virtual parallelism.\n",
    ">\n",
    "> **Parallelism:** A condition that arises when at least two threads are executing simultaneously.\n",
    "\n",
    "So it appears **concurrency** is more about processes that may overlap somewhat in time, whereas **parallelism** is about processes that literally occupy the same instance/interval in time.\n",
    "\n",
    "\n",
    "All of these use similar or related constructs to help them achieve this. The use of **callbacks**, **promises**, or other constructs is common in handle=ng the execution of asynchronous code (such as file I/O, network requests, or user input). Instead of waiting, it's about not *blocking* the execution of the main program's thread which allows the program to move on to other tasks. When the long-running code is finished, the program is notified and can move on to other tasks. It's all about multi-threaded architecture, and bringing it all together at the end to notify the *calling thread* of the asynchronous code's completion, failure, or progress.\n",
    "\n",
    "These programming paradigms can make our application more responsive and improve its speed, but they can also make the code more complex and harder to debug, as we now have to deal with issues like **synchronization** and the **management of shared resources**. One way to mitigate these problems is **functional programming** which you can read more about [here](../functional_programming/functional_programming.ipynb). \n",
    "\n",
    "\n",
    "\n",
    "|       Metric            |   Useful Plumbing Analogy    |\n",
    "|-------------------|-------------------------- |\n",
    "| Latency           | The amount of time it takes to travel through a tube |\n",
    "| Bandwidth         | How wide the tube is |\n",
    "| Throughput        | The rate of water flow  |\n"
   ]
  }
 ],
 "metadata": {
  "language_info": {
   "name": "python"
  }
 },
 "nbformat": 4,
 "nbformat_minor": 2
}
