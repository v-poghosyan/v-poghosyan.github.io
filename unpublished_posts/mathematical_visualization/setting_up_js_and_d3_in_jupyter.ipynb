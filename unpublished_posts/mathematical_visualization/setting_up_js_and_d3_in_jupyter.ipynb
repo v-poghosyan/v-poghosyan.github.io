{
 "cells": [
  {
   "cell_type": "markdown",
   "metadata": {},
   "source": [
    "---\n",
    "title: \"Using D3 inside Jupyter Notebooks\"\n",
    "author: \"Vahram Poghosyan\"\n",
    "date: \"2024-12-26\"\n",
    "categories: [\"D3\", \"Visualization\", \"JavaScript\", \"TypeScript\"]\n",
    "format:\n",
    "  html:\n",
    "    code-fold: false\n",
    "jupyter: python3\n",
    "include-after-body:\n",
    "  text: |\n",
    "    <script type=\"application/javascript\" src=\"../../javascript/light-dark.js\"></script>\n",
    "---"
   ]
  },
  {
   "cell_type": "markdown",
   "metadata": {},
   "source": [
    "# Introduction\n",
    "\n",
    "In this post we will set up D3 and TypeScrip inside this Jupyter notebook using [Deno](https://deno.com/) which enables us to use modern JavaScript, TypeScript, and `npm` inside of a Jupyter notebook.\n",
    "\n",
    "## Jupyter-Deno Setup\n",
    "\n",
    "Create a Python virtual environment. Then, install [IPython](https://ipython.org/) within it.\n",
    "\n",
    "```\n",
    "pip install ipython\n",
    "```\n",
    "\n",
    "Install [ipykernel](https://pypi.org/project/ipykernel/) which allows IPython to be used as a Juypter kernel.\n",
    "\n",
    "```\n",
    "pip install ipykernel\n",
    "```\n",
    "\n",
    "Now we need a JavaScript runtime environment. [Deno](https://deno.com/) is a new contender to [Node](https://nodejs.org/en). Download and install Deno by issuing the following CURL.\n",
    "\n",
    "```\n",
    "curl -fsSL https://deno.land/install.sh | sh\n",
    "```\n",
    "\n",
    "Now we need to register Deno as a kernel for Jupyter. The following command does the trick.\n",
    "\n",
    "```\n",
    "deno jupyter --install\n",
    "```\n",
    "\n",
    "Note that we may need to activate the Deno kernel. To do so issue this command.\n",
    "\n",
    "```\n",
    "deno jupyter --unstable\n",
    "```\n",
    "\n",
    "Finally, inside our Jupyer editor (for me that's just VS Code), we need to select the Deno kernel.\n",
    "\n",
    "After all of this, let's verify that we can run TypeScript inside a Jupyer notebook."
   ]
  },
  {
   "cell_type": "code",
   "execution_count": 3,
   "metadata": {},
   "outputs": [
    {
     "name": "stdout",
     "output_type": "stream",
     "text": [
      "Hello from a Jupyter notebook!\n"
     ]
    }
   ],
   "source": [
    "console.log(\"Hello from a Jupyter notebook!\")"
   ]
  }
 ],
 "metadata": {
  "kernelspec": {
   "display_name": "Deno",
   "language": "typescript",
   "name": "deno"
  },
  "language_info": {
   "codemirror_mode": "typescript",
   "file_extension": ".ts",
   "mimetype": "text/x.typescript",
   "name": "typescript",
   "nbconvert_exporter": "script",
   "pygments_lexer": "typescript",
   "version": "5.6.2"
  }
 },
 "nbformat": 4,
 "nbformat_minor": 2
}
