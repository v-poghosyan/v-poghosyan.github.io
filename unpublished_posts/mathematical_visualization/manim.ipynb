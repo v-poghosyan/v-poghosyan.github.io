{
 "cells": [
  {
   "cell_type": "markdown",
   "metadata": {},
   "source": [
    "---\n",
    "title: \"Manim - An introduction\"\n",
    "author: \"Vahram Poghosyan\"\n",
    "date: \"2024-10-19\"\n",
    "categories: [\"Manim\", \"Mathematical Modelling\"]\n",
    "format:\n",
    "  html:\n",
    "    code-fold: false\n",
    "    code-line-numbers: true\n",
    "jupyter: python3\n",
    "---"
   ]
  },
  {
   "cell_type": "markdown",
   "metadata": {},
   "source": [
    "# Manim - An introduction\n",
    "\n",
    "## Local IDE setup\n",
    "\n",
    "## Scene object\n",
    "\n",
    "## Drawing things to the scene"
   ]
  }
 ],
 "metadata": {
  "language_info": {
   "name": "python"
  }
 },
 "nbformat": 4,
 "nbformat_minor": 2
}
