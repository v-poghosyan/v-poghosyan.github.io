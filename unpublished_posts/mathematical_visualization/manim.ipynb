{
 "cells": [
  {
   "cell_type": "markdown",
   "metadata": {},
   "source": [
    "---\n",
    "title: \"Manim - An introduction\"\n",
    "author: \"Vahram Poghosyan\"\n",
    "date: \"2024-10-19\"\n",
    "categories: [\"Manim\", \"Mathematical Modelling\"]\n",
    "format:\n",
    "  html:\n",
    "    code-fold: false\n",
    "    code-line-numbers: false\n",
    "    code-tools:\n",
    "      source: https://github.com/v-poghosyan/manim-projects\n",
    "jupyter: python3\n",
    "include-after-body:\n",
    "  text: |\n",
    "    <script type=\"application/javascript\" src=\"../../javascript/light-dark.js\"></script>\n",
    "---"
   ]
  },
  {
   "cell_type": "markdown",
   "metadata": {},
   "source": [
    "# Manim - An introduction\n",
    "\n",
    "## <i class=\"bi bi-laptop\"></i> Local development environment setup\n",
    "\n",
    "[Manim](https://www.manim.community/) ([docs](https://docs.manim.community/en/stable/index.html)) is a custom Python library for mathematical animation. It has two versions,. The first, and original, is maintained by Grant Sanderson himself (the creator of the library and the Stanford professor who goes by the username [3blue1brown](https://www.youtube.com/@3blue1brown) on YouTube). The forked version, called the [Manim community edition](https://github.com/v-poghosyan/manim) enjoys more open source contributions and has the better documentation and support (attentiveness to PRs, etc.). For this series of posts on Manim, I will use the community edition to keep this document relevant.\n",
    "\n",
    "\n",
    "### Python virtual environments\n",
    "\n",
    "Using `virtualenv` (`venv`), let's create an isolated Python environment to contain the Python version and the versions of library dependencies for our Manim projects. Note that `venv` is quite old, and the new way of managing Python environments and packages is [Pipenv](https://pipenv.pypa.io/en/latest/) (a merger of `pip` and `venv`). More on that later... For this project we'll stick with `venv` because I like having physical folders that contain the various environments used across my notes on this site. \n",
    "\n",
    "#### A note on using multiple virtual environment/package managers\n",
    "\n",
    "If you have multiple Python versions installed (through various different environment managers available for Python), do `which pip` or `which pip3` (or `which python`/`which python3`). The former, `pip`, is a package manager that comes pre-installed with a Python installation (it pulls from places like [pypi.org](https://pypi.org/project/opencv-python/4.10.0.84/)), so it will always correspond with some version of Python installed on your machine. \n",
    "\n",
    "In my case, `pip` corresponds to `~/anaconda3/bin/pip` (which is the Python installation that came with [Conda](https://anaconda.org/anaconda/conda)).\n",
    "\n",
    "\n",
    "::: {.callout-note title=\"Note\" appearance=\"minimal\" collapse=\"false\"}\n",
    "You have to be in an active Conda environment to see any sort of meaningful output for `which pip` (assuming, of course, that there's no globally installed version on your machine that's aliased to `pip`. If there is such an aliasing, the [unalias](https://www.ibm.com/docs/en/aix/7.2?topic=u-unalias-command) command can help). \n",
    ":::\n",
    "\n",
    "Conda is an environment and package manager for Python, much like `venv` but also for managing packages (and not just environments). However, it also supports R, C++, and other languages and frameworks. This is typically useful for data science/analysis purposes, not so much in our use case. Conda also lacks support for some Manim community libraries/plugins.\n",
    "\n",
    "The other installation, `pip3`, corresponds to `/opt/homebrew/bin/pip3` which came with the `python3` installation from [Homebrew](https://brew.sh/) (for more on Homebrew, see this [post](../local_development_setup/brew.ipynb)).\n",
    "\n",
    "For more on Conda see this [legacy post](../../unpublished_posts/local_development_setup/set_up_a_local_development_environment_for_ML.ipynb) (legacy posts are unpublished posts that serve as repositories of unorganized thoughts and snippets).\n",
    "\n",
    "::: {.callout-tip title=\"Tip\" appearance=\"minimal\" collapse=\"false\"}\n",
    "Ultimately, having a mess of a Python environment like what we saw above is bad. Very bad. If you find yourself encountering any issues (such as certain libraries that should be installed not being recognized inside the cells, or failures being thrown that have cryptic error messages indicating the problem lies in one of these libraries) clean up your Python environment(s) by uninstalling Homebrew and Conda. For Homebrew: \n",
    "\n",
    "* Check this [README](https://github.com/homebrew/install#uninstall-homebrew) for a `CURL` to run a provided uninstaller. \n",
    "* On Apple Silicon, edit shell configuration file `~/.zprofile` (using `vim`) which sets the `$PATH` variable to give priority to Homebrew packages inside `/opt/homebrew` (for the various different shell configuration files see this [post](../local_development_setup/shell_configs.ipynb)). \n",
    "* Also remove the residual files the uninstaller leaves behind by `sudo rm -rf /opt/homebrew/`\n",
    "  \n",
    "Similar instructions exist for uninstalling [Conda](https://docs.anaconda.com/anaconda/install/uninstall/). At the end of this, `which python` should fail to output anything and `which python3` will correspond to `/usr/bin/python3` (where it's installed through `apt`/`yum` or shipped with the OS). Now you may install [Brew](https://brew.sh/) again, this time stick with [Python 3.9](https://formulae.brew.sh/formula/python@3.9). Then stick to using `pip3.9 install <PackageName>` all the time, or make sure the `python3` in the terminal configuration is correctly linked to the version installed with Homebrew. You can do so by `unalias pip` and `alias pip=pip3.9`.  \n",
    ":::\n",
    "\n",
    "### <i class=\"bi bi-book\"></i> Installation\n",
    "\n",
    "#### (Step 1) Install global prerequisites\n",
    "\n",
    "Manim depends on `py3cairo`, `ffmpeg` and some other dependencies for Apple Silicon machines and LaTeX support.\n",
    "\n",
    "| Library | Installation command |\n",
    "|---------|-------------|\n",
    "| [py3cairo](https://formulae.brew.sh/formula/py3cairo) | `brew install py3cairo` |\n",
    "| [ffmpeg](https://formulae.brew.sh/formula/ffmpeg) | ` brew install ffmpeg` | \n",
    "| [mactex](https://formulae.brew.sh/cask/mactex-no-gui) | `brew install --cask mactex-no-gui` |\n",
    "| [pango](https://formulae.brew.sh/formula/pango) | `brew install pango` |\n",
    "| [pkg-config](https://formulae.brew.sh/formula/pkg-config) | `brew install pkg-config` |\n",
    "| [scipy](https://formulae.brew.sh/formula/scipy) | `brew install scipy` |\n",
    "\n",
    "Execute: \n",
    "\n",
    "```bash\n",
    "brew install py3cairo ffmpeg\n",
    "\n",
    "# Form LaTeX support in Manim\n",
    "brew install --cask mactex-no-gui\n",
    "\n",
    "# Extra dependencies for Apple Silicon\n",
    "brew install pango pkg-config scipy\n",
    "```\n",
    "\n",
    "::: {.callout-tip title=\"Tip\" appearance=\"minimal\" collapse=\"false\"}\n",
    "A combination of `brew info <PackageName>` and `which <PackageName>` can tell us where each package got installed (either in `/opt/homebrew/bin` or `/opt/homebrew/Cellar`).\n",
    ":::\n",
    "\n",
    "\n",
    "#### (Step 2) Create a virtual environment\n",
    "\n",
    "First, create a new virtual environment. Issue the following command in your terminal:\n",
    "\n",
    "```bash\n",
    "python3 -m venv --system-site-package manim-sandbox\n",
    "```\n",
    "\n",
    "::: {.callout-note title=\"Note\" appearance=\"minimal\" collapse=\"false\"}\n",
    "The `--system-site-package` flag ensures the environment will inherit from the global packages installed by Homebrew later on, and therefore get `pycairo` and other dependencies from the Brew installation.\n",
    ":::\n",
    "\n",
    "This will create a folder `/manim-sandbox` in the project's root directory.\n",
    "\n",
    "#### (Step 3) Activate/deactivate virtual environment\n",
    "\n",
    "To activate, issue command:\n",
    "\n",
    "```bash\n",
    "source manim-sandbox/bin/activate\n",
    "```\n",
    "\n",
    "Which runs the `activate` script of the virtual environment.\n",
    "\n",
    "To deactivate, simply do:\n",
    "\n",
    "```bash\n",
    "deactivate\n",
    "```\n",
    "\n",
    "#### (Step 4) Install packages into the environment\n",
    "\n",
    "Inside an active virtual environment, issue `which pip`. The output now is: `~/Documents/github/v-poghosyan.github.io/manim-sandbox/bin/pip` which corresponds to the version of Python installed inside the project's environment folder `manim-sandbox`. This is just what we want. Note that if we do `which pip3` or `which python3` we will still get the versions that are contained within the virtual environment because `venv` creates virtual environments with multiple versions of `pip` and `python` already installed alongside one another (including `pip3`/`python3`).\n",
    "\n",
    "To check if we indeed have a clean slate of an environment, we can do `pip list` which should just show one package, `pip` itself. \n",
    "\n",
    "**Output:**\n",
    "```\n",
    "Package Version\n",
    "------- -------\n",
    "pip     24.0\n",
    "```\n",
    "\n",
    "Let's upgrade pip for good measure. Issue:\n",
    "\n",
    "```bash\n",
    "pip install --upgrade pip\n",
    "```\n",
    "\n",
    "Now, install Manim.\n",
    "\n",
    "```bash\n",
    "pip install manim\n",
    "```\n",
    "\n",
    "::: {.callout-caution title=\"Troubleshooting\" appearance=\"minimal\" collapse=\"false\"}\n",
    "This might hang up on getting *some* of the dependencies (such as, maybe, `opencv-python`) with an error that looks like `Building wheel for opencv-python...`. If you see this, don't just re-try. First, check the version history of the package [on pypi.org](https://pypi.org/project/opencv-python/#history) and then try manually installing that particular dependency with something like:\n",
    "\n",
    "```bash\n",
    "pip install opencv-python==4.7.0.72\n",
    "```\n",
    ":::\n",
    "\n",
    "Optionally, let's also install [jupyter-manim](https://github.com/krassowski/jupyter-manim) which enables the [magic command](https://ipython.readthedocs.io/en/stable/interactive/magics.html) in Jupyter notebooks:\n",
    "\n",
    "```python\n",
    "%%manim -qm <SceneName>\n",
    "```\n",
    "This must be provided at the top of each cell. It is similar to issuing the `manim` command in a terminal (**cell magic** is just Jupyter's equivalent of that).\n",
    "\n",
    "::: {.callout-note title=\"Note\" appearance=\"minimal\" collapse=\"false\"}\n",
    "Magic commands behave exactly like command line commands with their arguments. For example, to display `manim` help options, you can use:\n",
    "\n",
    "```python\n",
    "%%manim -h\n",
    "```\n",
    ":::\n",
    "\n",
    "To add this ability to Jupyter notebooks, install the following package: \n",
    "\n",
    "```bash\n",
    "pip install jupyter-manim\n",
    "```"
   ]
  },
  {
   "cell_type": "markdown",
   "metadata": {},
   "source": [
    "#### (Step 5) Exporting requirements\n",
    "\n",
    "Rather than committing the entire environment to the repository of a project, we commit a `requirements.txt` containing the output of `pip list` generated by: \n",
    "\n",
    "```bash\n",
    "pip freeze > requirements.txt\n",
    "```\n",
    "\n",
    "To get the packages inside this file in a new environment, do:\n",
    "\n",
    "```bash\n",
    "pip install -r requirements.txt\n",
    "```"
   ]
  },
  {
   "cell_type": "markdown",
   "metadata": {},
   "source": [
    "## <i class=\"bi bi-laptop\"></i> Alternate setup\n",
    "\n",
    "Grant Sanderson himself defines a custom script that hooks into a local Python file defining the entire scene. The script continually parses the file looking for certain leading comments (usually before class or function definitions). It then renders the scene only up to that comment, so that the scene pauses at the part of the code he's working on (so that the state of the scene is maintained until that point). He then uses an IDE shortcut to execute that single code block (which is clearly demarcated with a leading comment) inside a Python interpreter. The interpreter then renders the relevant portion of the scene to the output window. In this way, it's possible to incrementally test parts of a scene (mimicking a Jupyter notebook setup). \n",
    "\n",
    "More on this specific setup can be found in the [official Manim YouTube tutorial](https://www.youtube.com/watch?v=rbu7Zu5X1zI&t=549s). \n",
    "\n",
    "I have created a dedicated repository called [manim-projects](https://github.com/v-poghosyan/manim-projects) (which is also linked in the title banner) which will contain my Manim projects and will mimic this setup. However, throughout these notes, I will use `jupyter-manim`'s cell magic `%%manim` to render Manim scenes directly inside the repository containing these notes. When I do so, on my end, the result will get rendered inside `v-poghosyan.github.io/posts/mathematical_visualization/media` directory (and from there I can reference them inside these posts).\n",
    "\n",
    "Now let's draw some actual Manim scenes. \n",
    "\n",
    "# Drawing Manim scenes\n",
    "\n",
    "## The `Scene` object\n",
    "\n",
    "We can now draw out first `Scene`. A guiding principle behind Manim's design is that everything should be transformable into everything else. We can transform shapes into other shapes and even transform text elements into shapes (we will see an example of this shortly). \n",
    "\n",
    "## Square to circle transformation\n",
    "\n",
    "Importing `jupyter-manim` for the access to the `manim` cell magic within these notes."
   ]
  },
  {
   "cell_type": "code",
   "execution_count": 17,
   "metadata": {},
   "outputs": [],
   "source": [
    "import jupyter_manim"
   ]
  },
  {
   "cell_type": "code",
   "execution_count": null,
   "metadata": {},
   "outputs": [],
   "source": [
    "%%manim -qm SquareToCircle\n",
    "\n",
    "from manim import *\n",
    "\n",
    "class SquareToCircle(Scene):\n",
    "    def construct(self):\n",
    "        # Adding simple geometry\n",
    "        circle = Circle()\n",
    "        square = Square()\n",
    "\n",
    "        # Animating geometry\n",
    "        self.play(Create(square))\n",
    "        self.play(Transform(square,circle))\n",
    "        self.play(FadeOut(square))"
   ]
  },
  {
   "cell_type": "markdown",
   "metadata": {},
   "source": [
    "Here I have manually referenced the video created by Manim in the aforementioned `/media` directory within the post category directory (`/mathematical_visualization`).\n",
    "\n",
    "\n",
    "::: {#fig-square-to-circle-manim}\n",
    "![Square to Circle Manim Animation](./media/videos/mathematical_visualization/720p30/SquareToCircle.mp4) \n",
    ":::"
   ]
  },
  {
   "cell_type": "markdown",
   "metadata": {},
   "source": [
    "As we can see from the Manim code above: \n",
    "\n",
    "1. Everything in Manim derives from the `Scene` class which offers a `constructor` method. \n",
    "2. In this `constructor` method, we define every object that's in our scene, every transformation, and every other sequence of actions. Everything interesting, in short, happens inside the `constructor`. "
   ]
  },
  {
   "cell_type": "markdown",
   "metadata": {},
   "source": [
    "## Rendering text\n",
    "\n",
    "Let's do some stuff with `Text`."
   ]
  },
  {
   "cell_type": "code",
   "execution_count": null,
   "metadata": {},
   "outputs": [],
   "source": [
    "%%manim -qm HelloWorld\n",
    "\n",
    "from manim import *\n",
    "\n",
    "class HelloWorld(Scene):\n",
    "    def construct(self):\n",
    "        # Adding simple text\n",
    "        text = Text(\"Hello World!\", font_size=42)\n",
    "\n",
    "        # Rendering text\n",
    "        self.play(Write(text, run_time=3))\n",
    "        self.play(FadeOut(text))\n",
    "        "
   ]
  },
  {
   "cell_type": "markdown",
   "metadata": {},
   "source": [
    "::: {#fig-hello-world-manim}\n",
    "![Hello World Manim Animation](./media/videos/mathematical_visualization/720p30/HelloWorld.mp4) \n",
    ":::"
   ]
  },
  {
   "cell_type": "markdown",
   "metadata": {},
   "source": [
    "You'll notice that the text has **property** `font_size` which we set to `42`. There are more of these properies that Mobjects have, here are several (more will be introduced later):\n",
    "\n",
    "| Property | Description |\n",
    "|----------|-------------|\n",
    "| `font_size` | The size of the text (e.g. `42`) |\n",
    "| `color` | The color of the text (e.g. `BLUE`, `GREEN`) |\n",
    "| `fill_opacity` | The font of the text (e.g. `0.8`) |"
   ]
  },
  {
   "cell_type": "markdown",
   "metadata": {},
   "source": [
    "### Text to square to circle transformation\n",
    "\n",
    "A core design philosophy of Manim is that everything should be transformable into everything else. We can transform shapes into other shapes and even transform text elements into shapes. Let's see an example of this now.\n",
    "\n",
    "We will transform the text \"Hello World!\" into a circle, which will then morph into a square. To see how to index into the `Text` object, we'll only transform an individual character of the text into the Manim object (or **Mobject**, in short)."
   ]
  },
  {
   "cell_type": "code",
   "execution_count": null,
   "metadata": {},
   "outputs": [],
   "source": [
    "%%manim -qm HelloWorldToSquareToCircle\n",
    "\n",
    "from manim import *\n",
    "\n",
    "class HelloWorldToSquareToCircle(Scene):\n",
    "    def construct(self):\n",
    "        # Adding simple text\n",
    "        text = Text(\"Hello World!\", font_size=42)\n",
    "        text.to_edge(UP)\n",
    "\n",
    "        # Adding simple geometry        \n",
    "        circle = Circle()\n",
    "        square = Square()\n",
    "\n",
    "        # Rendering text\n",
    "        self.play(Write(text, run_time=3))\n",
    "\n",
    "        # Transforming the text into a square\n",
    "        self.play(Transform(text[0], square))\n",
    "\n",
    "        # Animating geometry\n",
    "        self.play(Transform(text[0], circle))\n",
    "        self.play(FadeOut(text[0]))\n"
   ]
  },
  {
   "cell_type": "markdown",
   "metadata": {},
   "source": [
    "::: {.callout-note title=\"Note\" appearance=\"minimal\" collapse=\"false\"}\n",
    "There's a quirk in the way Manim reads syntactically... One would hope to say `Transform(text[0], square)`, then `Transform(square, circle)`, and finally `FadeOut(circle)`. However, the square *is* the transformed `text[0]` Mobject, and the circle continues to be that very same Mobject, so we continue referring to it as that. Later on we'll see how to organize our code to get around this problem. \n",
    ":::"
   ]
  },
  {
   "cell_type": "markdown",
   "metadata": {},
   "source": [
    "::: {#fig-hello-world-manim}\n",
    "![Hello World to Square to Circle Manim Animation](./media/videos/mathematical_visualization/720p30/HelloWorldToSquareToCircle.mp4) \n",
    ":::"
   ]
  },
  {
   "cell_type": "markdown",
   "metadata": {},
   "source": []
  },
  {
   "cell_type": "markdown",
   "metadata": {},
   "source": [
    "## Different ways of rendering objects - add, play, wait\n",
    "\n",
    "Note that we can also render objects by using `add` (see [docs](https://docs.manim.community/en/stable/reference/manim.scene.scene.Scene.html#manim.scene.scene.Scene.add)), as opposed to `play` (see [docs](https://docs.manim.community/en/stable/reference/manim.scene.scene.Scene.html#manim.scene.scene.Scene.play)). The difference is that play is animated, while add is not."
   ]
  },
  {
   "cell_type": "markdown",
   "metadata": {},
   "source": [
    "## Axes and other math-y stuff\n",
    "\n",
    "What's the point of using a mathematical animation library if we can't animate math? Let's see how to animate some math-y stuff with Manim."
   ]
  },
  {
   "cell_type": "code",
   "execution_count": null,
   "metadata": {},
   "outputs": [],
   "source": [
    "%%manim -qm MathDemo\n",
    "\n",
    "from manim import *\n",
    "\n",
    "class MathDemo(Scene):\n",
    "    def construct(self):\n",
    "        # Adding axes\n",
    "        ax = Axes(x_range=(-3,3,1), y_range=(-3,3,1))\n",
    "        self.add(ax)\n",
    "\n",
    "        # Adding a quadratic polynomial with zeros at x=0, and x=2\n",
    "        poly = ax.plot(lambda x: -x * (x-2), color=RED)\n",
    "        self.add(poly)\n",
    "\n",
    "        # Highlighting the area under the graph on [0,2]\n",
    "        area = ax.get_area(poly, x_range=(0,2), opacity=0.3)\n",
    "        self.add(area)"
   ]
  },
  {
   "cell_type": "markdown",
   "metadata": {},
   "source": [
    "But because we're using the `add` method of `Scene` instead of `play`, we're not producing animations. We'll fix that shortly, but first let's look at the general mechanism of Manim's animation system."
   ]
  },
  {
   "cell_type": "markdown",
   "metadata": {},
   "source": [
    "#### Animation system in Manim\n",
    "\n",
    "while `Scene.add` adds Mobjects immediately to the scene, and `Scane.wait` adds a pause, `Scene.play` plays animations (or **Manimations**...). \n",
    "\n",
    "Animations can:\n",
    "\n",
    "* add Mobjects (e.g. `Create`, `FadeIn`, ...)\n",
    "* change Mobjects (e.g. `Transform`)\n",
    "* emphasize Mobjects (e.g. `Indicate`, `Circumscribe`, ...)\n",
    "* remove Mobjects (e.g. `Uncreate`, `FadeOut`, ...)\n",
    "\n",
    "Now let's go back to our math-y example and animate it!"
   ]
  },
  {
   "cell_type": "code",
   "execution_count": null,
   "metadata": {},
   "outputs": [],
   "source": [
    "%%manim -qm MathDemo\n",
    "\n",
    "from manim import *\n",
    "\n",
    "class MathDemo(Scene):\n",
    "    def construct(self):\n",
    "        # Adding axes\n",
    "        ax = Axes(x_range=(-3,3,1), y_range=(-3,3,1), color=BLACK)\n",
    "\n",
    "        # Adding a quadratic polynomial with zeros at x=0, and x=2\n",
    "        poly = ax.plot(lambda x: -x * (x-2), color=RED)\n",
    "\n",
    "        # Highlighting the area under the graph on [0,2]\n",
    "        area = ax.get_area(poly, x_range=(0,2), opacity=0.3)\n",
    "        self.play(Create(ax), Create(poly), run_time=3)\n",
    "        self.play(FadeIn(area))"
   ]
  },
  {
   "cell_type": "markdown",
   "metadata": {},
   "source": [
    "::: {#fig-hello-world-manim}\n",
    "![Math Demo Manim Animation](./media/videos/mathematical_visualization/720p30/MathDemo.mp4) \n",
    ":::"
   ]
  }
 ],
 "metadata": {
  "kernelspec": {
   "display_name": "manim-playground",
   "language": "python",
   "name": "python3"
  },
  "language_info": {
   "codemirror_mode": {
    "name": "ipython",
    "version": 3
   },
   "file_extension": ".py",
   "mimetype": "text/x-python",
   "name": "python",
   "nbconvert_exporter": "python",
   "pygments_lexer": "ipython3",
   "version": "3.9.6"
  }
 },
 "nbformat": 4,
 "nbformat_minor": 2
}
