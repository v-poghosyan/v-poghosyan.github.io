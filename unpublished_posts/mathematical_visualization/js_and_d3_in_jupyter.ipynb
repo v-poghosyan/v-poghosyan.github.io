{
 "cells": [
  {
   "cell_type": "markdown",
   "metadata": {},
   "source": [
    "---\n",
    "title: \"Using JavaScript and D3 in Jupyter\"\n",
    "author: \"Vahram Poghosyan\"\n",
    "date: \"2024-12-26\"\n",
    "categories: [\"D3\", \"Visualization\", \"JavaScript\"]\n",
    "format:\n",
    "  html:\n",
    "    code-fold: false\n",
    "jupyter: python3\n",
    "include-after-body:\n",
    "  text: |\n",
    "    <script type=\"application/javascript\" src=\"../../javascript/light-dark.js\"></script>\n",
    "---"
   ]
  },
  {
   "cell_type": "markdown",
   "metadata": {},
   "source": [
    "By far the quickest, and dirtiest way to use D3 in Jupyter notebooks is using the Jupyter kernel. This poses disadvantages, namely that we need to write the JavaScript and D3 code non-interactively, then pass it as a raw string inside a `<script>` tag. We may stub some data fields (like `$data`) and, on-the-fly, switch out the stub with data gathered using Python. But we can also use [Deno](https://deno.com/), a JavaScript runtime environment from the maker of Node.js, as a kernel instead (more on that [here](./js_and_d3_in_jupyter_with_deno.ipynb))\n",
    "\n",
    "Let's look at a minimal example."
   ]
  },
  {
   "cell_type": "code",
   "execution_count": 22,
   "metadata": {},
   "outputs": [],
   "source": [
    "from IPython.display import display, HTML\n"
   ]
  },
  {
   "cell_type": "code",
   "execution_count": 23,
   "metadata": {},
   "outputs": [
    {
     "data": {
      "text/html": [
       "<p> Hello world! </p>"
      ],
      "text/plain": [
       "<IPython.core.display.HTML object>"
      ]
     },
     "metadata": {},
     "output_type": "display_data"
    }
   ],
   "source": [
    "display(HTML('<p> Hello world! </p>'));"
   ]
  },
  {
   "cell_type": "markdown",
   "metadata": {},
   "source": [
    "Let's get some simple styling options."
   ]
  },
  {
   "cell_type": "code",
   "execution_count": 24,
   "metadata": {},
   "outputs": [
    {
     "data": {
      "text/html": [
       "\n",
       "<style scoped>\n",
       ".steely {\n",
       "    color: steelblue;\n",
       "    font: 16px script;\n",
       "}\n",
       "</style»\n",
       "<p class=\"steely\"> Hello world! </p>\n"
      ],
      "text/plain": [
       "<IPython.core.display.HTML object>"
      ]
     },
     "metadata": {},
     "output_type": "display_data"
    }
   ],
   "source": [
    "display(HTML('''\n",
    "<style scoped>\n",
    ".steely {\n",
    "    color: steelblue;\n",
    "    font: 16px script;\n",
    "}\n",
    "</style»\n",
    "<p class=\"steely\"> Hello world! </p>\n",
    "'''\n",
    "));"
   ]
  },
  {
   "cell_type": "markdown",
   "metadata": {},
   "source": [
    "D3 is a JavaScript library for visualization. The D-s in D3 are for \"Data Driven Documents.\" Think DOM elements that are styled, positioned, scaled, etc. based on data...\n",
    "\n",
    "A core pattern in D3 is the following:\n",
    "\n",
    "1. Select some array of DOM elements\n",
    "2. 'Attach' an array of data to that array of DOM elements\n",
    "3. Perform some actions for each DOM element formed from the data array"
   ]
  },
  {
   "cell_type": "code",
   "execution_count": null,
   "metadata": {},
   "outputs": [],
   "source": [
    "// Imports: D3, TopoJSON, and Linkedom\n",
    "import * as d3 from \"npm:d3\";\n",
    "import * as topojson from \"npm:topojson\";\n",
    "import { DOMParser } from \"npm:linkedom\";\n",
    "\n",
    "// Create a fake DOM via Linkedom\n",
    "const document = new DOMParser().parseFromString(\n",
    "  `<!DOCTYPE html><html lang=\"en\"><head></head><body></body></html>`,\n",
    "  \"text/html\",\n",
    ");\n",
    "\n",
    "// Fetch and parse the US map TopoJSON\n",
    "const url = \"https://cdn.jsdelivr.net/npm/us-atlas@3/states-10m.json\";\n",
    "const us = await (await fetch(url)).json();\n",
    "const states = topojson.feature(us, us.objects.states) as any; // GeoJSON 'FeatureCollection'\n",
    "\n",
    "// Create an <svg> using Linkedom's fake DOM using D3\n",
    "const width = 975;\n",
    "const height = 610;\n",
    "const body = d3.select(document.body);\n",
    "body\n",
    "  .append(\"p\")\n",
    "  .text(\"💡 Tip: Try hovering over a county!\")\n",
    "  .style(\"text-align\", \"center\")\n",
    "const svg = body\n",
    "  .append(\"svg\")\n",
    "  .attr(\"xmlns\", \"http://www.w3.org/2000/svg\") \n",
    "  .attr(\"width\", width)\n",
    "  .attr(\"height\", height)\n",
    "  .attr(\"viewBox\", `0 0 ${width} ${height}`);\n",
    "const mapGroup = svg.append(\"g\");\n",
    "\n",
    "// Create a geo-projection & path generator\n",
    "const projection = d3.geoAlbersUsa().fitSize([width, height], states);\n",
    "const path = d3.geoPath(projection);\n",
    "\n",
    "const statesGroup = mapGroup.append(\"g\")\n",
    "  .attr(\"fill\", \"#EBE8E7\")\n",
    "  .attr(\"stroke\", \"#191516\")\n",
    "\n",
    "// Append a <path> per state\n",
    "statesGroup.selectAll(\"path\")\n",
    "  .data(states.features)\n",
    "  .join(\"path\")\n",
    "  // Add attributes to each <path>\n",
    "  .on(\"mouseover\", mouseover)\n",
    "  .attr(\"cursor\", \"pointer\")\n",
    "  .attr(\"onmouseover\", \"this.style.fill = '#F9C22E';\")\n",
    "  .attr(\"onmouseout\", \"this.style.fill = '#EBE8E7';\")\n",
    "  .attr(\"d\", path);\n",
    "\n",
    "function mouseover(event, d) {\n",
    "  console.log(\"HERE\")\n",
    "}"
   ]
  }
 ],
 "metadata": {
  "kernelspec": {
   "display_name": "manim-sandbox",
   "language": "python",
   "name": "python3"
  },
  "language_info": {
   "codemirror_mode": {
    "name": "ipython",
    "version": 3
   },
   "file_extension": ".py",
   "mimetype": "text/x-python",
   "name": "python",
   "nbconvert_exporter": "python",
   "pygments_lexer": "ipython3",
   "version": "3.9.20"
  }
 },
 "nbformat": 4,
 "nbformat_minor": 2
}
