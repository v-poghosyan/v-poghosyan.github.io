{
 "cells": [
  {
   "cell_type": "markdown",
   "metadata": {},
   "source": [
    "---\n",
    "title: \"Merge Sort\"\n",
    "author: \"Vahram Poghosyan\"\n",
    "date: \"2024-12-21\"\n",
    "categories: [\"Algorithms\", \"Sorting\"]\n",
    "format:\n",
    "  html:\n",
    "    toc: true\n",
    "    toc-depth: 5\n",
    "    code-fold: true\n",
    "jupyter: python3\n",
    "include-after-body:\n",
    "  text: |\n",
    "    <script type=\"application/javascript\" src=\"../../javascript/light-dark.js\"></script>\n",
    "---"
   ]
  },
  {
   "cell_type": "markdown",
   "metadata": {},
   "source": [
    "**Mergesort** consists of two phases (or subroutines). The function `mergesort` itself (i.e. the *divide* phase), and `merge` (or the *conquer*) phase. `mergesort` divides the problem into two half-sized sub-problems recursively. At any given stack frame of `mergesort`, once both recursive calls exit, we're left with two separately ordered subarrays that the `merge` subroutine accepts, and merges together while preserving sortedness of the result. \n",
    "\n",
    "Like most sorting algorithms, Mergsort is $O(n * log n)$ and, in this case, it's easy to intuit why. The process of dividing an $n$-sized array into equal halves can be done, loosely speaking, $log n$ times. Each time it's done, the `merge` subroutine will be called which takes $O(n)$ time to merge the resulting half-sized sub-arrays.\n",
    "\n",
    "As a sidenote: Quicksort is a similar algorithm, in that it splits the list, but whwreas Mergestor has O(n) memory complexity, mergesort is in-place and has only $O(1)$ memory complexity.\n",
    "\n",
    "First let's write down the algorithm, then we will visualize it using Manim."
   ]
  }
 ],
 "metadata": {
  "language_info": {
   "name": "python"
  }
 },
 "nbformat": 4,
 "nbformat_minor": 2
}
