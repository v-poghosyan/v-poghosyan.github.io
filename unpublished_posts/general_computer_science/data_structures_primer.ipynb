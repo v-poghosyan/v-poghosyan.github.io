{
 "cells": [
  {
   "cell_type": "markdown",
   "metadata": {},
   "source": [
    "---\n",
    "title: \"Data Structures Primer\"\n",
    "author: \"Vahram Poghosyan\"\n",
    "date: \"2023-01-13\"\n",
    "categories: [\"Data Structures\"]\n",
    "image: \"recursion.png\"\n",
    "format:\n",
    "  html:\n",
    "    toc: true\n",
    "    toc-depth: 5\n",
    "    code-fold: true\n",
    "jupyter: python3\n",
    "include-after-body:\n",
    "  text: |\n",
    "    <script type=\"application/javascript\" src=\"../../javascript/light-dark.js\"></script>\n",
    "---"
   ]
  },
  {
   "cell_type": "markdown",
   "metadata": {},
   "source": [
    "# Graphs\n",
    "\n",
    "All trees are graphs, but not all graphs are trees. Graphs that are acyclic are trees. \n",
    "\n",
    "But how do you represent a tree data structure anyway? "
   ]
  },
  {
   "cell_type": "code",
   "execution_count": 1,
   "metadata": {},
   "outputs": [
    {
     "name": "stdout",
     "output_type": "stream",
     "text": [
      "-----Graph-----\n",
      "\n",
      "╠11: ['C10', '═21']\n",
      "C10: ['╠11']\n",
      "═21: ['╠11']\n",
      "\n"
     ]
    }
   ],
   "source": [
    "class Graph:\n",
    "    def __init__(self):\n",
    "        self.graph = {}  # Initialize the adjacency list\n",
    "\n",
    "    def add_vertex(self, v):\n",
    "        if v not in self.graph:\n",
    "            self.graph[v] = []  # Add a new vertex with an empty adjacency list\n",
    "\n",
    "    def add_edge(self, v1, v2):\n",
    "        # Assuming an undirected graph...\n",
    "        if v1 in self.graph:\n",
    "            self.graph[v1].append(v2)\n",
    "        else:\n",
    "            self.graph[v1] = [v2]\n",
    "        \n",
    "        if v2 in self.graph:\n",
    "            self.graph[v2].append(v1)\n",
    "        else:\n",
    "            self.graph[v2] = [v1]\n",
    "\n",
    "    def __repr__(self): # String representation of object for logging\n",
    "        print(f\"-----{type(self).__name__}-----\\n\")\n",
    "        string_repr = \"\" # Initialize the string representation\n",
    "        for v, e in self.graph.items():\n",
    "            string_repr += f\"{v}: {e}\\n\"\n",
    "        return string_repr\n",
    "\n",
    "# Example usage\n",
    "g = Graph()\n",
    "g.add_vertex('╠11')\n",
    "g.add_vertex('C10')\n",
    "g.add_edge('╠11', 'C10')\n",
    "g.add_edge('╠11', '═21')  # Our add_edge assumes ═21 is automatically added as a vertex\n",
    "print(g)"
   ]
  }
 ],
 "metadata": {
  "kernelspec": {
   "display_name": "personal_blog",
   "language": "python",
   "name": "python3"
  },
  "language_info": {
   "codemirror_mode": {
    "name": "ipython",
    "version": 3
   },
   "file_extension": ".py",
   "mimetype": "text/x-python",
   "name": "python",
   "nbconvert_exporter": "python",
   "pygments_lexer": "ipython3",
   "version": "3.11.5"
  }
 },
 "nbformat": 4,
 "nbformat_minor": 2
}
