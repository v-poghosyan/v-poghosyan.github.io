{
 "cells": [
  {
   "cell_type": "markdown",
   "metadata": {},
   "source": [
    "---\n",
    "title: \"Recursion Optimizations\"\n",
    "author: \"Vahram Poghosyan\"\n",
    "date: \"2023-01-13\"\n",
    "categories: [\"Recursion\", \"Functional Programming\"]\n",
    "format:\n",
    "  html:\n",
    "    toc: true\n",
    "    toc-depth: 5\n",
    "    code-fold: true\n",
    "jupyter: python3\n",
    "include-after-body:\n",
    "  text: |\n",
    "    <script type=\"application/javascript\" src=\"../../javascript/light-dark.js\"></script>\n",
    "---"
   ]
  },
  {
   "cell_type": "markdown",
   "metadata": {},
   "source": [
    "# Recursion Optimizations\n",
    "\n",
    "Recursive algorithms, while elegant and expressive, can sometimes lead to performance issues due to the overhead of function calls and potential for repeated computations. Several optimization techniques can be employed to enhance their efficiency. One common method is **memoization**, which stores the results of expensive function calls and reuses them when the same inputs occur again, avoiding repeated computations. Another technique is **tail recursion optimization**, where the recursive call is the final operation in the function, allowing the system to reuse the current stack frame for each recursive call. Tail recursion optimization reduces the space complexity from $O(n)$ to $O(1)$. Additionally, **iterative solutions** can often be more efficient than their recursive counterparts, so converting a recursive algorithm to an iterative one can be considered an optimization. Understanding these techniques, and variations on them, can greatly improve the performance of our recursive algorithms."
   ]
  },
  {
   "cell_type": "markdown",
   "metadata": {},
   "source": [
    "#### Tail Recursion - Avoiding Stack Overflow\n",
    "\n",
    "**Stack overflow** (which is when the system runs out of short term memory) is a common concern when working with recursive functions or when doing [functional programming](../functional_programming/functional_programming.ipynb), where function composition is the mode in which we think. **Tail recursion optimization** helps us drastically cut the number of stack frames and, as mentioned earlier, makes our recursive algorithms take a constant amount of space instead of a linear amount (or worse).\n",
    "\n",
    "\n",
    "##### Classic Example: Factorial\n",
    "\n",
    "Let's take the classic example of calculating a factorial. \n",
    "\n",
    "**Naive Recursive Implementation:**"
   ]
  },
  {
   "cell_type": "code",
   "execution_count": 2,
   "metadata": {},
   "outputs": [
    {
     "data": {
      "text/plain": [
       "24"
      ]
     },
     "execution_count": 2,
     "metadata": {},
     "output_type": "execute_result"
    }
   ],
   "source": [
    "#| code-fold: false\n",
    "def factorial(n):\n",
    "    if n == 0: # Base case: 0! = 1\n",
    "        return 1\n",
    "    else: \n",
    "        return n * factorial(n-1) # Recursive step\n",
    "\n",
    "factorial(4)"
   ]
  },
  {
   "cell_type": "markdown",
   "metadata": {},
   "source": [
    "From the below untangled definition of factorial (for $n=4$) we can surmise what goes on in the stack. The stack first fills up with stack frames for `factorial(n)` down to `factorial(0)`, which is the last frame on the stack before it begins to pop and actual evaluation happens. \n",
    "\n",
    "$$\n",
    "\\begin{equation}\n",
    "    \\begin{split}\n",
    "        factorial(4) & = 4 * factorial(3) \\\\\n",
    "        & = 4 * (3 * factorial(2)) \\\\\n",
    "        & = 4 * (3 * (2 * factorial(1))) \\\\\n",
    "        & = 4 * (3 * (2 * (1 * factorial(0)))) \\\\\n",
    "        & = 4 * (3 * (2 * (1 * 1))) \\\\ \n",
    "        & = 4 * (3 * (2 * 1)) \\\\\n",
    "        & = 4 * (3 * 2) \\\\\n",
    "        & = 4 * 6 \\\\\n",
    "        & = 24 \n",
    "    \\end{split}\n",
    "\\end{equation}\n",
    "$$\n",
    "\n",
    "As we can see the function is called for $n = 4$ down to the base case of $n = 0$ (each call stacking up in memory) before evaluation even begins. Evaluation then happens step-by-step inside each stack frame until all of them have popped. \n",
    "\n",
    "It's not immediately clear how to make the calls independent of each other given that there is a multiplicative factor in front of the recursive call (which is what makes this particular function *fail* to be tail-recursive). It helps to think in terms of *carried state*. In this case the idea is simple, if we can carry the state of the current stack frame into the next one as input, then we can pop each frame right after it calls the next frame. Why? Because at that point, having carried its state into the next frame, the current frame exhausts its usefulness.\n",
    "\n",
    "In the case of the factorial function above, this means that in the tail-recursive implementation the stack is not filled up with as many frames of recursive `factorial` calls as the input ($n$) is big. There are still $n$ total calls, however the memory used in the stack is held constant (at a single frame in this case) as each old frame gives way to the new one. \n",
    "\n",
    "So, for now, let's *define* a magic function called `go(n,acc)` with inputs `n` and what's called an *accumulator* `acc` such that `factorial(n) := go(n,1)`. We take this to be *by construction*. The function `go` will be the *tail-recursive helper* of `factorial`. The accumulator `acc`, which is initialized to `1`, will be used to remember the state inside the current stack frame (in this case just the multiplicative factor before the recursive call). \n",
    "\n",
    "But so far we've only given `go(n, acc)` its desired properties without actually defining it. The following is the tail-recursive version of factorial which includes the definition of `go`. \n",
    "\n",
    "**Tail-Recursive Factorial:**"
   ]
  },
  {
   "cell_type": "code",
   "execution_count": 16,
   "metadata": {},
   "outputs": [
    {
     "name": "stdout",
     "output_type": "stream",
     "text": [
      "24\n"
     ]
    }
   ],
   "source": [
    "#| code-fold: false\n",
    "def factorial(n):\n",
    "    def go(n,acc): # Helper function with an accumulator\n",
    "        if n == 0: # Base case: 0! = 1\n",
    "            return acc\n",
    "        else:\n",
    "            return go(n-1, n * acc) # Tail-recusrive step\n",
    "        \n",
    "    return go(n,1) # Delegate the problem solution to a helper function\n",
    "\n",
    "factorial(4)"
   ]
  },
  {
   "cell_type": "markdown",
   "metadata": {},
   "source": [
    "Let's unpack this: \n",
    "\n",
    "$$\n",
    "\\begin{equation}\n",
    "    \\begin{split}\n",
    "        factorial(4) & = go(4,1) \\\\\n",
    "        & = go(3,4) \\\\\n",
    "        & = go(2,12) \\\\\n",
    "        & = go(1,24) \\\\\n",
    "        & = go(0,24) \\\\ \n",
    "        & = 24\n",
    "    \\end{split}\n",
    "\\end{equation}\n",
    "$$\n",
    "\n",
    "Right away we can see that, with this approach, we can pop the previous stack frame at any time without losing any information it holds because all state is carried over from the previous frame into the current one by the accumulator and, finally, returned at the end. A visual cue of this fact is that in the expression above evaluation happens immediately, rather than step-by-step (with each step corresponding to the popping of a stack frame), as is the case in the naive implementation.\n",
    "\n",
    "::: {.callout-tip title=\"Note\" appearance=\"minimal\" collapse=\"false\"}\n",
    "It's important to note that this effort only pays off if the language compiler in question supports **TCO** (**Tail Call Optimization**). Most, in fact, do. If the language supports TCO the compiler can recognize tail calls and simply pop the current stack frame after the recursive call, replacing it with the subsequent call (rather than blindly stacking frames on top of each other as in the naive recursive algorithm)\n",
    ":::"
   ]
  },
  {
   "cell_type": "markdown",
   "metadata": {},
   "source": []
  }
 ],
 "metadata": {
  "kernelspec": {
   "display_name": "Python 3",
   "language": "python",
   "name": "python3"
  },
  "language_info": {
   "codemirror_mode": {
    "name": "ipython",
    "version": 3
   },
   "file_extension": ".py",
   "mimetype": "text/x-python",
   "name": "python",
   "nbconvert_exporter": "python",
   "pygments_lexer": "ipython3",
   "version": "3.11.5"
  }
 },
 "nbformat": 4,
 "nbformat_minor": 2
}
