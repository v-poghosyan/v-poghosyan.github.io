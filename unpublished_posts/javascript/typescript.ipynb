{
 "cells": [
  {
   "cell_type": "markdown",
   "metadata": {},
   "source": [
    "---\n",
    "title: \"TypeScript - An Introduction\"\n",
    "author: \"Vahram Poghosyan\"\n",
    "date: \"2025-04-15\"\n",
    "categories: [\"TypeScript\"]\n",
    "format:\n",
    "  html:\n",
    "    code-fold: false\n",
    "    code-line-numbers: false\n",
    "    code-tools:\n",
    "      source: https://github.com/v-poghosyan/manim-projects\n",
    "jupyter: python3\n",
    "include-after-body:\n",
    "  text: |\n",
    "    <script type=\"application/javascript\" src=\"../../javascript/light-dark.js\"></script>\n",
    "---"
   ]
  },
  {
   "cell_type": "markdown",
   "metadata": {},
   "source": [
    "```ts\n",
    "<T extends (...args: any[]) => any>\n",
    "```\n",
    "\n",
    "Defines a generic function type that takes any number of `any` type arguments and returns an `any` type. This is as generic as it gets. \n",
    "\n",
    "```ts\n",
    "function debounce<T extends (...args: any[]) => any>(func: T, wait: number) {\n",
    "    // ...implementation...\n",
    "}\n",
    "```\n",
    "Then we declare `debounce` to take such a function (of generic type `T`) as one of its arguments, the other being of a simple `number` type.\n",
    "\n",
    "In our specific case `debounce` takes `deleteActivity` (well, wrapped inside an anonymous function which `calls` it, in order to include any necessary environment with the call). We can think of this as dependency injection. The other parameter `debounce` takes is, of course, the number signifying the time. Both are simply just passed to `clearTimeout` by `debounce`. \n",
    "\n"
   ]
  }
 ],
 "metadata": {
  "language_info": {
   "name": "python"
  }
 },
 "nbformat": 4,
 "nbformat_minor": 2
}
