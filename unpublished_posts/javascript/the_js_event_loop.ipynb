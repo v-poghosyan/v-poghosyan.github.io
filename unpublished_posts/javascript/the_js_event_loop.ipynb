{
 "cells": [
  {
   "cell_type": "code",
   "execution_count": null,
   "metadata": {
    "vscode": {
     "languageId": "plaintext"
    }
   },
   "outputs": [],
   "source": [
    "---\n",
    "title: \"The JavaScript Event Loop\"\n",
    "author: \"Vahram Poghosyan\"\n",
    "date: \"2025-04-15\"\n",
    "categories: [\"JavaScript\", \"Concurrency\", \"Event Loop\"]\n",
    "format:\n",
    "  html:\n",
    "    code-fold: false\n",
    "    code-line-numbers: false\n",
    "    code-tools:\n",
    "      source: https://github.com/vahram-pg/manim-projects\n",
    "jupyter: python3\n",
    "include-after-body:\n",
    "  text: |\n",
    "    <script type=\"application/javascript\" src=\"../../javascript/light-dark.js\"></script>\n",
    "---"
   ]
  },
  {
   "cell_type": "markdown",
   "metadata": {},
   "source": [
    "# debounce \n",
    "\n",
    "A wrapper over `setTimeout(func, wait)` which calls a function `func` after a certain `wait` period. The advantage provided by the Debounce layer over direct use of `setTimeout(func, wait)` inside `addEventListener` is this:\n",
    "\n",
    "Each scroll event doesn't trigger a new timeout without clearing the previous one first using `clearTimeout(timeout)`. It's irrelevant that `debounce` returns a function, it just does so to satisfy the higher-order requirement of the function `addEventListener`. Debounce also receives an annonymous function to pipe it to the `setTimeout` for use.\n",
    "\n",
    "```ts\n",
    "/**\n",
    " * Creates a debounced version of a function that delays execution\n",
    " * until after the specified wait time has elapsed since the last call.\n",
    " * \n",
    " * @param func The function to debounce\n",
    " * @param wait The time to wait in milliseconds\n",
    " * @returns A debounced version of the original function\n",
    " */\n",
    "\n",
    "function debounce<T extends (...args: any[]) => any> {\n",
    "    let timeout;\n",
    "    return function() {\n",
    "        clearTimeout(timeout);\n",
    "        timeout = setTimeout(func, wait);\n",
    "    };\n",
    "}\n",
    "```\n"
   ]
  }
 ],
 "metadata": {
  "language_info": {
   "name": "python"
  }
 },
 "nbformat": 4,
 "nbformat_minor": 2
}
