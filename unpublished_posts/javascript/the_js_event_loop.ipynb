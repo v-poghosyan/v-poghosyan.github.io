{
 "cells": [
  {
   "cell_type": "code",
   "execution_count": null,
   "metadata": {
    "vscode": {
     "languageId": "plaintext"
    }
   },
   "outputs": [],
   "source": [
    "---\n",
    "title: \"The JavaScript Event Loop\"\n",
    "author: \"Vahram Poghosyan\"\n",
    "date: \"2025-04-15\"\n",
    "categories: [\"JavaScript\", \"Concurrency\", \"Event Loop\"]\n",
    "format:\n",
    "  html:\n",
    "    code-fold: false\n",
    "    code-line-numbers: false\n",
    "    code-tools:\n",
    "      source: https://github.com/v-poghosyan/manim-projects\n",
    "jupyter: python3\n",
    "include-after-body:\n",
    "  text: |\n",
    "    <script type=\"application/javascript\" src=\"../../javascript/light-dark.js\"></script>\n",
    "---"
   ]
  }
 ],
 "metadata": {
  "language_info": {
   "name": "python"
  }
 },
 "nbformat": 4,
 "nbformat_minor": 2
}
