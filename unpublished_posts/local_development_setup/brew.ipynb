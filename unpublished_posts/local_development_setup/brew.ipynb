{
 "cells": [
  {
   "cell_type": "markdown",
   "metadata": {},
   "source": [
    "---\n",
    "title: \"Homebrew\"\n",
    "author: \"Vahram Poghosyan\"\n",
    "date: \"2024-10-20\"\n",
    "categories: [\"Local Dev Setup\"]\n",
    "format:\n",
    "  html:\n",
    "    toc: true\n",
    "    toc-depth: 5\n",
    "    code-fold: true\n",
    "jupyter: python3\n",
    "include-after-body:\n",
    "  text: |\n",
    "    <script type=\"application/javascript\" src=\"../../javascript/light-dark.js\"></script>\n",
    "---"
   ]
  },
  {
   "cell_type": "markdown",
   "metadata": {},
   "source": [
    "# Homebrew\n",
    "\n",
    "## Package\n",
    "The collection of software files to be installed as described by a **Formula**\n",
    "\n",
    "## Taps and Formulas\n",
    "Each **Package** has a **Formula** stored in an online repo called the **Tap**. For example, the command `brew install git` tells Homebrew to install the git **Package**. Homebrew knows where the **Tap** for the git **Package** is, however sometimes we may need to add a Tap manually before (e.g. `brew tap homebrew/my-org git@github.cloud.my-org.com:Homebrew/homebrew-my-org.git`).\n",
    "\n",
    "The **Formula** is a script which defines the **Package's** dependencies and contains instructions on how to install them. Some **Formulas** contain **Bottles**: precompiled software binaries\n",
    "\n",
    "## Keg\n",
    "All files belonging to one **Formula** are kept in a single directory called a **Keg** after installation. This is further stored in a file tree called a **Cellar** (`Cellar`/`Rack`/`Keg`).By default, Homebrew will install all packages in the directory `/usr/local/Cellar/`, and also creates symbolic links at `/usr/local/opt/` and `/usr/local/bin/` (for executable files).\n",
    "\n",
    "For example, if we have installed the git Package through Homebrew, when we run `brew list git` we will get all the files in its **Formula** organized in directories similar to `/usr/local/Cellar/git/2.39.2/.bottle/etc/gitconfig`. As we can see, in the path `Cellar`/`Rack`/`Keg`, **Rack** corresponds roughly to the **Package** and **Keg** to the version number.\n",
    "\n",
    "## Casks\n",
    "**Casks** are like **Formulae** but they install apps to the Mac's application folder instead of Homebrew's **Cellar**.\n",
    "\n",
    "## SUMMARY\n",
    "\n",
    "* formula - lives in the tap, defines the package's dependencies and contains their installation instructions\n",
    "* bottles - some formulas contain bottles which are just precompiled binaries\n",
    "* tap - the repository where the packages live (brew itself has a default tap but more can be added like a company's internal homebrew tap)\n",
    "* cask - just a formula that installs the app (instead of a package) in the application folder\n"
   ]
  }
 ],
 "metadata": {
  "language_info": {
   "name": "python"
  }
 },
 "nbformat": 4,
 "nbformat_minor": 2
}
