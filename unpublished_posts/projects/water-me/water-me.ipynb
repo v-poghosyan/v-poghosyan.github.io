{
 "cells": [
  {
   "cell_type": "markdown",
   "metadata": {},
   "source": [
    "---\n",
    "title: \"Water Me - Home Automation for Watering Plants\"\n",
    "author: \"Vahram Poghosyan\"\n",
    "date: \"2024-10-19\"\n",
    "categories: [\"Home Automation\", \"Python\"]\n",
    "format:\n",
    "  html:\n",
    "    code-fold: false\n",
    "    code-line-numbers: true\n",
    "    code-tools:\n",
    "      source: https://github.com/vahram-pg/water-me\n",
    "jupyter: python3\n",
    "---"
   ]
  },
  {
   "cell_type": "markdown",
   "metadata": {},
   "source": [
    "# 🪴 Water Me\n",
    "\n",
    "## Architecture\n",
    "\n",
    "## Tech Stack\n",
    "\n",
    "## API Design"
   ]
  }
 ],
 "metadata": {
  "language_info": {
   "name": "python"
  }
 },
 "nbformat": 4,
 "nbformat_minor": 2
}
