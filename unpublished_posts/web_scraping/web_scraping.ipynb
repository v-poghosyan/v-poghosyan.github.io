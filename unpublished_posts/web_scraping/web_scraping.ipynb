{
 "cells": [
  {
   "cell_type": "markdown",
   "metadata": {},
   "source": [
    "---\n",
    "title: \"Price Scraper: Web Scraping and a Simple Notification System\"\n",
    "author: \"Vahram Poghosyan\"\n",
    "date: \"2024-10-24\"\n",
    "categories: [\"Web Scraping\", \"Notifications\"]\n",
    "repo-url: https://github.com/vahram-pg/pricealert\n",
    "sidebar: invisible-sidebar\n",
    "format:\n",
    "  html:\n",
    "    code-fold: true\n",
    "jupyter: python3\n",
    "include-after-body:\n",
    "  text: |\n",
    "    <script type=\"application/javascript\" src=\"../../javascript/light-dark.js\"></script>\n",
    "---"
   ]
  },
  {
   "cell_type": "markdown",
   "metadata": {},
   "source": [
    "## CRON Jobs\n",
    "\n",
    "/etc/sbin/crontab contains a blueprint of a CRON job. These are run by a cron binary file in Linux systems periodically according to a set schedule. They are provided the schedule in a specific format (found in the crontab) and a tool + a script to run. For example `python3 /my_script.py`. \n",
    "\n",
    "For periodic web-scraping, we can spin up an ECS cluster (or use self-hosting, more on that later). We can spin up a very small instance of a Linux container, optimizing for high availability."
   ]
  }
 ],
 "metadata": {
  "language_info": {
   "name": "python"
  }
 },
 "nbformat": 4,
 "nbformat_minor": 2
}
