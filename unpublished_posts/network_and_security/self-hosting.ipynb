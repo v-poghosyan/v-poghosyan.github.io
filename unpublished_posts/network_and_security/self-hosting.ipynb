{
 "cells": [
  {
   "cell_type": "markdown",
   "metadata": {},
   "source": [
    "---\n",
    "title: \"Self Hosting\"\n",
    "author: \"Vahram Poghosyan\"\n",
    "date: \"2023-01-13\"\n",
    "categories: [\"Networking\", \"Docker\", \"Linux\"]\n",
    "format:\n",
    "  html:\n",
    "    toc: true\n",
    "    toc-depth: 5\n",
    "    code-fold: true\n",
    "jupyter: python3\n",
    "include-after-body:\n",
    "  text: |\n",
    "    <script type=\"application/javascript\" src=\"../../javascript/light-dark.js\"></script>\n",
    "---"
   ]
  },
  {
   "cell_type": "markdown",
   "metadata": {},
   "source": [
    "# Quick Setup of a Mac Local Development Environment\n",
    "\n",
    "Useful Mac utilities:\n",
    "\n",
    "* [Oh My Zsh](https://ohmyz.sh/)\n",
    "* [Homebrew]()\n",
    "* [Vim]()\n",
    "* [Docker]\n",
    "\n",
    "## What's My Localhost?\n",
    "\n",
    "After installing [oh my zsh](https://ohmyz.sh/), we can set environment variables in `~/.zshrc` using `export`. We can even set environment variables that affect the Z shell's appearance. For example, adding the following in the initialization file `~/.zshrc` displays the localhost, current working directory, and the prompt character (root vs user) in the shell prompt.\n",
    "\n",
    "```bash\n",
    "# Define color codes\n",
    "RED=\"%F{red}\"\n",
    "GREEN=\"%F{green}\"\n",
    "YELLOW=\"%F{yellow}\"\n",
    "BLUE=\"%F{blue}\"\n",
    "MAGENTA=\"%F{magenta}\"\n",
    "CYAN=\"%F{cyan}\"\n",
    "WHITE=\"%F{white}\"\n",
    "RESET=\"%f\"\n",
    "\n",
    "# Set the prompt with colors\n",
    "PROMPT='${CYAN}%n@%m ${YELLOW}%1~ ${RESET}%# '\n",
    "```\n",
    "A shell also knows of 'hostname' from a system command that's part of the OS.\n",
    "\n",
    "```bash\n",
    "echo \"$(hostname)\"\n",
    "```\n",
    "\n",
    "Some other variables the shell knows of include: \n",
    "\n",
    "```bash\n",
    "echo \"$USER\" # The name of the logged-in user.\n",
    "echo \"$HOME\" # The path to the current user's home directory.\n",
    "echo \"$PATH\" # The list of directories that the shell searches for executable files.\n",
    "```\n",
    "\n",
    "These are set by the login process, rather than being exposed by OS commands like `hostname` or being defined by the user in an initialization files like `~/.zshrc`. "
   ]
  },
  {
   "cell_type": "markdown",
   "metadata": {},
   "source": [
    "# Docker Intro\n",
    "\n",
    "Docker's an alternative to VMs. Whereas VMs run on a Hypervisor which runs on bare metal and distributes the hardware among the guest VMs, Docker containers run inside a Docker Engine which runs on the host operating system. In other words, virtualization distributes the hardware among multiple guest operating systems whereas containerization does the same, in concept, but works on top of the host operating system while still managing to provide isolated containers each running its own OS."
   ]
  },
  {
   "cell_type": "markdown",
   "metadata": {},
   "source": [
    "## Creating a Docker Container\n",
    "\n"
   ]
  },
  {
   "cell_type": "markdown",
   "metadata": {},
   "source": []
  }
 ],
 "metadata": {
  "language_info": {
   "name": "python"
  }
 },
 "nbformat": 4,
 "nbformat_minor": 2
}
