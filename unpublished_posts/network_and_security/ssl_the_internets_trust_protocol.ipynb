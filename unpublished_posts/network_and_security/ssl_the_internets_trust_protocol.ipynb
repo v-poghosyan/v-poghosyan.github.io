{
 "cells": [
  {
   "cell_type": "markdown",
   "metadata": {},
   "source": [
    "---\n",
    "title: \"SSL - The Internet's Trust Protocol\"\n",
    "author: \"Vahram Poghosyan\"\n",
    "date: \"2023-01-13\"\n",
    "categories: [\"Network Security\"]\n",
    "format:\n",
    "  html:\n",
    "    code-fold: true\n",
    "jupyter: python3\n",
    "include-after-body:\n",
    "  text: |\n",
    "    <script type=\"application/javascript\" src=\"../../javascript/light-dark.js\"></script>\n",
    "---"
   ]
  },
  {
   "cell_type": "markdown",
   "metadata": {},
   "source": [
    "# SSL/TLS - The Internet's Trust Protocol\n",
    "\n",
    "**Secure Sockets Layer** (**SSL**) and its successor **Transport Layer Security** (**TLS**) are cryptographic protocols that provide security in communication over a computer network using a combination of *symmetric* and *asymmetric encryption* (both of which are introduced later in this post). The protocol is widely used for such applications as HTTPS (HTTP protocol extended with TLS encryption), email, instant messaging, etc.\n",
    "\n",
    "## Asymmetric Encryption Diagrams"
   ]
  },
  {
   "cell_type": "markdown",
   "metadata": {},
   "source": [
    "::: {#fig-asymmetric-encryption}\n",
    "\n",
    "![Private and public keys](../../assets/network_and_security/ssl_the_internets_trust_protocol/ssl_diagram0.drawio.light.png){#fig-keys}\n",
    "\n",
    "Each party has a set of public and private keys. \n",
    ":::\n",
    "\n",
    "## Encryption\n",
    "\n",
    "![SSL figure 1](../../assets/network_and_security/ssl_the_internets_trust_protocol/ssl_diagram1.drawio.light.png)\n",
    "\n",
    "## Secure Communication\n",
    "\n",
    "![SSL figure 3](../../assets/network_and_security/ssl_the_internets_trust_protocol/ssl_diagram3.drawio.light.png)\n",
    "\n",
    "## Decryption\n",
    "\n",
    "![SSL figure w](../../assets/network_and_security/ssl_the_internets_trust_protocol/ssl_diagram2.drawio.light.png)\n"
   ]
  },
  {
   "cell_type": "markdown",
   "metadata": {},
   "source": [
    "![](../../assets/network_and_security/ssl_the_internets_trust_protocol/ssl_diagram1.drawio.dark.png){height=0}\n",
    "![](../../assets/network_and_security/ssl_the_internets_trust_protocol/ssl_diagram2.drawio.dark.png){height=0}\n",
    "![](../../assets/network_and_security/ssl_the_internets_trust_protocol/ssl_diagram3.drawio.dark.png){height=0}\n",
    "![](../../assets/network_and_security/ssl_the_internets_trust_protocol/ssl_diagram0.drawio.dark.png){height=0}"
   ]
  },
  {
   "cell_type": "markdown",
   "metadata": {},
   "source": [
    "# Explanation\n",
    "\n",
    "These diagrams illustrate the fundamental concepts of asymmetric encryption and how SSL/TLS prevents man-in-the-middle attacks.\n",
    "\n",
    "Basic Encryption/Decryption Process (Images 1 & 2):\n",
    "Image 1 shows decryption: A cipher text is decrypted using a public key\n",
    "Image 2 shows encryption: A message is encrypted using a private key\n",
    "Together, these demonstrate the complementary nature of public/private key pairs\n",
    "Security Against Man-in-the-Middle (Image 3):\n",
    "Shows the secure communication setup between a Sender and Receiver\n",
    "Each party has their own pair of keys:\n",
    "Private key (represented by the solid key icon)\n",
    "Public key (represented by the outlined key icon)\n",
    "The \"Man in the middle\" attacker (shown with an X) cannot intercept the communication\n",
    "This is because they don't have access to the private keys needed to decrypt the messages\n",
    "Key Pair Distribution (Image 4):\n",
    "Shows how both Sender and Receiver each maintain their own set of keys\n",
    "\n",
    "Each party has:\n",
    "1. A private key (kept secret)\n",
    "2. A public key (shared with others)\n",
    "3. This forms the basis of secure communication\n",
    "4. The overall SSL/TLS process works by:\n",
    "\n",
    "Both parties establish their identities using these key pairs\n",
    "\n",
    "Messages are encrypted with the recipient's public key.\n",
    "Only the intended recipient can decrypt the message using their private key.\n",
    "This ensures that even if someone intercepts the communication, they cannot read the contents without the private key.\n",
    "This asymmetric encryption system is a fundamental part of SSL/TLS security, though in practice, SSL/TLS also uses symmetric encryption for the actual data transfer after the initial handshake for better performance.\n",
    "\n",
    "## How are the public and private keys related?\n",
    "\n",
    "Public and private keys are mathematically related through complex cryptographic algorithms, but their relationship has some key properties:\n",
    "\n",
    "### Mathematical Relationship\n",
    "\n",
    "They are generated together using mathematical functions based on prime numbers\n",
    "The most common algorithm (RSA) uses the product of two large prime numbers\n",
    "The security relies on the fact that while multiplying large prime numbers is easy, factoring their product is extremely difficult (known as the factorization problem)\n",
    "Complementary Function:\n",
    "What one key encrypts, only the other key can decrypt\n",
    "If the public key encrypts a message, only the private key can decrypt it\n",
    "If the private key encrypts (signs) a message, only the public key can decrypt (verify) it\n",
    "One-Way Function:\n",
    "While the keys are related, it's computationally infeasible to derive the private key from the public key\n",
    "This is known as a \"trapdoor function\" - easy to compute in one direction but extremely difficult to reverse\n",
    "Even if someone has your public key, they cannot use it to figure out your private key\n",
    "\n",
    "### Key Length Importance\n",
    "The security of this relationship depends on the key length\n",
    "Longer keys (like 2048 or 4096 bits) make it practically impossible with current technology to break the encryption by trying to derive the private key from the public key\n",
    "This mathematical relationship is what makes asymmetric encryption possible while maintaining security - you can freely share your public key while keeping your private key secret, and the two will work together without compromising the system's security.\n",
    "\n"
   ]
  },
  {
   "cell_type": "markdown",
   "metadata": {},
   "source": [
    "# Handwritten Notes\n",
    "\n",
    "<iframe src=\"./notes/ssl_protocol.pdf\" width=\"100%\" height=\"500\" frameborder=\"0\" />"
   ]
  }
 ],
 "metadata": {
  "language_info": {
   "name": "python"
  }
 },
 "nbformat": 4,
 "nbformat_minor": 2
}
