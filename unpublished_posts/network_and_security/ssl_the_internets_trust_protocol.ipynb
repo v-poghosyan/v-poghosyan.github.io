{
 "cells": [
  {
   "cell_type": "markdown",
   "metadata": {},
   "source": [
    "---\n",
    "title: \"SSL - The Internet's Trust Protocol\"\n",
    "author: \"Vahram Poghosyan\"\n",
    "date: \"2023-01-13\"\n",
    "categories: [\"Network Security\"]\n",
    "image: \"ssl_the_internets_trust_protocol.png\"\n",
    "format:\n",
    "  html:\n",
    "    code-fold: true\n",
    "jupyter: python3\n",
    "include-after-body:\n",
    "  text: |\n",
    "    <script type=\"application/javascript\" src=\"../../javascript/light-dark.js\"></script>\n",
    "---"
   ]
  },
  {
   "cell_type": "markdown",
   "metadata": {},
   "source": [
    "# SSL/TLS - The Internet's Trust Protocol\n",
    "\n",
    "**Secure Sockets Layer** (**SSL**) and its successor **Transport Layer Security** (**TLS**) are cryptographic protocols that provide security in communication over a computer network using a combination of *symmetric* and *asymmetric encryption* (both of which are introduced later in this post). The protocol is widely used for such applications as HTTPS (HTTP protocol extended with TLS encryption), email, instant messaging, etc.\n",
    "\n",
    "## Asymmetric Encryption"
   ]
  },
  {
   "cell_type": "markdown",
   "metadata": {},
   "source": [
    "::: {#fig-asymmetric-encryption}\n",
    "\n",
    "![Private and public keys](../../assets/network_and_security/ssl_the_internets_trust_protocol/ssl_diagram0.drawio.light.png){#fig-keys}\n",
    "\n",
    "Each party has a set of public and private keys. \n",
    ":::\n",
    "\n",
    "## Encryption\n",
    "\n",
    "![SSL figure 1](../../assets/network_and_security/ssl_the_internets_trust_protocol/ssl_diagram1.drawio.light.png)\n",
    "\n",
    "## Secure Communication\n",
    "\n",
    "![SSL figure 3](../../assets/network_and_security/ssl_the_internets_trust_protocol/ssl_diagram3.drawio.light.png)\n",
    "\n",
    "## Decryption\n",
    "\n",
    "![SSL figure w](../../assets/network_and_security/ssl_the_internets_trust_protocol/ssl_diagram2.drawio.light.png)\n"
   ]
  },
  {
   "cell_type": "markdown",
   "metadata": {},
   "source": [
    "![](../../assets/network_and_security/ssl_the_internets_trust_protocol/ssl_diagram1.drawio.dark.png){height=0}\n",
    "![](../../assets/network_and_security/ssl_the_internets_trust_protocol/ssl_diagram2.drawio.dark.png){height=0}\n",
    "![](../../assets/network_and_security/ssl_the_internets_trust_protocol/ssl_diagram3.drawio.dark.png){height=0}\n",
    "![](../../assets/network_and_security/ssl_the_internets_trust_protocol/ssl_diagram0.drawio.dark.png){height=0}"
   ]
  },
  {
   "cell_type": "markdown",
   "metadata": {},
   "source": []
  }
 ],
 "metadata": {
  "language_info": {
   "name": "python"
  }
 },
 "nbformat": 4,
 "nbformat_minor": 2
}
