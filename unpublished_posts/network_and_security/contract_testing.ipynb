{
 "cells": [
  {
   "cell_type": "markdown",
   "metadata": {},
   "source": [
    "---\n",
    "title: \"Contract Testing\"\n",
    "author: \"Vahram Poghosyan\"\n",
    "date: \"2023-01-13\"\n",
    "categories: [\"APIs\", \"Microservices\"]\n",
    "format:\n",
    "  html:\n",
    "    code-fold: true\n",
    "jupyter: python3\n",
    "include-after-body:\n",
    "  text: |\n",
    "    <script type=\"application/javascript\" src=\"../../javascript/light-dark.js\"></script>\n",
    "---"
   ]
  },
  {
   "cell_type": "markdown",
   "metadata": {},
   "source": [
    "# PactFlow"
   ]
  },
  {
   "cell_type": "markdown",
   "metadata": {},
   "source": [
    "The idea behind bi-directional contract tracing, within the conmtext of API testing, is the client testing against a fresh mock of the server and the server, in reciprocation, testing against a fresh mock of the client. If the pact between the client and server is breached, neither the server team nor the client team can merge their code into the release branch."
   ]
  }
 ],
 "metadata": {
  "kernelspec": {
   "display_name": "personal_blog",
   "language": "python",
   "name": "python3"
  },
  "language_info": {
   "codemirror_mode": {
    "name": "ipython",
    "version": 3
   },
   "file_extension": ".py",
   "mimetype": "text/x-python",
   "name": "python",
   "nbconvert_exporter": "python",
   "pygments_lexer": "ipython3",
   "version": "3.1.0"
  }
 },
 "nbformat": 4,
 "nbformat_minor": 2
}
