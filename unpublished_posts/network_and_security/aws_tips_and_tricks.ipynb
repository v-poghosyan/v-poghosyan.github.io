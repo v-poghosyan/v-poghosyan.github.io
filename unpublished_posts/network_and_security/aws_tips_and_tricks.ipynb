{
 "cells": [
  {
   "cell_type": "markdown",
   "metadata": {},
   "source": [
    "---\n",
    "title: \"AWS - Tips and Tricks\"\n",
    "author: \"Vahram Poghosyan\"\n",
    "date: \"2023-01-13\"\n",
    "categories: [\"AWS\", \"Cloud Infrastructure\", \"Docker\"]\n",
    "format:\n",
    "  html:\n",
    "    code-fold: true\n",
    "jupyter: python3\n",
    "include-after-body:\n",
    "  text: |\n",
    "    <script type=\"application/javascript\" src=\"../../javascript/light-dark.js\"></script>\n",
    "---"
   ]
  },
  {
   "cell_type": "markdown",
   "metadata": {},
   "source": [
    "# The AWS Metadata Service (IMDS)\n",
    "\n",
    "This service tells us important information about an AWS service in use. For instance, it can be used to retrieve the IP address and instance ID of a running EC2 instance.\n",
    "\n",
    "Here's an example. \n",
    "\n",
    "We can define a shell script `get-env.sh` and include it in the Dockerfile of our service. \n",
    "\n",
    "```docker\n",
    "RUN [\"chmod\", \"u+x,g+x\", \"/app/bin/set-env.sh\"]\n",
    "```\n",
    "We can set the entrypoint to another script called `start-service.sh` and *source* `get-env` inside of it. \n",
    "\n",
    "```docker\n",
    "WORKDIR /app\n",
    "USER appuser\n",
    "ENTRYPOINT [\"/app/entrypoint\", \"/app/bin/start-service.sh\"]\n",
    "```\n",
    "\n",
    "Sourcing a script with the dot command (`.`) means that the script is executed in the current shell environment (rather than a sub-shell). This allows any environment variables or functions defined in the sourced script to be available in the current script.\n",
    "\n",
    "Inside `start-service.sh`:\n",
    "\n",
    "```bash\n",
    ". ./bin/set-env.sh\n",
    "```\n",
    "\n",
    "Finally, inside the `set-env.sh` we need to call the AWS Metadata Service like so: \n",
    "\n",
    "```bash\n",
    "IMDSV2_TOKEN=$(curl -X PUT \"http://169.254.169.254/latest/api/token/\" -H \"X-aws-ec2-metadata-token-ttl-seconds: 21600\")\n",
    "```\n",
    "\n",
    "Because the IP address and instance ID are available from within our running instance, there's no need to use the AWS CLI or the AWS Console (UI). Inside the same script, `set-env.sh`, we export the IP address and the instance ID like:\n",
    "\n",
    "```bash\n",
    "export EC2_IN_ADDRRESS=$(curl -H \"X-aws-ec2-metadata-token: $IMDSV2_TOKEN -v --connect-timeout 3 --max-time 5 http://169.254.169.254/latest/meta-data/local-ipv4\")\n",
    "export EC2_INSTANCE_ID=$(curl -H \"X-aws-ec2-metadata-token: $IMDSV2_TOKEN -v --connect-timeout 3 --max-time 5 http://169.254.169.254/latest/meta-data/instance-id\")\n",
    "```\n",
    "\n",
    "\n",
    "As the service is coming up, using the Dockerfile, it will execute the `set-env.sh` script on the EC2 instance and retrieve its details."
   ]
  },
  {
   "cell_type": "markdown",
   "metadata": {},
   "source": []
  }
 ],
 "metadata": {
  "language_info": {
   "name": "python"
  }
 },
 "nbformat": 4,
 "nbformat_minor": 2
}
