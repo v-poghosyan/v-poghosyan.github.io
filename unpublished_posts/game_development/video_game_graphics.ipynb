{
 "cells": [
  {
   "cell_type": "markdown",
   "metadata": {},
   "source": [
    "---\n",
    "title: \"Video Game Graphics\"\n",
    "author: \"Vahram Poghosyan\"\n",
    "date: \"2023-01-13\"\n",
    "categories: [\"Game Development\", \"Computer Graphics\"]\n",
    "format:\n",
    "  html:\n",
    "    code-fold: true\n",
    "jupyter: python3\n",
    "include-after-body:\n",
    "  text: |\n",
    "    <script type=\"application/javascript\" src=\"../../javascript/light-dark.js\"></script>\n",
    "---"
   ]
  },
  {
   "cell_type": "markdown",
   "metadata": {},
   "source": [
    "# The Three Stages of the Rendering Pipeline\n",
    "\n",
    "## Vertex Shading\n",
    "\n",
    "## Rasterization \n",
    "\n",
    "## Object Shading?"
   ]
  }
 ],
 "metadata": {
  "language_info": {
   "name": "python"
  }
 },
 "nbformat": 4,
 "nbformat_minor": 2
}
