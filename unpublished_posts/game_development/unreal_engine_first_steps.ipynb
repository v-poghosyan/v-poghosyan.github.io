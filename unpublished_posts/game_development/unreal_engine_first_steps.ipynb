{
 "cells": [
  {
   "cell_type": "markdown",
   "metadata": {},
   "source": [
    "---\n",
    "title: \"Unreal Engine - First Steps\"\n",
    "author: \"Vahram Poghosyan\"\n",
    "date: \"2023-01-13\"\n",
    "categories: [\"Game Development\"]\n",
    "image: \"unreal_engine_first_steps.png\"\n",
    "format:\n",
    "  html:\n",
    "    code-fold: true\n",
    "jupyter: python3\n",
    "include-after-body:\n",
    "  text: |\n",
    "    <script type=\"application/javascript\" src=\"../../javascript/light-dark.js\"></script>\n",
    "---"
   ]
  },
  {
   "cell_type": "markdown",
   "metadata": {},
   "source": [
    "# Installing the Engine\n",
    "\n",
    "## Steps\n",
    "\n",
    "The following steps are meant broadly as the specific instructions might change over time.\n",
    "\n",
    "1. Navigate to the Unreal Engine [website](https://www.unrealengine.com/). \n",
    "2. Register an account.\n",
    "3. Request access to the [GitHub org](https://github.com/EpicGames)\n",
    "4. Fork the [UnrealEngine](https://github.com/EpicGames/UnrealEngine) repo and clone to local\n",
    "\n",
    "## Building the Engine\n",
    "\n",
    "Run the following commands\n",
    "\n",
    "# Integrating with VS Code\n",
    "\n",
    "Use the following instruction [](https://docs.unrealengine.com/5.3/en-US/setting-up-visual-studio-development-environment-for-cplusplus-projects-in-unreal-engine/)"
   ]
  }
 ],
 "metadata": {
  "language_info": {
   "name": "python"
  }
 },
 "nbformat": 4,
 "nbformat_minor": 2
}
