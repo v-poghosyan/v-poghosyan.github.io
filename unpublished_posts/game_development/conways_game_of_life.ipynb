{
 "cells": [
  {
   "cell_type": "markdown",
   "metadata": {},
   "source": [
    "---\n",
    "title: \"Conway's Game of Life - First Scala Project\"\n",
    "author: \"Vahram Poghosyan\"\n",
    "date: \"2023-01-13\"\n",
    "categories: [\"Game Development\", \"Scala\", \"Functional Programming\"]\n",
    "format:\n",
    "  html:\n",
    "    code-fold: true\n",
    "jupyter: python3\n",
    "include-after-body:\n",
    "  text: |\n",
    "    <script type=\"application/javascript\" src=\"../../javascript/light-dark.js\"></script>\n",
    "---"
   ]
  },
  {
   "cell_type": "markdown",
   "metadata": {},
   "source": [
    "# Conway's Game of Life\n",
    "\n",
    "Conway's Game of Life is a zero-player game on a two dimensional grid of cells with 4 simple rules:\n",
    "\n",
    "1. Any live cell with < 2 live neighbors dies (as if by underpopulation)\n",
    "2. Any live cell with 2-3 live neighbors lives on to the next generation\n",
    "3. Any live cell with > 3 live neighbors dies (as if by overpopulation)\n",
    "4. Any dead cell with exactly 3 live cells becomes alive (as if by reproduction)\n",
    "\n",
    "These rules are inteded to loosely model the mechanisms of reproduction in evolutionary biology. Interestingly, these simple rules result in a highly complex world in which perpetual patterns (such as [gliders](https://en.wikipedia.org/wiki/Glider_(Conway%27s_Game_of_Life))) can be used to transmit information over long distances and execute computational tasks by coming together in specific arrangements to form logic gates. To see this in action, check out this cool [post](https://nicholas.carlini.com/writing/2020/digital-logic-game-of-life.html) by Nicholas Carlini. The existence of logic gates in Conway's Game of Life makes it possible to program within the game, leading to incredible projects like [Life in Life](https://www.youtube.com/watch?v=xP5-iIeKXE8), where Conway's Game of Life runs itself. \n"
   ]
  },
  {
   "cell_type": "code",
   "execution_count": null,
   "metadata": {},
   "outputs": [],
   "source": []
  },
  {
   "cell_type": "code",
   "execution_count": null,
   "metadata": {},
   "outputs": [],
   "source": []
  },
  {
   "cell_type": "code",
   "execution_count": null,
   "metadata": {},
   "outputs": [],
   "source": []
  }
 ],
 "metadata": {
  "kernelspec": {
   "display_name": "personal_blog",
   "language": "python",
   "name": "python3"
  },
  "language_info": {
   "codemirror_mode": "text/x-scala",
   "file_extension": ".scala",
   "help_links": [
    {
     "text": "MetaKernel Magics",
     "url": "https://metakernel.readthedocs.io/en/latest/source/README.html"
    }
   ],
   "mimetype": "text/x-scala",
   "name": "python",
   "pygments_lexer": "scala",
   "version": "3.1.0"
  }
 },
 "nbformat": 4,
 "nbformat_minor": 2
}
