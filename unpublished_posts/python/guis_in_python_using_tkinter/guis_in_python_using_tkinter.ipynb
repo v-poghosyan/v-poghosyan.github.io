{
 "cells": [
  {
   "cell_type": "markdown",
   "metadata": {},
   "source": [
    "---\n",
    "title: \"GUIs in Python using Tkinter\"\n",
    "author: \"Vahram Poghosyan\"\n",
    "date: \"2025-03-15\"\n",
    "categories: [\"Python\", \"GUIs\"]\n",
    "format:\n",
    "  html:\n",
    "    code-fold: true\n",
    "jupyter: python3\n",
    "include-after-body:\n",
    "  text: |\n",
    "    <script type=\"application/javascript\" src=\"../../javascript/light-dark.js\"></script>\n",
    "---"
   ]
  },
  {
   "cell_type": "markdown",
   "metadata": {},
   "source": [
    "# Introduction\n",
    "\n",
    "There's a standard library in Python used for creating simple GUIs called [tkinter](https://docs.python.org/3/library/tkinter.html) which stands for \"TK interface\". \n",
    "\n",
    "According to Wikipedia, \"[Tk](https://en.wikipedia.org/wiki/Tk_(software)) is a cross-platform widget toolkit that provides a library of basic GUI elements for building a graphical user interface in many programming languages. It is free and open-source software. It was first developed by John Ousterhout as an extension for the [Tcl](https://en.wikipedia.org/wiki/Tcl) scripting language.\" [Language binding](https://en.wikipedia.org/wiki/Language_binding) brings TK to Python in the form of [tkinter](https://docs.python.org/3/library/tkinter.html), which is what we'll be using in this post.\n",
    "\n",
    "# Example Project - Calendar App & Habit Tracker\n",
    "\n",
    "We're calling our project **Frictionless**, it's a combined habit tracker and calendar app.\n",
    "\n",
    "## System Design Considerations \n",
    "\n",
    "Here are the requirements:\n",
    "\n",
    "1. Display a calendar\n",
    "2. Add/modify/delete events or accomplishments\n",
    "3. Save changes locally\n",
    "4. Store results into a database on the cloud\n",
    "5. Calculate simple stats on accomplishments (top streaks, number of total days, etc.)\n",
    "6. Calculate complex stats on accomplishments (e.g. gas money saved from days biking instead of driving)\n",
    "\n",
    "Optional milestones: \n",
    "\n",
    "1. Reminder service for events \n",
    "2. A global reference service that pulls data from the live web (such as gas prices on a particular day)\n",
    "\n",
    "Due to the principle of separation of concerns, we will need to split the product into a corresponding number of services (corresponding to each requirement).\n",
    "\n",
    "## Evolving system diagram\n",
    "\n",
    "![Diagram]()\n",
    "\n",
    "The database write operation is mediated by a retry scheduler service. Or we do a synchronous write since data integrity is a priority. Especially if we use this service to remind us about taking any medications or other critical matters. \n",
    "\n",
    "There may be some role for queue system as well.\n",
    "\n",
    "The downstream services, such as the statistical layer, will need to access \n",
    "\n",
    "\n",
    "## Start a Python Project\n",
    "\n",
    "We use `pipenv`, a combination of `pip` and `venv` that creates a Pipfile for tracking dependencies and a `Pipfile.lock` for ensuring consistent installations.\n",
    "\n",
    "```python\n",
    "pipenv install requests      # Creates virtual environment and installs the package\n",
    "pipenv shell                 # Activate the virtual environment\n",
    "```\n",
    "\n",
    "\n",
    "## Create a Simple GUI\n",
    "\n",
    "We first construct a `Tk` object by importing `tkinter` as `tk`. It's typical to call this object `root`. We add properties like `title` to `root`. \n",
    "\n",
    "In order for our GUI application not to close immediately, leading us to believe nothing happens when we run our code, we need to run the `mainloop` method of the `Tk` object `root`. This is also where all event handling happens. Yes, that's right, tkinter has an event handling system like the browser's DOM API (well, only insofar as they are both event handling systems for GUIs).\n",
    "\n",
    "```python\n",
    "import tkinter as tk\n",
    "\n",
    "root = tk.Tk()\n",
    "root.title (\"Simple App\")\n",
    "\n",
    "root.mainloop()\n",
    "```\n",
    "\n",
    "This opens a window. \n",
    "\n",
    "Perhaps the simplest thing we can add to our new window is a button. \n",
    "\n",
    "```python\n",
    "btn = tk.Button(root, text=\"Button\")\n",
    "```\n",
    "\n",
    "In order to display it, we need to add it to our window using a *geometry manager* like `grid`. This controls where in the UI the object is placed.\n",
    "\n",
    "\n",
    "\n",
    "\n",
    "\n",
    "\n",
    "\n",
    "\n",
    "\n",
    "\n",
    "\n"
   ]
  },
  {
   "cell_type": "code",
   "execution_count": null,
   "metadata": {
    "vscode": {
     "languageId": "plaintext"
    }
   },
   "outputs": [],
   "source": []
  },
  {
   "cell_type": "code",
   "execution_count": null,
   "metadata": {
    "vscode": {
     "languageId": "plaintext"
    }
   },
   "outputs": [],
   "source": []
  }
 ],
 "metadata": {
  "language_info": {
   "name": "python"
  }
 },
 "nbformat": 4,
 "nbformat_minor": 2
}
