{
 "cells": [
  {
   "cell_type": "markdown",
   "id": "93c0f3d5",
   "metadata": {},
   "source": [
    "---\n",
    "title: \"Introduction to Pandas\"\n",
    "author: \"Vahram Poghosyan\"\n",
    "date: \"2023-01-13\"\n",
    "categories: [\"Python\", \"Python Scientific Libraries\", \"Pandas\"]\n",
    "image: \"conways_game_of_life_first_scala_project.png\"\n",
    "format:\n",
    "  html:\n",
    "    code-fold: true\n",
    "jupyter: python3\n",
    "include-after-body:\n",
    "  text: |\n",
    "    <script type=\"application/javascript\" src=\"../../javascript/light-dark.js\"></script>\n",
    "---"
   ]
  },
  {
   "cell_type": "markdown",
   "id": "20678f74",
   "metadata": {},
   "source": [
    "# Importing Pandas\n",
    "\n",
    "[Pandas](https://pandas.pydata.org/) is a library that contains pre-written code to help wrangle with data. We can think of it as Python's equivalent of Excel. \n",
    "\n",
    "We import Pandas into our development environment as we import any other library — using the `import` command.\n",
    "\n",
    "```python\n",
    "import pandas\n",
    "```\n",
    "It's standard to import Pandas with the shorthand `pd` in order to avoid typing `pandas` all the time.\n",
    "\n",
    "```python\n",
    "import pandas as pd\n",
    "```\n",
    "\n",
    "This gives us access to a vast array of pre-built objects, functions, and methods which are detailed in the [API reference](https://pandas.pydata.org/docs/reference/index.html#api).\n"
   ]
  },
  {
   "cell_type": "markdown",
   "id": "3353e725",
   "metadata": {},
   "source": [
    "# Two Underlying Data Types\n",
    "\n",
    "## Series\n",
    "The basic unit of Pandas is the `pandas.Series` object which, in keeping with the Excel analogy, can be thought of as a column in an Excel table. It's a one-dimensional data structure that's derived from a [NumPy](https://numpy.org/) array. However, unlike a NumPy array, the indices of a `Series` object aren't limited to the integer values $0,1,...n$ — they can also be descriptive labels. \n",
    "\n",
    "Let's create a `Series` object representing the populations of the G-7 countries in units of millions."
   ]
  },
  {
   "cell_type": "code",
   "execution_count": 3,
   "id": "da41fd81",
   "metadata": {},
   "outputs": [],
   "source": [
    "import pandas as pd\n",
    "g7_pop = pd.Series([35,63,80,60,127,64,318])"
   ]
  },
  {
   "cell_type": "markdown",
   "id": "f97edd7e",
   "metadata": {},
   "source": [
    "As we can see, creating a series is a matter of passing a Python list (or a Numpy array) into the `Series` constructor."
   ]
  },
  {
   "cell_type": "markdown",
   "id": "91cdfdff",
   "metadata": {},
   "source": [
    "### Indexing\n",
    "Indexing a `Series` object is similar to indexing a Python list. For instance, let's print the first element in the above series."
   ]
  },
  {
   "cell_type": "code",
   "execution_count": 57,
   "id": "ed65a6f9",
   "metadata": {},
   "outputs": [
    {
     "data": {
      "text/plain": [
       "35"
      ]
     },
     "execution_count": 57,
     "metadata": {},
     "output_type": "execute_result"
    }
   ],
   "source": [
    "g7_pop[0]"
   ]
  },
  {
   "cell_type": "markdown",
   "id": "68759131",
   "metadata": {},
   "source": [
    "Let's now swap out the integer-based indices with descriptive labels. Each `Series` object has an `index` argument that can be overwritten. "
   ]
  },
  {
   "cell_type": "code",
   "execution_count": 58,
   "id": "2603b823",
   "metadata": {},
   "outputs": [],
   "source": [
    "g7_pop.index = [\n",
    "    'Canada',\n",
    "    'France',\n",
    "    'Germany',\n",
    "    'Italy',\n",
    "    'Japan',\n",
    "    'UK',\n",
    "    'US'\n",
    "]"
   ]
  },
  {
   "cell_type": "markdown",
   "id": "33cb2e45",
   "metadata": {},
   "source": [
    "Now, we can print the first element of the series using its descriptive label."
   ]
  },
  {
   "cell_type": "code",
   "execution_count": 59,
   "id": "6bc6b578",
   "metadata": {
    "scrolled": true
   },
   "outputs": [
    {
     "data": {
      "text/plain": [
       "35"
      ]
     },
     "execution_count": 59,
     "metadata": {},
     "output_type": "execute_result"
    }
   ],
   "source": [
    "g7_pop['Canada']"
   ]
  },
  {
   "cell_type": "markdown",
   "id": "978d4098",
   "metadata": {},
   "source": [
    "We may notice a similarity between a standard Python dictionary and a labeled `Series` object. Namely, indexing a series with a label and keying into a Python dictionary have similar syntax. In fact, it's possible to create a labeled `Series` object directly from a Python dictionary. "
   ]
  },
  {
   "cell_type": "code",
   "execution_count": 79,
   "id": "e0135d17",
   "metadata": {},
   "outputs": [
    {
     "data": {
      "text/plain": [
       "Canada      35\n",
       "France      63\n",
       "Germany     80\n",
       "Italy       60\n",
       "Japan      127\n",
       "UK          64\n",
       "US         318\n",
       "dtype: int64"
      ]
     },
     "execution_count": 79,
     "metadata": {},
     "output_type": "execute_result"
    }
   ],
   "source": [
    "g7_pop = pd.Series({\n",
    "    'Canada' : 35,\n",
    "    'France' : 63,\n",
    "    'Germany' : 80,\n",
    "    'Italy' : 60,\n",
    "    'Japan' : 127,\n",
    "    'UK' : 64,\n",
    "    'US' : 318\n",
    "})\n",
    "g7_pop"
   ]
  },
  {
   "cell_type": "markdown",
   "id": "463c73d9",
   "metadata": {},
   "source": [
    "In the event of overriding the integer-based indices, it's still possible to access the elements of a `Series` sequentially using the `iloc` method (short for \"integer location\"). To retrieve the population of Canada, we can do as follows: "
   ]
  },
  {
   "cell_type": "code",
   "execution_count": 94,
   "id": "42ccae52",
   "metadata": {},
   "outputs": [
    {
     "data": {
      "text/plain": [
       "35"
      ]
     },
     "execution_count": 94,
     "metadata": {},
     "output_type": "execute_result"
    }
   ],
   "source": [
    "g7_pop.iloc[0]"
   ]
  },
  {
   "cell_type": "markdown",
   "id": "715f5c2b",
   "metadata": {},
   "source": [
    "It's also possible to use a range when indexing. For instance, suppose we'd like to retrieve the populations of the first three countries from `g7_pop`. We can simply write:"
   ]
  },
  {
   "cell_type": "code",
   "execution_count": 95,
   "id": "f0d7f1d4",
   "metadata": {},
   "outputs": [
    {
     "data": {
      "text/plain": [
       "Canada     35\n",
       "France     63\n",
       "Germany    80\n",
       "dtype: int64"
      ]
     },
     "execution_count": 95,
     "metadata": {},
     "output_type": "execute_result"
    }
   ],
   "source": [
    "g7_pop['Canada':'Germany']"
   ]
  },
  {
   "cell_type": "markdown",
   "id": "aef25c2c",
   "metadata": {},
   "source": [
    "Or equivalently:"
   ]
  },
  {
   "cell_type": "code",
   "execution_count": 99,
   "id": "8528b40d",
   "metadata": {},
   "outputs": [
    {
     "data": {
      "text/plain": [
       "Canada     35\n",
       "France     63\n",
       "Germany    80\n",
       "dtype: int64"
      ]
     },
     "execution_count": 99,
     "metadata": {},
     "output_type": "execute_result"
    }
   ],
   "source": [
    "g7_pop.iloc[0:3]"
   ]
  },
  {
   "cell_type": "markdown",
   "id": "05afb14a",
   "metadata": {},
   "source": [
    "Since the `Series` object is based on a Numpy array, it also supports *multi-indexing* through passing a list of indices or a Boolean mask.\n",
    "\n",
    "For instance, to print the populations of Canada and Germany at the same time, we can pass in the list `['Canada','Germany']` or the Boolean mask `[True, False, True, False, False, False, False]`. "
   ]
  },
  {
   "cell_type": "code",
   "execution_count": 61,
   "id": "a488594b",
   "metadata": {},
   "outputs": [
    {
     "data": {
      "text/plain": [
       "Canada     35\n",
       "Germany    80\n",
       "dtype: int64"
      ]
     },
     "execution_count": 61,
     "metadata": {},
     "output_type": "execute_result"
    }
   ],
   "source": [
    "g7_pop[['Canada','Germany']]"
   ]
  },
  {
   "cell_type": "code",
   "execution_count": 62,
   "id": "7793f396",
   "metadata": {},
   "outputs": [
    {
     "data": {
      "text/plain": [
       "Canada     35\n",
       "Germany    80\n",
       "dtype: int64"
      ]
     },
     "execution_count": 62,
     "metadata": {},
     "output_type": "execute_result"
    }
   ],
   "source": [
    "g7_pop[[True, False, True, False, False, False, False]]"
   ]
  },
  {
   "cell_type": "markdown",
   "id": "2f2ec969",
   "metadata": {},
   "source": [
    "### Broadcasted and Vectorized Operations\n",
    "\n",
    "Since it's based on a NumPy array, a `Series` object also supports vectorization and broadcasted operations. \n",
    "\n",
    "As a quick reminder, *vectorization* is the process by which NumPy optimizes looping in Python. It stores the array internally in a contiguous block of memory and restricts its contents to only one data type. Letting Python know this data type in advance, NumPy can then skip the per-iteration type checking that Python normally does in order to speed up our code. In fact, NumPy delegates most of the operations on such optimized arrays to pre-written C code under the hood.\n",
    "\n",
    "*Broadcasting*, on the other hand, is the optimized process by which NumPy performs arithmetic and Boolean operations on arrays of unequal dimensions. It's an overloading of arithmetic and Boolean operators.\n",
    "\n",
    "For instance, suppose the projected population growth of each G-7 country is `10 mln` by the year 2030. Instead of looping through the `Series` object and adding `10` to each row (or using a list comprehension), we can simply use broadcasted addition.  "
   ]
  },
  {
   "cell_type": "code",
   "execution_count": 64,
   "id": "2fe2608b",
   "metadata": {
    "scrolled": true
   },
   "outputs": [
    {
     "data": {
      "text/plain": [
       "Canada      45\n",
       "France      73\n",
       "Germany     90\n",
       "Italy       70\n",
       "Japan      137\n",
       "UK          74\n",
       "US         328\n",
       "dtype: int64"
      ]
     },
     "execution_count": 64,
     "metadata": {},
     "output_type": "execute_result"
    }
   ],
   "source": [
    "g7_2030_pop = g7_pop + 10\n",
    "g7_2030_pop"
   ]
  },
  {
   "cell_type": "markdown",
   "id": "142071ea",
   "metadata": {},
   "source": [
    "### Filtering\n",
    "\n",
    "Thanks to broadcasted Boolean operations and multi-indexing with a Boolean mask, it's possible to write concise and readable filtering expressions on `Series`.\n",
    "\n",
    "For instance, let's return the list of countries with a population over `70 mln`."
   ]
  },
  {
   "cell_type": "code",
   "execution_count": 65,
   "id": "47d20667",
   "metadata": {
    "scrolled": false
   },
   "outputs": [
    {
     "data": {
      "text/plain": [
       "Germany     80\n",
       "Japan      127\n",
       "US         318\n",
       "dtype: int64"
      ]
     },
     "execution_count": 65,
     "metadata": {},
     "output_type": "execute_result"
    }
   ],
   "source": [
    "g7_pop[g7_pop >= 70]"
   ]
  },
  {
   "cell_type": "markdown",
   "id": "9ab43a30",
   "metadata": {},
   "source": [
    "The expression `g7_pop >= 70` is a broadcasted Boolean operation on the `Series` object `g7_pop` which returns a Boolean array `[False, False, True, False, True, False, True]`. Then `g7_pop` is multi-indexed using this Boolean mask.\n",
    "\n",
    "As another example of readable filtering expressions, we can return the list of countries whose populations exceed the mean population.  "
   ]
  },
  {
   "cell_type": "code",
   "execution_count": 66,
   "id": "5abfabb4",
   "metadata": {},
   "outputs": [
    {
     "data": {
      "text/plain": [
       "Japan    127\n",
       "US       318\n",
       "dtype: int64"
      ]
     },
     "execution_count": 66,
     "metadata": {},
     "output_type": "execute_result"
    }
   ],
   "source": [
    "g7_pop[g7_pop >= g7_pop.mean()]"
   ]
  },
  {
   "cell_type": "markdown",
   "id": "d09ebf35",
   "metadata": {},
   "source": [
    "## DataFrame\n",
    "\n",
    "Each `DataFrame` is composed of one or more `Series`. Whereas a `Series` is analogous to a column of an Excel table, a `DataFrame` is analogous to the table itself.  \n",
    "\n",
    "The `DataFrame` constructor accepts a variety of input types, among them an ndarray and a dictionary.\n",
    "\n",
    "If we're passing an ndarray, it becomes necessary to specify the column labels separately. Additionally, we may overwrite the integer-based indexing as we did with the `Series` object. "
   ]
  },
  {
   "cell_type": "code",
   "execution_count": 77,
   "id": "2722d205",
   "metadata": {
    "scrolled": true
   },
   "outputs": [
    {
     "data": {
      "text/html": [
       "<div>\n",
       "<style scoped>\n",
       "    .dataframe tbody tr th:only-of-type {\n",
       "        vertical-align: middle;\n",
       "    }\n",
       "\n",
       "    .dataframe tbody tr th {\n",
       "        vertical-align: top;\n",
       "    }\n",
       "\n",
       "    .dataframe thead th {\n",
       "        text-align: right;\n",
       "    }\n",
       "</style>\n",
       "<table border=\"1\" class=\"dataframe\">\n",
       "  <thead>\n",
       "    <tr style=\"text-align: right;\">\n",
       "      <th></th>\n",
       "      <th>C1</th>\n",
       "      <th>C2</th>\n",
       "      <th>C3</th>\n",
       "    </tr>\n",
       "  </thead>\n",
       "  <tbody>\n",
       "    <tr>\n",
       "      <th>R1</th>\n",
       "      <td>1</td>\n",
       "      <td>2</td>\n",
       "      <td>3</td>\n",
       "    </tr>\n",
       "    <tr>\n",
       "      <th>R2</th>\n",
       "      <td>4</td>\n",
       "      <td>5</td>\n",
       "      <td>6</td>\n",
       "    </tr>\n",
       "    <tr>\n",
       "      <th>R3</th>\n",
       "      <td>7</td>\n",
       "      <td>8</td>\n",
       "      <td>9</td>\n",
       "    </tr>\n",
       "  </tbody>\n",
       "</table>\n",
       "</div>"
      ],
      "text/plain": [
       "    C1  C2  C3\n",
       "R1   1   2   3\n",
       "R2   4   5   6\n",
       "R3   7   8   9"
      ]
     },
     "execution_count": 77,
     "metadata": {},
     "output_type": "execute_result"
    }
   ],
   "source": [
    "data = np.array([[1, 2, 3], [4, 5, 6], [7, 8, 9]])\n",
    "df = pd.DataFrame(data, index = ['R1','R2','R3'], columns = ['C1', 'C2', 'C3'])\n",
    "df"
   ]
  },
  {
   "cell_type": "markdown",
   "id": "4be70113",
   "metadata": {},
   "source": [
    "We may bypass specifying columns manually by passing in a dictionary instead:"
   ]
  },
  {
   "cell_type": "code",
   "execution_count": 88,
   "id": "c80a414e",
   "metadata": {
    "scrolled": true
   },
   "outputs": [
    {
     "data": {
      "text/html": [
       "<div>\n",
       "<style scoped>\n",
       "    .dataframe tbody tr th:only-of-type {\n",
       "        vertical-align: middle;\n",
       "    }\n",
       "\n",
       "    .dataframe tbody tr th {\n",
       "        vertical-align: top;\n",
       "    }\n",
       "\n",
       "    .dataframe thead th {\n",
       "        text-align: right;\n",
       "    }\n",
       "</style>\n",
       "<table border=\"1\" class=\"dataframe\">\n",
       "  <thead>\n",
       "    <tr style=\"text-align: right;\">\n",
       "      <th></th>\n",
       "      <th>C1</th>\n",
       "      <th>C2</th>\n",
       "      <th>C3</th>\n",
       "    </tr>\n",
       "  </thead>\n",
       "  <tbody>\n",
       "    <tr>\n",
       "      <th>R1</th>\n",
       "      <td>1</td>\n",
       "      <td>4</td>\n",
       "      <td>7</td>\n",
       "    </tr>\n",
       "    <tr>\n",
       "      <th>R2</th>\n",
       "      <td>2</td>\n",
       "      <td>5</td>\n",
       "      <td>8</td>\n",
       "    </tr>\n",
       "    <tr>\n",
       "      <th>R3</th>\n",
       "      <td>3</td>\n",
       "      <td>6</td>\n",
       "      <td>9</td>\n",
       "    </tr>\n",
       "  </tbody>\n",
       "</table>\n",
       "</div>"
      ],
      "text/plain": [
       "    C1  C2  C3\n",
       "R1   1   4   7\n",
       "R2   2   5   8\n",
       "R3   3   6   9"
      ]
     },
     "execution_count": 88,
     "metadata": {},
     "output_type": "execute_result"
    }
   ],
   "source": [
    "data = {\n",
    "    'C1' : [1, 2, 3],\n",
    "    'C2' : [4, 5, 6],\n",
    "    'C3' : [7, 8, 9]\n",
    "}\n",
    "df = pd.DataFrame(data, index = ['R1','R2','R3'])\n",
    "df"
   ]
  },
  {
   "cell_type": "markdown",
   "id": "bb8295a7",
   "metadata": {},
   "source": [
    "> Note: Whereas in a `Series` the keys of the input dictionary were the row labels, in a `DataFrame` they're the column labels."
   ]
  },
  {
   "cell_type": "markdown",
   "id": "c3ea413c",
   "metadata": {},
   "source": [
    "In practice we often create a `DataFrame` from a CSV file using the `pandas.read_csv()` method like so:"
   ]
  },
  {
   "cell_type": "code",
   "execution_count": null,
   "id": "abeedf79",
   "metadata": {},
   "outputs": [],
   "source": [
    "#hide-output\n",
    "csv_path = 'file.csv' #Stores the path to a CSV\n",
    "df = pd.read_csv(csv_path)"
   ]
  },
  {
   "cell_type": "markdown",
   "id": "e5518c2c",
   "metadata": {},
   "source": [
    "> Tip: We may optionally pass `header = None` as an argument to `read_csv()` after `csv_path` if the first row of the CSV file itself is a data point, and not a header.\n",
    "\n",
    "<br>\n",
    "\n",
    "> Tip: Pandas also supports reading an Excel file into a `DataFrame` using the `pandas.read_excel()` method."
   ]
  },
  {
   "cell_type": "markdown",
   "id": "4b96534f",
   "metadata": {},
   "source": [
    "### Common Methods\n",
    "\n",
    "Here are the common `DataFrame` methods that we should keep in our toolbox. These methods give us an overview of our data, and help us clean it up. \n",
    "\n",
    "* `df.head()` shows, by default, the first 5 rows of the dataset. Accepts an integer argument for the number of rows to display.\n",
    "* `df.tail()` shows the last 5 rows, and also accepts an integer argument.\n",
    "* `df.info()` gives a bird's eye overview of the dataset by showing the total rows/columns, the number of non-null datapoints, and the data types.\n",
    "* `df.describe()` returns statistically significant values for each column such as, the mean, standard deviation, minimum, and maximum values.\n",
    "* `df.shape` - returns the dimension of the dataset as an $(m,n)$ tuple."
   ]
  },
  {
   "cell_type": "markdown",
   "id": "2fa5338e",
   "metadata": {},
   "source": [
    "### Indexing\n",
    "\n",
    "Let's add to the dataset of G-7 countries the columns `'GDP'` and `'Surface Area'`."
   ]
  },
  {
   "cell_type": "code",
   "execution_count": 89,
   "id": "aeef5f71",
   "metadata": {},
   "outputs": [
    {
     "data": {
      "text/html": [
       "<div>\n",
       "<style scoped>\n",
       "    .dataframe tbody tr th:only-of-type {\n",
       "        vertical-align: middle;\n",
       "    }\n",
       "\n",
       "    .dataframe tbody tr th {\n",
       "        vertical-align: top;\n",
       "    }\n",
       "\n",
       "    .dataframe thead th {\n",
       "        text-align: right;\n",
       "    }\n",
       "</style>\n",
       "<table border=\"1\" class=\"dataframe\">\n",
       "  <thead>\n",
       "    <tr style=\"text-align: right;\">\n",
       "      <th></th>\n",
       "      <th>Population</th>\n",
       "      <th>GDP</th>\n",
       "      <th>Surface Area</th>\n",
       "    </tr>\n",
       "  </thead>\n",
       "  <tbody>\n",
       "    <tr>\n",
       "      <th>Canada</th>\n",
       "      <td>35</td>\n",
       "      <td>1.7</td>\n",
       "      <td>9.0</td>\n",
       "    </tr>\n",
       "    <tr>\n",
       "      <th>France</th>\n",
       "      <td>63</td>\n",
       "      <td>2.8</td>\n",
       "      <td>0.6</td>\n",
       "    </tr>\n",
       "    <tr>\n",
       "      <th>Germany</th>\n",
       "      <td>80</td>\n",
       "      <td>3.8</td>\n",
       "      <td>0.3</td>\n",
       "    </tr>\n",
       "    <tr>\n",
       "      <th>Italy</th>\n",
       "      <td>60</td>\n",
       "      <td>2.1</td>\n",
       "      <td>0.3</td>\n",
       "    </tr>\n",
       "    <tr>\n",
       "      <th>Japan</th>\n",
       "      <td>127</td>\n",
       "      <td>4.6</td>\n",
       "      <td>0.3</td>\n",
       "    </tr>\n",
       "    <tr>\n",
       "      <th>UK</th>\n",
       "      <td>64</td>\n",
       "      <td>2.9</td>\n",
       "      <td>0.2</td>\n",
       "    </tr>\n",
       "    <tr>\n",
       "      <th>US</th>\n",
       "      <td>318</td>\n",
       "      <td>1.7</td>\n",
       "      <td>9.0</td>\n",
       "    </tr>\n",
       "  </tbody>\n",
       "</table>\n",
       "</div>"
      ],
      "text/plain": [
       "         Population  GDP  Surface Area\n",
       "Canada           35  1.7           9.0\n",
       "France           63  2.8           0.6\n",
       "Germany          80  3.8           0.3\n",
       "Italy            60  2.1           0.3\n",
       "Japan           127  4.6           0.3\n",
       "UK               64  2.9           0.2\n",
       "US              318  1.7           9.0"
      ]
     },
     "execution_count": 89,
     "metadata": {},
     "output_type": "execute_result"
    }
   ],
   "source": [
    "g7_df = pd.DataFrame({\n",
    "    'Population' : g7_pop,\n",
    "    'GDP' : [1.7, 2.8, 3.8, 2.1, 4.6, 2.9, 1.7],\n",
    "    'Surface Area' : [9.0, 0.6, 0.3, 0.3, 0.3, 0.2, 9.0]\n",
    "})\n",
    "g7_df"
   ]
  },
  {
   "cell_type": "markdown",
   "id": "24abfffa",
   "metadata": {},
   "source": [
    "Whereas in a `Series`, the primary axis of indexing are the rows, in a `DataFrame` the primary axis are the columns. Thus, indexing a column works as expected."
   ]
  },
  {
   "cell_type": "code",
   "execution_count": 92,
   "id": "68a037b7",
   "metadata": {},
   "outputs": [
    {
     "data": {
      "text/plain": [
       "Canada     1.7\n",
       "France     2.8\n",
       "Germany    3.8\n",
       "Italy      2.1\n",
       "Japan      4.6\n",
       "UK         2.9\n",
       "US         1.7\n",
       "Name: GDP, dtype: float64"
      ]
     },
     "execution_count": 92,
     "metadata": {},
     "output_type": "execute_result"
    }
   ],
   "source": [
    "g7_df['GDP']"
   ]
  },
  {
   "cell_type": "markdown",
   "id": "d6bd0264",
   "metadata": {},
   "source": [
    "Multi-indexing also works in the familiar way:"
   ]
  },
  {
   "cell_type": "code",
   "execution_count": 93,
   "id": "c2198866",
   "metadata": {},
   "outputs": [
    {
     "data": {
      "text/html": [
       "<div>\n",
       "<style scoped>\n",
       "    .dataframe tbody tr th:only-of-type {\n",
       "        vertical-align: middle;\n",
       "    }\n",
       "\n",
       "    .dataframe tbody tr th {\n",
       "        vertical-align: top;\n",
       "    }\n",
       "\n",
       "    .dataframe thead th {\n",
       "        text-align: right;\n",
       "    }\n",
       "</style>\n",
       "<table border=\"1\" class=\"dataframe\">\n",
       "  <thead>\n",
       "    <tr style=\"text-align: right;\">\n",
       "      <th></th>\n",
       "      <th>Population</th>\n",
       "      <th>GDP</th>\n",
       "    </tr>\n",
       "  </thead>\n",
       "  <tbody>\n",
       "    <tr>\n",
       "      <th>Canada</th>\n",
       "      <td>35</td>\n",
       "      <td>1.7</td>\n",
       "    </tr>\n",
       "    <tr>\n",
       "      <th>France</th>\n",
       "      <td>63</td>\n",
       "      <td>2.8</td>\n",
       "    </tr>\n",
       "    <tr>\n",
       "      <th>Germany</th>\n",
       "      <td>80</td>\n",
       "      <td>3.8</td>\n",
       "    </tr>\n",
       "    <tr>\n",
       "      <th>Italy</th>\n",
       "      <td>60</td>\n",
       "      <td>2.1</td>\n",
       "    </tr>\n",
       "    <tr>\n",
       "      <th>Japan</th>\n",
       "      <td>127</td>\n",
       "      <td>4.6</td>\n",
       "    </tr>\n",
       "    <tr>\n",
       "      <th>UK</th>\n",
       "      <td>64</td>\n",
       "      <td>2.9</td>\n",
       "    </tr>\n",
       "    <tr>\n",
       "      <th>US</th>\n",
       "      <td>318</td>\n",
       "      <td>1.7</td>\n",
       "    </tr>\n",
       "  </tbody>\n",
       "</table>\n",
       "</div>"
      ],
      "text/plain": [
       "         Population  GDP\n",
       "Canada           35  1.7\n",
       "France           63  2.8\n",
       "Germany          80  3.8\n",
       "Italy            60  2.1\n",
       "Japan           127  4.6\n",
       "UK               64  2.9\n",
       "US              318  1.7"
      ]
     },
     "execution_count": 93,
     "metadata": {},
     "output_type": "execute_result"
    }
   ],
   "source": [
    "g7_df[['Population','GDP']]"
   ]
  },
  {
   "cell_type": "markdown",
   "id": "97f878fe",
   "metadata": {},
   "source": [
    "If we want to index rows, however, we must use the `loc` or `iloc` methods. \n",
    "\n",
    "For instance, say we are interested in the population, GDP, and surface area of only the first three countries. We could query the dataset like so:"
   ]
  },
  {
   "cell_type": "code",
   "execution_count": 100,
   "id": "8b5a5328",
   "metadata": {},
   "outputs": [
    {
     "data": {
      "text/html": [
       "<div>\n",
       "<style scoped>\n",
       "    .dataframe tbody tr th:only-of-type {\n",
       "        vertical-align: middle;\n",
       "    }\n",
       "\n",
       "    .dataframe tbody tr th {\n",
       "        vertical-align: top;\n",
       "    }\n",
       "\n",
       "    .dataframe thead th {\n",
       "        text-align: right;\n",
       "    }\n",
       "</style>\n",
       "<table border=\"1\" class=\"dataframe\">\n",
       "  <thead>\n",
       "    <tr style=\"text-align: right;\">\n",
       "      <th></th>\n",
       "      <th>Population</th>\n",
       "      <th>GDP</th>\n",
       "      <th>Surface Area</th>\n",
       "    </tr>\n",
       "  </thead>\n",
       "  <tbody>\n",
       "    <tr>\n",
       "      <th>Canada</th>\n",
       "      <td>35</td>\n",
       "      <td>1.7</td>\n",
       "      <td>9.0</td>\n",
       "    </tr>\n",
       "    <tr>\n",
       "      <th>France</th>\n",
       "      <td>63</td>\n",
       "      <td>2.8</td>\n",
       "      <td>0.6</td>\n",
       "    </tr>\n",
       "    <tr>\n",
       "      <th>Germany</th>\n",
       "      <td>80</td>\n",
       "      <td>3.8</td>\n",
       "      <td>0.3</td>\n",
       "    </tr>\n",
       "  </tbody>\n",
       "</table>\n",
       "</div>"
      ],
      "text/plain": [
       "         Population  GDP  Surface Area\n",
       "Canada           35  1.7           9.0\n",
       "France           63  2.8           0.6\n",
       "Germany          80  3.8           0.3"
      ]
     },
     "execution_count": 100,
     "metadata": {},
     "output_type": "execute_result"
    }
   ],
   "source": [
    "g7_df.loc['Canada':'Germany']"
   ]
  },
  {
   "cell_type": "markdown",
   "id": "e91c4427",
   "metadata": {},
   "source": [
    "If we're only interested in the population and GDP of the first three countries, then we could instead do the following:"
   ]
  },
  {
   "cell_type": "code",
   "execution_count": 104,
   "id": "d01a8118",
   "metadata": {},
   "outputs": [
    {
     "data": {
      "text/html": [
       "<div>\n",
       "<style scoped>\n",
       "    .dataframe tbody tr th:only-of-type {\n",
       "        vertical-align: middle;\n",
       "    }\n",
       "\n",
       "    .dataframe tbody tr th {\n",
       "        vertical-align: top;\n",
       "    }\n",
       "\n",
       "    .dataframe thead th {\n",
       "        text-align: right;\n",
       "    }\n",
       "</style>\n",
       "<table border=\"1\" class=\"dataframe\">\n",
       "  <thead>\n",
       "    <tr style=\"text-align: right;\">\n",
       "      <th></th>\n",
       "      <th>Population</th>\n",
       "      <th>GDP</th>\n",
       "    </tr>\n",
       "  </thead>\n",
       "  <tbody>\n",
       "    <tr>\n",
       "      <th>Canada</th>\n",
       "      <td>35</td>\n",
       "      <td>1.7</td>\n",
       "    </tr>\n",
       "    <tr>\n",
       "      <th>France</th>\n",
       "      <td>63</td>\n",
       "      <td>2.8</td>\n",
       "    </tr>\n",
       "    <tr>\n",
       "      <th>Germany</th>\n",
       "      <td>80</td>\n",
       "      <td>3.8</td>\n",
       "    </tr>\n",
       "  </tbody>\n",
       "</table>\n",
       "</div>"
      ],
      "text/plain": [
       "         Population  GDP\n",
       "Canada           35  1.7\n",
       "France           63  2.8\n",
       "Germany          80  3.8"
      ]
     },
     "execution_count": 104,
     "metadata": {},
     "output_type": "execute_result"
    }
   ],
   "source": [
    "g7_df[['Population', 'GDP']].loc['Canada':'Germany']"
   ]
  },
  {
   "cell_type": "markdown",
   "id": "82927606",
   "metadata": {},
   "source": [
    "Noting that `loc` accepts two inputs, one for the selection of rows and one for columns, we can achieve the above more concisely as follows:"
   ]
  },
  {
   "cell_type": "code",
   "execution_count": 105,
   "id": "0a7f035a",
   "metadata": {},
   "outputs": [
    {
     "data": {
      "text/html": [
       "<div>\n",
       "<style scoped>\n",
       "    .dataframe tbody tr th:only-of-type {\n",
       "        vertical-align: middle;\n",
       "    }\n",
       "\n",
       "    .dataframe tbody tr th {\n",
       "        vertical-align: top;\n",
       "    }\n",
       "\n",
       "    .dataframe thead th {\n",
       "        text-align: right;\n",
       "    }\n",
       "</style>\n",
       "<table border=\"1\" class=\"dataframe\">\n",
       "  <thead>\n",
       "    <tr style=\"text-align: right;\">\n",
       "      <th></th>\n",
       "      <th>Population</th>\n",
       "      <th>GDP</th>\n",
       "    </tr>\n",
       "  </thead>\n",
       "  <tbody>\n",
       "    <tr>\n",
       "      <th>Canada</th>\n",
       "      <td>35</td>\n",
       "      <td>1.7</td>\n",
       "    </tr>\n",
       "    <tr>\n",
       "      <th>France</th>\n",
       "      <td>63</td>\n",
       "      <td>2.8</td>\n",
       "    </tr>\n",
       "    <tr>\n",
       "      <th>Germany</th>\n",
       "      <td>80</td>\n",
       "      <td>3.8</td>\n",
       "    </tr>\n",
       "  </tbody>\n",
       "</table>\n",
       "</div>"
      ],
      "text/plain": [
       "         Population  GDP\n",
       "Canada           35  1.7\n",
       "France           63  2.8\n",
       "Germany          80  3.8"
      ]
     },
     "execution_count": 105,
     "metadata": {},
     "output_type": "execute_result"
    }
   ],
   "source": [
    "g7_df.loc['Canada':'Germany', ['Population', 'GDP']]"
   ]
  },
  {
   "cell_type": "markdown",
   "id": "0933e631",
   "metadata": {},
   "source": [
    "### Filtering\n",
    "\n",
    "Since the `loc` method also accepts a Boolean mask as input, we use it to filter the `DataFrame` by row. For instance, suppose we want the GDP of countries with a population over `70 mln`. We query the dataset as follows:"
   ]
  },
  {
   "cell_type": "code",
   "execution_count": 106,
   "id": "da02a84f",
   "metadata": {},
   "outputs": [
    {
     "data": {
      "text/plain": [
       "Germany    3.8\n",
       "Japan      4.6\n",
       "US         1.7\n",
       "Name: GDP, dtype: float64"
      ]
     },
     "execution_count": 106,
     "metadata": {},
     "output_type": "execute_result"
    }
   ],
   "source": [
    "g7_df.loc[g7_df['Population'] >= 70, 'GDP']"
   ]
  },
  {
   "cell_type": "markdown",
   "id": "1b79bf36",
   "metadata": {},
   "source": [
    "As additional exercise, suppose we are only interested in the population and GDP of countries that are smaller than `1.0 mln` square kilometers."
   ]
  },
  {
   "cell_type": "code",
   "execution_count": 108,
   "id": "219ca317",
   "metadata": {},
   "outputs": [
    {
     "data": {
      "text/html": [
       "<div>\n",
       "<style scoped>\n",
       "    .dataframe tbody tr th:only-of-type {\n",
       "        vertical-align: middle;\n",
       "    }\n",
       "\n",
       "    .dataframe tbody tr th {\n",
       "        vertical-align: top;\n",
       "    }\n",
       "\n",
       "    .dataframe thead th {\n",
       "        text-align: right;\n",
       "    }\n",
       "</style>\n",
       "<table border=\"1\" class=\"dataframe\">\n",
       "  <thead>\n",
       "    <tr style=\"text-align: right;\">\n",
       "      <th></th>\n",
       "      <th>Population</th>\n",
       "      <th>GDP</th>\n",
       "    </tr>\n",
       "  </thead>\n",
       "  <tbody>\n",
       "    <tr>\n",
       "      <th>France</th>\n",
       "      <td>63</td>\n",
       "      <td>2.8</td>\n",
       "    </tr>\n",
       "    <tr>\n",
       "      <th>Germany</th>\n",
       "      <td>80</td>\n",
       "      <td>3.8</td>\n",
       "    </tr>\n",
       "    <tr>\n",
       "      <th>Italy</th>\n",
       "      <td>60</td>\n",
       "      <td>2.1</td>\n",
       "    </tr>\n",
       "    <tr>\n",
       "      <th>Japan</th>\n",
       "      <td>127</td>\n",
       "      <td>4.6</td>\n",
       "    </tr>\n",
       "    <tr>\n",
       "      <th>UK</th>\n",
       "      <td>64</td>\n",
       "      <td>2.9</td>\n",
       "    </tr>\n",
       "  </tbody>\n",
       "</table>\n",
       "</div>"
      ],
      "text/plain": [
       "         Population  GDP\n",
       "France           63  2.8\n",
       "Germany          80  3.8\n",
       "Italy            60  2.1\n",
       "Japan           127  4.6\n",
       "UK               64  2.9"
      ]
     },
     "execution_count": 108,
     "metadata": {},
     "output_type": "execute_result"
    }
   ],
   "source": [
    "g7_df.loc[g7_df['Surface Area'] <= 1.0, ['Population','GDP']]"
   ]
  },
  {
   "cell_type": "markdown",
   "id": "4e91b10d",
   "metadata": {},
   "source": [
    "### Adding, Dropping, and Renaming Columns and Rows\n",
    "\n",
    "Let's add a `'Languages'` column to `g7_df`. We simply follow the same syntax as adding a key to a dictionary... "
   ]
  },
  {
   "cell_type": "code",
   "execution_count": 125,
   "id": "915da15d",
   "metadata": {},
   "outputs": [
    {
     "data": {
      "text/html": [
       "<div>\n",
       "<style scoped>\n",
       "    .dataframe tbody tr th:only-of-type {\n",
       "        vertical-align: middle;\n",
       "    }\n",
       "\n",
       "    .dataframe tbody tr th {\n",
       "        vertical-align: top;\n",
       "    }\n",
       "\n",
       "    .dataframe thead th {\n",
       "        text-align: right;\n",
       "    }\n",
       "</style>\n",
       "<table border=\"1\" class=\"dataframe\">\n",
       "  <thead>\n",
       "    <tr style=\"text-align: right;\">\n",
       "      <th></th>\n",
       "      <th>Population</th>\n",
       "      <th>GDP</th>\n",
       "      <th>Surface Area</th>\n",
       "      <th>Languages</th>\n",
       "    </tr>\n",
       "  </thead>\n",
       "  <tbody>\n",
       "    <tr>\n",
       "      <th>Canada</th>\n",
       "      <td>35</td>\n",
       "      <td>1.7</td>\n",
       "      <td>9.0</td>\n",
       "      <td>French, English</td>\n",
       "    </tr>\n",
       "    <tr>\n",
       "      <th>France</th>\n",
       "      <td>63</td>\n",
       "      <td>2.8</td>\n",
       "      <td>0.6</td>\n",
       "      <td>French</td>\n",
       "    </tr>\n",
       "    <tr>\n",
       "      <th>Germany</th>\n",
       "      <td>80</td>\n",
       "      <td>3.8</td>\n",
       "      <td>0.3</td>\n",
       "      <td>German</td>\n",
       "    </tr>\n",
       "    <tr>\n",
       "      <th>Italy</th>\n",
       "      <td>60</td>\n",
       "      <td>2.1</td>\n",
       "      <td>0.3</td>\n",
       "      <td>Italian</td>\n",
       "    </tr>\n",
       "    <tr>\n",
       "      <th>Japan</th>\n",
       "      <td>127</td>\n",
       "      <td>4.6</td>\n",
       "      <td>0.3</td>\n",
       "      <td>Japanese</td>\n",
       "    </tr>\n",
       "    <tr>\n",
       "      <th>UK</th>\n",
       "      <td>64</td>\n",
       "      <td>2.9</td>\n",
       "      <td>0.2</td>\n",
       "      <td>English</td>\n",
       "    </tr>\n",
       "    <tr>\n",
       "      <th>US</th>\n",
       "      <td>318</td>\n",
       "      <td>1.7</td>\n",
       "      <td>9.0</td>\n",
       "      <td>English</td>\n",
       "    </tr>\n",
       "  </tbody>\n",
       "</table>\n",
       "</div>"
      ],
      "text/plain": [
       "         Population  GDP  Surface Area        Languages\n",
       "Canada           35  1.7           9.0  French, English\n",
       "France           63  2.8           0.6           French\n",
       "Germany          80  3.8           0.3           German\n",
       "Italy            60  2.1           0.3          Italian\n",
       "Japan           127  4.6           0.3         Japanese\n",
       "UK               64  2.9           0.2          English\n",
       "US              318  1.7           9.0          English"
      ]
     },
     "execution_count": 125,
     "metadata": {},
     "output_type": "execute_result"
    }
   ],
   "source": [
    "# A DataFrame row is a series, so first we define one...\n",
    "languages = pd.Series({\n",
    "    'Canada' : 'French, English',\n",
    "    'France' : 'French',\n",
    "    'Germany' : 'German',\n",
    "    'Italy' : 'Italian',\n",
    "    'Japan' : 'Japanese',\n",
    "    'UK' : 'English',\n",
    "    'US' : 'English'\n",
    "})\n",
    "# Next, we add the series as a column to the DataFrame\n",
    "g7_df['Languages'] = languages\n",
    "g7_df"
   ]
  },
  {
   "cell_type": "markdown",
   "id": "ee96d482",
   "metadata": {},
   "source": [
    "We can also drop a column or a row using the `drop()` method. \n",
    "\n",
    "Let's drop the newly created `'Languages'` column. To drop a column, we specify a `columns` argument in the `drop()` method like so:"
   ]
  },
  {
   "cell_type": "code",
   "execution_count": 126,
   "id": "9382c826",
   "metadata": {},
   "outputs": [
    {
     "data": {
      "text/html": [
       "<div>\n",
       "<style scoped>\n",
       "    .dataframe tbody tr th:only-of-type {\n",
       "        vertical-align: middle;\n",
       "    }\n",
       "\n",
       "    .dataframe tbody tr th {\n",
       "        vertical-align: top;\n",
       "    }\n",
       "\n",
       "    .dataframe thead th {\n",
       "        text-align: right;\n",
       "    }\n",
       "</style>\n",
       "<table border=\"1\" class=\"dataframe\">\n",
       "  <thead>\n",
       "    <tr style=\"text-align: right;\">\n",
       "      <th></th>\n",
       "      <th>Population</th>\n",
       "      <th>GDP</th>\n",
       "      <th>Surface Area</th>\n",
       "    </tr>\n",
       "  </thead>\n",
       "  <tbody>\n",
       "    <tr>\n",
       "      <th>Canada</th>\n",
       "      <td>35</td>\n",
       "      <td>1.7</td>\n",
       "      <td>9.0</td>\n",
       "    </tr>\n",
       "    <tr>\n",
       "      <th>France</th>\n",
       "      <td>63</td>\n",
       "      <td>2.8</td>\n",
       "      <td>0.6</td>\n",
       "    </tr>\n",
       "    <tr>\n",
       "      <th>Germany</th>\n",
       "      <td>80</td>\n",
       "      <td>3.8</td>\n",
       "      <td>0.3</td>\n",
       "    </tr>\n",
       "    <tr>\n",
       "      <th>Italy</th>\n",
       "      <td>60</td>\n",
       "      <td>2.1</td>\n",
       "      <td>0.3</td>\n",
       "    </tr>\n",
       "    <tr>\n",
       "      <th>Japan</th>\n",
       "      <td>127</td>\n",
       "      <td>4.6</td>\n",
       "      <td>0.3</td>\n",
       "    </tr>\n",
       "    <tr>\n",
       "      <th>UK</th>\n",
       "      <td>64</td>\n",
       "      <td>2.9</td>\n",
       "      <td>0.2</td>\n",
       "    </tr>\n",
       "    <tr>\n",
       "      <th>US</th>\n",
       "      <td>318</td>\n",
       "      <td>1.7</td>\n",
       "      <td>9.0</td>\n",
       "    </tr>\n",
       "  </tbody>\n",
       "</table>\n",
       "</div>"
      ],
      "text/plain": [
       "         Population  GDP  Surface Area\n",
       "Canada           35  1.7           9.0\n",
       "France           63  2.8           0.6\n",
       "Germany          80  3.8           0.3\n",
       "Italy            60  2.1           0.3\n",
       "Japan           127  4.6           0.3\n",
       "UK               64  2.9           0.2\n",
       "US              318  1.7           9.0"
      ]
     },
     "execution_count": 126,
     "metadata": {},
     "output_type": "execute_result"
    }
   ],
   "source": [
    "g7_df.drop(columns = 'Languages')"
   ]
  },
  {
   "cell_type": "markdown",
   "id": "d7c0e18b",
   "metadata": {},
   "source": [
    "The method `drop()` returns a new `DataFrame` which does not contain the unneeded column, but the original `g7_df` still contains this column. To prove this, let's print it:"
   ]
  },
  {
   "cell_type": "code",
   "execution_count": 127,
   "id": "94be9634",
   "metadata": {},
   "outputs": [
    {
     "data": {
      "text/html": [
       "<div>\n",
       "<style scoped>\n",
       "    .dataframe tbody tr th:only-of-type {\n",
       "        vertical-align: middle;\n",
       "    }\n",
       "\n",
       "    .dataframe tbody tr th {\n",
       "        vertical-align: top;\n",
       "    }\n",
       "\n",
       "    .dataframe thead th {\n",
       "        text-align: right;\n",
       "    }\n",
       "</style>\n",
       "<table border=\"1\" class=\"dataframe\">\n",
       "  <thead>\n",
       "    <tr style=\"text-align: right;\">\n",
       "      <th></th>\n",
       "      <th>Population</th>\n",
       "      <th>GDP</th>\n",
       "      <th>Surface Area</th>\n",
       "      <th>Languages</th>\n",
       "    </tr>\n",
       "  </thead>\n",
       "  <tbody>\n",
       "    <tr>\n",
       "      <th>Canada</th>\n",
       "      <td>35</td>\n",
       "      <td>1.7</td>\n",
       "      <td>9.0</td>\n",
       "      <td>French, English</td>\n",
       "    </tr>\n",
       "    <tr>\n",
       "      <th>France</th>\n",
       "      <td>63</td>\n",
       "      <td>2.8</td>\n",
       "      <td>0.6</td>\n",
       "      <td>French</td>\n",
       "    </tr>\n",
       "    <tr>\n",
       "      <th>Germany</th>\n",
       "      <td>80</td>\n",
       "      <td>3.8</td>\n",
       "      <td>0.3</td>\n",
       "      <td>German</td>\n",
       "    </tr>\n",
       "    <tr>\n",
       "      <th>Italy</th>\n",
       "      <td>60</td>\n",
       "      <td>2.1</td>\n",
       "      <td>0.3</td>\n",
       "      <td>Italian</td>\n",
       "    </tr>\n",
       "    <tr>\n",
       "      <th>Japan</th>\n",
       "      <td>127</td>\n",
       "      <td>4.6</td>\n",
       "      <td>0.3</td>\n",
       "      <td>Japanese</td>\n",
       "    </tr>\n",
       "    <tr>\n",
       "      <th>UK</th>\n",
       "      <td>64</td>\n",
       "      <td>2.9</td>\n",
       "      <td>0.2</td>\n",
       "      <td>English</td>\n",
       "    </tr>\n",
       "    <tr>\n",
       "      <th>US</th>\n",
       "      <td>318</td>\n",
       "      <td>1.7</td>\n",
       "      <td>9.0</td>\n",
       "      <td>English</td>\n",
       "    </tr>\n",
       "  </tbody>\n",
       "</table>\n",
       "</div>"
      ],
      "text/plain": [
       "         Population  GDP  Surface Area        Languages\n",
       "Canada           35  1.7           9.0  French, English\n",
       "France           63  2.8           0.6           French\n",
       "Germany          80  3.8           0.3           German\n",
       "Italy            60  2.1           0.3          Italian\n",
       "Japan           127  4.6           0.3         Japanese\n",
       "UK               64  2.9           0.2          English\n",
       "US              318  1.7           9.0          English"
      ]
     },
     "execution_count": 127,
     "metadata": {},
     "output_type": "execute_result"
    }
   ],
   "source": [
    "g7_df"
   ]
  },
  {
   "cell_type": "markdown",
   "id": "5df29cd6",
   "metadata": {},
   "source": [
    "As we can see the `'Languages'` column is still there. The solution is to specify an `inplace = True` argument so that the column is dropped in-place. "
   ]
  },
  {
   "cell_type": "code",
   "execution_count": 128,
   "id": "f91ed45c",
   "metadata": {
    "scrolled": true
   },
   "outputs": [
    {
     "data": {
      "text/html": [
       "<div>\n",
       "<style scoped>\n",
       "    .dataframe tbody tr th:only-of-type {\n",
       "        vertical-align: middle;\n",
       "    }\n",
       "\n",
       "    .dataframe tbody tr th {\n",
       "        vertical-align: top;\n",
       "    }\n",
       "\n",
       "    .dataframe thead th {\n",
       "        text-align: right;\n",
       "    }\n",
       "</style>\n",
       "<table border=\"1\" class=\"dataframe\">\n",
       "  <thead>\n",
       "    <tr style=\"text-align: right;\">\n",
       "      <th></th>\n",
       "      <th>Population</th>\n",
       "      <th>GDP</th>\n",
       "      <th>Surface Area</th>\n",
       "    </tr>\n",
       "  </thead>\n",
       "  <tbody>\n",
       "    <tr>\n",
       "      <th>Canada</th>\n",
       "      <td>35</td>\n",
       "      <td>1.7</td>\n",
       "      <td>9.0</td>\n",
       "    </tr>\n",
       "    <tr>\n",
       "      <th>France</th>\n",
       "      <td>63</td>\n",
       "      <td>2.8</td>\n",
       "      <td>0.6</td>\n",
       "    </tr>\n",
       "    <tr>\n",
       "      <th>Germany</th>\n",
       "      <td>80</td>\n",
       "      <td>3.8</td>\n",
       "      <td>0.3</td>\n",
       "    </tr>\n",
       "    <tr>\n",
       "      <th>Italy</th>\n",
       "      <td>60</td>\n",
       "      <td>2.1</td>\n",
       "      <td>0.3</td>\n",
       "    </tr>\n",
       "    <tr>\n",
       "      <th>Japan</th>\n",
       "      <td>127</td>\n",
       "      <td>4.6</td>\n",
       "      <td>0.3</td>\n",
       "    </tr>\n",
       "    <tr>\n",
       "      <th>UK</th>\n",
       "      <td>64</td>\n",
       "      <td>2.9</td>\n",
       "      <td>0.2</td>\n",
       "    </tr>\n",
       "    <tr>\n",
       "      <th>US</th>\n",
       "      <td>318</td>\n",
       "      <td>1.7</td>\n",
       "      <td>9.0</td>\n",
       "    </tr>\n",
       "  </tbody>\n",
       "</table>\n",
       "</div>"
      ],
      "text/plain": [
       "         Population  GDP  Surface Area\n",
       "Canada           35  1.7           9.0\n",
       "France           63  2.8           0.6\n",
       "Germany          80  3.8           0.3\n",
       "Italy            60  2.1           0.3\n",
       "Japan           127  4.6           0.3\n",
       "UK               64  2.9           0.2\n",
       "US              318  1.7           9.0"
      ]
     },
     "execution_count": 128,
     "metadata": {},
     "output_type": "execute_result"
    }
   ],
   "source": [
    "g7_df.drop(columns = 'Languages', inplace = True)\n",
    "g7_df"
   ]
  },
  {
   "cell_type": "markdown",
   "id": "e43f2f99",
   "metadata": {},
   "source": [
    "In order to drop rows, we specify the `index` argument instead. Suppose we want to remove Canada and  Italy from the dataset."
   ]
  },
  {
   "cell_type": "code",
   "execution_count": 129,
   "id": "fa242989",
   "metadata": {
    "scrolled": true
   },
   "outputs": [
    {
     "data": {
      "text/html": [
       "<div>\n",
       "<style scoped>\n",
       "    .dataframe tbody tr th:only-of-type {\n",
       "        vertical-align: middle;\n",
       "    }\n",
       "\n",
       "    .dataframe tbody tr th {\n",
       "        vertical-align: top;\n",
       "    }\n",
       "\n",
       "    .dataframe thead th {\n",
       "        text-align: right;\n",
       "    }\n",
       "</style>\n",
       "<table border=\"1\" class=\"dataframe\">\n",
       "  <thead>\n",
       "    <tr style=\"text-align: right;\">\n",
       "      <th></th>\n",
       "      <th>Population</th>\n",
       "      <th>GDP</th>\n",
       "      <th>Surface Area</th>\n",
       "    </tr>\n",
       "  </thead>\n",
       "  <tbody>\n",
       "    <tr>\n",
       "      <th>France</th>\n",
       "      <td>63</td>\n",
       "      <td>2.8</td>\n",
       "      <td>0.6</td>\n",
       "    </tr>\n",
       "    <tr>\n",
       "      <th>Germany</th>\n",
       "      <td>80</td>\n",
       "      <td>3.8</td>\n",
       "      <td>0.3</td>\n",
       "    </tr>\n",
       "    <tr>\n",
       "      <th>Japan</th>\n",
       "      <td>127</td>\n",
       "      <td>4.6</td>\n",
       "      <td>0.3</td>\n",
       "    </tr>\n",
       "    <tr>\n",
       "      <th>UK</th>\n",
       "      <td>64</td>\n",
       "      <td>2.9</td>\n",
       "      <td>0.2</td>\n",
       "    </tr>\n",
       "    <tr>\n",
       "      <th>US</th>\n",
       "      <td>318</td>\n",
       "      <td>1.7</td>\n",
       "      <td>9.0</td>\n",
       "    </tr>\n",
       "  </tbody>\n",
       "</table>\n",
       "</div>"
      ],
      "text/plain": [
       "         Population  GDP  Surface Area\n",
       "France           63  2.8           0.6\n",
       "Germany          80  3.8           0.3\n",
       "Japan           127  4.6           0.3\n",
       "UK               64  2.9           0.2\n",
       "US              318  1.7           9.0"
      ]
     },
     "execution_count": 129,
     "metadata": {},
     "output_type": "execute_result"
    }
   ],
   "source": [
    "g7_df.drop(index = ['Canada', 'Italy'])"
   ]
  },
  {
   "cell_type": "markdown",
   "id": "825454b1",
   "metadata": {},
   "source": [
    "It is also possible to rename a column or a row using the `rename()` method. \n",
    "\n",
    "Suppose we'd like to rename the columns to include the units of measurement, and suppose we'd also like to expand the UK and US to their full names."
   ]
  },
  {
   "cell_type": "code",
   "execution_count": 130,
   "id": "5ce73c5e",
   "metadata": {},
   "outputs": [
    {
     "data": {
      "text/html": [
       "<div>\n",
       "<style scoped>\n",
       "    .dataframe tbody tr th:only-of-type {\n",
       "        vertical-align: middle;\n",
       "    }\n",
       "\n",
       "    .dataframe tbody tr th {\n",
       "        vertical-align: top;\n",
       "    }\n",
       "\n",
       "    .dataframe thead th {\n",
       "        text-align: right;\n",
       "    }\n",
       "</style>\n",
       "<table border=\"1\" class=\"dataframe\">\n",
       "  <thead>\n",
       "    <tr style=\"text-align: right;\">\n",
       "      <th></th>\n",
       "      <th>Population (mln)</th>\n",
       "      <th>GDP (USD)</th>\n",
       "      <th>Surface Area (mln sq. km)</th>\n",
       "    </tr>\n",
       "  </thead>\n",
       "  <tbody>\n",
       "    <tr>\n",
       "      <th>Canada</th>\n",
       "      <td>35</td>\n",
       "      <td>1.7</td>\n",
       "      <td>9.0</td>\n",
       "    </tr>\n",
       "    <tr>\n",
       "      <th>France</th>\n",
       "      <td>63</td>\n",
       "      <td>2.8</td>\n",
       "      <td>0.6</td>\n",
       "    </tr>\n",
       "    <tr>\n",
       "      <th>Germany</th>\n",
       "      <td>80</td>\n",
       "      <td>3.8</td>\n",
       "      <td>0.3</td>\n",
       "    </tr>\n",
       "    <tr>\n",
       "      <th>Italy</th>\n",
       "      <td>60</td>\n",
       "      <td>2.1</td>\n",
       "      <td>0.3</td>\n",
       "    </tr>\n",
       "    <tr>\n",
       "      <th>Japan</th>\n",
       "      <td>127</td>\n",
       "      <td>4.6</td>\n",
       "      <td>0.3</td>\n",
       "    </tr>\n",
       "    <tr>\n",
       "      <th>United Kingdom</th>\n",
       "      <td>64</td>\n",
       "      <td>2.9</td>\n",
       "      <td>0.2</td>\n",
       "    </tr>\n",
       "    <tr>\n",
       "      <th>United States</th>\n",
       "      <td>318</td>\n",
       "      <td>1.7</td>\n",
       "      <td>9.0</td>\n",
       "    </tr>\n",
       "  </tbody>\n",
       "</table>\n",
       "</div>"
      ],
      "text/plain": [
       "                Population (mln)  GDP (USD)  Surface Area (mln sq. km)\n",
       "Canada                        35        1.7                        9.0\n",
       "France                        63        2.8                        0.6\n",
       "Germany                       80        3.8                        0.3\n",
       "Italy                         60        2.1                        0.3\n",
       "Japan                        127        4.6                        0.3\n",
       "United Kingdom                64        2.9                        0.2\n",
       "United States                318        1.7                        9.0"
      ]
     },
     "execution_count": 130,
     "metadata": {},
     "output_type": "execute_result"
    }
   ],
   "source": [
    "g7_df.rename(\n",
    "    columns = {\n",
    "        'Population' : 'Population (mln)',\n",
    "        'GDP' : 'GDP (USD)',\n",
    "        'Surface Area' : 'Surface Area (mln sq. km)'\n",
    "    },\n",
    "    index = {\n",
    "        'UK' : 'United Kingdom',\n",
    "        'US' : 'United States'\n",
    "    }\n",
    ")"
   ]
  },
  {
   "cell_type": "markdown",
   "id": "fcf59228",
   "metadata": {},
   "source": [
    "### Manipulating Columns\n",
    "\n",
    "Those of us familiar with Excel know the *functions* feature which allows users to select specific cells or combinations of cells, perform algebraic or logical operations with their contents, and store the results in new cells. The way to do that in Pandas is, once again, through broadcasted operations. \n",
    "\n",
    "For instance, suppose we'd like to add a new `'GDP Per Capita'` column to the `g7_df` dataset. This is simply a matter of dividing the GDP of each country by its population. \n",
    "\n",
    "Using broadcasted division, the code is simply:"
   ]
  },
  {
   "cell_type": "code",
   "execution_count": 133,
   "id": "3c861b24",
   "metadata": {},
   "outputs": [
    {
     "data": {
      "text/html": [
       "<div>\n",
       "<style scoped>\n",
       "    .dataframe tbody tr th:only-of-type {\n",
       "        vertical-align: middle;\n",
       "    }\n",
       "\n",
       "    .dataframe tbody tr th {\n",
       "        vertical-align: top;\n",
       "    }\n",
       "\n",
       "    .dataframe thead th {\n",
       "        text-align: right;\n",
       "    }\n",
       "</style>\n",
       "<table border=\"1\" class=\"dataframe\">\n",
       "  <thead>\n",
       "    <tr style=\"text-align: right;\">\n",
       "      <th></th>\n",
       "      <th>Population</th>\n",
       "      <th>GDP</th>\n",
       "      <th>Surface Area</th>\n",
       "      <th>GDP Per Capita</th>\n",
       "    </tr>\n",
       "  </thead>\n",
       "  <tbody>\n",
       "    <tr>\n",
       "      <th>Canada</th>\n",
       "      <td>35</td>\n",
       "      <td>1.7</td>\n",
       "      <td>9.0</td>\n",
       "      <td>0.048571</td>\n",
       "    </tr>\n",
       "    <tr>\n",
       "      <th>France</th>\n",
       "      <td>63</td>\n",
       "      <td>2.8</td>\n",
       "      <td>0.6</td>\n",
       "      <td>0.044444</td>\n",
       "    </tr>\n",
       "    <tr>\n",
       "      <th>Germany</th>\n",
       "      <td>80</td>\n",
       "      <td>3.8</td>\n",
       "      <td>0.3</td>\n",
       "      <td>0.047500</td>\n",
       "    </tr>\n",
       "    <tr>\n",
       "      <th>Italy</th>\n",
       "      <td>60</td>\n",
       "      <td>2.1</td>\n",
       "      <td>0.3</td>\n",
       "      <td>0.035000</td>\n",
       "    </tr>\n",
       "    <tr>\n",
       "      <th>Japan</th>\n",
       "      <td>127</td>\n",
       "      <td>4.6</td>\n",
       "      <td>0.3</td>\n",
       "      <td>0.036220</td>\n",
       "    </tr>\n",
       "    <tr>\n",
       "      <th>UK</th>\n",
       "      <td>64</td>\n",
       "      <td>2.9</td>\n",
       "      <td>0.2</td>\n",
       "      <td>0.045312</td>\n",
       "    </tr>\n",
       "    <tr>\n",
       "      <th>US</th>\n",
       "      <td>318</td>\n",
       "      <td>1.7</td>\n",
       "      <td>9.0</td>\n",
       "      <td>0.005346</td>\n",
       "    </tr>\n",
       "  </tbody>\n",
       "</table>\n",
       "</div>"
      ],
      "text/plain": [
       "         Population  GDP  Surface Area  GDP Per Capita\n",
       "Canada           35  1.7           9.0        0.048571\n",
       "France           63  2.8           0.6        0.044444\n",
       "Germany          80  3.8           0.3        0.047500\n",
       "Italy            60  2.1           0.3        0.035000\n",
       "Japan           127  4.6           0.3        0.036220\n",
       "UK               64  2.9           0.2        0.045312\n",
       "US              318  1.7           9.0        0.005346"
      ]
     },
     "execution_count": 133,
     "metadata": {},
     "output_type": "execute_result"
    }
   ],
   "source": [
    "g7_df['GDP Per Capita'] = g7_df['GDP'] / g7_df['Population']\n",
    "g7_df"
   ]
  },
  {
   "cell_type": "markdown",
   "id": "c9dad641",
   "metadata": {},
   "source": [
    "### Worked Example - Bitcoin Price Timeseries: Cleaning and Reindexing\n",
    "\n",
    "Sometimes we may wish to use a certain column to index a `DataFrame`. For instance, if we're working with a dataset of Bitcoin prices, it would be wise to use the `'Time'` column as the index so that we can easily access the value of Bitcoin at a given time. \n",
    "\n",
    "\n",
    "> Note: Data that's indexed by time is called a [timeseries](https://en.wikipedia.org/wiki/Time_series)... \n",
    "\n",
    "\n",
    "\n",
    "For this example, we will retrieve the actual daily Bitcoin price history from [CoinCap API 2.0](https://docs.coincap.io/#ee30bea9-bb6b-469d-958a-d3e35d442d7a). Feel free to check out the code that fetches the data as JSON and converts it into a Pandas `DataFrame` in the collapsable code below."
   ]
  },
  {
   "cell_type": "code",
   "execution_count": 33,
   "id": "32006b62",
   "metadata": {},
   "outputs": [],
   "source": [
    "#collapse-hide\n",
    "\n",
    "import requests\n",
    "import json\n",
    "\n",
    "# Specifying request URL, payload, and headers\n",
    "url = 'https://api.coincap.io/v2/assets/bitcoin/history?interval=d1'\n",
    "payload = {}\n",
    "headers = {}\n",
    "# Making the request and parsing it as JSON\n",
    "response = requests.request('GET', url, headers = headers, data = payload)\n",
    "json_data = json.loads(response.text)['data']\n",
    "# Converting the result into a DataFrame\n",
    "bitcoin_df = pd.json_normalize(json_data)\n",
    "# Cleanup\n",
    "bitcoin_df.rename(\n",
    "    columns = {\n",
    "        'priceUsd' : 'priceInUSD',\n",
    "        'time' : 'Time',\n",
    "        'date' : 'Date'\n",
    "    },\n",
    "    inplace = True\n",
    ")"
   ]
  },
  {
   "cell_type": "markdown",
   "id": "f54fed30",
   "metadata": {},
   "source": [
    "The result of this is the following `DataFrame`:"
   ]
  },
  {
   "cell_type": "code",
   "execution_count": 34,
   "id": "6a409486",
   "metadata": {},
   "outputs": [
    {
     "data": {
      "text/html": [
       "<div>\n",
       "<style scoped>\n",
       "    .dataframe tbody tr th:only-of-type {\n",
       "        vertical-align: middle;\n",
       "    }\n",
       "\n",
       "    .dataframe tbody tr th {\n",
       "        vertical-align: top;\n",
       "    }\n",
       "\n",
       "    .dataframe thead th {\n",
       "        text-align: right;\n",
       "    }\n",
       "</style>\n",
       "<table border=\"1\" class=\"dataframe\">\n",
       "  <thead>\n",
       "    <tr style=\"text-align: right;\">\n",
       "      <th></th>\n",
       "      <th>priceInUSD</th>\n",
       "      <th>Time</th>\n",
       "      <th>Date</th>\n",
       "    </tr>\n",
       "  </thead>\n",
       "  <tbody>\n",
       "    <tr>\n",
       "      <th>0</th>\n",
       "      <td>37480.8939504110899664</td>\n",
       "      <td>1610668800000</td>\n",
       "      <td>2021-01-15T00:00:00.000Z</td>\n",
       "    </tr>\n",
       "    <tr>\n",
       "      <th>1</th>\n",
       "      <td>36853.8623471143090244</td>\n",
       "      <td>1610755200000</td>\n",
       "      <td>2021-01-16T00:00:00.000Z</td>\n",
       "    </tr>\n",
       "    <tr>\n",
       "      <th>2</th>\n",
       "      <td>35670.6623897365179078</td>\n",
       "      <td>1610841600000</td>\n",
       "      <td>2021-01-17T00:00:00.000Z</td>\n",
       "    </tr>\n",
       "    <tr>\n",
       "      <th>3</th>\n",
       "      <td>36061.4760792230247237</td>\n",
       "      <td>1610928000000</td>\n",
       "      <td>2021-01-18T00:00:00.000Z</td>\n",
       "    </tr>\n",
       "    <tr>\n",
       "      <th>4</th>\n",
       "      <td>36868.3293610208260669</td>\n",
       "      <td>1611014400000</td>\n",
       "      <td>2021-01-19T00:00:00.000Z</td>\n",
       "    </tr>\n",
       "  </tbody>\n",
       "</table>\n",
       "</div>"
      ],
      "text/plain": [
       "               priceInUSD           Time                      Date\n",
       "0  37480.8939504110899664  1610668800000  2021-01-15T00:00:00.000Z\n",
       "1  36853.8623471143090244  1610755200000  2021-01-16T00:00:00.000Z\n",
       "2  35670.6623897365179078  1610841600000  2021-01-17T00:00:00.000Z\n",
       "3  36061.4760792230247237  1610928000000  2021-01-18T00:00:00.000Z\n",
       "4  36868.3293610208260669  1611014400000  2021-01-19T00:00:00.000Z"
      ]
     },
     "execution_count": 34,
     "metadata": {},
     "output_type": "execute_result"
    }
   ],
   "source": [
    "bitcoin_df.head()"
   ]
  },
  {
   "cell_type": "markdown",
   "id": "75b4f423",
   "metadata": {},
   "source": [
    "Now that we have the dataset as a cleaned-up Pandas `DataFrame` called `bitcoin_df`, we can get to work.\n",
    "\n",
    "First order of business is to re-index the dataset based on the `'Time'` column. We can set a column as index using the `set_index()` method in the following way:"
   ]
  },
  {
   "cell_type": "code",
   "execution_count": 35,
   "id": "499a6e96",
   "metadata": {},
   "outputs": [
    {
     "data": {
      "text/html": [
       "<div>\n",
       "<style scoped>\n",
       "    .dataframe tbody tr th:only-of-type {\n",
       "        vertical-align: middle;\n",
       "    }\n",
       "\n",
       "    .dataframe tbody tr th {\n",
       "        vertical-align: top;\n",
       "    }\n",
       "\n",
       "    .dataframe thead th {\n",
       "        text-align: right;\n",
       "    }\n",
       "</style>\n",
       "<table border=\"1\" class=\"dataframe\">\n",
       "  <thead>\n",
       "    <tr style=\"text-align: right;\">\n",
       "      <th></th>\n",
       "      <th>priceInUSD</th>\n",
       "      <th>Date</th>\n",
       "    </tr>\n",
       "  </thead>\n",
       "  <tbody>\n",
       "    <tr>\n",
       "      <th>1610668800000</th>\n",
       "      <td>37480.8939504110899664</td>\n",
       "      <td>2021-01-15T00:00:00.000Z</td>\n",
       "    </tr>\n",
       "    <tr>\n",
       "      <th>1610755200000</th>\n",
       "      <td>36853.8623471143090244</td>\n",
       "      <td>2021-01-16T00:00:00.000Z</td>\n",
       "    </tr>\n",
       "    <tr>\n",
       "      <th>1610841600000</th>\n",
       "      <td>35670.6623897365179078</td>\n",
       "      <td>2021-01-17T00:00:00.000Z</td>\n",
       "    </tr>\n",
       "    <tr>\n",
       "      <th>1610928000000</th>\n",
       "      <td>36061.4760792230247237</td>\n",
       "      <td>2021-01-18T00:00:00.000Z</td>\n",
       "    </tr>\n",
       "    <tr>\n",
       "      <th>1611014400000</th>\n",
       "      <td>36868.3293610208260669</td>\n",
       "      <td>2021-01-19T00:00:00.000Z</td>\n",
       "    </tr>\n",
       "  </tbody>\n",
       "</table>\n",
       "</div>"
      ],
      "text/plain": [
       "                           priceInUSD                      Date\n",
       "1610668800000  37480.8939504110899664  2021-01-15T00:00:00.000Z\n",
       "1610755200000  36853.8623471143090244  2021-01-16T00:00:00.000Z\n",
       "1610841600000  35670.6623897365179078  2021-01-17T00:00:00.000Z\n",
       "1610928000000  36061.4760792230247237  2021-01-18T00:00:00.000Z\n",
       "1611014400000  36868.3293610208260669  2021-01-19T00:00:00.000Z"
      ]
     },
     "execution_count": 35,
     "metadata": {},
     "output_type": "execute_result"
    }
   ],
   "source": [
    "bitcoin_df.set_index('Time', inplace=True)\n",
    "bitcoin_df.index.name = None # The index column shouldn't have a name — this removes the name 'Time'\n",
    "bitcoin_df.head()"
   ]
  },
  {
   "cell_type": "markdown",
   "id": "8d5d2709",
   "metadata": {},
   "source": [
    "As we can see the column that was previously named `'Time'` now acts as index. \n",
    "\n",
    "Next, we should convert the entries of the index from a Unix `timestamp` into a Python `datetime` for more clarity. While doing this, let's also convert the entries of the `'Date'` column which are currently in string format. "
   ]
  },
  {
   "cell_type": "code",
   "execution_count": 70,
   "id": "6fd7c028",
   "metadata": {},
   "outputs": [
    {
     "data": {
      "text/html": [
       "<div>\n",
       "<style scoped>\n",
       "    .dataframe tbody tr th:only-of-type {\n",
       "        vertical-align: middle;\n",
       "    }\n",
       "\n",
       "    .dataframe tbody tr th {\n",
       "        vertical-align: top;\n",
       "    }\n",
       "\n",
       "    .dataframe thead th {\n",
       "        text-align: right;\n",
       "    }\n",
       "</style>\n",
       "<table border=\"1\" class=\"dataframe\">\n",
       "  <thead>\n",
       "    <tr style=\"text-align: right;\">\n",
       "      <th></th>\n",
       "      <th>priceInUSD</th>\n",
       "      <th>Date</th>\n",
       "    </tr>\n",
       "  </thead>\n",
       "  <tbody>\n",
       "    <tr>\n",
       "      <th>2021-01-15</th>\n",
       "      <td>37480.8939504110899664</td>\n",
       "      <td>2021-01-15 00:00:00+00:00</td>\n",
       "    </tr>\n",
       "    <tr>\n",
       "      <th>2021-01-16</th>\n",
       "      <td>36853.8623471143090244</td>\n",
       "      <td>2021-01-16 00:00:00+00:00</td>\n",
       "    </tr>\n",
       "    <tr>\n",
       "      <th>2021-01-17</th>\n",
       "      <td>35670.6623897365179078</td>\n",
       "      <td>2021-01-17 00:00:00+00:00</td>\n",
       "    </tr>\n",
       "    <tr>\n",
       "      <th>2021-01-18</th>\n",
       "      <td>36061.4760792230247237</td>\n",
       "      <td>2021-01-18 00:00:00+00:00</td>\n",
       "    </tr>\n",
       "    <tr>\n",
       "      <th>2021-01-19</th>\n",
       "      <td>36868.3293610208260669</td>\n",
       "      <td>2021-01-19 00:00:00+00:00</td>\n",
       "    </tr>\n",
       "  </tbody>\n",
       "</table>\n",
       "</div>"
      ],
      "text/plain": [
       "                        priceInUSD                      Date\n",
       "2021-01-15  37480.8939504110899664 2021-01-15 00:00:00+00:00\n",
       "2021-01-16  36853.8623471143090244 2021-01-16 00:00:00+00:00\n",
       "2021-01-17  35670.6623897365179078 2021-01-17 00:00:00+00:00\n",
       "2021-01-18  36061.4760792230247237 2021-01-18 00:00:00+00:00\n",
       "2021-01-19  36868.3293610208260669 2021-01-19 00:00:00+00:00"
      ]
     },
     "execution_count": 70,
     "metadata": {},
     "output_type": "execute_result"
    }
   ],
   "source": [
    "bitcoin_df.index = pd.to_datetime(bitcoin_df.index, unit='us') # Converting index to datetime from Unix seconds\n",
    "bitcoin_df['Date'] = pd.to_datetime(bitcoin_df['Date']) # Converting 'Date' to datetime from string\n",
    "bitcoin_df.head()"
   ]
  },
  {
   "cell_type": "markdown",
   "id": "b3d41fcb",
   "metadata": {},
   "source": [
    "Now we can comfortably access the price of Bitcoin on any given day. Suppose we'd like to know its price on `2021-12-28`, the day of writing this post... We can simply do:"
   ]
  },
  {
   "cell_type": "code",
   "execution_count": 68,
   "id": "283e0da7",
   "metadata": {
    "scrolled": true
   },
   "outputs": [
    {
     "data": {
      "text/plain": [
       "'48995.0145281203441155'"
      ]
     },
     "execution_count": 68,
     "metadata": {},
     "output_type": "execute_result"
    }
   ],
   "source": [
    "bitcoin_df.loc['2021-12-28', 'priceInUSD']"
   ]
  },
  {
   "cell_type": "markdown",
   "id": "fa2967da",
   "metadata": {},
   "source": [
    "# Common Workflows\n",
    "\n",
    "## Finding the Unique Elements in a Column\n",
    "\n",
    "Pandas comes with the method `unique()` which can be applied to a `Series` object. \n",
    "\n",
    "Let's fetch some data about the planets in our solar system from the [devstronomy repository](https://github.com/devstronomy/nasa-data-scraper/blob/master/data/csv/planets.csv)."
   ]
  },
  {
   "cell_type": "code",
   "execution_count": 27,
   "id": "03015ee8",
   "metadata": {},
   "outputs": [
    {
     "data": {
      "text/html": [
       "<div>\n",
       "<style scoped>\n",
       "    .dataframe tbody tr th:only-of-type {\n",
       "        vertical-align: middle;\n",
       "    }\n",
       "\n",
       "    .dataframe tbody tr th {\n",
       "        vertical-align: top;\n",
       "    }\n",
       "\n",
       "    .dataframe thead th {\n",
       "        text-align: right;\n",
       "    }\n",
       "</style>\n",
       "<table border=\"1\" class=\"dataframe\">\n",
       "  <thead>\n",
       "    <tr style=\"text-align: right;\">\n",
       "      <th></th>\n",
       "      <th>planet</th>\n",
       "      <th>mass</th>\n",
       "      <th>diameter</th>\n",
       "      <th>density</th>\n",
       "      <th>gravity</th>\n",
       "      <th>escape_velocity</th>\n",
       "      <th>rotation_period</th>\n",
       "      <th>length_of_day</th>\n",
       "      <th>distance_from_sun</th>\n",
       "      <th>perihelion</th>\n",
       "      <th>...</th>\n",
       "      <th>orbital_period</th>\n",
       "      <th>orbital_velocity</th>\n",
       "      <th>orbital_inclination</th>\n",
       "      <th>orbital_eccentricity</th>\n",
       "      <th>obliquity_to_orbit</th>\n",
       "      <th>mean_temperature</th>\n",
       "      <th>surface_pressure</th>\n",
       "      <th>number_of_moons</th>\n",
       "      <th>has_ring_system</th>\n",
       "      <th>has_global_magnetic_field</th>\n",
       "    </tr>\n",
       "  </thead>\n",
       "  <tbody>\n",
       "    <tr>\n",
       "      <th>0</th>\n",
       "      <td>Mercury</td>\n",
       "      <td>0.3300</td>\n",
       "      <td>4879</td>\n",
       "      <td>5427</td>\n",
       "      <td>3.7</td>\n",
       "      <td>4.3</td>\n",
       "      <td>1407.6</td>\n",
       "      <td>4222.6</td>\n",
       "      <td>57.9</td>\n",
       "      <td>46.0</td>\n",
       "      <td>...</td>\n",
       "      <td>88.0</td>\n",
       "      <td>47.4</td>\n",
       "      <td>7.0</td>\n",
       "      <td>0.205</td>\n",
       "      <td>0.034</td>\n",
       "      <td>167</td>\n",
       "      <td>0</td>\n",
       "      <td>0</td>\n",
       "      <td>No</td>\n",
       "      <td>Yes</td>\n",
       "    </tr>\n",
       "    <tr>\n",
       "      <th>1</th>\n",
       "      <td>Venus</td>\n",
       "      <td>4.8700</td>\n",
       "      <td>12104</td>\n",
       "      <td>5243</td>\n",
       "      <td>8.9</td>\n",
       "      <td>10.4</td>\n",
       "      <td>-5832.5</td>\n",
       "      <td>2802.0</td>\n",
       "      <td>108.2</td>\n",
       "      <td>107.5</td>\n",
       "      <td>...</td>\n",
       "      <td>224.7</td>\n",
       "      <td>35.0</td>\n",
       "      <td>3.4</td>\n",
       "      <td>0.007</td>\n",
       "      <td>177.400</td>\n",
       "      <td>464</td>\n",
       "      <td>92</td>\n",
       "      <td>0</td>\n",
       "      <td>No</td>\n",
       "      <td>No</td>\n",
       "    </tr>\n",
       "    <tr>\n",
       "      <th>2</th>\n",
       "      <td>Earth</td>\n",
       "      <td>5.9700</td>\n",
       "      <td>12756</td>\n",
       "      <td>5514</td>\n",
       "      <td>9.8</td>\n",
       "      <td>11.2</td>\n",
       "      <td>23.9</td>\n",
       "      <td>24.0</td>\n",
       "      <td>149.6</td>\n",
       "      <td>147.1</td>\n",
       "      <td>...</td>\n",
       "      <td>365.2</td>\n",
       "      <td>29.8</td>\n",
       "      <td>0.0</td>\n",
       "      <td>0.017</td>\n",
       "      <td>23.400</td>\n",
       "      <td>15</td>\n",
       "      <td>1</td>\n",
       "      <td>1</td>\n",
       "      <td>No</td>\n",
       "      <td>Yes</td>\n",
       "    </tr>\n",
       "    <tr>\n",
       "      <th>3</th>\n",
       "      <td>Mars</td>\n",
       "      <td>0.6420</td>\n",
       "      <td>6792</td>\n",
       "      <td>3933</td>\n",
       "      <td>3.7</td>\n",
       "      <td>5.0</td>\n",
       "      <td>24.6</td>\n",
       "      <td>24.7</td>\n",
       "      <td>227.9</td>\n",
       "      <td>206.6</td>\n",
       "      <td>...</td>\n",
       "      <td>687.0</td>\n",
       "      <td>24.1</td>\n",
       "      <td>1.9</td>\n",
       "      <td>0.094</td>\n",
       "      <td>25.200</td>\n",
       "      <td>-65</td>\n",
       "      <td>0.01</td>\n",
       "      <td>2</td>\n",
       "      <td>No</td>\n",
       "      <td>No</td>\n",
       "    </tr>\n",
       "    <tr>\n",
       "      <th>4</th>\n",
       "      <td>Jupiter</td>\n",
       "      <td>1898.0000</td>\n",
       "      <td>142984</td>\n",
       "      <td>1326</td>\n",
       "      <td>23.1</td>\n",
       "      <td>59.5</td>\n",
       "      <td>9.9</td>\n",
       "      <td>9.9</td>\n",
       "      <td>778.6</td>\n",
       "      <td>740.5</td>\n",
       "      <td>...</td>\n",
       "      <td>4331.0</td>\n",
       "      <td>13.1</td>\n",
       "      <td>1.3</td>\n",
       "      <td>0.049</td>\n",
       "      <td>3.100</td>\n",
       "      <td>-110</td>\n",
       "      <td>Unknown*</td>\n",
       "      <td>79</td>\n",
       "      <td>Yes</td>\n",
       "      <td>Yes</td>\n",
       "    </tr>\n",
       "    <tr>\n",
       "      <th>5</th>\n",
       "      <td>Saturn</td>\n",
       "      <td>568.0000</td>\n",
       "      <td>120536</td>\n",
       "      <td>687</td>\n",
       "      <td>9.0</td>\n",
       "      <td>35.5</td>\n",
       "      <td>10.7</td>\n",
       "      <td>10.7</td>\n",
       "      <td>1433.5</td>\n",
       "      <td>1352.6</td>\n",
       "      <td>...</td>\n",
       "      <td>10747.0</td>\n",
       "      <td>9.7</td>\n",
       "      <td>2.5</td>\n",
       "      <td>0.057</td>\n",
       "      <td>26.700</td>\n",
       "      <td>-140</td>\n",
       "      <td>Unknown*</td>\n",
       "      <td>62</td>\n",
       "      <td>Yes</td>\n",
       "      <td>Yes</td>\n",
       "    </tr>\n",
       "    <tr>\n",
       "      <th>6</th>\n",
       "      <td>Uranus</td>\n",
       "      <td>86.8000</td>\n",
       "      <td>51118</td>\n",
       "      <td>1271</td>\n",
       "      <td>8.7</td>\n",
       "      <td>21.3</td>\n",
       "      <td>-17.2</td>\n",
       "      <td>17.2</td>\n",
       "      <td>2872.5</td>\n",
       "      <td>2741.3</td>\n",
       "      <td>...</td>\n",
       "      <td>30589.0</td>\n",
       "      <td>6.8</td>\n",
       "      <td>0.8</td>\n",
       "      <td>0.046</td>\n",
       "      <td>97.800</td>\n",
       "      <td>-195</td>\n",
       "      <td>Unknown*</td>\n",
       "      <td>27</td>\n",
       "      <td>Yes</td>\n",
       "      <td>Yes</td>\n",
       "    </tr>\n",
       "    <tr>\n",
       "      <th>7</th>\n",
       "      <td>Neptune</td>\n",
       "      <td>102.0000</td>\n",
       "      <td>49528</td>\n",
       "      <td>1638</td>\n",
       "      <td>11.0</td>\n",
       "      <td>23.5</td>\n",
       "      <td>16.1</td>\n",
       "      <td>16.1</td>\n",
       "      <td>4495.1</td>\n",
       "      <td>4444.5</td>\n",
       "      <td>...</td>\n",
       "      <td>59800.0</td>\n",
       "      <td>5.4</td>\n",
       "      <td>1.8</td>\n",
       "      <td>0.011</td>\n",
       "      <td>28.300</td>\n",
       "      <td>-200</td>\n",
       "      <td>Unknown*</td>\n",
       "      <td>14</td>\n",
       "      <td>Yes</td>\n",
       "      <td>Yes</td>\n",
       "    </tr>\n",
       "    <tr>\n",
       "      <th>8</th>\n",
       "      <td>Pluto</td>\n",
       "      <td>0.0146</td>\n",
       "      <td>2370</td>\n",
       "      <td>2095</td>\n",
       "      <td>0.7</td>\n",
       "      <td>1.3</td>\n",
       "      <td>-153.3</td>\n",
       "      <td>153.3</td>\n",
       "      <td>5906.4</td>\n",
       "      <td>4436.8</td>\n",
       "      <td>...</td>\n",
       "      <td>90560.0</td>\n",
       "      <td>4.7</td>\n",
       "      <td>17.2</td>\n",
       "      <td>0.244</td>\n",
       "      <td>122.500</td>\n",
       "      <td>-225</td>\n",
       "      <td>0.00001</td>\n",
       "      <td>5</td>\n",
       "      <td>No</td>\n",
       "      <td>Unknown</td>\n",
       "    </tr>\n",
       "  </tbody>\n",
       "</table>\n",
       "<p>9 rows × 21 columns</p>\n",
       "</div>"
      ],
      "text/plain": [
       "    planet       mass  diameter  density  gravity  escape_velocity  \\\n",
       "0  Mercury     0.3300      4879     5427      3.7              4.3   \n",
       "1    Venus     4.8700     12104     5243      8.9             10.4   \n",
       "2    Earth     5.9700     12756     5514      9.8             11.2   \n",
       "3     Mars     0.6420      6792     3933      3.7              5.0   \n",
       "4  Jupiter  1898.0000    142984     1326     23.1             59.5   \n",
       "5   Saturn   568.0000    120536      687      9.0             35.5   \n",
       "6   Uranus    86.8000     51118     1271      8.7             21.3   \n",
       "7  Neptune   102.0000     49528     1638     11.0             23.5   \n",
       "8    Pluto     0.0146      2370     2095      0.7              1.3   \n",
       "\n",
       "   rotation_period  length_of_day  distance_from_sun  perihelion  ...  \\\n",
       "0           1407.6         4222.6               57.9        46.0  ...   \n",
       "1          -5832.5         2802.0              108.2       107.5  ...   \n",
       "2             23.9           24.0              149.6       147.1  ...   \n",
       "3             24.6           24.7              227.9       206.6  ...   \n",
       "4              9.9            9.9              778.6       740.5  ...   \n",
       "5             10.7           10.7             1433.5      1352.6  ...   \n",
       "6            -17.2           17.2             2872.5      2741.3  ...   \n",
       "7             16.1           16.1             4495.1      4444.5  ...   \n",
       "8           -153.3          153.3             5906.4      4436.8  ...   \n",
       "\n",
       "   orbital_period  orbital_velocity  orbital_inclination  \\\n",
       "0            88.0              47.4                  7.0   \n",
       "1           224.7              35.0                  3.4   \n",
       "2           365.2              29.8                  0.0   \n",
       "3           687.0              24.1                  1.9   \n",
       "4          4331.0              13.1                  1.3   \n",
       "5         10747.0               9.7                  2.5   \n",
       "6         30589.0               6.8                  0.8   \n",
       "7         59800.0               5.4                  1.8   \n",
       "8         90560.0               4.7                 17.2   \n",
       "\n",
       "   orbital_eccentricity  obliquity_to_orbit  mean_temperature  \\\n",
       "0                 0.205               0.034               167   \n",
       "1                 0.007             177.400               464   \n",
       "2                 0.017              23.400                15   \n",
       "3                 0.094              25.200               -65   \n",
       "4                 0.049               3.100              -110   \n",
       "5                 0.057              26.700              -140   \n",
       "6                 0.046              97.800              -195   \n",
       "7                 0.011              28.300              -200   \n",
       "8                 0.244             122.500              -225   \n",
       "\n",
       "   surface_pressure number_of_moons  has_ring_system has_global_magnetic_field  \n",
       "0                 0               0               No                       Yes  \n",
       "1                92               0               No                        No  \n",
       "2                 1               1               No                       Yes  \n",
       "3              0.01               2               No                        No  \n",
       "4          Unknown*              79              Yes                       Yes  \n",
       "5          Unknown*              62              Yes                       Yes  \n",
       "6          Unknown*              27              Yes                       Yes  \n",
       "7          Unknown*              14              Yes                       Yes  \n",
       "8           0.00001               5               No                   Unknown  \n",
       "\n",
       "[9 rows x 21 columns]"
      ]
     },
     "execution_count": 27,
     "metadata": {},
     "output_type": "execute_result"
    }
   ],
   "source": [
    "planets_df = pd.read_csv('https://raw.githubusercontent.com/devstronomy/nasa-data-scraper/master/data/csv/planets.csv')\n",
    "planets_df"
   ]
  },
  {
   "cell_type": "markdown",
   "id": "865821b9",
   "metadata": {},
   "source": [
    "If we want to find out the unique number of moons each planet has, we can simply do:"
   ]
  },
  {
   "cell_type": "code",
   "execution_count": 29,
   "id": "62f2c111",
   "metadata": {},
   "outputs": [
    {
     "data": {
      "text/plain": [
       "array([ 0,  1,  2, 79, 62, 27, 14,  5], dtype=int64)"
      ]
     },
     "execution_count": 29,
     "metadata": {},
     "output_type": "execute_result"
    }
   ],
   "source": [
    "planets_df['number_of_moons'].unique()"
   ]
  },
  {
   "cell_type": "markdown",
   "id": "6cdbf1d5",
   "metadata": {},
   "source": [
    "As we can see, the 9 planets in our solar system (counting Pluto) have 8 unique number of moons. This is because, as we can see from the dataset, Mercury and Venus both have 0 moons."
   ]
  },
  {
   "cell_type": "markdown",
   "id": "c87a303a",
   "metadata": {},
   "source": [
    "## Saving Data\n",
    "\n",
    "After all the data manipulation, it would be useful to save the resulting dataset locally on our machine. Pandas offers us a way to do that using the `DataFrame.to_csv()` method.\n",
    "\n",
    "Working with the `planets_df` defined above, we can narrow the dataset down to the planets which have a gravitational force that's close to that of the Earth ($9.8  \\ m/s^2$)."
   ]
  },
  {
   "cell_type": "code",
   "execution_count": 44,
   "id": "ecbef843",
   "metadata": {},
   "outputs": [
    {
     "data": {
      "text/html": [
       "<div>\n",
       "<style scoped>\n",
       "    .dataframe tbody tr th:only-of-type {\n",
       "        vertical-align: middle;\n",
       "    }\n",
       "\n",
       "    .dataframe tbody tr th {\n",
       "        vertical-align: top;\n",
       "    }\n",
       "\n",
       "    .dataframe thead th {\n",
       "        text-align: right;\n",
       "    }\n",
       "</style>\n",
       "<table border=\"1\" class=\"dataframe\">\n",
       "  <thead>\n",
       "    <tr style=\"text-align: right;\">\n",
       "      <th></th>\n",
       "      <th>planet</th>\n",
       "      <th>mass</th>\n",
       "      <th>diameter</th>\n",
       "      <th>density</th>\n",
       "      <th>gravity</th>\n",
       "      <th>escape_velocity</th>\n",
       "      <th>rotation_period</th>\n",
       "      <th>length_of_day</th>\n",
       "      <th>distance_from_sun</th>\n",
       "      <th>perihelion</th>\n",
       "      <th>...</th>\n",
       "      <th>orbital_period</th>\n",
       "      <th>orbital_velocity</th>\n",
       "      <th>orbital_inclination</th>\n",
       "      <th>orbital_eccentricity</th>\n",
       "      <th>obliquity_to_orbit</th>\n",
       "      <th>mean_temperature</th>\n",
       "      <th>surface_pressure</th>\n",
       "      <th>number_of_moons</th>\n",
       "      <th>has_ring_system</th>\n",
       "      <th>has_global_magnetic_field</th>\n",
       "    </tr>\n",
       "  </thead>\n",
       "  <tbody>\n",
       "    <tr>\n",
       "      <th>1</th>\n",
       "      <td>Venus</td>\n",
       "      <td>4.87</td>\n",
       "      <td>12104</td>\n",
       "      <td>5243</td>\n",
       "      <td>8.9</td>\n",
       "      <td>10.4</td>\n",
       "      <td>-5832.5</td>\n",
       "      <td>2802.0</td>\n",
       "      <td>108.2</td>\n",
       "      <td>107.5</td>\n",
       "      <td>...</td>\n",
       "      <td>224.7</td>\n",
       "      <td>35.0</td>\n",
       "      <td>3.4</td>\n",
       "      <td>0.007</td>\n",
       "      <td>177.4</td>\n",
       "      <td>464</td>\n",
       "      <td>92</td>\n",
       "      <td>0</td>\n",
       "      <td>No</td>\n",
       "      <td>No</td>\n",
       "    </tr>\n",
       "    <tr>\n",
       "      <th>2</th>\n",
       "      <td>Earth</td>\n",
       "      <td>5.97</td>\n",
       "      <td>12756</td>\n",
       "      <td>5514</td>\n",
       "      <td>9.8</td>\n",
       "      <td>11.2</td>\n",
       "      <td>23.9</td>\n",
       "      <td>24.0</td>\n",
       "      <td>149.6</td>\n",
       "      <td>147.1</td>\n",
       "      <td>...</td>\n",
       "      <td>365.2</td>\n",
       "      <td>29.8</td>\n",
       "      <td>0.0</td>\n",
       "      <td>0.017</td>\n",
       "      <td>23.4</td>\n",
       "      <td>15</td>\n",
       "      <td>1</td>\n",
       "      <td>1</td>\n",
       "      <td>No</td>\n",
       "      <td>Yes</td>\n",
       "    </tr>\n",
       "    <tr>\n",
       "      <th>5</th>\n",
       "      <td>Saturn</td>\n",
       "      <td>568.00</td>\n",
       "      <td>120536</td>\n",
       "      <td>687</td>\n",
       "      <td>9.0</td>\n",
       "      <td>35.5</td>\n",
       "      <td>10.7</td>\n",
       "      <td>10.7</td>\n",
       "      <td>1433.5</td>\n",
       "      <td>1352.6</td>\n",
       "      <td>...</td>\n",
       "      <td>10747.0</td>\n",
       "      <td>9.7</td>\n",
       "      <td>2.5</td>\n",
       "      <td>0.057</td>\n",
       "      <td>26.7</td>\n",
       "      <td>-140</td>\n",
       "      <td>Unknown*</td>\n",
       "      <td>62</td>\n",
       "      <td>Yes</td>\n",
       "      <td>Yes</td>\n",
       "    </tr>\n",
       "  </tbody>\n",
       "</table>\n",
       "<p>3 rows × 21 columns</p>\n",
       "</div>"
      ],
      "text/plain": [
       "   planet    mass  diameter  density  gravity  escape_velocity  \\\n",
       "1   Venus    4.87     12104     5243      8.9             10.4   \n",
       "2   Earth    5.97     12756     5514      9.8             11.2   \n",
       "5  Saturn  568.00    120536      687      9.0             35.5   \n",
       "\n",
       "   rotation_period  length_of_day  distance_from_sun  perihelion  ...  \\\n",
       "1          -5832.5         2802.0              108.2       107.5  ...   \n",
       "2             23.9           24.0              149.6       147.1  ...   \n",
       "5             10.7           10.7             1433.5      1352.6  ...   \n",
       "\n",
       "   orbital_period  orbital_velocity  orbital_inclination  \\\n",
       "1           224.7              35.0                  3.4   \n",
       "2           365.2              29.8                  0.0   \n",
       "5         10747.0               9.7                  2.5   \n",
       "\n",
       "   orbital_eccentricity  obliquity_to_orbit  mean_temperature  \\\n",
       "1                 0.007               177.4               464   \n",
       "2                 0.017                23.4                15   \n",
       "5                 0.057                26.7              -140   \n",
       "\n",
       "   surface_pressure number_of_moons  has_ring_system has_global_magnetic_field  \n",
       "1                92               0               No                        No  \n",
       "2                 1               1               No                       Yes  \n",
       "5          Unknown*              62              Yes                       Yes  \n",
       "\n",
       "[3 rows x 21 columns]"
      ]
     },
     "execution_count": 44,
     "metadata": {},
     "output_type": "execute_result"
    }
   ],
   "source": [
    "earthlike_planets_df = planets_df[(planets_df['gravity'] >= 9.8 - 1) & (planets_df['gravity'] <= 9.8 + 1)]\n",
    "earthlike_planets_df"
   ]
  },
  {
   "cell_type": "markdown",
   "id": "6cd24f10",
   "metadata": {},
   "source": [
    "> Tip: Pandas prefers the use of bitwise Boolean operators `&` and `|`, instead of the Python's default `and` and `or`. This is because Pandas relies on NumPy, which in turn relies on the capacity of the bitwise operators to be overloaded.\n",
    "\n",
    "<br>"
   ]
  },
  {
   "cell_type": "markdown",
   "id": "5a5b6e49",
   "metadata": {},
   "source": [
    "We can now save this new dataset to our desktop as follows:"
   ]
  },
  {
   "cell_type": "code",
   "execution_count": 40,
   "id": "752fbb40",
   "metadata": {},
   "outputs": [],
   "source": [
    "earthlike_planets_df.to_csv('C:/Users/Vahram/Desktop/earthlike_planets.csv')"
   ]
  }
 ],
 "metadata": {
  "kernelspec": {
   "display_name": "Python 3",
   "language": "python",
   "name": "python3"
  },
  "language_info": {
   "codemirror_mode": {
    "name": "ipython",
    "version": 3
   },
   "file_extension": ".py",
   "mimetype": "text/x-python",
   "name": "python",
   "nbconvert_exporter": "python",
   "pygments_lexer": "ipython3",
   "version": "3.8.12"
  }
 },
 "nbformat": 4,
 "nbformat_minor": 5
}
