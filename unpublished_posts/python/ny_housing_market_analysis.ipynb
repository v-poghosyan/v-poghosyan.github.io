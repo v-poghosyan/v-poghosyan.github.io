{
 "cells": [
  {
   "cell_type": "code",
   "execution_count": 28,
   "metadata": {},
   "outputs": [],
   "source": [
    "import numpy as np\n",
    "import pandas as pd"
   ]
  },
  {
   "cell_type": "code",
   "execution_count": 2,
   "metadata": {},
   "outputs": [
    {
     "name": "stdout",
     "output_type": "stream",
     "text": [
      "     id                                              name  host_id  \\\n",
      "0  2539                Clean & quiet apt home by the park     2787   \n",
      "1  2595                             Skylit Midtown Castle     2845   \n",
      "2  3647               THE VILLAGE OF HARLEM....NEW YORK !     4632   \n",
      "3  3831                   Cozy Entire Floor of Brownstone     4869   \n",
      "4  5022  Entire Apt: Spacious Studio/Loft by central park     7192   \n",
      "5  5099         Large Cozy 1 BR Apartment In Midtown East     7322   \n",
      "6  5121                                   BlissArtsSpace!     7356   \n",
      "7  5178                  Large Furnished Room Near B'way      8967   \n",
      "8  5203                Cozy Clean Guest Room - Family Apt     7490   \n",
      "9  5238                Cute & Cozy Lower East Side 1 bdrm     7549   \n",
      "\n",
      "     host_name neighbourhood_group       neighbourhood  latitude  longitude  \\\n",
      "0         John            Brooklyn          Kensington  40.64749  -73.97237   \n",
      "1     Jennifer           Manhattan             Midtown  40.75362  -73.98377   \n",
      "2    Elisabeth           Manhattan              Harlem  40.80902  -73.94190   \n",
      "3  LisaRoxanne            Brooklyn        Clinton Hill  40.68514  -73.95976   \n",
      "4        Laura           Manhattan         East Harlem  40.79851  -73.94399   \n",
      "5        Chris           Manhattan         Murray Hill  40.74767  -73.97500   \n",
      "6        Garon            Brooklyn  Bedford-Stuyvesant  40.68688  -73.95596   \n",
      "7     Shunichi           Manhattan      Hell's Kitchen  40.76489  -73.98493   \n",
      "8    MaryEllen           Manhattan     Upper West Side  40.80178  -73.96723   \n",
      "9          Ben           Manhattan           Chinatown  40.71344  -73.99037   \n",
      "\n",
      "         room_type  price  minimum_nights  number_of_reviews last_review  \\\n",
      "0     Private room    149               1                  9  2018-10-19   \n",
      "1  Entire home/apt    225               1                 45  2019-05-21   \n",
      "2     Private room    150               3                  0         NaN   \n",
      "3  Entire home/apt     89               1                270  2019-07-05   \n",
      "4  Entire home/apt     80              10                  9  2018-11-19   \n",
      "5  Entire home/apt    200               3                 74  2019-06-22   \n",
      "6     Private room     60              45                 49  2017-10-05   \n",
      "7     Private room     79               2                430  2019-06-24   \n",
      "8     Private room     79               2                118  2017-07-21   \n",
      "9  Entire home/apt    150               1                160  2019-06-09   \n",
      "\n",
      "   reviews_per_month  calculated_host_listings_count  availability_365  \n",
      "0               0.21                               6               365  \n",
      "1               0.38                               2               355  \n",
      "2                NaN                               1               365  \n",
      "3               4.64                               1               194  \n",
      "4               0.10                               1                 0  \n",
      "5               0.59                               1               129  \n",
      "6               0.40                               1                 0  \n",
      "7               3.47                               1               220  \n",
      "8               0.99                               1                 0  \n",
      "9               1.33                               4               188  \n"
     ]
    }
   ],
   "source": [
    "file_path = \"C://Users/vapog/Downloads/airbnb_data.csv\"\n",
    "\n",
    "# Examining the dataframe\n",
    "df = pd.read_csv(file_path)\n",
    "print(df.head(10))"
   ]
  },
  {
   "cell_type": "code",
   "execution_count": 3,
   "metadata": {},
   "outputs": [
    {
     "name": "stdout",
     "output_type": "stream",
     "text": [
      "Bronx: # of rentals  1091\n",
      "Brooklyn: # of rentals  20104\n",
      "Manhattan: # of rentals  21661\n",
      "Staten Island: # of rentals  373\n"
     ]
    }
   ],
   "source": [
    "# Number of rentals by New York borough\n",
    "bronx_df = df[df['neighbourhood_group'] == 'Bronx']\n",
    "print(\"Bronx: # of rentals \",bronx_df.shape[0])\n",
    "brooklyn_df = df[df['neighbourhood_group'] == 'Brooklyn']\n",
    "print(\"Brooklyn: # of rentals \",brooklyn_df.shape[0])\n",
    "manhattan_df = df[df['neighbourhood_group'] == 'Manhattan']\n",
    "print(\"Manhattan: # of rentals \",manhattan_df.shape[0])\n",
    "staten_island_df = df[df['neighbourhood_group'] == 'Staten Island']\n",
    "print(\"Staten Island: # of rentals \",staten_island_df.shape[0])"
   ]
  },
  {
   "cell_type": "code",
   "execution_count": 9,
   "metadata": {},
   "outputs": [
    {
     "name": "stdout",
     "output_type": "stream",
     "text": [
      "neighbourhood\n",
      "Astoria            441.0\n",
      "Bushwick           480.0\n",
      "East Elmhurst      485.2\n",
      "East Village       451.0\n",
      "Flushing           474.0\n",
      "Harlem             564.0\n",
      "Jamaica            553.0\n",
      "Lower East Side    540.0\n",
      "Park Slope         488.0\n",
      "South Slope        467.0\n",
      "Tribeca            447.0\n",
      "Name: number_of_reviews, dtype: float64\n"
     ]
    }
   ],
   "source": [
    "# Most popular neighborhood by number of reviews\n",
    "sorted_df = df.sort_values(by='number_of_reviews', ascending=False)\n",
    "locations_and_num_reviews_df = sorted_df[['neighbourhood','number_of_reviews']]\n",
    "top_20_df = locations_and_num_reviews_df.head(20)\n",
    "\n",
    "# Group by neighborhood and take aggregate mean\n",
    "grouped_df = top_20_df.groupby('neighbourhood')['number_of_reviews'].mean()\n",
    "print(grouped_df)"
   ]
  },
  {
   "cell_type": "code",
   "execution_count": 33,
   "metadata": {},
   "outputs": [
    {
     "name": "stdout",
     "output_type": "stream",
     "text": [
      "['Private room' 'Entire home/apt' 'Shared room']\n",
      "         neighbourhood     room_type  price\n",
      "8416   Upper East Side  Private room     49\n",
      "40185  Upper East Side  Private room     50\n",
      "35976  Upper East Side  Private room     60\n",
      "21283  Upper East Side  Private room     65\n",
      "19830  Upper East Side  Private room     65\n",
      "         neighbourhood        room_type  price\n",
      "18882  Upper East Side  Entire home/apt     69\n",
      "7181   Upper East Side  Entire home/apt     75\n",
      "5759   Upper East Side  Entire home/apt     92\n",
      "22122  Upper East Side  Entire home/apt     95\n",
      "27040  Upper East Side  Entire home/apt     95\n"
     ]
    }
   ],
   "source": [
    "# Filtering for a client by price in Manhattan's Upper East Side\n",
    "upper_east_df = df[df['neighbourhood'] == 'Upper East Side']\n",
    "ninetieth_percentile = np.quantile(upper_east_df['number_of_reviews'], 0.85) # Normalizes the results by getting rid of bad postings\n",
    "upper_east_df = upper_east_df[upper_east_df['number_of_reviews'] >= ninetieth_percentile]\n",
    "\n",
    "\n",
    "## Used to examine the unique room types available\n",
    "print(df['room_type'].unique())\n",
    "\n",
    "## Cheapest private room type rental in Manhattan's Upper East Side\n",
    "private_rooms_df = upper_east_df[upper_east_df['room_type'] == 'Private room']\n",
    "private_rooms_df = private_rooms_df.sort_values('price', ascending=True)\n",
    "private_rooms_df = private_rooms_df[['neighbourhood','room_type','price']]\n",
    "print(private_rooms_df.head(5))\n",
    "\n",
    "## Cheapest entire homes/appartments\n",
    "entire_homes_df = upper_east_df[upper_east_df['room_type'] == 'Entire home/apt']\n",
    "entire_homes_df = entire_homes_df.sort_values('price', ascending=True)\n",
    "entire_homes_df = entire_homes_df[['neighbourhood','room_type','price']]\n",
    "print(entire_homes_df.head(5))"
   ]
  },
  {
   "cell_type": "code",
   "execution_count": null,
   "metadata": {},
   "outputs": [],
   "source": []
  }
 ],
 "metadata": {
  "kernelspec": {
   "display_name": "base",
   "language": "python",
   "name": "python3"
  },
  "language_info": {
   "codemirror_mode": {
    "name": "ipython",
    "version": 3
   },
   "file_extension": ".py",
   "mimetype": "text/x-python",
   "name": "python",
   "nbconvert_exporter": "python",
   "pygments_lexer": "ipython3",
   "version": "3.11.4"
  },
  "orig_nbformat": 4
 },
 "nbformat": 4,
 "nbformat_minor": 2
}
