{
 "cells": [
  {
   "cell_type": "markdown",
   "metadata": {},
   "source": [
    "---\n",
    "title: \"NumPy: Quick Start Guide\"\n",
    "author: \"Vahram Poghosyan\"\n",
    "date: \"2023-10-27\"\n",
    "categories: [\"Python\", \"NumPy\", \"Machine Learning\"]\n",
    "image: \"numpy_quick_start_guide.png\"\n",
    "repo-url: https://www.example.com\n",
    "format:\n",
    "  html:\n",
    "    code-fold: false\n",
    "    code-line-numbers: true\n",
    "    code-tools:\n",
    "      source: repo\n",
    "jupyter: python3\n",
    "---"
   ]
  },
  {
   "cell_type": "markdown",
   "metadata": {},
   "source": [
    "# Quick Introduction to NumPy\n",
    "\n",
    "Perhaps the most important package for scientific computing included with Conda is NumPy. Let's get a feel for what NumPy offers.\n",
    "\n",
    "## Python's Built-In Data Types\n",
    "\n",
    "### Arrays\n",
    "A 1D array, or a **vector**, is a collection of scalars (usually, but not necessarily, of similar data type) in a contiguous chunk of computer memory. A 2D array, or a **matrix**, is a collection of vectors. A 3D array (or a higher dimensional array), also referred to as a **tensor**, is a collection of matrices.\n",
    "\n",
    "## NumPy Data Types\n",
    "NumPy exposes the `ndarray` type. This is a multidimensional, homogeneous array type (i.e. its elements are of the same data type) optimized for computing and indexed by a **tuple**. It offeres mathematical indexing (based on Boolean expressions) so that we don't have to write inefficient loops. The terms vector, matrix, and tensor equally apply to `ndarray`s. \n",
    "\n",
    "To import NumPy, we can type: "
   ]
  },
  {
   "cell_type": "code",
   "execution_count": 1,
   "metadata": {},
   "outputs": [],
   "source": [
    "import numpy as np"
   ]
  },
  {
   "cell_type": "markdown",
   "metadata": {},
   "source": [
    "### Working with `ndarray`s\n",
    "\n",
    "#### Creating `ndarray`s (arange, zero, one)"
   ]
  },
  {
   "cell_type": "code",
   "execution_count": 3,
   "metadata": {},
   "outputs": [
    {
     "name": "stdout",
     "output_type": "stream",
     "text": [
      "[0 1 2 3 4 5 6 7 8 9]\n"
     ]
    }
   ],
   "source": [
    "sequence_array = np.arange(10)\n",
    "print(sequence_array)"
   ]
  },
  {
   "cell_type": "code",
   "execution_count": 4,
   "metadata": {},
   "outputs": [
    {
     "name": "stdout",
     "output_type": "stream",
     "text": [
      "[[0 0 0 0]\n",
      " [0 0 0 0]\n",
      " [0 0 0 0]]\n",
      "int32\n"
     ]
    }
   ],
   "source": [
    "zeros_array = np.zeros((3,4),dtype='int32')\n",
    "print(zeros_array)\n",
    "print(zeros_array.dtype)"
   ]
  },
  {
   "cell_type": "code",
   "execution_count": 5,
   "metadata": {},
   "outputs": [
    {
     "name": "stdout",
     "output_type": "stream",
     "text": [
      "[[1. 1.]\n",
      " [1. 1.]\n",
      " [1. 1.]]\n",
      "float64\n"
     ]
    }
   ],
   "source": [
    "ones_array = np.ones((3,2))\n",
    "print(ones_array)\n",
    "print(ones_array.dtype)"
   ]
  },
  {
   "cell_type": "markdown",
   "metadata": {},
   "source": [
    "#### Verifying Type\n",
    "\n",
    "We can verify that the object we're working with is, indeed, and `ndarray` by using the built-in Python `type` function."
   ]
  },
  {
   "cell_type": "code",
   "execution_count": 6,
   "metadata": {},
   "outputs": [
    {
     "name": "stdout",
     "output_type": "stream",
     "text": [
      "array1 type:  <class 'numpy.ndarray'>\n"
     ]
    }
   ],
   "source": [
    "array1 = np.array([1,2,3])\n",
    "print('array1 type: ', type(array1))"
   ]
  },
  {
   "cell_type": "markdown",
   "metadata": {},
   "source": [
    "#### Getting the Shape\n",
    "\n",
    "The **shape** of an `ndarray` is in format `(x,y,...)` where `x` corresponds to the number **rows**, `y` corresponds to the number of **columns**, and so on."
   ]
  },
  {
   "cell_type": "code",
   "execution_count": 7,
   "metadata": {},
   "outputs": [
    {
     "name": "stdout",
     "output_type": "stream",
     "text": [
      "array1 shape:  (3,)\n"
     ]
    }
   ],
   "source": [
    "print('array1 shape: ', array1.shape)"
   ]
  },
  {
   "cell_type": "markdown",
   "metadata": {},
   "source": [
    "Higher dimensional `ndarray`s take tuples of arrays as input:\n",
    "\n",
    "##### Contrived Example of a Multidimensional `ndarray`\n",
    "\n",
    "There is a subtle difference between a 1D array and a 2D array with a single column which is worth exploring. \n",
    "\n",
    "As we saw above, `array1` was of shape `(3,)`. Now let's examine the shape of a similar `ndarray` instance."
   ]
  },
  {
   "cell_type": "code",
   "execution_count": 8,
   "metadata": {},
   "outputs": [
    {
     "name": "stdout",
     "output_type": "stream",
     "text": [
      "array2 shape:  (3, 1)\n"
     ]
    }
   ],
   "source": [
    "array2 = np.array([[1],[2],[3]])\n",
    "print('array2 shape: ', array2.shape)"
   ]
  },
  {
   "cell_type": "markdown",
   "metadata": {},
   "source": [
    "As we can see, this one's shape is `(3,1)`.\n",
    "\n",
    "::: {.callout-tip title=\"📖 Note\" appearance=\"minimal\" collapse=\"false\"}\n",
    "The shape `(3,)` means a 1D array with 3 elements, meanwhile the shape `(3,1)` means a 2D array with 3 rows and a single column.\n",
    ":::\n",
    "\n",
    "Sometimes these differences are just superficial, or the result of data impurities. NumPy provides a method called `np.squeeze` which flattens the arrays by removing axes of length 1."
   ]
  },
  {
   "cell_type": "code",
   "execution_count": 15,
   "metadata": {},
   "outputs": [
    {
     "name": "stdout",
     "output_type": "stream",
     "text": [
      "True\n"
     ]
    }
   ],
   "source": [
    "print(np.squeeze(array2).shape == array1.shape)"
   ]
  },
  {
   "cell_type": "markdown",
   "metadata": {},
   "source": [
    "##### A More Natural Example of a Multidimensional `ndarray`"
   ]
  },
  {
   "cell_type": "code",
   "execution_count": 16,
   "metadata": {},
   "outputs": [
    {
     "name": "stdout",
     "output_type": "stream",
     "text": [
      "array3 shape:  (2, 3)\n"
     ]
    }
   ],
   "source": [
    "array3 = np.array([[1,2,3], \n",
    "                  [4,5,6]])\n",
    "print('array3 shape: ', array3.shape)"
   ]
  },
  {
   "cell_type": "markdown",
   "metadata": {},
   "source": [
    "#### Getting the Dimension\n",
    "\n",
    "To get the dimension, we use `ndarray.ndim`. "
   ]
  },
  {
   "cell_type": "code",
   "execution_count": 17,
   "metadata": {},
   "outputs": [
    {
     "name": "stdout",
     "output_type": "stream",
     "text": [
      "1 2 2\n"
     ]
    }
   ],
   "source": [
    "print(array1.ndim, array2.ndim, array3.ndim)"
   ]
  },
  {
   "cell_type": "markdown",
   "metadata": {},
   "source": [
    "#### Getting the Data Types of The Elements\n",
    "\n",
    "`ndarray`s can include numeric types (int, unsigned int, float, complex), text types (string), and null. However, as mentioned above, `ndarrays` can't include more than one data type. To get the data type of the elements, we use `ndarray.dtype`. "
   ]
  },
  {
   "cell_type": "markdown",
   "metadata": {},
   "source": [
    "#### Reshape\n",
    "\n",
    "We can reshape `ndarrays` where it makes sense. For example, we can reshape `array3`, of shape `(2,3)` into an array of shape `(3,2)`, `(6,1)`, or `(1,6)`. "
   ]
  },
  {
   "cell_type": "code",
   "execution_count": 18,
   "metadata": {},
   "outputs": [
    {
     "name": "stdout",
     "output_type": "stream",
     "text": [
      "[[1 2 3]\n",
      " [4 5 6]]\n",
      "(2, 3)\n",
      "[[1 2]\n",
      " [3 4]\n",
      " [5 6]]\n",
      "(3, 2)\n"
     ]
    }
   ],
   "source": [
    "print(array3)\n",
    "print(array3.shape)\n",
    "array4 = array3.reshape(3,2)\n",
    "print(array4)\n",
    "print(array4.shape)"
   ]
  },
  {
   "cell_type": "markdown",
   "metadata": {},
   "source": [
    "Providing the value `-1` for either row or column makes the reshape automatic across that dimension. For instance, instead of `array3.reshape(3,2)` we could say `array3.reshape(-1,2)` or `array3.reshape(3,-1)`. This would achieve the same effect."
   ]
  },
  {
   "cell_type": "code",
   "execution_count": 19,
   "metadata": {},
   "outputs": [
    {
     "name": "stdout",
     "output_type": "stream",
     "text": [
      "(3, 2)\n"
     ]
    }
   ],
   "source": [
    "a=np.array([1,2,3])\n",
    "b=np.array([4,5,6])\n",
    "c=np.stack((a,b), axis=1)\n",
    "print(c.shape)"
   ]
  },
  {
   "cell_type": "code",
   "execution_count": null,
   "metadata": {},
   "outputs": [],
   "source": []
  },
  {
   "cell_type": "code",
   "execution_count": null,
   "metadata": {},
   "outputs": [],
   "source": []
  }
 ],
 "metadata": {
  "kernelspec": {
   "display_name": "base",
   "language": "python",
   "name": "python3"
  },
  "language_info": {
   "codemirror_mode": {
    "name": "ipython",
    "version": 3
   },
   "file_extension": ".py",
   "mimetype": "text/x-python",
   "name": "python",
   "nbconvert_exporter": "python",
   "pygments_lexer": "ipython3",
   "version": "3.11.4"
  },
  "orig_nbformat": 4
 },
 "nbformat": 4,
 "nbformat_minor": 2
}
