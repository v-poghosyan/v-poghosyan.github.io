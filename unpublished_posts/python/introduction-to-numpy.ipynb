{
 "cells": [
  {
   "cell_type": "markdown",
   "id": "e65a628f",
   "metadata": {},
   "source": [
    "---\n",
    "title: \"Introduction to Numpy\"\n",
    "author: \"Vahram Poghosyan\"\n",
    "date: \"2023-01-13\"\n",
    "categories: [\"Python\", \"Python Scientific Libraries\", \"Numpy\"]\n",
    "format:\n",
    "  html:\n",
    "    code-fold: true\n",
    "jupyter: python3\n",
    "include-after-body:\n",
    "  text: |\n",
    "    <script type=\"application/javascript\" src=\"../../javascript/light-dark.js\"></script>\n",
    "---"
   ]
  },
  {
   "cell_type": "markdown",
   "id": "3706deb2",
   "metadata": {},
   "source": [
    "# Importing NumPy\n",
    "\n",
    "[NumPy](https://numpy.org/) is a scientific computing library for Python. It's an extensive collection of pre-written code that optimizes and extends, among other things, the Python array (i.e. `list`) object into an n-dimensional NumPy array called `ndarray`. It comes with a variety of tools, such as matrix operations and common mathematical functions, that enable Python to perform complex mathematical tasks such as solve linear algebraic problems, generate pseudo-random numbers, perform Fourier analysis, etc.\n",
    "\n",
    "We import NumPy, as we import any other library, using the `import` keyword (with or without a shorthand).\n",
    "\n",
    "```python\n",
    "import numpy\n",
    "```\n",
    " Or, alternatively:\n",
    " \n",
    "```python\n",
    "import numpy as np\n",
    "```"
   ]
  },
  {
   "cell_type": "markdown",
   "id": "dbba3749",
   "metadata": {},
   "source": [
    "# Optimizations\n",
    "\n",
    "As we've briefly discussed in the [\"Python for Machine Learning - Pandas\"](https://v-poghosyan.github.io/blog/python%20for%20ml/pandas/machine%20learning/2021/12/28/Python-for-ML-Pandas.html#Broadcasted-and-Vectorized-Operations) post, NumPy works by delegating tasks to well-optimized C code under the hood. In this way it exploits the flexibility of Python while bypassing its speed limitations as an *interpreted language* and, instead, exploiting the speed advantages of a *compiled language*.\n"
   ]
  },
  {
   "cell_type": "markdown",
   "id": "29cd6a5c",
   "metadata": {},
   "source": [
    "## Scalable Memory Representation\n",
    "\n",
    "One of the things NumPy optimizes is data storage. \n",
    "In contrast to Python 3.x's scalable memory representation of numeric values, such as integers, which can grow to accommodate a given number, NumPy stores numeric types in fixed-sized blocks of memory (e.g. `int32` or `int64`). This means NumPy is able to take advantage of the low-level CPU instructions of modern processors that are designed for fixed-sized numeric types. Another advantage of fixed-sized storage is that consecutive blocks of memory can be allocated, which enables the libraries upon which NumPy relies to do extremely performant computations. This enforcement of fixed-sized data types is part of the  optimization strategy NumPy uses called *vectorization*.\n",
    "\n",
    "## Vectorization\n",
    "\n",
    "As already discussed in the [aforementioned post](https://v-poghosyan.github.io/blog/python%20for%20ml/pandas/machine%20learning/2021/12/28/Python-for-ML-Pandas.html#Broadcasted-and-Vectorized-Operations), vectorization is the process by which NumPy stores an array internally in a contiguous block of memory, and restricts its contents to only one data type. Letting Python know this data type in advance, NumPy can then skip the per-iteration type checking that Python normally does as its iterating through a loop in order to speed up our code. Optimizing the array data structure in such a way enables NumPy to delegate most of the operations on such arrays to pre-written C code under the hood. In effect, this simply means that looping occurs in C instead of Python.\n",
    "\n",
    "## Broadcasting\n",
    "\n",
    "The term *broadcasting* describes the process by which NumPy performs arithmetic operations on arrays of different dimensions. The process is usually as follows: the smaller array is “broadcast” across the larger array so that the two arrays have compatible dimensions. Broadcasting provides a means of vectorizing array operations. "
   ]
  },
  {
   "cell_type": "markdown",
   "id": "68092faf",
   "metadata": {},
   "source": [
    "## Comparing Runtime\n",
    "To demonstrate the performance optimizations of NumPy, let's compare squaring every element of a `1,000,000`-element array and summing the results. \n",
    "\n",
    "### Using a Python List\n",
    "\n",
    "First, we will use a Python list:"
   ]
  },
  {
   "cell_type": "code",
   "execution_count": 1,
   "id": "419783d3",
   "metadata": {},
   "outputs": [],
   "source": [
    "unoptimized_list = list(range(1000000))"
   ]
  },
  {
   "cell_type": "markdown",
   "id": "d2f2c0d0",
   "metadata": {},
   "source": [
    "Squaring each element and summing:"
   ]
  },
  {
   "cell_type": "code",
   "execution_count": 2,
   "id": "9a06d8be",
   "metadata": {},
   "outputs": [
    {
     "name": "stdout",
     "output_type": "stream",
     "text": [
      "342 ms ± 1.54 ms per loop (mean ± std. dev. of 7 runs, 1 loop each)\n"
     ]
    }
   ],
   "source": [
    "import numpy as np\n",
    "%timeit np.sum([i**2 for i in unoptimized_list])"
   ]
  },
  {
   "cell_type": "markdown",
   "id": "c43a1f3b",
   "metadata": {},
   "source": [
    "> Note: Even though we're using NumPy's `sum()` method, since the input we're passing to it is a regular Python list, NumPy optimizations are not applied. \n",
    "\n",
    "<br>\n",
    "\n",
    "As we can see the whole thing took about `314 ms`."
   ]
  },
  {
   "cell_type": "markdown",
   "id": "c0b6fbc2",
   "metadata": {},
   "source": [
    "### Using a NumPy Array\n",
    "\n",
    "Now let's do the same with a NumPy array, which also gives us the opportunity to introduce the syntax for defining one using a range."
   ]
  },
  {
   "cell_type": "code",
   "execution_count": 12,
   "id": "de515335",
   "metadata": {},
   "outputs": [],
   "source": [
    "optimized_array = np.arange(1000000)"
   ]
  },
  {
   "cell_type": "markdown",
   "id": "a63ed2ea",
   "metadata": {},
   "source": [
    "Let's check the type of `optimized_array` to convince ourselves that it is, indeed, a NumPy `ndarray`."
   ]
  },
  {
   "cell_type": "code",
   "execution_count": 25,
   "id": "461ee51f",
   "metadata": {},
   "outputs": [
    {
     "data": {
      "text/plain": [
       "numpy.ndarray"
      ]
     },
     "execution_count": 25,
     "metadata": {},
     "output_type": "execute_result"
    }
   ],
   "source": [
    "type(optimized_array)"
   ]
  },
  {
   "cell_type": "markdown",
   "id": "fb467ece",
   "metadata": {},
   "source": [
    "Now, finally, let's square each element and sum the results:"
   ]
  },
  {
   "cell_type": "code",
   "execution_count": 45,
   "id": "337eaca9",
   "metadata": {
    "scrolled": true
   },
   "outputs": [
    {
     "name": "stdout",
     "output_type": "stream",
     "text": [
      "1.61 ms ± 19.7 µs per loop (mean ± std. dev. of 7 runs, 1000 loops each)\n"
     ]
    }
   ],
   "source": [
    "%timeit np.sum(optimized_array**2)"
   ]
  },
  {
   "cell_type": "markdown",
   "id": "05a0b79a",
   "metadata": {},
   "source": [
    "Remarkably, the run-time was cut from `314 ms` to only around `1.61ms`!"
   ]
  },
  {
   "cell_type": "markdown",
   "id": "0b6e972a",
   "metadata": {},
   "source": [
    "# NumPy Basics\n",
    "\n",
    "Let's explore some of the ways in which we can represent arrays and matrices in NumPy.\n",
    "\n",
    "## Creating Arrays\n",
    "\n",
    "We've already seen how we can create a 1-dimensional NumPy array of consecutive integers $0,1,...,n-1$ using the `arrange()` method. \n",
    "\n",
    "The standard way of creating a NumPy array is passing a Python list to the constructor `array()` like so:"
   ]
  },
  {
   "cell_type": "code",
   "execution_count": 16,
   "id": "984ae555",
   "metadata": {
    "scrolled": true
   },
   "outputs": [
    {
     "data": {
      "text/plain": [
       "array([1, 2, 3])"
      ]
     },
     "execution_count": 16,
     "metadata": {},
     "output_type": "execute_result"
    }
   ],
   "source": [
    "a = np.array([1,2,3])\n",
    "a"
   ]
  },
  {
   "cell_type": "markdown",
   "id": "8321ae34",
   "metadata": {},
   "source": [
    "We can also create some common arrays, such as an array of consecutive integers, with some special methods such as `arange()`, which takes an integer $n$ as input and creates a sequential array from $0,...,n-1$."
   ]
  },
  {
   "cell_type": "code",
   "execution_count": 47,
   "id": "73cc8448",
   "metadata": {},
   "outputs": [
    {
     "data": {
      "text/plain": [
       "array([0, 1, 2, 3, 4])"
      ]
     },
     "execution_count": 47,
     "metadata": {},
     "output_type": "execute_result"
    }
   ],
   "source": [
    "np.arange(5) # array([0, 1, 2, 3, 4])"
   ]
  },
  {
   "cell_type": "markdown",
   "id": "ea1d85a7",
   "metadata": {},
   "source": [
    "## Representing Matrices\n",
    "\n",
    "Let's represent a $2 \\times 3$ matrix \n",
    "$\n",
    "A = \\begin{bmatrix}\n",
    "1 & 2 & 3\\\\\n",
    "4 & 5 & 6\n",
    "\\end{bmatrix}\n",
    "$\n",
    "using NumPy:"
   ]
  },
  {
   "cell_type": "code",
   "execution_count": 7,
   "id": "d801bb99",
   "metadata": {
    "scrolled": false
   },
   "outputs": [
    {
     "data": {
      "text/plain": [
       "array([[1, 2, 3],\n",
       "       [4, 5, 6]])"
      ]
     },
     "execution_count": 7,
     "metadata": {},
     "output_type": "execute_result"
    }
   ],
   "source": [
    "A = np.array([[1,2,3],\n",
    "              [4,5,6]])\n",
    "A"
   ]
  },
  {
   "cell_type": "markdown",
   "id": "2d582b82",
   "metadata": {},
   "source": [
    "There are also ways to quickly create some common matrices using special methods. \n",
    "\n",
    "For example, `ones()` accepts a shape pair, and creates a matrix of $1$s with of the given shape."
   ]
  },
  {
   "cell_type": "code",
   "execution_count": 48,
   "id": "395b1c06",
   "metadata": {
    "scrolled": true
   },
   "outputs": [
    {
     "data": {
      "text/plain": [
       "array([[1., 1., 1.],\n",
       "       [1., 1., 1.]])"
      ]
     },
     "execution_count": 48,
     "metadata": {},
     "output_type": "execute_result"
    }
   ],
   "source": [
    "np.ones((2,3))"
   ]
  },
  {
   "cell_type": "markdown",
   "id": "9638965b",
   "metadata": {},
   "source": [
    "The method, `zeros()` works the same way as `ones()`:"
   ]
  },
  {
   "cell_type": "code",
   "execution_count": 49,
   "id": "c6411319",
   "metadata": {
    "scrolled": true
   },
   "outputs": [
    {
     "data": {
      "text/plain": [
       "array([[0., 0., 0.],\n",
       "       [0., 0., 0.]])"
      ]
     },
     "execution_count": 49,
     "metadata": {},
     "output_type": "execute_result"
    }
   ],
   "source": [
    "np.zeros((2,3))"
   ]
  },
  {
   "cell_type": "markdown",
   "id": "add70f7e",
   "metadata": {},
   "source": [
    "Meanwhile, `identity()` accepts an integer $n$ as input and creates a square $n \\times n$ identity matrix."
   ]
  },
  {
   "cell_type": "code",
   "execution_count": 50,
   "id": "2a66a64d",
   "metadata": {
    "scrolled": true
   },
   "outputs": [
    {
     "data": {
      "text/plain": [
       "array([[1., 0., 0.],\n",
       "       [0., 1., 0.],\n",
       "       [0., 0., 1.]])"
      ]
     },
     "execution_count": 50,
     "metadata": {},
     "output_type": "execute_result"
    }
   ],
   "source": [
    "np.identity(3)"
   ]
  },
  {
   "cell_type": "markdown",
   "id": "93cf4b2f",
   "metadata": {},
   "source": [
    "Creating a matrix with identical elements in general uses the `full()` method which takes a `shape` attribute, a `value` attribute and on optional `dtype` attribute as follows:"
   ]
  },
  {
   "cell_type": "code",
   "execution_count": 54,
   "id": "f01f336b",
   "metadata": {},
   "outputs": [
    {
     "data": {
      "text/plain": [
       "array([[7, 7, 7],\n",
       "       [7, 7, 7]])"
      ]
     },
     "execution_count": 54,
     "metadata": {},
     "output_type": "execute_result"
    }
   ],
   "source": [
    "np.full((2,3), 7, dtype = int)"
   ]
  },
  {
   "cell_type": "markdown",
   "id": "92055dd2",
   "metadata": {},
   "source": [
    "## Indexing\n",
    "\n",
    "Indexing a 1-dimensional NumPy array is done as expected, through the use of the trusty brackets `[]`. Indexing an n-dimensional matrix in NumPy still uses `[]` but it introduces a new, improved, syntax. \n",
    "\n",
    "Suppose we'd like to access the element in the first row, and last column of `A`. The standard way would be: "
   ]
  },
  {
   "cell_type": "code",
   "execution_count": 20,
   "id": "e344f92f",
   "metadata": {},
   "outputs": [
    {
     "data": {
      "text/plain": [
       "3"
      ]
     },
     "execution_count": 20,
     "metadata": {},
     "output_type": "execute_result"
    }
   ],
   "source": [
    "A[0][2]"
   ]
  },
  {
   "cell_type": "markdown",
   "id": "69a21f2b",
   "metadata": {},
   "source": [
    "As we can see, that still works. But the recommended and, subjectively speaking, prettier way is:"
   ]
  },
  {
   "cell_type": "code",
   "execution_count": 21,
   "id": "ca58fd24",
   "metadata": {},
   "outputs": [
    {
     "data": {
      "text/plain": [
       "3"
      ]
     },
     "execution_count": 21,
     "metadata": {},
     "output_type": "execute_result"
    }
   ],
   "source": [
    "A[0,2]"
   ]
  },
  {
   "cell_type": "markdown",
   "id": "a8249661",
   "metadata": {},
   "source": [
    "Of course, slicing still works as expected.\n",
    "\n",
    "For example, let's print the entire first row of `A`:"
   ]
  },
  {
   "cell_type": "code",
   "execution_count": 22,
   "id": "45e0f988",
   "metadata": {
    "scrolled": true
   },
   "outputs": [
    {
     "data": {
      "text/plain": [
       "array([1, 2, 3])"
      ]
     },
     "execution_count": 22,
     "metadata": {},
     "output_type": "execute_result"
    }
   ],
   "source": [
    "A[0,:]"
   ]
  },
  {
   "cell_type": "markdown",
   "id": "445df6f8",
   "metadata": {},
   "source": [
    "The entire first column: "
   ]
  },
  {
   "cell_type": "code",
   "execution_count": 23,
   "id": "cf094a54",
   "metadata": {},
   "outputs": [
    {
     "data": {
      "text/plain": [
       "array([1, 4])"
      ]
     },
     "execution_count": 23,
     "metadata": {},
     "output_type": "execute_result"
    }
   ],
   "source": [
    "A[:,0]"
   ]
  },
  {
   "cell_type": "markdown",
   "id": "f06899c3",
   "metadata": {},
   "source": [
    "Finally, let's print the submatrix $\n",
    "\\begin{bmatrix}\n",
    "2 & 3\n",
    "\\end{bmatrix}\n",
    "$:"
   ]
  },
  {
   "cell_type": "code",
   "execution_count": 24,
   "id": "6b1e20d2",
   "metadata": {},
   "outputs": [
    {
     "data": {
      "text/plain": [
       "array([2, 3])"
      ]
     },
     "execution_count": 24,
     "metadata": {},
     "output_type": "execute_result"
    }
   ],
   "source": [
    "A[0,1:]"
   ]
  },
  {
   "cell_type": "markdown",
   "id": "8c36f3a0",
   "metadata": {},
   "source": [
    "## Properties and Methods of NumPy Arrays\n",
    "\n",
    "A few of the useful properties and methods of `ndarray` are highlighted in this section.\n",
    "\n",
    "\n",
    "* `shape` - returns the shape of the matrix as an $(m,n)$ pair\n",
    "\n",
    "    ```python\n",
    "    A.shape # (2,3)\n",
    "    ```"
   ]
  },
  {
   "cell_type": "markdown",
   "id": "335a19e7",
   "metadata": {},
   "source": [
    "* `ndim` - returns the dimension of a matrix as a single digit\n",
    "\n",
    "    ```python\n",
    "    A.ndim # 2\n",
    "    ```\n",
    "> Note: The output of the `ndim` property should *not* be understood in a linear algebraic sense as the dimension of either the domain or range of the corresponding transformation, nor the dimension of either of its four fundamental subspaces. It is to *only* be understood in the data structure sense as the level of nestedness of the array."
   ]
  },
  {
   "cell_type": "markdown",
   "id": "44df5dbe",
   "metadata": {},
   "source": [
    "* `size` - returns the total number of elements in the matrix\n",
    "\n",
    "    ```python\n",
    "    A.size # 6\n",
    "    ```"
   ]
  },
  {
   "cell_type": "markdown",
   "id": "9f72a5af",
   "metadata": {},
   "source": [
    "* `dtype` - returns the data type of the elements in the matrix.\n",
    "\n",
    "    ```python\n",
    "    A.dtype # dtype('int32')\n",
    "    ```\n",
    "> Note: If the `ndarray` does not represent a matrix, such as `B = np.array([[1,2,3],[4,5]])` then `dtype` outputs `O` signifying that the entries are general Python objects. In such a case, the array loses its optimizations. "
   ]
  },
  {
   "cell_type": "markdown",
   "id": "4a188325",
   "metadata": {},
   "source": [
    "### Statistical and Mathematical Methods\n",
    "\n",
    "There is also a vast selection of statistical, and more generally, mathematical methods that `ndarrays` come with. Here are a few of the common ones:\n",
    "\n",
    "* `sum()` - returns the sum of all the entries\n",
    "\n",
    "    ```python\n",
    "    A.sum() # 21\n",
    "    ```\n",
    "    It also accepts an `axis` attribute where `axis = 0` refers to the sum along the columns, and `axis = 1` refers to the sum along the rows.\n",
    "\n",
    "    ```python\n",
    "    A.sum(axis = 0) # [5,7,9]\n",
    "    ```\n",
    "    ```python\n",
    "    A.sum(axis = 1) # [6,15]\n",
    "    ```\n",
    "* `mean()` - returns the empirical mean of all the entries \n",
    "\n",
    "    ```python\n",
    "    A.mean() # 3.5\n",
    "    ```\n",
    "* `var()` - returns the variance of the entries\n",
    "\n",
    "    ```python\n",
    "    A.var() # 2.9166666666666665\n",
    "    ```\n",
    "* `std()` - returns the standard deviation of the entries\n",
    "\n",
    "    ```python\n",
    "    A.std() # 1.707825127659933\n",
    "    ```"
   ]
  },
  {
   "cell_type": "markdown",
   "id": "1ee796d9",
   "metadata": {},
   "source": [
    "## Multi-Indexing, Filtering, and Broadcasted Operations\n",
    "\n",
    "Recall from the [Pandas article](https://v-poghosyan.github.io/blog/python%20for%20ml/pandas/machine%20learning/2021/12/28/Python-for-ML-Pandas.html) the ways in which we were able to multi-index and filter, and how we eliminated the need for using Python loops and list comprehensions using broadcasted operators instead. Since both a Pandas `Series` and a `DataFrame` are extensions of NumPy's `ndarray`, all of these apply here as well. \n",
    "\n",
    "As a refresher on broadcasted operations, here are a few filtering examples. \n",
    "\n",
    "Let's obtain those elements of A that are greater than `3`:"
   ]
  },
  {
   "cell_type": "code",
   "execution_count": 38,
   "id": "ec13611b",
   "metadata": {},
   "outputs": [
    {
     "data": {
      "text/plain": [
       "array([4, 5, 6])"
      ]
     },
     "execution_count": 38,
     "metadata": {},
     "output_type": "execute_result"
    }
   ],
   "source": [
    "A[A > 3]"
   ]
  },
  {
   "cell_type": "markdown",
   "id": "5b036527",
   "metadata": {},
   "source": [
    "Now let's obtain those elements of A that are greater than the empirical mean:"
   ]
  },
  {
   "cell_type": "code",
   "execution_count": 39,
   "id": "169e5515",
   "metadata": {},
   "outputs": [
    {
     "data": {
      "text/plain": [
       "array([4, 5, 6])"
      ]
     },
     "execution_count": 39,
     "metadata": {},
     "output_type": "execute_result"
    }
   ],
   "source": [
    "A[A > A.mean()]"
   ]
  },
  {
   "cell_type": "markdown",
   "id": "12db6971",
   "metadata": {},
   "source": [
    "What about those elements of A that are less than or equal to the empirical mean?"
   ]
  },
  {
   "cell_type": "code",
   "execution_count": 40,
   "id": "99421c74",
   "metadata": {},
   "outputs": [
    {
     "data": {
      "text/plain": [
       "array([1, 2, 3])"
      ]
     },
     "execution_count": 40,
     "metadata": {},
     "output_type": "execute_result"
    }
   ],
   "source": [
    "A[~(A > A.mean())]"
   ]
  },
  {
   "cell_type": "markdown",
   "id": "9bd428d6",
   "metadata": {},
   "source": [
    "Which is equivalent to:"
   ]
  },
  {
   "cell_type": "code",
   "execution_count": 41,
   "id": "09d7cc55",
   "metadata": {},
   "outputs": [
    {
     "data": {
      "text/plain": [
       "array([1, 2, 3])"
      ]
     },
     "execution_count": 41,
     "metadata": {},
     "output_type": "execute_result"
    }
   ],
   "source": [
    "A[A <= A.mean()]"
   ]
  },
  {
   "cell_type": "markdown",
   "id": "986f3b6d",
   "metadata": {},
   "source": [
    "## Matrix Operations\n",
    "\n",
    "One of NumPy's key features is the way in which it simplifies matrix operations in Python. It offers simple syntax to add, multiply, *transpose*, *invert*, flatten, etc.\n",
    "\n",
    "### Addition\n",
    "\n",
    "Addition of matrices is, by default, per-element (as are all NumPy operations). There's no special syntax, it's done through the `+` operator.\n",
    "\n",
    "For example:"
   ]
  },
  {
   "cell_type": "code",
   "execution_count": 57,
   "id": "0e5bc461",
   "metadata": {},
   "outputs": [
    {
     "data": {
      "text/plain": [
       "array([[2., 2., 2.],\n",
       "       [2., 2., 2.]])"
      ]
     },
     "execution_count": 57,
     "metadata": {},
     "output_type": "execute_result"
    }
   ],
   "source": [
    "A = np.ones((2,3))\n",
    "B = np.ones((2,3))\n",
    "A + B"
   ]
  },
  {
   "cell_type": "markdown",
   "id": "b0421639",
   "metadata": {},
   "source": [
    "### Multiplication\n",
    "\n",
    "The operator `*` performs per-element multiplication."
   ]
  },
  {
   "cell_type": "code",
   "execution_count": 59,
   "id": "024b6ed6",
   "metadata": {
    "scrolled": true
   },
   "outputs": [
    {
     "data": {
      "text/plain": [
       "array([[6, 6, 6],\n",
       "       [6, 6, 6]])"
      ]
     },
     "execution_count": 59,
     "metadata": {},
     "output_type": "execute_result"
    }
   ],
   "source": [
    "A = np.full((2,3), 2, dtype = int)\n",
    "B = np.full((2,3), 3, dtype = int)\n",
    "A * B"
   ]
  },
  {
   "cell_type": "markdown",
   "id": "2e6c2e50",
   "metadata": {},
   "source": [
    "But this, as we know, isn't matrix multiplication as it's commonly defined in mathematics — that being the inner product of corresponding rows and columns. For instance, if we try to multiply an $m \\times n$ matrix with an $n \\times p$ matrix, NumPy will throw the following error:"
   ]
  },
  {
   "cell_type": "code",
   "execution_count": 11,
   "id": "0f215a53",
   "metadata": {
    "scrolled": true
   },
   "outputs": [],
   "source": [
    "A = np.full((2,3), 2, dtype = int)\n",
    "B = np.full((3,4), 3, dtype = int)\n",
    "A * B"
   ]
  },
  {
   "cell_type": "markdown",
   "id": "ac4d3c08",
   "metadata": {},
   "source": [
    "```\n",
    "ValueError: operands could not be broadcast together with shapes (2,3) (3,4) \n",
    "```\n",
    "\n",
    "This is because per-element operations require the shapes of the operands to be the same or compatible by broadcasting. Here NumPy attempts to broadcast one operand to match the shape of the other one, but broadcasting is impossible between matrices of shapes $2 \\times 3$ and $3 \\times 4$ per [broadcasting rules](https://numpy.org/doc/stable/user/basics.broadcasting.html#general-broadcasting-rules).\n",
    "\n",
    "There's a workaround that lets us use `*`. Since NumPy overloads the `*` operator, it works as it should for `numpy.matrix` types. "
   ]
  },
  {
   "cell_type": "code",
   "execution_count": 9,
   "id": "747681bc",
   "metadata": {},
   "outputs": [
    {
     "data": {
      "text/plain": [
       "matrix([[18, 18, 18, 18],\n",
       "        [18, 18, 18, 18]])"
      ]
     },
     "execution_count": 9,
     "metadata": {},
     "output_type": "execute_result"
    }
   ],
   "source": [
    "A = np.matrix([[2,2,2],\n",
    "               [2,2,2]])\n",
    "B = np.matrix([[3,3,3,3],\n",
    "               [3,3,3,3],\n",
    "               [3,3,3,3]])\n",
    "A * B"
   ]
  },
  {
   "cell_type": "markdown",
   "id": "7e5f49af",
   "metadata": {},
   "source": [
    "However, this is not the recommended way to carry out matrix multiplication in NumPy. Overloaded operators can produce convoluted code. For instance, we may have many different `matrix` and `ndarray` data structures and never be able to tell the outcome of a particular `*` operation. We should avoid such ambiguity whenever possible. \n",
    "\n",
    "Instead, the recommended way to do matrix multiplication is through the `@` operator. \n",
    "\n",
    "When we use `@` NumPy internally uses its `matmul()` method. So, the following are equivalent and both produce the matrix product of `A` and `B`."
   ]
  },
  {
   "cell_type": "code",
   "execution_count": 61,
   "id": "ff5eaa72",
   "metadata": {},
   "outputs": [
    {
     "data": {
      "text/plain": [
       "array([[18, 18, 18, 18],\n",
       "       [18, 18, 18, 18]])"
      ]
     },
     "execution_count": 61,
     "metadata": {},
     "output_type": "execute_result"
    }
   ],
   "source": [
    "A = np.full((2,3), 2, dtype = int)\n",
    "B = np.full((3,4), 3, dtype = int)\n",
    "A @ B"
   ]
  },
  {
   "cell_type": "code",
   "execution_count": 62,
   "id": "1ca246c3",
   "metadata": {
    "scrolled": true
   },
   "outputs": [
    {
     "data": {
      "text/plain": [
       "array([[18, 18, 18, 18],\n",
       "       [18, 18, 18, 18]])"
      ]
     },
     "execution_count": 62,
     "metadata": {},
     "output_type": "execute_result"
    }
   ],
   "source": [
    "A = np.full((2,3), 2, dtype = int)\n",
    "B = np.full((3,4), 3, dtype = int)\n",
    "np.matmul(A,B)"
   ]
  },
  {
   "cell_type": "markdown",
   "id": "59334b09",
   "metadata": {},
   "source": [
    "NumPy also offers, `dot()` which, for one and two dimensional matrices, is equivalent to `matmul()`. So, the following is yet another way we can multiply two matrices:"
   ]
  },
  {
   "cell_type": "code",
   "execution_count": 10,
   "id": "18d13238",
   "metadata": {},
   "outputs": [
    {
     "data": {
      "text/plain": [
       "array([[18, 18, 18, 18],\n",
       "       [18, 18, 18, 18]])"
      ]
     },
     "execution_count": 10,
     "metadata": {},
     "output_type": "execute_result"
    }
   ],
   "source": [
    "A = np.full((2,3), 2, dtype = int)\n",
    "B = np.full((3,4), 3, dtype = int)\n",
    "A.dot(B)"
   ]
  },
  {
   "cell_type": "markdown",
   "id": "65d4a705",
   "metadata": {},
   "source": [
    "However, `matmul()` is preferred over `dot()` because of the clarity of its name, and because the *dot product* has a distinct mathematical meaning separate from matrix multiplication. "
   ]
  }
 ],
 "metadata": {
  "kernelspec": {
   "display_name": "Python 3",
   "language": "python",
   "name": "python3"
  },
  "language_info": {
   "codemirror_mode": {
    "name": "ipython",
    "version": 3
   },
   "file_extension": ".py",
   "mimetype": "text/x-python",
   "name": "python",
   "nbconvert_exporter": "python",
   "pygments_lexer": "ipython3",
   "version": "3.8.12"
  }
 },
 "nbformat": 4,
 "nbformat_minor": 5
}
