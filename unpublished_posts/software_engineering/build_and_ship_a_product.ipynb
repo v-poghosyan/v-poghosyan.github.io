{
 "cells": [
  {
   "cell_type": "markdown",
   "metadata": {},
   "source": [
    "---\n",
    "title: \"How to Build and Ship a Product\"\n",
    "author: \"Vahram Poghosyan\"\n",
    "date: \"2024-11-07\"\n",
    "categories: [\"Software Engineering\", \"Search Engine Optimization\", \"Hosting\", \"Shopification\"]\n",
    "format:\n",
    "  html:\n",
    "    code-fold: false\n",
    "    code-line-numbers: false\n",
    "jupyter: python3\n",
    "include-after-body:\n",
    "  text: |\n",
    "    <script type=\"application/javascript\" src=\"../../javascript/light-dark.js\"></script>\n",
    "---"
   ]
  },
  {
   "cell_type": "code",
   "execution_count": null,
   "metadata": {},
   "outputs": [],
   "source": [
    "%%manim -qm ConnectedSinksAndSourcesDemo\n",
    "\n",
    "from manim import *\n",
    "\n",
    "class ConnectedSinksAndSourcesDemo(Scene):\n",
    "    def construct(self):    \n",
    "        # Create table\n",
    "        table = Table(\n",
    "            simple_expanded_input\n",
    "        )\n",
    "        \n",
    "        # Animation sequence\n",
    "        self.play(Write(table))\n",
    "        self.wait(5)"
   ]
  },
  {
   "cell_type": "code",
   "execution_count": null,
   "metadata": {},
   "outputs": [],
   "source": [
    "%%manim -qm ConnectedSinksAndSourcesDemo\n",
    "\n",
    "from manim import *\n",
    "\n",
    "class ConnectedSinksAndSourcesDemo(Scene):\n",
    "    def construct(self):    \n",
    "        # Create table\n",
    "        table = Table(\n",
    "            simple_expanded_input\n",
    "        )\n",
    "        \n",
    "        # Animation sequence\n",
    "        self.play(Write(table))\n",
    "        self.wait(5)"
   ]
  },
  {
   "cell_type": "markdown",
   "metadata": {},
   "source": [
    "\n",
    "# A Business Plan\n",
    "\n",
    "Perhaps the first clear delineation of concerns in any company should be the delineation of the business side from the technical side. So, let's start with defining operational goals for branches of our enterprise. \n",
    "\n",
    "## Business Side\n",
    "\n",
    "The business side of our enterprise is concerned about identifying nice problems and marketing the products the technology side hands them. \n",
    "\n",
    "### 1. Identify a Niche Problem\n",
    "\n",
    "Begin by pinpointing a specific problem within a niche market. This approach increases the likelihood of your solution standing out and effectively addressing user needs.\n",
    "\n",
    "### 2. Implement Effective Marketing Strategies\n",
    "\n",
    "Employ content marketing, social media, and SEO to reach your target audience. Tools like [Buffer](https://buffer.com/) can assist in managing your social media presence.\n",
    "\n",
    "### 3. Scale and Diversify\n",
    "\n",
    "Once your product gains traction, explore scaling opportunities and consider diversifying your offerings to mitigate risks.\n",
    "\n",
    "\n",
    "## Technical side\n",
    "\n",
    "Just like the business side can push any product, it should be the goal of the tech side to deliver an MVP for any client. Hence, the technology staff should develop with the north star of re0usability in mind. It's much easier to containerize a core product and deliver it with various different requested configurations to different clients. These clients, by the way, can be internal clients as we grow as a company. \n",
    "\n",
    "### 1. Develop a Minimal Viable Product (MVP)\n",
    "\n",
    "Create a basic version of a product that solves the core problem. This allows for early user feedback and iterative improvements.\n",
    "\n",
    "#### 1.1. Pick a Tech Stack\n",
    "\n",
    "Check out [Svelte](https://svelte.dev/) (a [React](https://react.dev/) competitor) for the front-end. [Firebase](https://firebase.google.com/docs) can satisfy our hosting needs in the very beginning. Firebase is basically a toy version of Google Cloud with excellent documentation.\n",
    "\n",
    "**React vs Svelte - At a Glance***\n",
    "\n",
    "While React uses this verbose language to create state, including the need to create a React hook component...\n",
    "\n",
    "#### 1.2 Devise a Client Authentication System\n",
    "\n",
    "#### 1.3 Choose a database to use\n",
    "\n",
    "Object storage?"
   ]
  },
  {
   "cell_type": "code",
   "execution_count": null,
   "metadata": {
    "vscode": {
     "languageId": "plaintext"
    }
   },
   "outputs": [],
   "source": [
    "import React, { useState } from 'react';\n",
    "\n",
    "function Example() {\n",
    "    const [count, setCount] = useState(0);\n",
    "}"
   ]
  },
  {
   "cell_type": "markdown",
   "metadata": {},
   "source": [
    "Svelte just says:"
   ]
  },
  {
   "cell_type": "code",
   "execution_count": null,
   "metadata": {},
   "outputs": [],
   "source": [
    "let count = 0;"
   ]
  },
  {
   "cell_type": "code",
   "execution_count": null,
   "metadata": {},
   "outputs": [],
   "source": [
    "%%manim -qm ConnectedSinksAndSourcesDemo\n",
    "\n",
    "from manim import *\n",
    "\n",
    "class ConnectedSinksAndSourcesDemo(Scene):\n",
    "    def construct(self):    \n",
    "        # Create table\n",
    "        table = Table(\n",
    "            simple_expanded_input\n",
    "        )\n",
    "        \n",
    "        # Animation sequence\n",
    "        self.play(Write(table))\n",
    "        self.wait(5)"
   ]
  },
  {
   "cell_type": "code",
   "execution_count": null,
   "metadata": {},
   "outputs": [],
   "source": [
    "%%manim -qm ConnectedSinksAndSourcesDemo\n",
    "\n",
    "from manim import *\n",
    "\n",
    "class ConnectedSinksAndSourcesDemo(Scene):\n",
    "    def construct(self):    \n",
    "        # Create table\n",
    "        table = Table(\n",
    "            simple_expanded_input\n",
    "        )\n",
    "        \n",
    "        # Animation sequence\n",
    "        self.play(Write(table))\n",
    "        self.wait(5)"
   ]
  },
  {
   "cell_type": "markdown",
   "metadata": {},
   "source": [
    "For frameworks, consider IBM's [Carbon Design Framework](https://carbondesignsystem.com/developing/react-tutorial/overview/) or, the more common, [Bootstrap](https://getbootstrap.com/) framework. \n",
    "\n",
    "\n",
    "### 2. Leverage Existing Platforms\n",
    "\n",
    "Utilize platforms like [Gumroad](https://gumroad.com/), [Shopify](https://www.shopify.com/), or [Square](https://squareup.com/us/en) to sell your product, eliminating the need to develop a secure payment system that scales. Think about the time savings gained from not having to develop the payment system UI alone.\n",
    "\n",
    "\n",
    "### 3. Automate and Outsource\n",
    "\n",
    "Automate repetitive tasks and consider outsourcing non-core activities to focus on product development and growth. Platforms such as [Zapier](https://zapier.com/) can help automate workflows.\n",
    "\n",
    "There are a lot of APIs available for outsourcing various components of our product. Here are a few:\n",
    "\n",
    "* [11Labs](https://elevenlabs.io/) - An API for AI enabled speech-to-text\n",
    "* \n"
   ]
  }
 ],
 "metadata": {
  "language_info": {
   "name": "python"
  }
 },
 "nbformat": 4,
 "nbformat_minor": 2
}
